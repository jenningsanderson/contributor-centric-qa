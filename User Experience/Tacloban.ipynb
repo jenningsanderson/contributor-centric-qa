{
 "cells": [
  {
   "cell_type": "code",
   "execution_count": 4,
   "metadata": {
    "collapsed": false
   },
   "outputs": [],
   "source": [
    "import psycopg2, psycopg2.extras, psycopg2.pool, pickle, json, matplotlib, sys, time\n",
    "from multiprocessing import Pool, Manager\n",
    "from collections import OrderedDict\n",
    "import matplotlib.pyplot as plt; import numpy as np; import pandas as pd\n",
    "import seaborn as sns; from sqlalchemy import create_engine\n",
    "from IPython import display\n",
    "%matplotlib inline"
   ]
  },
  {
   "cell_type": "markdown",
   "metadata": {
    "collapsed": true
   },
   "source": [
    "# When is a user _Experienced_?\n",
    "This is a difficult question in that we cannot simply take above the mean / below the mean because of the problematic distributions within the database.\n",
    "\n",
    " - We can look at users who map more buildings than roads? \n",
    " - We can look at users with more than half of their edits to buildings?"
   ]
  },
  {
   "cell_type": "code",
   "execution_count": 5,
   "metadata": {
    "collapsed": false
   },
   "outputs": [
    {
     "name": "stdout",
     "output_type": "stream",
     "text": [
      "Found 9 tiles.\n"
     ]
    }
   ],
   "source": [
    "study_tiles = json.loads(open('../study_tiles_with_compare_tiles.json','r').read())\n",
    "print(\"Found {0} tiles.\".format(len(study_tiles)))"
   ]
  },
  {
   "cell_type": "code",
   "execution_count": 6,
   "metadata": {
    "collapsed": false,
    "scrolled": true
   },
   "outputs": [
    {
     "data": {
      "text/plain": [
       "[2005, 2006, 2007, 2008, 2009, 2010, 2011, 2012, 2013, 2014, 2015, 2016]"
      ]
     },
     "execution_count": 6,
     "metadata": {},
     "output_type": "execute_result"
    }
   ],
   "source": [
    "years = [2005+i for i in range(12)]\n",
    "years"
   ]
  },
  {
   "cell_type": "code",
   "execution_count": 7,
   "metadata": {
    "collapsed": false
   },
   "outputs": [],
   "source": [
    "# Create connections for panda queries\n",
    "pd_engines = []\n",
    "pd_connections = []\n",
    "for idx, year in enumerate(years):\n",
    "    pd_engines.append( create_engine(\"postgresql://anderstj@127.0.0.1:5432/world-{0}\".format(year)) )\n",
    "    pd_connections.append(pd_engines[idx].connect())\n",
    "\n",
    "def reset(pd_connections):\n",
    "    new_cons = []\n",
    "    for idx, con in enumerate(pd_connections):\n",
    "        con.close()\n",
    "        new_cons.append(pd_engines[idx].connect())\n",
    "    return new_cons\n",
    "\n",
    "# pd_connections = reset(pd_connections)"
   ]
  },
  {
   "cell_type": "code",
   "execution_count": 8,
   "metadata": {
    "collapsed": false
   },
   "outputs": [],
   "source": [
    "def get_all_users_who_edited_tile(tile):\n",
    "    users_on_tile = []\n",
    "    for idx, year in enumerate(years):\n",
    "        print(year, end=\" . \")\n",
    "        query_string = \"\"\"SELECT distinct(uid) FROM per_tile WHERE quadkey = '{0}'\"\"\".format(tile['quad'])\n",
    "        year_df = pd.read_sql_query(query_string,con=pd_connections[idx])\n",
    "        users_on_tile = np.append(users_on_tile,year_df.uid.values)\n",
    "    return np.unique(users_on_tile)\n",
    "\n",
    "def annual_worker_function(args):\n",
    "    \"\"\"\n",
    "    Input: List of users and a year of choice\n",
    "    Returns: Dictionary, keyed by UID of all a user's edits for given year\n",
    "    \"\"\"\n",
    "    (user_list, year_idx, q) = args\n",
    "    dict_to_return = {}\n",
    "\n",
    "    #Query for 50 users at a time\n",
    "    for sub_list in [user_list[i:i + 50] for i in range(0, len(user_list), 50)]:\n",
    "    \n",
    "        query_string = \"\"\"SELECT per_tile.quadkey,\n",
    "                                 per_tile.year,\n",
    "                                 per_tile.uid,\n",
    "                                 per_tile.buildings,\n",
    "                                 per_tile.road_km,\n",
    "                                 per_tile.amenities,\n",
    "                                 per_tile.edits,\n",
    "                                 array_length(per_tile.active_days,1) AS \"num_days\",\n",
    "                                 user_stats.uid AS \"user_stats_uid\",\n",
    "                                 user_stats.name AS \"user_name\",\n",
    "                                 user_stats.year AS \"total_year\",\n",
    "                                 user_stats.buildings AS \"total_buildings\",\n",
    "                                 user_stats.road_km AS \"total_road_km\",\n",
    "                                 user_stats.amenities AS \"total_amenities\",\n",
    "                                 user_stats.edits AS \"total_edits\",\n",
    "                                 array_length(user_stats.active_days,1) AS \"total_active_days\"\n",
    "                          FROM per_tile, user_stats \n",
    "                          WHERE per_tile.uid = user_stats.uid AND \n",
    "                                per_tile.uid = ANY(ARRAY[%s])\"\"\"%(\", \".join([str(i) for i in sub_list]))\n",
    "        df = pd.read_sql_query(query_string, con=pd_connections[year_idx])\n",
    "        \n",
    "#         with open('tmp.log','w') as oFile:\n",
    "#             oFile.write(df.to_csv())\n",
    "\n",
    "        for uid in df['uid'].unique():\n",
    "            dict_to_return[uid] = df[:][df.uid == uid]\n",
    "            q.put(1)\n",
    "    return dict_to_return\n",
    "\n",
    "def build_user_distributions(uids):\n",
    "    \"\"\"\n",
    "        Given a list of user ids, spin up 12 processes (1 per year) to get back dictionaries, keyed by UID\n",
    "            of all a user's tiles for that year; then combine all of the years.\n",
    "        \n",
    "        Returns: A dictionary: { UID : DataFrame of all a user's edits (across all years) }\n",
    "    \"\"\"\n",
    "    m = Manager()\n",
    "    q = m.Queue()\n",
    "    p = Pool(12)\n",
    "    args = [ (uids, year_idx, q) for year_idx in range(12)]\n",
    "    \n",
    "    max_val = round(len(uids)*len(args)*0.4)\n",
    "\n",
    "    result = p.map_async(annual_worker_function, args)\n",
    "    \n",
    "    while True:\n",
    "        if result.ready():\n",
    "            break\n",
    "        else:\n",
    "            size = q.qsize()\n",
    "            sys.stderr.write(\"\\r \"+str(size)+ \"/ ~ \" + str(max_val))\n",
    "            time.sleep(1)\n",
    "    \n",
    "    aggregated = {}\n",
    "    \n",
    "    for year_data in result.get():\n",
    "        for uid, data in year_data.items():\n",
    "            if uid in aggregated:\n",
    "                aggregated[uid]['df'] = pd.concat([aggregated[uid]['df'], data], ignore_index=True)\n",
    "            else:\n",
    "                #This is the first we see this user\n",
    "                aggregated[uid] = {'df':data}\n",
    "    p.close()\n",
    "    return aggregated"
   ]
  },
  {
   "cell_type": "markdown",
   "metadata": {},
   "source": [
    "### With each user's dataframe, compute user focus stats"
   ]
  },
  {
   "cell_type": "code",
   "execution_count": 9,
   "metadata": {
    "collapsed": false
   },
   "outputs": [],
   "source": [
    "def calculate_user_focus(args):\n",
    "    \"\"\"\n",
    "    \n",
    "    \"\"\"\n",
    "    df, q = args\n",
    "    agged_quad = df.groupby('quadkey').aggregate({'buildings':sum,\n",
    "                                                 'road_km'  :sum,\n",
    "                                                 'edits'    :sum,\n",
    "                                                 'amenities':sum,\n",
    "                                                 'num_days' :sum})\n",
    "    \n",
    "    agged_quad['percent_user_road_km']   = agged_quad.road_km   / agged_quad.road_km.sum()*100\n",
    "    agged_quad['percent_user_buildings'] = agged_quad.buildings / agged_quad.buildings.sum()*100\n",
    "    agged_quad['percent_user_amenities'] = agged_quad.amenities / agged_quad.amenities.sum()*100\n",
    "    agged_quad['percent_user_edits']     = agged_quad.edits     / agged_quad.edits.sum()*100\n",
    "    \n",
    "\n",
    "    annual_stats = pd.DataFrame()\n",
    "    for year in df.total_year.unique():\n",
    "        this_year = df[['uid','user_name','year','total_buildings','total_road_km','total_amenities','total_edits','total_active_days']].query('year=={0}'.format(year)).head(1)\n",
    "        annual_stats = pd.concat( [annual_stats, this_year], ignore_index=True)\n",
    "    \n",
    "    if(q):\n",
    "        q.put(1)\n",
    "    return (agged_quad, annual_stats)\n",
    "\n",
    "def process_dictionary_of_users(user_dict):\n",
    "    \"\"\"\n",
    "    \n",
    "    \"\"\"\n",
    "    sorted_users = sorted(list(user_dict.keys()))\n",
    "    \n",
    "    m = Manager()\n",
    "    q = m.Queue()\n",
    "    p = Pool(24)\n",
    "    \n",
    "    args = [ (user_dict[uid]['df'], q) for uid in sorted_users]\n",
    "    result = p.map_async(calculate_user_focus, args)\n",
    "    \n",
    "    while True:\n",
    "        if result.ready():\n",
    "            break\n",
    "        else:\n",
    "            sys.stderr.write(\"\\r \"+str(q.qsize())+ \"/\" + str(len(sorted_users)))\n",
    "            time.sleep(0.5)\n",
    "\n",
    "    res = result.get()\n",
    "    for idx, user in enumerate(sorted_users):\n",
    "        user_dict[user]['tiles'] = res[idx][0]\n",
    "        user_dict[user]['annual'] = res[idx][1]\n",
    "        \n",
    "    p.close()"
   ]
  },
  {
   "cell_type": "code",
   "execution_count": 10,
   "metadata": {
    "collapsed": true
   },
   "outputs": [],
   "source": [
    "def build_all_stats_for_tile(current_tile):\n",
    "    \"\"\"\n",
    "    \n",
    "    \"\"\"\n",
    "    current_tile_df = pd.DataFrame()\n",
    "    for u,data in current_tile['users'].items():\n",
    "        data['tiles']['uid'] = u\n",
    "        data['tiles']['total_editing_days_ever'] = data['annual'].total_active_days.sum()\n",
    "        data['tiles']['total_buildings_ever'] = data['annual'].total_buildings.sum()\n",
    "        data['tiles']['total_road_km_ever'] = data['annual'].total_road_km.sum()\n",
    "        data['tiles']['total_amenities_ever'] = data['annual'].total_amenities.sum()\n",
    "        data['tiles']['total_edits_ever'] = data['annual'].total_edits.sum()\n",
    "        current_tile_df = pd.concat([current_tile_df, pd.DataFrame(data['tiles'].query(\"quadkey=='{0}'\".format(current_tile['quad'])))],ignore_index=True)\n",
    "\n",
    "    current_tile_df['percent_tile_road_km']   = current_tile_df.road_km   / current_tile_df.road_km.sum()*100\n",
    "    current_tile_df['percent_tile_buildings'] = current_tile_df.buildings / current_tile_df.buildings.sum()*100\n",
    "    current_tile_df['percent_tile_amenities'] = current_tile_df.amenities / current_tile_df.amenities.sum()*100\n",
    "    current_tile_df['percent_tile_edits']     = current_tile_df.edits     / current_tile_df.edits.sum()*100\n",
    "    \n",
    "    return current_tile_df"
   ]
  },
  {
   "cell_type": "markdown",
   "metadata": {},
   "source": [
    "# Study Tiles: Load data for a specific study tile"
   ]
  },
  {
   "cell_type": "code",
   "execution_count": 11,
   "metadata": {
    "collapsed": false
   },
   "outputs": [
    {
     "name": "stdout",
     "output_type": "stream",
     "text": [
      "0 Port Au Prince, Haiti\n",
      "1 Trisuli Bazar, Nepal\n",
      "2 Tacloban\n",
      "3 Kenema, Sierra Leone\n",
      "4 Monrovia, Liberia\n",
      "5 Kathmandu, Nepal\n",
      "6 Heidelberg, Germany\n",
      "7 London\n",
      "8 Manhattan, NY\n"
     ]
    }
   ],
   "source": [
    "for idx, tile in enumerate(study_tiles):\n",
    "    print(idx, tile['name'])"
   ]
  },
  {
   "cell_type": "markdown",
   "metadata": {},
   "source": [
    "## 1. Get the `user_list`"
   ]
  },
  {
   "cell_type": "code",
   "execution_count": 12,
   "metadata": {
    "collapsed": true
   },
   "outputs": [],
   "source": [
    "\"\"\"\n",
    "    First: Set the index for the study tile you want.\n",
    "\"\"\"\n",
    "study_tile_idx = 2"
   ]
  },
  {
   "cell_type": "code",
   "execution_count": 13,
   "metadata": {
    "collapsed": false
   },
   "outputs": [
    {
     "name": "stdout",
     "output_type": "stream",
     "text": [
      "2005 . 2006 . 2007 . 2008 . 2009 . 2010 . 2011 . 2012 . 2013 . 2014 . 2015 . 2016 . "
     ]
    }
   ],
   "source": [
    "pd_connections = reset(pd_connections)\n",
    "study_tiles[study_tile_idx]['user_list'] = get_all_users_who_edited_tile(study_tiles[study_tile_idx])"
   ]
  },
  {
   "cell_type": "code",
   "execution_count": 14,
   "metadata": {
    "collapsed": false
   },
   "outputs": [
    {
     "name": "stdout",
     "output_type": "stream",
     "text": [
      "Found: 325 users\n"
     ]
    }
   ],
   "source": [
    "print(\"Found: {0} users\".format(len(study_tiles[study_tile_idx]['user_list'])))"
   ]
  },
  {
   "cell_type": "markdown",
   "metadata": {},
   "source": [
    "## 2. Build the User Distributions\n",
    "If this doesn't run, run the cell 2 above again)"
   ]
  },
  {
   "cell_type": "code",
   "execution_count": 15,
   "metadata": {
    "collapsed": false
   },
   "outputs": [
    {
     "name": "stderr",
     "output_type": "stream",
     "text": [
      " 1463/ ~ 1560"
     ]
    }
   ],
   "source": [
    "study_tiles[study_tile_idx]['users'] = build_user_distributions(study_tiles[study_tile_idx]['user_list'])"
   ]
  },
  {
   "cell_type": "markdown",
   "metadata": {},
   "source": [
    "### Check these results"
   ]
  },
  {
   "cell_type": "code",
   "execution_count": 16,
   "metadata": {
    "collapsed": false,
    "scrolled": false
   },
   "outputs": [
    {
     "data": {
      "text/html": [
       "<div>\n",
       "<table border=\"1\" class=\"dataframe\">\n",
       "  <thead>\n",
       "    <tr style=\"text-align: right;\">\n",
       "      <th></th>\n",
       "      <th>quadkey</th>\n",
       "      <th>year</th>\n",
       "      <th>uid</th>\n",
       "      <th>buildings</th>\n",
       "      <th>road_km</th>\n",
       "      <th>amenities</th>\n",
       "      <th>edits</th>\n",
       "      <th>num_days</th>\n",
       "      <th>user_stats_uid</th>\n",
       "      <th>user_name</th>\n",
       "      <th>total_year</th>\n",
       "      <th>total_buildings</th>\n",
       "      <th>total_road_km</th>\n",
       "      <th>total_amenities</th>\n",
       "      <th>total_edits</th>\n",
       "      <th>total_active_days</th>\n",
       "    </tr>\n",
       "  </thead>\n",
       "  <tbody>\n",
       "    <tr>\n",
       "      <th>0</th>\n",
       "      <td>120221323223</td>\n",
       "      <td>2006</td>\n",
       "      <td>137</td>\n",
       "      <td>0</td>\n",
       "      <td>0.0</td>\n",
       "      <td>0</td>\n",
       "      <td>3</td>\n",
       "      <td>1</td>\n",
       "      <td>137</td>\n",
       "      <td>simone</td>\n",
       "      <td>2006</td>\n",
       "      <td>0</td>\n",
       "      <td>0.0000</td>\n",
       "      <td>0</td>\n",
       "      <td>24</td>\n",
       "      <td>1</td>\n",
       "    </tr>\n",
       "    <tr>\n",
       "      <th>1</th>\n",
       "      <td>120221323222</td>\n",
       "      <td>2006</td>\n",
       "      <td>137</td>\n",
       "      <td>0</td>\n",
       "      <td>0.0</td>\n",
       "      <td>0</td>\n",
       "      <td>21</td>\n",
       "      <td>1</td>\n",
       "      <td>137</td>\n",
       "      <td>simone</td>\n",
       "      <td>2006</td>\n",
       "      <td>0</td>\n",
       "      <td>0.0000</td>\n",
       "      <td>0</td>\n",
       "      <td>24</td>\n",
       "      <td>1</td>\n",
       "    </tr>\n",
       "    <tr>\n",
       "      <th>2</th>\n",
       "      <td>031313131112</td>\n",
       "      <td>2007</td>\n",
       "      <td>137</td>\n",
       "      <td>0</td>\n",
       "      <td>0.0</td>\n",
       "      <td>2</td>\n",
       "      <td>2</td>\n",
       "      <td>1</td>\n",
       "      <td>137</td>\n",
       "      <td>simone</td>\n",
       "      <td>2007</td>\n",
       "      <td>0</td>\n",
       "      <td>92.2827</td>\n",
       "      <td>2</td>\n",
       "      <td>153</td>\n",
       "      <td>8</td>\n",
       "    </tr>\n",
       "    <tr>\n",
       "      <th>3</th>\n",
       "      <td>120221323021</td>\n",
       "      <td>2007</td>\n",
       "      <td>137</td>\n",
       "      <td>0</td>\n",
       "      <td>0.0</td>\n",
       "      <td>0</td>\n",
       "      <td>1</td>\n",
       "      <td>1</td>\n",
       "      <td>137</td>\n",
       "      <td>simone</td>\n",
       "      <td>2007</td>\n",
       "      <td>0</td>\n",
       "      <td>92.2827</td>\n",
       "      <td>2</td>\n",
       "      <td>153</td>\n",
       "      <td>8</td>\n",
       "    </tr>\n",
       "    <tr>\n",
       "      <th>4</th>\n",
       "      <td>120221323022</td>\n",
       "      <td>2007</td>\n",
       "      <td>137</td>\n",
       "      <td>0</td>\n",
       "      <td>0.0</td>\n",
       "      <td>0</td>\n",
       "      <td>1</td>\n",
       "      <td>1</td>\n",
       "      <td>137</td>\n",
       "      <td>simone</td>\n",
       "      <td>2007</td>\n",
       "      <td>0</td>\n",
       "      <td>92.2827</td>\n",
       "      <td>2</td>\n",
       "      <td>153</td>\n",
       "      <td>8</td>\n",
       "    </tr>\n",
       "  </tbody>\n",
       "</table>\n",
       "</div>"
      ],
      "text/plain": [
       "        quadkey  year  uid  buildings  road_km  amenities  edits  num_days  \\\n",
       "0  120221323223  2006  137          0      0.0          0      3         1   \n",
       "1  120221323222  2006  137          0      0.0          0     21         1   \n",
       "2  031313131112  2007  137          0      0.0          2      2         1   \n",
       "3  120221323021  2007  137          0      0.0          0      1         1   \n",
       "4  120221323022  2007  137          0      0.0          0      1         1   \n",
       "\n",
       "   user_stats_uid user_name  total_year  total_buildings  total_road_km  \\\n",
       "0             137    simone        2006                0         0.0000   \n",
       "1             137    simone        2006                0         0.0000   \n",
       "2             137    simone        2007                0        92.2827   \n",
       "3             137    simone        2007                0        92.2827   \n",
       "4             137    simone        2007                0        92.2827   \n",
       "\n",
       "   total_amenities  total_edits  total_active_days  \n",
       "0                0           24                  1  \n",
       "1                0           24                  1  \n",
       "2                2          153                  8  \n",
       "3                2          153                  8  \n",
       "4                2          153                  8  "
      ]
     },
     "metadata": {},
     "output_type": "display_data"
    }
   ],
   "source": [
    "display.display(study_tiles[study_tile_idx]['users'][study_tiles[study_tile_idx]['user_list'][0]]['df'].head())"
   ]
  },
  {
   "cell_type": "markdown",
   "metadata": {
    "collapsed": true
   },
   "source": [
    "## 3. Get tile focus for each user"
   ]
  },
  {
   "cell_type": "code",
   "execution_count": 17,
   "metadata": {
    "collapsed": false
   },
   "outputs": [
    {
     "name": "stderr",
     "output_type": "stream",
     "text": [
      " 325/325"
     ]
    }
   ],
   "source": [
    "process_dictionary_of_users(study_tiles[study_tile_idx]['users'])"
   ]
  },
  {
   "cell_type": "markdown",
   "metadata": {},
   "source": [
    "### Inspect these"
   ]
  },
  {
   "cell_type": "code",
   "execution_count": 18,
   "metadata": {
    "collapsed": false,
    "scrolled": true
   },
   "outputs": [
    {
     "data": {
      "text/html": [
       "<div>\n",
       "<table border=\"1\" class=\"dataframe\">\n",
       "  <thead>\n",
       "    <tr style=\"text-align: right;\">\n",
       "      <th></th>\n",
       "      <th>buildings</th>\n",
       "      <th>amenities</th>\n",
       "      <th>road_km</th>\n",
       "      <th>edits</th>\n",
       "      <th>num_days</th>\n",
       "      <th>percent_user_road_km</th>\n",
       "      <th>percent_user_buildings</th>\n",
       "      <th>percent_user_amenities</th>\n",
       "      <th>percent_user_edits</th>\n",
       "    </tr>\n",
       "    <tr>\n",
       "      <th>quadkey</th>\n",
       "      <th></th>\n",
       "      <th></th>\n",
       "      <th></th>\n",
       "      <th></th>\n",
       "      <th></th>\n",
       "      <th></th>\n",
       "      <th></th>\n",
       "      <th></th>\n",
       "      <th></th>\n",
       "    </tr>\n",
       "  </thead>\n",
       "  <tbody>\n",
       "    <tr>\n",
       "      <th>021112001110</th>\n",
       "      <td>0</td>\n",
       "      <td>0</td>\n",
       "      <td>0.0</td>\n",
       "      <td>1</td>\n",
       "      <td>1</td>\n",
       "      <td>0.0</td>\n",
       "      <td>0.0</td>\n",
       "      <td>0.0</td>\n",
       "      <td>0.000174</td>\n",
       "    </tr>\n",
       "    <tr>\n",
       "      <th>021112001111</th>\n",
       "      <td>0</td>\n",
       "      <td>0</td>\n",
       "      <td>0.0</td>\n",
       "      <td>1</td>\n",
       "      <td>1</td>\n",
       "      <td>0.0</td>\n",
       "      <td>0.0</td>\n",
       "      <td>0.0</td>\n",
       "      <td>0.000174</td>\n",
       "    </tr>\n",
       "    <tr>\n",
       "      <th>021112001112</th>\n",
       "      <td>0</td>\n",
       "      <td>0</td>\n",
       "      <td>0.0</td>\n",
       "      <td>1</td>\n",
       "      <td>1</td>\n",
       "      <td>0.0</td>\n",
       "      <td>0.0</td>\n",
       "      <td>0.0</td>\n",
       "      <td>0.000174</td>\n",
       "    </tr>\n",
       "    <tr>\n",
       "      <th>021112001130</th>\n",
       "      <td>0</td>\n",
       "      <td>0</td>\n",
       "      <td>0.0</td>\n",
       "      <td>1</td>\n",
       "      <td>1</td>\n",
       "      <td>0.0</td>\n",
       "      <td>0.0</td>\n",
       "      <td>0.0</td>\n",
       "      <td>0.000174</td>\n",
       "    </tr>\n",
       "    <tr>\n",
       "      <th>021112001131</th>\n",
       "      <td>0</td>\n",
       "      <td>0</td>\n",
       "      <td>0.0</td>\n",
       "      <td>1</td>\n",
       "      <td>1</td>\n",
       "      <td>0.0</td>\n",
       "      <td>0.0</td>\n",
       "      <td>0.0</td>\n",
       "      <td>0.000174</td>\n",
       "    </tr>\n",
       "  </tbody>\n",
       "</table>\n",
       "</div>"
      ],
      "text/plain": [
       "              buildings  amenities  road_km  edits  num_days  \\\n",
       "quadkey                                                        \n",
       "021112001110          0          0      0.0      1         1   \n",
       "021112001111          0          0      0.0      1         1   \n",
       "021112001112          0          0      0.0      1         1   \n",
       "021112001130          0          0      0.0      1         1   \n",
       "021112001131          0          0      0.0      1         1   \n",
       "\n",
       "              percent_user_road_km  percent_user_buildings  \\\n",
       "quadkey                                                      \n",
       "021112001110                   0.0                     0.0   \n",
       "021112001111                   0.0                     0.0   \n",
       "021112001112                   0.0                     0.0   \n",
       "021112001130                   0.0                     0.0   \n",
       "021112001131                   0.0                     0.0   \n",
       "\n",
       "              percent_user_amenities  percent_user_edits  \n",
       "quadkey                                                   \n",
       "021112001110                     0.0            0.000174  \n",
       "021112001111                     0.0            0.000174  \n",
       "021112001112                     0.0            0.000174  \n",
       "021112001130                     0.0            0.000174  \n",
       "021112001131                     0.0            0.000174  "
      ]
     },
     "metadata": {},
     "output_type": "display_data"
    },
    {
     "data": {
      "text/html": [
       "<div>\n",
       "<table border=\"1\" class=\"dataframe\">\n",
       "  <thead>\n",
       "    <tr style=\"text-align: right;\">\n",
       "      <th></th>\n",
       "      <th>uid</th>\n",
       "      <th>user_name</th>\n",
       "      <th>year</th>\n",
       "      <th>total_buildings</th>\n",
       "      <th>total_road_km</th>\n",
       "      <th>total_amenities</th>\n",
       "      <th>total_edits</th>\n",
       "      <th>total_active_days</th>\n",
       "    </tr>\n",
       "  </thead>\n",
       "  <tbody>\n",
       "    <tr>\n",
       "      <th>0</th>\n",
       "      <td>137</td>\n",
       "      <td>simone</td>\n",
       "      <td>2006</td>\n",
       "      <td>0</td>\n",
       "      <td>0.0000</td>\n",
       "      <td>0</td>\n",
       "      <td>24</td>\n",
       "      <td>1</td>\n",
       "    </tr>\n",
       "    <tr>\n",
       "      <th>1</th>\n",
       "      <td>137</td>\n",
       "      <td>simone</td>\n",
       "      <td>2007</td>\n",
       "      <td>0</td>\n",
       "      <td>92.2827</td>\n",
       "      <td>2</td>\n",
       "      <td>153</td>\n",
       "      <td>8</td>\n",
       "    </tr>\n",
       "    <tr>\n",
       "      <th>2</th>\n",
       "      <td>137</td>\n",
       "      <td>simone</td>\n",
       "      <td>2008</td>\n",
       "      <td>13</td>\n",
       "      <td>486.1230</td>\n",
       "      <td>122</td>\n",
       "      <td>38917</td>\n",
       "      <td>85</td>\n",
       "    </tr>\n",
       "    <tr>\n",
       "      <th>3</th>\n",
       "      <td>137</td>\n",
       "      <td>simone</td>\n",
       "      <td>2009</td>\n",
       "      <td>505465</td>\n",
       "      <td>239.5140</td>\n",
       "      <td>2391</td>\n",
       "      <td>516880</td>\n",
       "      <td>63</td>\n",
       "    </tr>\n",
       "    <tr>\n",
       "      <th>4</th>\n",
       "      <td>137</td>\n",
       "      <td>simone</td>\n",
       "      <td>2010</td>\n",
       "      <td>342</td>\n",
       "      <td>163.0080</td>\n",
       "      <td>184</td>\n",
       "      <td>2170</td>\n",
       "      <td>67</td>\n",
       "    </tr>\n",
       "  </tbody>\n",
       "</table>\n",
       "</div>"
      ],
      "text/plain": [
       "   uid user_name  year  total_buildings  total_road_km  total_amenities  \\\n",
       "0  137    simone  2006                0         0.0000                0   \n",
       "1  137    simone  2007                0        92.2827                2   \n",
       "2  137    simone  2008               13       486.1230              122   \n",
       "3  137    simone  2009           505465       239.5140             2391   \n",
       "4  137    simone  2010              342       163.0080              184   \n",
       "\n",
       "   total_edits  total_active_days  \n",
       "0           24                  1  \n",
       "1          153                  8  \n",
       "2        38917                 85  \n",
       "3       516880                 63  \n",
       "4         2170                 67  "
      ]
     },
     "metadata": {},
     "output_type": "display_data"
    }
   ],
   "source": [
    "# So what's saved from this?\n",
    "display.display(study_tiles[study_tile_idx]['users'][study_tiles[study_tile_idx]['user_list'][0]]['tiles'].head())\n",
    "display.display(study_tiles[study_tile_idx]['users'][study_tiles[study_tile_idx]['user_list'][0]]['annual'].head())"
   ]
  },
  {
   "cell_type": "markdown",
   "metadata": {},
   "source": [
    "## 4. Who is mapping what: Build Current Tile DF"
   ]
  },
  {
   "cell_type": "code",
   "execution_count": 19,
   "metadata": {
    "collapsed": true
   },
   "outputs": [],
   "source": [
    "current_tile_df = build_all_stats_for_tile(study_tiles[study_tile_idx])"
   ]
  },
  {
   "cell_type": "code",
   "execution_count": 20,
   "metadata": {
    "collapsed": false
   },
   "outputs": [
    {
     "data": {
      "text/html": [
       "<div>\n",
       "<table border=\"1\" class=\"dataframe\">\n",
       "  <thead>\n",
       "    <tr style=\"text-align: right;\">\n",
       "      <th></th>\n",
       "      <th>buildings</th>\n",
       "      <th>amenities</th>\n",
       "      <th>road_km</th>\n",
       "      <th>edits</th>\n",
       "      <th>num_days</th>\n",
       "      <th>percent_user_road_km</th>\n",
       "      <th>percent_user_buildings</th>\n",
       "      <th>percent_user_amenities</th>\n",
       "      <th>percent_user_edits</th>\n",
       "      <th>uid</th>\n",
       "      <th>total_editing_days_ever</th>\n",
       "      <th>total_buildings_ever</th>\n",
       "      <th>total_road_km_ever</th>\n",
       "      <th>total_amenities_ever</th>\n",
       "      <th>total_edits_ever</th>\n",
       "      <th>percent_tile_road_km</th>\n",
       "      <th>percent_tile_buildings</th>\n",
       "      <th>percent_tile_amenities</th>\n",
       "      <th>percent_tile_edits</th>\n",
       "    </tr>\n",
       "  </thead>\n",
       "  <tbody>\n",
       "    <tr>\n",
       "      <th>0</th>\n",
       "      <td>2</td>\n",
       "      <td>1</td>\n",
       "      <td>0.000000</td>\n",
       "      <td>12</td>\n",
       "      <td>1</td>\n",
       "      <td>0.000000</td>\n",
       "      <td>1.526718</td>\n",
       "      <td>0.052056</td>\n",
       "      <td>0.170309</td>\n",
       "      <td>1772032</td>\n",
       "      <td>76</td>\n",
       "      <td>131</td>\n",
       "      <td>33.189262</td>\n",
       "      <td>1921</td>\n",
       "      <td>7046</td>\n",
       "      <td>0.000000</td>\n",
       "      <td>0.006621</td>\n",
       "      <td>0.136426</td>\n",
       "      <td>0.034059</td>\n",
       "    </tr>\n",
       "    <tr>\n",
       "      <th>1</th>\n",
       "      <td>0</td>\n",
       "      <td>0</td>\n",
       "      <td>0.000000</td>\n",
       "      <td>1</td>\n",
       "      <td>1</td>\n",
       "      <td>0.000000</td>\n",
       "      <td>0.000000</td>\n",
       "      <td>0.000000</td>\n",
       "      <td>0.000313</td>\n",
       "      <td>188930</td>\n",
       "      <td>1660</td>\n",
       "      <td>225780</td>\n",
       "      <td>6118.094000</td>\n",
       "      <td>9855</td>\n",
       "      <td>319563</td>\n",
       "      <td>0.000000</td>\n",
       "      <td>0.000000</td>\n",
       "      <td>0.000000</td>\n",
       "      <td>0.002838</td>\n",
       "    </tr>\n",
       "    <tr>\n",
       "      <th>2</th>\n",
       "      <td>55</td>\n",
       "      <td>0</td>\n",
       "      <td>0.000000</td>\n",
       "      <td>55</td>\n",
       "      <td>2</td>\n",
       "      <td>0.000000</td>\n",
       "      <td>11.879050</td>\n",
       "      <td>NaN</td>\n",
       "      <td>9.838998</td>\n",
       "      <td>1784020</td>\n",
       "      <td>14</td>\n",
       "      <td>463</td>\n",
       "      <td>3.714528</td>\n",
       "      <td>0</td>\n",
       "      <td>559</td>\n",
       "      <td>0.000000</td>\n",
       "      <td>0.182077</td>\n",
       "      <td>0.000000</td>\n",
       "      <td>0.156104</td>\n",
       "    </tr>\n",
       "    <tr>\n",
       "      <th>3</th>\n",
       "      <td>0</td>\n",
       "      <td>0</td>\n",
       "      <td>0.212441</td>\n",
       "      <td>2</td>\n",
       "      <td>1</td>\n",
       "      <td>0.007399</td>\n",
       "      <td>0.000000</td>\n",
       "      <td>0.000000</td>\n",
       "      <td>0.002425</td>\n",
       "      <td>167945</td>\n",
       "      <td>252</td>\n",
       "      <td>60319</td>\n",
       "      <td>2871.338229</td>\n",
       "      <td>605</td>\n",
       "      <td>82485</td>\n",
       "      <td>0.028188</td>\n",
       "      <td>0.000000</td>\n",
       "      <td>0.000000</td>\n",
       "      <td>0.005676</td>\n",
       "    </tr>\n",
       "    <tr>\n",
       "      <th>4</th>\n",
       "      <td>334</td>\n",
       "      <td>0</td>\n",
       "      <td>6.782210</td>\n",
       "      <td>379</td>\n",
       "      <td>2</td>\n",
       "      <td>0.015309</td>\n",
       "      <td>0.267931</td>\n",
       "      <td>0.000000</td>\n",
       "      <td>0.052126</td>\n",
       "      <td>178186</td>\n",
       "      <td>1390</td>\n",
       "      <td>124659</td>\n",
       "      <td>44302.790000</td>\n",
       "      <td>9510</td>\n",
       "      <td>727087</td>\n",
       "      <td>0.899913</td>\n",
       "      <td>1.105704</td>\n",
       "      <td>0.000000</td>\n",
       "      <td>1.075696</td>\n",
       "    </tr>\n",
       "  </tbody>\n",
       "</table>\n",
       "</div>"
      ],
      "text/plain": [
       "   buildings  amenities   road_km  edits  num_days  percent_user_road_km  \\\n",
       "0          2          1  0.000000     12         1              0.000000   \n",
       "1          0          0  0.000000      1         1              0.000000   \n",
       "2         55          0  0.000000     55         2              0.000000   \n",
       "3          0          0  0.212441      2         1              0.007399   \n",
       "4        334          0  6.782210    379         2              0.015309   \n",
       "\n",
       "   percent_user_buildings  percent_user_amenities  percent_user_edits  \\\n",
       "0                1.526718                0.052056            0.170309   \n",
       "1                0.000000                0.000000            0.000313   \n",
       "2               11.879050                     NaN            9.838998   \n",
       "3                0.000000                0.000000            0.002425   \n",
       "4                0.267931                0.000000            0.052126   \n",
       "\n",
       "       uid  total_editing_days_ever  total_buildings_ever  total_road_km_ever  \\\n",
       "0  1772032                       76                   131           33.189262   \n",
       "1   188930                     1660                225780         6118.094000   \n",
       "2  1784020                       14                   463            3.714528   \n",
       "3   167945                      252                 60319         2871.338229   \n",
       "4   178186                     1390                124659        44302.790000   \n",
       "\n",
       "   total_amenities_ever  total_edits_ever  percent_tile_road_km  \\\n",
       "0                  1921              7046              0.000000   \n",
       "1                  9855            319563              0.000000   \n",
       "2                     0               559              0.000000   \n",
       "3                   605             82485              0.028188   \n",
       "4                  9510            727087              0.899913   \n",
       "\n",
       "   percent_tile_buildings  percent_tile_amenities  percent_tile_edits  \n",
       "0                0.006621                0.136426            0.034059  \n",
       "1                0.000000                0.000000            0.002838  \n",
       "2                0.182077                0.000000            0.156104  \n",
       "3                0.000000                0.000000            0.005676  \n",
       "4                1.105704                0.000000            1.075696  "
      ]
     },
     "execution_count": 20,
     "metadata": {},
     "output_type": "execute_result"
    }
   ],
   "source": [
    "current_tile_df.head()"
   ]
  },
  {
   "cell_type": "markdown",
   "metadata": {},
   "source": [
    "Processed Study tiles now have the following attributes: \n",
    "\n",
    "- **name**: Name of Region\n",
    "- **user_list**: List of UIDs of users who have edited on this tile\n",
    "- **users**: Dictionary, keyed by UID\n",
    "  - `uid`:\n",
    "    - **df**: Full dataframe of all edits on all tiles by this user\n",
    "    - **tiles**: DataFrame of unique tiles, summed over all years\n",
    "    - **annual**: DataFrame of Editing Aggregates over all tiles, per year"
   ]
  },
  {
   "cell_type": "markdown",
   "metadata": {},
   "source": [
    "# Begin Analysis"
   ]
  },
  {
   "cell_type": "code",
   "execution_count": 21,
   "metadata": {
    "collapsed": false
   },
   "outputs": [
    {
     "name": "stdout",
     "output_type": "stream",
     "text": [
      "Current Study Tile: Tacloban\n",
      "\tUsers: 325\n",
      "Current_tile_df size: 325 (Should match the user count)\n"
     ]
    }
   ],
   "source": [
    "print(\"Current Study Tile: {0}\".format(study_tiles[study_tile_idx]['name']))\n",
    "print(\"\\tUsers: {0}\".format(len(study_tiles[study_tile_idx]['user_list'])))\n",
    "print(\"Current_tile_df size: {0} (Should match the user count)\".format(len(current_tile_df)))"
   ]
  },
  {
   "cell_type": "markdown",
   "metadata": {},
   "source": [
    "## Percentage of a User's edits (of all time) that occur on this tile: "
   ]
  },
  {
   "cell_type": "code",
   "execution_count": 22,
   "metadata": {
    "collapsed": false
   },
   "outputs": [
    {
     "data": {
      "image/png": "[encoded data removed]",
      "text/plain": [
       "<matplotlib.figure.Figure at 0x7f588576bf98>"
      ]
     },
     "metadata": {},
     "output_type": "display_data"
    }
   ],
   "source": [
    "sns.set(font_scale=1.25)\n",
    "plt.style.use('seaborn-white')\n",
    "fig, axs = plt.subplots(nrows=1, ncols=2, figsize=(15,8), facecolor='w', edgecolor='k')\n",
    "\n",
    "current_tile_df.query('total_editing_days_ever>5').plot(ax=axs[0], kind='hist',y=['percent_user_edits'], legend=None, bins=np.arange(0,101,5))\n",
    "axs[0].set_title('Users Editing more than 5 days ever')\n",
    "\n",
    "current_tile_df.query('total_editing_days_ever<5').plot(ax=axs[1], kind='hist',y=['percent_user_edits'], legend=None, bins=np.arange(0,101,5))\n",
    "axs[1].set_title('Users Editing less than 5 days ever')\n",
    "\n",
    "for ax in axs:\n",
    "    ax.set_xlabel(\"Percent of User's Edits on Tile\")\n",
    "    ax.set_ylabel('Number of Users')"
   ]
  },
  {
   "cell_type": "markdown",
   "metadata": {},
   "source": [
    "## Who's Mapping Buildings and Roads?"
   ]
  },
  {
   "cell_type": "code",
   "execution_count": 23,
   "metadata": {
    "collapsed": false
   },
   "outputs": [
    {
     "data": {
      "image/png": "[encoded data removed]",
      "text/plain": [
       "<matplotlib.figure.Figure at 0x7f5818076c88>"
      ]
     },
     "metadata": {},
     "output_type": "display_data"
    }
   ],
   "source": [
    "sns.set(font_scale=1.25)\n",
    "plt.style.use('seaborn-white')\n",
    "fig, axs = plt.subplots(nrows=1, ncols=2, figsize=(15,8), facecolor='w', edgecolor='k')\n",
    "\n",
    "b_view = current_tile_df.sort_values(by='total_buildings_ever')\n",
    "b_view['cumulative_percent'] = b_view.percent_tile_buildings.cumsum()\n",
    "\n",
    "b_view.plot(ax=axs[0],x='total_buildings_ever',y='cumulative_percent', logx=True,legend=None)\n",
    "\n",
    "axs[0].set_ylabel('Percent of buildings on tile (cumulative)')\n",
    "axs[0].set_xlabel('Number of Buildings a user has mapped (experience)')\n",
    "\n",
    "\n",
    "r_view = current_tile_df.sort_values(by='total_road_km_ever')\n",
    "r_view['cumulative_percent'] = r_view.percent_tile_road_km.cumsum()\n",
    "\n",
    "r_view.plot(ax=axs[1],x='total_road_km_ever',y='cumulative_percent', logx=True,legend=None)\n",
    "\n",
    "axs[1].set_ylabel('Percent of road km on tile (cumulative)')\n",
    "axs[1].set_xlabel('Kilometers of roads a user has mapped (experience)')\n",
    "\n",
    "for ax in axs:\n",
    "    ax.set_ylim(0,101)\n",
    "    ax.set_xlim(1)\n",
    "#     ax.set_xlabel(\"Percent of User's Edits on Tile\")\n",
    "#     ax.set_ylabel('Number of Users')"
   ]
  },
  {
   "cell_type": "markdown",
   "metadata": {},
   "source": [
    "<br>\n",
    "<hr>\n",
    "<br>"
   ]
  },
  {
   "cell_type": "markdown",
   "metadata": {},
   "source": [
    "<hr>\n",
    "# Run Tile-by-Tile Comparisons\n",
    "For each study tile, we have _comparable_ tiles, these are the tiles of most interest, because the difference in patterns between these tiles and our study tiles is what makes the analysis.\n",
    "\n",
    "## 1. Get a _comparable_ tile"
   ]
  },
  {
   "cell_type": "code",
   "execution_count": 24,
   "metadata": {
    "collapsed": false
   },
   "outputs": [
    {
     "name": "stdout",
     "output_type": "stream",
     "text": [
      "Comparable Tiles for Tacloban: \n",
      "\t0, '132303033311'\n",
      "\t1, '132303033313'\n"
     ]
    }
   ],
   "source": [
    "if 'compare_tiles' in study_tiles[study_tile_idx]:\n",
    "    print(\"Comparable Tiles for {0}: \".format(study_tiles[study_tile_idx]['name']))\n",
    "    for idx, compare in enumerate(study_tiles[study_tile_idx]['compare_tiles']):\n",
    "        print(\"\\t{0}, '{1}'\".format(idx, compare['quad']))"
   ]
  },
  {
   "cell_type": "code",
   "execution_count": 35,
   "metadata": {
    "collapsed": true
   },
   "outputs": [],
   "source": [
    "#Which tile to compare? (from within the comparable study tiles)\n",
    "idx=1"
   ]
  },
  {
   "cell_type": "markdown",
   "metadata": {},
   "source": [
    "## 2. Get Users"
   ]
  },
  {
   "cell_type": "code",
   "execution_count": 37,
   "metadata": {
    "collapsed": false
   },
   "outputs": [
    {
     "name": "stdout",
     "output_type": "stream",
     "text": [
      "2005 . 2006 . 2007 . 2008 . 2009 . 2010 . 2011 . 2012 . 2013 . 2014 . 2015 . 2016 . "
     ]
    }
   ],
   "source": [
    "pd_connections = reset(pd_connections)\n",
    "pd_connections = reset(pd_connections)\n",
    "study_tiles[study_tile_idx]['compare_tiles'][idx]['user_list'] = get_all_users_who_edited_tile(study_tiles[study_tile_idx]['compare_tiles'][idx])"
   ]
  },
  {
   "cell_type": "markdown",
   "metadata": {},
   "source": [
    "## 3. Build actual user distribution (may take a few minutes)\n",
    "If it fails, run the above cell again (probably twice)"
   ]
  },
  {
   "cell_type": "code",
   "execution_count": 38,
   "metadata": {
    "collapsed": false,
    "scrolled": true
   },
   "outputs": [
    {
     "name": "stderr",
     "output_type": "stream",
     "text": [
      " 367/ ~ 427"
     ]
    }
   ],
   "source": [
    "study_tiles[study_tile_idx]['compare_tiles'][idx]['users'] = build_user_distributions(study_tiles[study_tile_idx]['compare_tiles'][idx]['user_list'])"
   ]
  },
  {
   "cell_type": "code",
   "execution_count": 39,
   "metadata": {
    "collapsed": false
   },
   "outputs": [
    {
     "data": {
      "text/html": [
       "<div>\n",
       "<table border=\"1\" class=\"dataframe\">\n",
       "  <thead>\n",
       "    <tr style=\"text-align: right;\">\n",
       "      <th></th>\n",
       "      <th>quadkey</th>\n",
       "      <th>year</th>\n",
       "      <th>uid</th>\n",
       "      <th>buildings</th>\n",
       "      <th>road_km</th>\n",
       "      <th>amenities</th>\n",
       "      <th>edits</th>\n",
       "      <th>num_days</th>\n",
       "      <th>user_stats_uid</th>\n",
       "      <th>user_name</th>\n",
       "      <th>total_year</th>\n",
       "      <th>total_buildings</th>\n",
       "      <th>total_road_km</th>\n",
       "      <th>total_amenities</th>\n",
       "      <th>total_edits</th>\n",
       "      <th>total_active_days</th>\n",
       "    </tr>\n",
       "  </thead>\n",
       "  <tbody>\n",
       "    <tr>\n",
       "      <th>0</th>\n",
       "      <td>132303120223</td>\n",
       "      <td>2006</td>\n",
       "      <td>1417</td>\n",
       "      <td>0</td>\n",
       "      <td>0.0</td>\n",
       "      <td>0</td>\n",
       "      <td>15</td>\n",
       "      <td>4</td>\n",
       "      <td>1417</td>\n",
       "      <td>maning</td>\n",
       "      <td>2006</td>\n",
       "      <td>0</td>\n",
       "      <td>0.0</td>\n",
       "      <td>0</td>\n",
       "      <td>212</td>\n",
       "      <td>6</td>\n",
       "    </tr>\n",
       "    <tr>\n",
       "      <th>1</th>\n",
       "      <td>132303122000</td>\n",
       "      <td>2006</td>\n",
       "      <td>1417</td>\n",
       "      <td>0</td>\n",
       "      <td>0.0</td>\n",
       "      <td>0</td>\n",
       "      <td>19</td>\n",
       "      <td>3</td>\n",
       "      <td>1417</td>\n",
       "      <td>maning</td>\n",
       "      <td>2006</td>\n",
       "      <td>0</td>\n",
       "      <td>0.0</td>\n",
       "      <td>0</td>\n",
       "      <td>212</td>\n",
       "      <td>6</td>\n",
       "    </tr>\n",
       "    <tr>\n",
       "      <th>2</th>\n",
       "      <td>132303120230</td>\n",
       "      <td>2006</td>\n",
       "      <td>1417</td>\n",
       "      <td>0</td>\n",
       "      <td>0.0</td>\n",
       "      <td>0</td>\n",
       "      <td>177</td>\n",
       "      <td>3</td>\n",
       "      <td>1417</td>\n",
       "      <td>maning</td>\n",
       "      <td>2006</td>\n",
       "      <td>0</td>\n",
       "      <td>0.0</td>\n",
       "      <td>0</td>\n",
       "      <td>212</td>\n",
       "      <td>6</td>\n",
       "    </tr>\n",
       "    <tr>\n",
       "      <th>3</th>\n",
       "      <td>132303122001</td>\n",
       "      <td>2006</td>\n",
       "      <td>1417</td>\n",
       "      <td>0</td>\n",
       "      <td>0.0</td>\n",
       "      <td>0</td>\n",
       "      <td>1</td>\n",
       "      <td>1</td>\n",
       "      <td>1417</td>\n",
       "      <td>maning</td>\n",
       "      <td>2006</td>\n",
       "      <td>0</td>\n",
       "      <td>0.0</td>\n",
       "      <td>0</td>\n",
       "      <td>212</td>\n",
       "      <td>6</td>\n",
       "    </tr>\n",
       "    <tr>\n",
       "      <th>4</th>\n",
       "      <td>132301103230</td>\n",
       "      <td>2007</td>\n",
       "      <td>1417</td>\n",
       "      <td>0</td>\n",
       "      <td>0.0</td>\n",
       "      <td>0</td>\n",
       "      <td>1</td>\n",
       "      <td>1</td>\n",
       "      <td>1417</td>\n",
       "      <td>maning</td>\n",
       "      <td>2007</td>\n",
       "      <td>134</td>\n",
       "      <td>3123.1</td>\n",
       "      <td>193</td>\n",
       "      <td>15978</td>\n",
       "      <td>150</td>\n",
       "    </tr>\n",
       "  </tbody>\n",
       "</table>\n",
       "</div>"
      ],
      "text/plain": [
       "        quadkey  year   uid  buildings  road_km  amenities  edits  num_days  \\\n",
       "0  132303120223  2006  1417          0      0.0          0     15         4   \n",
       "1  132303122000  2006  1417          0      0.0          0     19         3   \n",
       "2  132303120230  2006  1417          0      0.0          0    177         3   \n",
       "3  132303122001  2006  1417          0      0.0          0      1         1   \n",
       "4  132301103230  2007  1417          0      0.0          0      1         1   \n",
       "\n",
       "   user_stats_uid user_name  total_year  total_buildings  total_road_km  \\\n",
       "0            1417    maning        2006                0            0.0   \n",
       "1            1417    maning        2006                0            0.0   \n",
       "2            1417    maning        2006                0            0.0   \n",
       "3            1417    maning        2006                0            0.0   \n",
       "4            1417    maning        2007              134         3123.1   \n",
       "\n",
       "   total_amenities  total_edits  total_active_days  \n",
       "0                0          212                  6  \n",
       "1                0          212                  6  \n",
       "2                0          212                  6  \n",
       "3                0          212                  6  \n",
       "4              193        15978                150  "
      ]
     },
     "metadata": {},
     "output_type": "display_data"
    }
   ],
   "source": [
    "# Check these results?\n",
    "display.display(study_tiles[study_tile_idx]['compare_tiles'][idx]['users'][study_tiles[study_tile_idx]['compare_tiles'][idx]['user_list'][0]]['df'].head())"
   ]
  },
  {
   "cell_type": "markdown",
   "metadata": {},
   "source": [
    "## 4. Now process user focus for compare tiles"
   ]
  },
  {
   "cell_type": "code",
   "execution_count": 40,
   "metadata": {
    "collapsed": false
   },
   "outputs": [
    {
     "name": "stderr",
     "output_type": "stream",
     "text": [
      " 89/89"
     ]
    },
    {
     "data": {
      "text/html": [
       "<div>\n",
       "<table border=\"1\" class=\"dataframe\">\n",
       "  <thead>\n",
       "    <tr style=\"text-align: right;\">\n",
       "      <th></th>\n",
       "      <th>buildings</th>\n",
       "      <th>amenities</th>\n",
       "      <th>road_km</th>\n",
       "      <th>edits</th>\n",
       "      <th>num_days</th>\n",
       "      <th>percent_user_road_km</th>\n",
       "      <th>percent_user_buildings</th>\n",
       "      <th>percent_user_amenities</th>\n",
       "      <th>percent_user_edits</th>\n",
       "    </tr>\n",
       "    <tr>\n",
       "      <th>quadkey</th>\n",
       "      <th></th>\n",
       "      <th></th>\n",
       "      <th></th>\n",
       "      <th></th>\n",
       "      <th></th>\n",
       "      <th></th>\n",
       "      <th></th>\n",
       "      <th></th>\n",
       "      <th></th>\n",
       "    </tr>\n",
       "  </thead>\n",
       "  <tbody>\n",
       "    <tr>\n",
       "      <th>021230312302</th>\n",
       "      <td>0</td>\n",
       "      <td>0</td>\n",
       "      <td>2.859930</td>\n",
       "      <td>2</td>\n",
       "      <td>1</td>\n",
       "      <td>0.003572</td>\n",
       "      <td>0.0</td>\n",
       "      <td>0.0</td>\n",
       "      <td>0.000650</td>\n",
       "    </tr>\n",
       "    <tr>\n",
       "      <th>023310311001</th>\n",
       "      <td>0</td>\n",
       "      <td>0</td>\n",
       "      <td>4.237360</td>\n",
       "      <td>2</td>\n",
       "      <td>1</td>\n",
       "      <td>0.005293</td>\n",
       "      <td>0.0</td>\n",
       "      <td>0.0</td>\n",
       "      <td>0.000650</td>\n",
       "    </tr>\n",
       "    <tr>\n",
       "      <th>023313121033</th>\n",
       "      <td>0</td>\n",
       "      <td>0</td>\n",
       "      <td>55.814500</td>\n",
       "      <td>129</td>\n",
       "      <td>1</td>\n",
       "      <td>0.069721</td>\n",
       "      <td>0.0</td>\n",
       "      <td>0.0</td>\n",
       "      <td>0.041908</td>\n",
       "    </tr>\n",
       "    <tr>\n",
       "      <th>023313121211</th>\n",
       "      <td>0</td>\n",
       "      <td>0</td>\n",
       "      <td>0.546778</td>\n",
       "      <td>1</td>\n",
       "      <td>1</td>\n",
       "      <td>0.000683</td>\n",
       "      <td>0.0</td>\n",
       "      <td>0.0</td>\n",
       "      <td>0.000325</td>\n",
       "    </tr>\n",
       "    <tr>\n",
       "      <th>032003033002</th>\n",
       "      <td>0</td>\n",
       "      <td>0</td>\n",
       "      <td>2.505910</td>\n",
       "      <td>1</td>\n",
       "      <td>1</td>\n",
       "      <td>0.003130</td>\n",
       "      <td>0.0</td>\n",
       "      <td>0.0</td>\n",
       "      <td>0.000325</td>\n",
       "    </tr>\n",
       "  </tbody>\n",
       "</table>\n",
       "</div>"
      ],
      "text/plain": [
       "              buildings  amenities    road_km  edits  num_days  \\\n",
       "quadkey                                                          \n",
       "021230312302          0          0   2.859930      2         1   \n",
       "023310311001          0          0   4.237360      2         1   \n",
       "023313121033          0          0  55.814500    129         1   \n",
       "023313121211          0          0   0.546778      1         1   \n",
       "032003033002          0          0   2.505910      1         1   \n",
       "\n",
       "              percent_user_road_km  percent_user_buildings  \\\n",
       "quadkey                                                      \n",
       "021230312302              0.003572                     0.0   \n",
       "023310311001              0.005293                     0.0   \n",
       "023313121033              0.069721                     0.0   \n",
       "023313121211              0.000683                     0.0   \n",
       "032003033002              0.003130                     0.0   \n",
       "\n",
       "              percent_user_amenities  percent_user_edits  \n",
       "quadkey                                                   \n",
       "021230312302                     0.0            0.000650  \n",
       "023310311001                     0.0            0.000650  \n",
       "023313121033                     0.0            0.041908  \n",
       "023313121211                     0.0            0.000325  \n",
       "032003033002                     0.0            0.000325  "
      ]
     },
     "metadata": {},
     "output_type": "display_data"
    },
    {
     "data": {
      "text/html": [
       "<div>\n",
       "<table border=\"1\" class=\"dataframe\">\n",
       "  <thead>\n",
       "    <tr style=\"text-align: right;\">\n",
       "      <th></th>\n",
       "      <th>uid</th>\n",
       "      <th>user_name</th>\n",
       "      <th>year</th>\n",
       "      <th>total_buildings</th>\n",
       "      <th>total_road_km</th>\n",
       "      <th>total_amenities</th>\n",
       "      <th>total_edits</th>\n",
       "      <th>total_active_days</th>\n",
       "    </tr>\n",
       "  </thead>\n",
       "  <tbody>\n",
       "    <tr>\n",
       "      <th>0</th>\n",
       "      <td>1417</td>\n",
       "      <td>maning</td>\n",
       "      <td>2006</td>\n",
       "      <td>0</td>\n",
       "      <td>0.00</td>\n",
       "      <td>0</td>\n",
       "      <td>212</td>\n",
       "      <td>6</td>\n",
       "    </tr>\n",
       "    <tr>\n",
       "      <th>1</th>\n",
       "      <td>1417</td>\n",
       "      <td>maning</td>\n",
       "      <td>2007</td>\n",
       "      <td>134</td>\n",
       "      <td>3123.10</td>\n",
       "      <td>193</td>\n",
       "      <td>15978</td>\n",
       "      <td>150</td>\n",
       "    </tr>\n",
       "    <tr>\n",
       "      <th>2</th>\n",
       "      <td>1417</td>\n",
       "      <td>maning</td>\n",
       "      <td>2008</td>\n",
       "      <td>951</td>\n",
       "      <td>11360.70</td>\n",
       "      <td>2994</td>\n",
       "      <td>47366</td>\n",
       "      <td>195</td>\n",
       "    </tr>\n",
       "    <tr>\n",
       "      <th>3</th>\n",
       "      <td>1417</td>\n",
       "      <td>maning</td>\n",
       "      <td>2009</td>\n",
       "      <td>758</td>\n",
       "      <td>8933.49</td>\n",
       "      <td>1075</td>\n",
       "      <td>58975</td>\n",
       "      <td>216</td>\n",
       "    </tr>\n",
       "    <tr>\n",
       "      <th>4</th>\n",
       "      <td>1417</td>\n",
       "      <td>maning</td>\n",
       "      <td>2010</td>\n",
       "      <td>216</td>\n",
       "      <td>5580.00</td>\n",
       "      <td>568</td>\n",
       "      <td>17904</td>\n",
       "      <td>189</td>\n",
       "    </tr>\n",
       "  </tbody>\n",
       "</table>\n",
       "</div>"
      ],
      "text/plain": [
       "    uid user_name  year  total_buildings  total_road_km  total_amenities  \\\n",
       "0  1417    maning  2006                0           0.00                0   \n",
       "1  1417    maning  2007              134        3123.10              193   \n",
       "2  1417    maning  2008              951       11360.70             2994   \n",
       "3  1417    maning  2009              758        8933.49             1075   \n",
       "4  1417    maning  2010              216        5580.00              568   \n",
       "\n",
       "   total_edits  total_active_days  \n",
       "0          212                  6  \n",
       "1        15978                150  \n",
       "2        47366                195  \n",
       "3        58975                216  \n",
       "4        17904                189  "
      ]
     },
     "metadata": {},
     "output_type": "display_data"
    }
   ],
   "source": [
    "process_dictionary_of_users(study_tiles[study_tile_idx]['compare_tiles'][idx]['users'])\n",
    "display.display(study_tiles[study_tile_idx]['compare_tiles'][idx]['users'][study_tiles[study_tile_idx]['compare_tiles'][idx]['user_list'][0]]['tiles'].head())\n",
    "display.display(study_tiles[study_tile_idx]['compare_tiles'][idx]['users'][study_tiles[study_tile_idx]['compare_tiles'][idx]['user_list'][0]]['annual'].head())"
   ]
  },
  {
   "cell_type": "markdown",
   "metadata": {},
   "source": [
    "## 5. Build Compare Tile Full Stats"
   ]
  },
  {
   "cell_type": "code",
   "execution_count": 41,
   "metadata": {
    "collapsed": false
   },
   "outputs": [
    {
     "data": {
      "text/plain": [
       "buildings    89\n",
       "amenities    89\n",
       "road_km      89\n",
       "edits        89\n",
       "num_days     89\n",
       "dtype: int64"
      ]
     },
     "execution_count": 41,
     "metadata": {},
     "output_type": "execute_result"
    }
   ],
   "source": [
    "compare_tile_df = build_all_stats_for_tile(study_tiles[study_tile_idx]['compare_tiles'][idx])\n",
    "compare_tile_df.count().head()"
   ]
  },
  {
   "cell_type": "markdown",
   "metadata": {},
   "source": [
    "# Now compare the tiles\n",
    "\n",
    "First, basic stats: "
   ]
  },
  {
   "cell_type": "code",
   "execution_count": 42,
   "metadata": {
    "collapsed": false
   },
   "outputs": [
    {
     "name": "stdout",
     "output_type": "stream",
     "text": [
      "Users on Study Tile: 325, 325\n",
      "Users on Compare Tile: 89, 89\n"
     ]
    }
   ],
   "source": [
    "print(\"Users on Study Tile: {0}, {1}\".format(len(study_tiles[study_tile_idx]['user_list']), len(current_tile_df)))\n",
    "print(\"Users on Compare Tile: {0}, {1}\".format(len(study_tiles[study_tile_idx]['compare_tiles'][idx]['user_list']), len(compare_tile_df)))"
   ]
  },
  {
   "cell_type": "code",
   "execution_count": 43,
   "metadata": {
    "collapsed": false
   },
   "outputs": [
    {
     "data": {
      "text/plain": [
       "<matplotlib.text.Text at 0x7f572b918fd0>"
      ]
     },
     "execution_count": 43,
     "metadata": {},
     "output_type": "execute_result"
    },
    {
     "data": {
      "image/png": "[encoded data removed]",
      "text/plain": [
       "<matplotlib.figure.Figure at 0x7f58025d2cc0>"
      ]
     },
     "metadata": {},
     "output_type": "display_data"
    }
   ],
   "source": [
    "sns.set(font_scale=1.25)\n",
    "plt.style.use('seaborn-white')\n",
    "fig, axs = plt.subplots(nrows=1, ncols=2, figsize=(15,8), facecolor='w', edgecolor='k')\n",
    "\n",
    "#Editing more than 7 days\n",
    "current_tile_df.plot(ax=axs[0], kind='hist',y=['percent_user_edits'], legend=None, bins=np.arange(0,101,5))\n",
    "axs[0].set_title(study_tiles[study_tile_idx]['name'])\n",
    "\n",
    "#Editing just 1 day\n",
    "compare_tile_df.plot(ax=axs[1], kind='hist',y=['percent_user_edits'], legend=None, bins=np.arange(0,101,5))\n",
    "axs[1].set_title(study_tiles[study_tile_idx]['compare_tiles'][idx]['quad'])\n",
    "\n",
    "for ax in axs:\n",
    "    ax.set_xlabel(\"Percent of User's Edits on Tile\")\n",
    "    ax.set_ylabel('Number of Users')\n",
    "plt.suptitle(\"Percentage of a User's Edits (total) Occuring on this tile\",fontsize=18)"
   ]
  },
  {
   "cell_type": "markdown",
   "metadata": {},
   "source": [
    "# Compare Buildings & Roads Across Two _Similar_ Tiles"
   ]
  },
  {
   "cell_type": "code",
   "execution_count": 44,
   "metadata": {
    "collapsed": false
   },
   "outputs": [
    {
     "data": {
      "image/png": "[encoded data removed]",
      "text/plain": [
       "<matplotlib.figure.Figure at 0x7f572b9f80b8>"
      ]
     },
     "metadata": {},
     "output_type": "display_data"
    }
   ],
   "source": [
    "sns.set(font_scale=1.25)\n",
    "plt.style.use('seaborn-white')\n",
    "fig, axs = plt.subplots(nrows=2, ncols=2, figsize=(15,15), facecolor='w', edgecolor='k')\n",
    "\n",
    "for idx, tile in enumerate([current_tile_df, compare_tile_df]):\n",
    "    this_axis = axs[idx]\n",
    "    b_view = tile.sort_values(by='total_buildings_ever')\n",
    "    b_view['cumulative_percent'] = b_view.percent_tile_buildings.cumsum()\n",
    "\n",
    "    b_view.plot(ax=this_axis[0],x='total_buildings_ever',y='cumulative_percent', logx=True,legend=None)\n",
    "\n",
    "    this_axis[0].set_ylabel('Percent of buildings on tile (cumulative)')\n",
    "    this_axis[0].set_xlabel('Number of Buildings a user has mapped (experience)')\n",
    "\n",
    "    r_view = tile.sort_values(by='total_road_km_ever')\n",
    "    r_view['cumulative_percent'] = r_view.percent_tile_road_km.cumsum()\n",
    "\n",
    "    r_view.plot(ax=this_axis[1],x='total_road_km_ever',y='cumulative_percent', logx=True,legend=None)\n",
    "\n",
    "    this_axis[1].set_ylabel('Percent of road km on tile (cumulative)')\n",
    "    this_axis[1].set_xlabel('Kilometers of roads a user has mapped (experience)')\n",
    "\n",
    "    for ax in this_axis:\n",
    "        ax.set_ylim(0,101)\n",
    "        ax.set_xlim(1)"
   ]
  },
  {
   "cell_type": "code",
   "execution_count": null,
   "metadata": {
    "collapsed": true
   },
   "outputs": [],
   "source": []
  },
  {
   "cell_type": "code",
   "execution_count": null,
   "metadata": {
    "collapsed": true
   },
   "outputs": [],
   "source": []
  }
 ],
 "metadata": {
  "kernelspec": {
   "display_name": "IPython (Python 3)",
   "language": "python",
   "name": "python3"
  },
  "language_info": {
   "codemirror_mode": {
    "name": "ipython",
    "version": 3
   },
   "file_extension": ".py",
   "mimetype": "text/x-python",
   "name": "python",
   "nbconvert_exporter": "python",
   "pygments_lexer": "ipython3",
   "version": "3.4.3"
  }
 },
 "nbformat": 4,
 "nbformat_minor": 1
}
