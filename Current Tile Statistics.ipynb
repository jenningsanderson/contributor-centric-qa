{
 "cells": [
  {
   "cell_type": "code",
   "execution_count": 1,
   "metadata": {
    "collapsed": true
   },
   "outputs": [],
   "source": [
    "import psycopg2, psycopg2.extras, psycopg2.pool, pickle, json\n",
    "from multiprocessing import Pool, Manager\n",
    "from collections import OrderedDict\n",
    "from shapely.geometry import mapping, shape\n",
    "import matplotlib.pyplot as plt\n",
    "import matplotlib\n",
    "import numpy as np\n",
    "from sqlalchemy import create_engine\n",
    "import pandas as pd\n",
    "import geopandas as gpd\n",
    "import seaborn as sns\n",
    "%matplotlib inline"
   ]
  },
  {
   "cell_type": "markdown",
   "metadata": {},
   "source": [
    "# Latest Tile Stats: Compare Disaster Mapping Tiles to Others\n",
    "\n",
    "Query the `latest-tile-data-v3` database and identify tiles with specific characteristics."
   ]
  },
  {
   "cell_type": "code",
   "execution_count": 2,
   "metadata": {
    "collapsed": true
   },
   "outputs": [],
   "source": [
    "# Connect to the database with psycopg2\n",
    "d = \"dbname=latest-tile-data-v3\"+\" user=anderstj host=127.0.0.1\"\n",
    "conn = psycopg2.pool.PersistentConnectionPool(1, 5, dsn=d)\n",
    "cursor = conn.getconn().cursor(cursor_factory = psycopg2.extras.DictCursor)"
   ]
  },
  {
   "cell_type": "code",
   "execution_count": 3,
   "metadata": {
    "collapsed": false
   },
   "outputs": [],
   "source": [
    "#Create the engine for Pandas to query SQL with\n",
    "engine = create_engine('postgresql://anderstj@127.0.0.1:5432/latest-tile-data-v3')"
   ]
  },
  {
   "cell_type": "code",
   "execution_count": 4,
   "metadata": {
    "collapsed": true
   },
   "outputs": [],
   "source": [
    "study_tiles = [\n",
    "    {\"name\" : \"Port Au Prince, Haiti\", \"quad\" : \"032211203001\"},   \n",
    "    {\"name\" : \"Trisuli Bazar, Nepal\",  \"quad\" : \"123131221200\"},\n",
    "    {\"name\" : \"Tacloban\",              \"quad\" : \"132312223332\"},\n",
    "    {\"name\" : \"Kenema, Sierra Leone\",  \"quad\" : \"033330200220\"},\n",
    "    {\"name\" : \"Monrovia, Liberia\",     \"quad\" : \"033330222101\"},\n",
    "    {\"name\" : \"Kathmandu, Nepal\",      \"quad\" : \"123131221232\"},\n",
    "    {\"name\" : \"Heidelberg, Germany\",   \"quad\" : \"120203320232\"},\n",
    "    {\"name\" : \"London\",                \"quad\" : \"031313131103\"},\n",
    "    {\"name\" : \"Berlin\",                \"quad\" : \"120210233222\"},\n",
    "    {\"name\" : \"Manhattan, NY\",         \"quad\" : \"032010110132\"},\n",
    "    {\"name\" : \"Denver, CO\",            \"quad\" : \"023101030121\"},\n",
    "]"
   ]
  },
  {
   "cell_type": "code",
   "execution_count": 9,
   "metadata": {
    "collapsed": false
   },
   "outputs": [],
   "source": [
    "# Get study_tile stats\n",
    "def get_tile_df(quadkey):\n",
    "    q_s = \"\"\"SELECT * FROM roads, buildings, geometry WHERE \n",
    "        roads.quadkey = buildings.quadkey AND \n",
    "        geometry.quadkey = roads.quadkey AND \n",
    "        roads.quadkey = '{0}'\"\"\".format(quadkey)\n",
    "    df = pd.read_sql_query(q_s,con=engine)\n",
    "    \n",
    "    df['named_road_ratio'] = (df.named_edited_km + df.named_new_km) / df.total_km\n",
    "    df['more_building_ratio'] = (df.new_buildings_more + df.edited_buildings_more) / df.total_buildings\n",
    "    \n",
    "    return df\n",
    "\n",
    "for tile in study_tiles:\n",
    "    tile['characteristics'] = get_tile_df(tile['quad'])"
   ]
  },
  {
   "cell_type": "code",
   "execution_count": 13,
   "metadata": {
    "collapsed": false
   },
   "outputs": [
    {
     "name": "stdout",
     "output_type": "stream",
     "text": [
      "1\n"
     ]
    },
    {
     "data": {
      "text/html": [
       "<div>\n",
       "<table border=\"1\" class=\"dataframe\">\n",
       "  <thead>\n",
       "    <tr style=\"text-align: right;\">\n",
       "      <th></th>\n",
       "      <th>quadkey</th>\n",
       "      <th>named_edited_km</th>\n",
       "      <th>named_new_km</th>\n",
       "      <th>total_edited_km</th>\n",
       "      <th>total_km</th>\n",
       "      <th>total_new_km</th>\n",
       "      <th>unnamed_edited_km</th>\n",
       "      <th>unnamed_new_km</th>\n",
       "      <th>quadkey</th>\n",
       "      <th>total_buildings</th>\n",
       "      <th>total_new_buildings</th>\n",
       "      <th>total_edited_buildings</th>\n",
       "      <th>new_buildings_more</th>\n",
       "      <th>new_buildings_yes</th>\n",
       "      <th>edited_buildings_more</th>\n",
       "      <th>edited_buildings_yes</th>\n",
       "      <th>quadkey</th>\n",
       "      <th>coordinates</th>\n",
       "      <th>type</th>\n",
       "    </tr>\n",
       "  </thead>\n",
       "  <tbody>\n",
       "    <tr>\n",
       "      <th>0</th>\n",
       "      <td>132303033313</td>\n",
       "      <td>99.9365</td>\n",
       "      <td>3.75274</td>\n",
       "      <td>218.701</td>\n",
       "      <td>319.301</td>\n",
       "      <td>100.6</td>\n",
       "      <td>118.764</td>\n",
       "      <td>96.8474</td>\n",
       "      <td>132303033313</td>\n",
       "      <td>27667</td>\n",
       "      <td>3366</td>\n",
       "      <td>24301</td>\n",
       "      <td>1170</td>\n",
       "      <td>2196</td>\n",
       "      <td>16127</td>\n",
       "      <td>8174</td>\n",
       "      <td>132303033313</td>\n",
       "      <td>[[[120.849609375, 14.093957177836227], [120.84...</td>\n",
       "      <td>Polygon</td>\n",
       "    </tr>\n",
       "  </tbody>\n",
       "</table>\n",
       "</div>"
      ],
      "text/plain": [
       "        quadkey  named_edited_km  named_new_km  total_edited_km  total_km  \\\n",
       "0  132303033313          99.9365       3.75274          218.701   319.301   \n",
       "\n",
       "   total_new_km  unnamed_edited_km  unnamed_new_km       quadkey  \\\n",
       "0         100.6            118.764         96.8474  132303033313   \n",
       "\n",
       "   total_buildings  total_new_buildings  total_edited_buildings  \\\n",
       "0            27667                 3366                   24301   \n",
       "\n",
       "   new_buildings_more  new_buildings_yes  edited_buildings_more  \\\n",
       "0                1170               2196                  16127   \n",
       "\n",
       "   edited_buildings_yes       quadkey  \\\n",
       "0                  8174  132303033313   \n",
       "\n",
       "                                         coordinates     type  \n",
       "0  [[[120.849609375, 14.093957177836227], [120.84...  Polygon  "
      ]
     },
     "execution_count": 13,
     "metadata": {},
     "output_type": "execute_result"
    }
   ],
   "source": [
    "def get_similar_tiles(tile, tolerance=0.01, ratio_tol=0.01):\n",
    "    df = tile['characteristics']\n",
    "\n",
    "    min_roads = (df.total_km - df.total_km*tolerance).values[0]\n",
    "    max_roads = (df.total_km + df.total_km*tolerance).values[0]\n",
    "\n",
    "    min_buildings = (df.total_buildings - df.total_buildings*tolerance).values[0]\n",
    "    max_buildings = (df.total_buildings + df.total_buildings*tolerance).values[0]\n",
    "    \n",
    "    min_roads_ratio = (df.named_road_ratio - df.named_road_ratio*ratio_tol).values[0]\n",
    "    max_roads_ratio = (df.named_road_ratio + df.named_road_ratio*ratio_tol).values[0]\n",
    "    \n",
    "    min_building_ratio = (df.more_building_ratio - df.more_building_ratio*ratio_tol).values[0]\n",
    "    max_building_ratio = (df.more_building_ratio + df.more_building_ratio*ratio_tol).values[0]\n",
    "\n",
    "    query_string = \"\"\"SELECT * FROM roads, buildings, geometry WHERE roads.quadkey = buildings.quadkey AND geometry.quadkey = roads.quadkey AND \n",
    "    roads.total_km > {0} AND roads.total_km < {1} AND roads.quadkey != '{4}' AND \n",
    "    buildings.total_buildings > {2} AND buildings.total_buildings < {3} AND\n",
    "\n",
    "    (roads.named_edited_km + roads.named_new_km)/roads.total_km > {5} AND \n",
    "    (roads.named_edited_km + roads.named_new_km)/roads.total_km < {6} AND\n",
    "\n",
    "    (buildings.edited_buildings_more + buildings.new_buildings_more)::float / buildings.total_buildings::float > {7} AND\n",
    "    (buildings.edited_buildings_more + buildings.new_buildings_more)::float / buildings.total_buildings::float < {8}\n",
    "\n",
    "    \"\"\".format(min_roads, max_roads, min_buildings, max_buildings, df.quadkey.values[0][0], min_roads_ratio, max_roads_ratio, min_building_ratio, max_building_ratio)\n",
    "#     print(query_string)\n",
    "    return pd.read_sql_query(query_string,con=engine)\n",
    "\n",
    "x = get_similar_tiles(study_tiles[2], tolerance = 0.25, ratio_tol=0.25)\n",
    "print(len(x))\n",
    "x.head()"
   ]
  },
  {
   "cell_type": "code",
   "execution_count": 22,
   "metadata": {
    "collapsed": false
   },
   "outputs": [
    {
     "name": "stdout",
     "output_type": "stream",
     "text": [
      "Port Au Prince, Haiti\n",
      "17\n",
      "Trisuli Bazar, Nepal\n",
      "4\n",
      "Tacloban\n",
      "2\n",
      "Kenema, Sierra Leone\n",
      "1\n",
      "Monrovia, Liberia\n",
      "0\n",
      "Kathmandu, Nepal\n",
      "1\n",
      "Heidelberg, Germany\n",
      "42\n",
      "London\n",
      "15\n",
      "Berlin\n",
      "14\n",
      "Manhattan, NY\n",
      "7\n",
      "Denver, CO\n",
      "1\n"
     ]
    }
   ],
   "source": [
    "for tile in study_tiles:\n",
    "    print(tile['name'])\n",
    "    sim_tiles = get_similar_tiles(tile, tolerance=0.35, ratio_tol=0.25)\n",
    "    print(len(sim_tiles))\n",
    "    tile['similar_tiles'] = sim_tiles"
   ]
  },
  {
   "cell_type": "code",
   "execution_count": 315,
   "metadata": {
    "collapsed": false
   },
   "outputs": [
    {
     "name": "stdout",
     "output_type": "stream",
     "text": [
      "{\"features\": [{\"properties\": {}, \"type\": \"Feature\", \"geometry\": {\"type\": \"MultiPoint\", \"coordinates\": [[3.076171875, 50.625073063414355], [3.076171875, 50.68079714532165], [3.1640625, 50.68079714532165], [3.1640625, 50.625073063414355], [3.076171875, 50.625073063414355]]}}, {\"properties\": {}, \"type\": \"Feature\", \"geometry\": {\"type\": \"MultiPoint\", \"coordinates\": [[2.4609375, 48.748945343432936], [2.4609375, 48.80686346108518], [2.548828125, 48.80686346108518], [2.548828125, 48.748945343432936], [2.4609375, 48.748945343432936]]}}, {\"properties\": {}, \"type\": \"Feature\", \"geometry\": {\"type\": \"MultiPoint\", \"coordinates\": [[2.28515625, 48.748945343432936], [2.28515625, 48.80686346108518], [2.373046875, 48.80686346108518], [2.373046875, 48.748945343432936], [2.28515625, 48.748945343432936]]}}, {\"properties\": {}, \"type\": \"Feature\", \"geometry\": {\"type\": \"MultiPoint\", \"coordinates\": [[2.197265625, 48.980216985374994], [2.197265625, 49.03786794532643], [2.28515625, 49.03786794532643], [2.28515625, 48.980216985374994], [2.197265625, 48.980216985374994]]}}, {\"properties\": {}, \"type\": \"Feature\", \"geometry\": {\"type\": \"MultiPoint\", \"coordinates\": [[2.197265625, 48.6909603909255], [2.197265625, 48.748945343432936], [2.28515625, 48.748945343432936], [2.28515625, 48.6909603909255], [2.197265625, 48.6909603909255]]}}, {\"properties\": {}, \"type\": \"Feature\", \"geometry\": {\"type\": \"MultiPoint\", \"coordinates\": [[-1.58203125, 47.219568112315486], [-1.58203125, 47.27922900257083], [-1.494140625, 47.27922900257083], [-1.494140625, 47.219568112315486], [-1.58203125, 47.219568112315486]]}}, {\"properties\": {}, \"type\": \"Feature\", \"geometry\": {\"type\": \"MultiPoint\", \"coordinates\": [[-1.58203125, 47.1598400130443], [-1.58203125, 47.219568112315486], [-1.494140625, 47.219568112315486], [-1.494140625, 47.1598400130443], [-1.58203125, 47.1598400130443]]}}, {\"properties\": {}, \"type\": \"Feature\", \"geometry\": {\"type\": \"MultiPoint\", \"coordinates\": [[4.833984375, 45.70617928533084], [4.833984375, 45.76752296214989], [4.921875, 45.76752296214989], [4.921875, 45.70617928533084], [4.833984375, 45.70617928533084]]}}, {\"properties\": {}, \"type\": \"Feature\", \"geometry\": {\"type\": \"MultiPoint\", \"coordinates\": [[4.74609375, 45.70617928533084], [4.74609375, 45.76752296214989], [4.833984375, 45.76752296214989], [4.833984375, 45.70617928533084], [4.74609375, 45.70617928533084]]}}, {\"properties\": {}, \"type\": \"Feature\", \"geometry\": {\"type\": \"MultiPoint\", \"coordinates\": [[27.421875, -11.781325296112287], [27.421875, -11.695272733029402], [27.509765625, -11.695272733029402], [27.509765625, -11.781325296112287], [27.421875, -11.781325296112287]]}}, {\"properties\": {}, \"type\": \"Feature\", \"geometry\": {\"type\": \"MultiPoint\", \"coordinates\": [[-123.134765625, 49.2104204456503], [-123.134765625, 49.26780455063752], [-123.046875, 49.26780455063752], [-123.046875, 49.2104204456503], [-123.134765625, 49.2104204456503]]}}, {\"properties\": {}, \"type\": \"Feature\", \"geometry\": {\"type\": \"MultiPoint\", \"coordinates\": [[-122.34375, 47.63578359086483], [-122.34375, 47.69497434186282], [-122.255859375, 47.69497434186282], [-122.255859375, 47.63578359086483], [-122.34375, 47.63578359086483]]}}, {\"properties\": {}, \"type\": \"Feature\", \"geometry\": {\"type\": \"MultiPoint\", \"coordinates\": [[-87.71484375, 41.83682786072713], [-87.71484375, 41.902277040963696], [-87.626953125, 41.902277040963696], [-87.626953125, 41.83682786072713], [-87.71484375, 41.83682786072713]]}}, {\"properties\": {}, \"type\": \"Feature\", \"geometry\": {\"type\": \"MultiPoint\", \"coordinates\": [[-76.640625, 39.23225314171488], [-76.640625, 39.3002991861503], [-76.552734375, 39.3002991861503], [-76.552734375, 39.23225314171488], [-76.640625, 39.23225314171488]]}}, {\"properties\": {}, \"type\": \"Feature\", \"geometry\": {\"type\": \"MultiPoint\", \"coordinates\": [[-122.34375, 37.50972584293751], [-122.34375, 37.57941251343838], [-122.255859375, 37.57941251343838], [-122.255859375, 37.50972584293751], [-122.34375, 37.50972584293751]]}}, {\"properties\": {}, \"type\": \"Feature\", \"geometry\": {\"type\": \"MultiPoint\", \"coordinates\": [[-66.09375, 18.396230138028827], [-66.09375, 18.479609055831965], [-66.005859375, 18.479609055831965], [-66.005859375, 18.396230138028827], [-66.09375, 18.396230138028827]]}}], \"type\": \"FeatureCollection\", \"bbox\": [-123.134765625, -11.781325296112287, 27.509765625, 50.68079714532165]}\n"
     ]
    }
   ],
   "source": [
    "res_coll = mapping(convert_to_gpd(z).geometry)\n",
    "for res in res_coll['features']:\n",
    "    res['geometry']['type'] = 'MultiPoint'\n",
    "    res['geometry']['coordinates'] = res['geometry']['coordinates'][0]\n",
    "    del res['bbox']\n",
    "    del res['id']\n",
    "\n",
    "print(json.dumps(res_coll))"
   ]
  },
  {
   "cell_type": "code",
   "execution_count": null,
   "metadata": {
    "collapsed": true
   },
   "outputs": [],
   "source": []
  },
  {
   "cell_type": "code",
   "execution_count": 222,
   "metadata": {
    "collapsed": false
   },
   "outputs": [
    {
     "data": {
      "text/html": [
       "<div>\n",
       "<table border=\"1\" class=\"dataframe\">\n",
       "  <thead>\n",
       "    <tr style=\"text-align: right;\">\n",
       "      <th></th>\n",
       "      <th>quadkey</th>\n",
       "      <th>named_edited_km</th>\n",
       "      <th>named_new_km</th>\n",
       "      <th>total_edited_km</th>\n",
       "      <th>total_km</th>\n",
       "      <th>total_new_km</th>\n",
       "      <th>unnamed_edited_km</th>\n",
       "      <th>unnamed_new_km</th>\n",
       "      <th>quadkey</th>\n",
       "      <th>total_buildings</th>\n",
       "      <th>...</th>\n",
       "      <th>total_edited_buildings</th>\n",
       "      <th>new_buildings_more</th>\n",
       "      <th>new_buildings_yes</th>\n",
       "      <th>edited_buildings_more</th>\n",
       "      <th>edited_buildings_yes</th>\n",
       "      <th>quadkey</th>\n",
       "      <th>coordinates</th>\n",
       "      <th>type</th>\n",
       "      <th>geometry</th>\n",
       "      <th>geojson</th>\n",
       "    </tr>\n",
       "  </thead>\n",
       "  <tbody>\n",
       "    <tr>\n",
       "      <th>0</th>\n",
       "      <td>031333110213</td>\n",
       "      <td>187.39100</td>\n",
       "      <td>44.13020</td>\n",
       "      <td>220.648</td>\n",
       "      <td>281.186</td>\n",
       "      <td>60.5379</td>\n",
       "      <td>33.2572</td>\n",
       "      <td>16.4077</td>\n",
       "      <td>031333110213</td>\n",
       "      <td>27542</td>\n",
       "      <td>...</td>\n",
       "      <td>23838</td>\n",
       "      <td>2</td>\n",
       "      <td>3702</td>\n",
       "      <td>20</td>\n",
       "      <td>23818</td>\n",
       "      <td>031333110213</td>\n",
       "      <td>[[[-1.142578125, 44.71551373202134], [-1.14257...</td>\n",
       "      <td>Polygon</td>\n",
       "      <td>POLYGON ((-1.142578125 44.71551373202134, -1.1...</td>\n",
       "      <td>{'type': 'Polygon', 'coordinates': [[[-1.14257...</td>\n",
       "    </tr>\n",
       "    <tr>\n",
       "      <th>1</th>\n",
       "      <td>310013121223</td>\n",
       "      <td>3.66180</td>\n",
       "      <td>0.00000</td>\n",
       "      <td>140.529</td>\n",
       "      <td>240.788</td>\n",
       "      <td>100.2590</td>\n",
       "      <td>136.8670</td>\n",
       "      <td>100.2590</td>\n",
       "      <td>310013121223</td>\n",
       "      <td>28685</td>\n",
       "      <td>...</td>\n",
       "      <td>25</td>\n",
       "      <td>0</td>\n",
       "      <td>28660</td>\n",
       "      <td>0</td>\n",
       "      <td>25</td>\n",
       "      <td>310013121223</td>\n",
       "      <td>[[[110.478515625, -7.710991655433223], [110.47...</td>\n",
       "      <td>Polygon</td>\n",
       "      <td>POLYGON ((110.478515625 -7.710991655433223, 11...</td>\n",
       "      <td>{'type': 'Polygon', 'coordinates': [[[110.4785...</td>\n",
       "    </tr>\n",
       "    <tr>\n",
       "      <th>2</th>\n",
       "      <td>300132102231</td>\n",
       "      <td>8.39388</td>\n",
       "      <td>3.58473</td>\n",
       "      <td>185.854</td>\n",
       "      <td>259.588</td>\n",
       "      <td>73.7340</td>\n",
       "      <td>177.4600</td>\n",
       "      <td>70.1493</td>\n",
       "      <td>300132102231</td>\n",
       "      <td>27350</td>\n",
       "      <td>...</td>\n",
       "      <td>951</td>\n",
       "      <td>1397</td>\n",
       "      <td>25002</td>\n",
       "      <td>140</td>\n",
       "      <td>811</td>\n",
       "      <td>300132102231</td>\n",
       "      <td>[[[36.826171875, -17.895114303749146], [36.826...</td>\n",
       "      <td>Polygon</td>\n",
       "      <td>POLYGON ((36.826171875 -17.89511430374915, 36....</td>\n",
       "      <td>{'type': 'Polygon', 'coordinates': [[[36.82617...</td>\n",
       "    </tr>\n",
       "    <tr>\n",
       "      <th>3</th>\n",
       "      <td>030220003002</td>\n",
       "      <td>91.99230</td>\n",
       "      <td>125.46400</td>\n",
       "      <td>114.282</td>\n",
       "      <td>278.608</td>\n",
       "      <td>164.3270</td>\n",
       "      <td>22.2893</td>\n",
       "      <td>38.8626</td>\n",
       "      <td>030220003002</td>\n",
       "      <td>29294</td>\n",
       "      <td>...</td>\n",
       "      <td>103</td>\n",
       "      <td>1</td>\n",
       "      <td>29190</td>\n",
       "      <td>3</td>\n",
       "      <td>100</td>\n",
       "      <td>030220003002</td>\n",
       "      <td>[[[-89.296875, 48.341646172374595], [-89.29687...</td>\n",
       "      <td>Polygon</td>\n",
       "      <td>POLYGON ((-89.296875 48.3416461723746, -89.296...</td>\n",
       "      <td>{'type': 'Polygon', 'coordinates': [[[-89.2968...</td>\n",
       "    </tr>\n",
       "    <tr>\n",
       "      <th>4</th>\n",
       "      <td>210312313010</td>\n",
       "      <td>121.34300</td>\n",
       "      <td>16.96900</td>\n",
       "      <td>191.144</td>\n",
       "      <td>278.217</td>\n",
       "      <td>87.0723</td>\n",
       "      <td>69.8017</td>\n",
       "      <td>70.1033</td>\n",
       "      <td>210312313010</td>\n",
       "      <td>27976</td>\n",
       "      <td>...</td>\n",
       "      <td>7</td>\n",
       "      <td>1005</td>\n",
       "      <td>26964</td>\n",
       "      <td>4</td>\n",
       "      <td>3</td>\n",
       "      <td>210312313010</td>\n",
       "      <td>[[[-51.15234375, -30.221101852485987], [-51.15...</td>\n",
       "      <td>Polygon</td>\n",
       "      <td>POLYGON ((-51.15234375 -30.22110185248599, -51...</td>\n",
       "      <td>{'type': 'Polygon', 'coordinates': [[[-51.1523...</td>\n",
       "    </tr>\n",
       "  </tbody>\n",
       "</table>\n",
       "<p>5 rows × 21 columns</p>\n",
       "</div>"
      ],
      "text/plain": [
       "        quadkey  named_edited_km  named_new_km  total_edited_km  total_km  \\\n",
       "0  031333110213        187.39100      44.13020          220.648   281.186   \n",
       "1  310013121223          3.66180       0.00000          140.529   240.788   \n",
       "2  300132102231          8.39388       3.58473          185.854   259.588   \n",
       "3  030220003002         91.99230     125.46400          114.282   278.608   \n",
       "4  210312313010        121.34300      16.96900          191.144   278.217   \n",
       "\n",
       "   total_new_km  unnamed_edited_km  unnamed_new_km       quadkey  \\\n",
       "0       60.5379            33.2572         16.4077  031333110213   \n",
       "1      100.2590           136.8670        100.2590  310013121223   \n",
       "2       73.7340           177.4600         70.1493  300132102231   \n",
       "3      164.3270            22.2893         38.8626  030220003002   \n",
       "4       87.0723            69.8017         70.1033  210312313010   \n",
       "\n",
       "   total_buildings                        ...                          \\\n",
       "0            27542                        ...                           \n",
       "1            28685                        ...                           \n",
       "2            27350                        ...                           \n",
       "3            29294                        ...                           \n",
       "4            27976                        ...                           \n",
       "\n",
       "   total_edited_buildings  new_buildings_more  new_buildings_yes  \\\n",
       "0                   23838                   2               3702   \n",
       "1                      25                   0              28660   \n",
       "2                     951                1397              25002   \n",
       "3                     103                   1              29190   \n",
       "4                       7                1005              26964   \n",
       "\n",
       "   edited_buildings_more  edited_buildings_yes       quadkey  \\\n",
       "0                     20                 23818  031333110213   \n",
       "1                      0                    25  310013121223   \n",
       "2                    140                   811  300132102231   \n",
       "3                      3                   100  030220003002   \n",
       "4                      4                     3  210312313010   \n",
       "\n",
       "                                         coordinates     type  \\\n",
       "0  [[[-1.142578125, 44.71551373202134], [-1.14257...  Polygon   \n",
       "1  [[[110.478515625, -7.710991655433223], [110.47...  Polygon   \n",
       "2  [[[36.826171875, -17.895114303749146], [36.826...  Polygon   \n",
       "3  [[[-89.296875, 48.341646172374595], [-89.29687...  Polygon   \n",
       "4  [[[-51.15234375, -30.221101852485987], [-51.15...  Polygon   \n",
       "\n",
       "                                            geometry  \\\n",
       "0  POLYGON ((-1.142578125 44.71551373202134, -1.1...   \n",
       "1  POLYGON ((110.478515625 -7.710991655433223, 11...   \n",
       "2  POLYGON ((36.826171875 -17.89511430374915, 36....   \n",
       "3  POLYGON ((-89.296875 48.3416461723746, -89.296...   \n",
       "4  POLYGON ((-51.15234375 -30.22110185248599, -51...   \n",
       "\n",
       "                                             geojson  \n",
       "0  {'type': 'Polygon', 'coordinates': [[[-1.14257...  \n",
       "1  {'type': 'Polygon', 'coordinates': [[[110.4785...  \n",
       "2  {'type': 'Polygon', 'coordinates': [[[36.82617...  \n",
       "3  {'type': 'Polygon', 'coordinates': [[[-89.2968...  \n",
       "4  {'type': 'Polygon', 'coordinates': [[[-51.1523...  \n",
       "\n",
       "[5 rows x 21 columns]"
      ]
     },
     "execution_count": 222,
     "metadata": {},
     "output_type": "execute_result"
    }
   ],
   "source": [
    "def convert_to_gpd(df):\n",
    "    df['geometry'] = df.coordinates.apply(lambda coords: shape({\"type\":\"Polygon\", \"coordinates\":json.loads(coords)}))\n",
    "    return gpd.GeoDataFrame(df)\n",
    "y = convert_to_gpd(x)\n",
    "y"
   ]
  },
  {
   "cell_type": "code",
   "execution_count": 221,
   "metadata": {
    "collapsed": false
   },
   "outputs": [],
   "source": [
    "with open('tmp.geojson','w') as oFile:\n",
    "    oFile.write(y.to_json())"
   ]
  },
  {
   "cell_type": "code",
   "execution_count": 92,
   "metadata": {
    "collapsed": false
   },
   "outputs": [
    {
     "name": "stdout",
     "output_type": "stream",
     "text": [
      "SELECT count(*) FROM roads, buildings, geometry WHERE roads.quadkey = buildings.quadkey AND geometry.quadkey = roads.quadkey AND \n",
      "    roads.total_km > 0 AND \n",
      "        (roads.named_edited_km + roads.named_new_km)/roads.total_km > 0.5 AND \n",
      "    buildings.total_buildings > 0 AND \n",
      "        (buildings.edited_buildings_more + buildings.new_buildings_more)::float / buildings.total_buildings::float > 0.5\n",
      "LIMIT 10;\n"
     ]
    }
   ],
   "source": [
    "roads = 0.5\n",
    "num_buildings = 0\n",
    "buildings = 0.5\n",
    "\n",
    "#roads.quadkey, buildings.total_buildings, ((roads.named_edited_km + roads.named_new_km)/roads.total_km), (buildings.edited_buildings_more + buildings.new_buildings_more)::float / buildings.total_buildings::float\n",
    "\n",
    "QUERY_STRING = \"\"\"SELECT count(*) FROM roads, buildings, geometry WHERE roads.quadkey = buildings.quadkey AND geometry.quadkey = roads.quadkey AND \n",
    "    roads.total_km > 0 AND \n",
    "        (roads.named_edited_km + roads.named_new_km)/roads.total_km > {0} AND \n",
    "    buildings.total_buildings > {1} AND \n",
    "        (buildings.edited_buildings_more + buildings.new_buildings_more)::float / buildings.total_buildings::float > {2}\n",
    "LIMIT 10;\"\"\".format(roads, num_buildings, buildings)\n",
    "print(QUERY_STRING)"
   ]
  },
  {
   "cell_type": "code",
   "execution_count": 93,
   "metadata": {
    "collapsed": false
   },
   "outputs": [],
   "source": [
    "df = pd.read_sql_query(QUERY_STRING,con=engine)"
   ]
  },
  {
   "cell_type": "code",
   "execution_count": 94,
   "metadata": {
    "collapsed": false
   },
   "outputs": [
    {
     "data": {
      "text/html": [
       "<div>\n",
       "<table border=\"1\" class=\"dataframe\">\n",
       "  <thead>\n",
       "    <tr style=\"text-align: right;\">\n",
       "      <th></th>\n",
       "      <th>count</th>\n",
       "    </tr>\n",
       "  </thead>\n",
       "  <tbody>\n",
       "    <tr>\n",
       "      <th>0</th>\n",
       "      <td>13177</td>\n",
       "    </tr>\n",
       "  </tbody>\n",
       "</table>\n",
       "</div>"
      ],
      "text/plain": [
       "   count\n",
       "0  13177"
      ]
     },
     "execution_count": 94,
     "metadata": {},
     "output_type": "execute_result"
    }
   ],
   "source": [
    "df.head()"
   ]
  },
  {
   "cell_type": "code",
   "execution_count": 11,
   "metadata": {
    "collapsed": false
   },
   "outputs": [],
   "source": [
    "cursor.execute(\"SELECT * from roads, buildings, amenities WHERE\\\n",
    "               roads.total_km > 0 AND (roads.named_edited_km + roads.named_new_km)/roads.total_km > %s \\\n",
    "                LIMIT 10;\",(roads, ))"
   ]
  },
  {
   "cell_type": "code",
   "execution_count": null,
   "metadata": {
    "collapsed": true
   },
   "outputs": [],
   "source": []
  }
 ],
 "metadata": {
  "kernelspec": {
   "display_name": "IPython (Python 3)",
   "language": "python",
   "name": "python3"
  },
  "language_info": {
   "codemirror_mode": {
    "name": "ipython",
    "version": 3
   },
   "file_extension": ".py",
   "mimetype": "text/x-python",
   "name": "python",
   "nbconvert_exporter": "python",
   "pygments_lexer": "ipython3",
   "version": "3.4.3"
  }
 },
 "nbformat": 4,
 "nbformat_minor": 1
}
