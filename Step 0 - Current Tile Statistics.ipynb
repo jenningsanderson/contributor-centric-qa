{
 "cells": [
  {
   "cell_type": "code",
   "execution_count": 1,
   "metadata": {
    "collapsed": true
   },
   "outputs": [],
   "source": [
    "import psycopg2, psycopg2.extras, psycopg2.pool, pickle, json, matplotlib, os, sys, shapely\n",
    "from multiprocessing import Pool, Manager; from collections import OrderedDict; from shapely.geometry import mapping, shape; from sqlalchemy import create_engine\n",
    "import matplotlib.pyplot as plt; import numpy as np; import pandas as pd; import geopandas as gpd; import seaborn as sns\n",
    "%matplotlib inline"
   ]
  },
  {
   "cell_type": "markdown",
   "metadata": {},
   "source": [
    "# Latest Tile Statistics\n",
    "\n",
    "This notebook queries the `latest-tile-data-v3` database to identify tiles with specific characteristics, such as:\n",
    "- named road km\n",
    "- total road km\n",
    "- total buildings\n",
    "- number of buildings with more than `building=yes`\n",
    "\n",
    "This allows for further _intrinsic quality_ comparison between the histories of tiles that are currently quantitatively similar on the map."
   ]
  },
  {
   "cell_type": "code",
   "execution_count": 5,
   "metadata": {
    "collapsed": false
   },
   "outputs": [],
   "source": [
    "#Create the engine for Pandas to query SQL with\n",
    "engine = create_engine('postgresql://anderstj@127.0.0.1:5432/latest-tile-data-v3')"
   ]
  },
  {
   "cell_type": "code",
   "execution_count": 6,
   "metadata": {
    "collapsed": false
   },
   "outputs": [
    {
     "name": "stdout",
     "output_type": "stream",
     "text": [
      "Found 9 tiles.\n"
     ]
    }
   ],
   "source": [
    "study_tiles = json.loads(open('study_tiles.json','r').read())\n",
    "print(\"Found {0} tiles.\".format(len(study_tiles)))"
   ]
  },
  {
   "cell_type": "code",
   "execution_count": 7,
   "metadata": {
    "collapsed": false
   },
   "outputs": [
    {
     "name": "stdout",
     "output_type": "stream",
     "text": [
      "Port Au Prince, Haiti...Trisuli Bazar, Nepal...Tacloban...Kenema, Sierra Leone...Monrovia, Liberia...Kathmandu, Nepal...Heidelberg, Germany...London...Manhattan, NY..."
     ]
    }
   ],
   "source": [
    "# Get study_tile stats\n",
    "def get_tile_df(quadkey):\n",
    "    q_s = \"\"\"SELECT * FROM roads, buildings, geometry WHERE \n",
    "        roads.quadkey = buildings.quadkey AND \n",
    "        geometry.quadkey = roads.quadkey AND \n",
    "        roads.quadkey = '{0}'\"\"\".format(quadkey)\n",
    "    df = pd.read_sql_query(q_s,con=engine)\n",
    "    \n",
    "    df['named_road_ratio'] = (df.named_edited_km + df.named_new_km) / df.total_km\n",
    "    df['more_building_ratio'] = (df.new_buildings_more + df.edited_buildings_more) / df.total_buildings\n",
    "    return df\n",
    "\n",
    "for tile in study_tiles:\n",
    "    print(tile['name'], end=\"...\")\n",
    "    tile['characteristics'] = get_tile_df(tile['quad'])"
   ]
  },
  {
   "cell_type": "code",
   "execution_count": 8,
   "metadata": {
    "collapsed": false
   },
   "outputs": [
    {
     "name": "stdout",
     "output_type": "stream",
     "text": [
      "1\n"
     ]
    },
    {
     "data": {
      "text/html": [
       "<div>\n",
       "<table border=\"1\" class=\"dataframe\">\n",
       "  <thead>\n",
       "    <tr style=\"text-align: right;\">\n",
       "      <th></th>\n",
       "      <th>quadkey</th>\n",
       "      <th>named_edited_km</th>\n",
       "      <th>named_new_km</th>\n",
       "      <th>total_edited_km</th>\n",
       "      <th>total_km</th>\n",
       "      <th>total_new_km</th>\n",
       "      <th>unnamed_edited_km</th>\n",
       "      <th>unnamed_new_km</th>\n",
       "      <th>quadkey</th>\n",
       "      <th>total_buildings</th>\n",
       "      <th>total_new_buildings</th>\n",
       "      <th>total_edited_buildings</th>\n",
       "      <th>new_buildings_more</th>\n",
       "      <th>new_buildings_yes</th>\n",
       "      <th>edited_buildings_more</th>\n",
       "      <th>edited_buildings_yes</th>\n",
       "      <th>quadkey</th>\n",
       "      <th>coordinates</th>\n",
       "      <th>type</th>\n",
       "    </tr>\n",
       "  </thead>\n",
       "  <tbody>\n",
       "    <tr>\n",
       "      <th>0</th>\n",
       "      <td>132303033313</td>\n",
       "      <td>99.9365</td>\n",
       "      <td>3.75274</td>\n",
       "      <td>218.701</td>\n",
       "      <td>319.301</td>\n",
       "      <td>100.6</td>\n",
       "      <td>118.764</td>\n",
       "      <td>96.8474</td>\n",
       "      <td>132303033313</td>\n",
       "      <td>27667</td>\n",
       "      <td>3366</td>\n",
       "      <td>24301</td>\n",
       "      <td>1170</td>\n",
       "      <td>2196</td>\n",
       "      <td>16127</td>\n",
       "      <td>8174</td>\n",
       "      <td>132303033313</td>\n",
       "      <td>[[[120.849609375, 14.093957177836227], [120.84...</td>\n",
       "      <td>Polygon</td>\n",
       "    </tr>\n",
       "  </tbody>\n",
       "</table>\n",
       "</div>"
      ],
      "text/plain": [
       "        quadkey  named_edited_km  named_new_km  total_edited_km  total_km  \\\n",
       "0  132303033313          99.9365       3.75274          218.701   319.301   \n",
       "\n",
       "   total_new_km  unnamed_edited_km  unnamed_new_km       quadkey  \\\n",
       "0         100.6            118.764         96.8474  132303033313   \n",
       "\n",
       "   total_buildings  total_new_buildings  total_edited_buildings  \\\n",
       "0            27667                 3366                   24301   \n",
       "\n",
       "   new_buildings_more  new_buildings_yes  edited_buildings_more  \\\n",
       "0                1170               2196                  16127   \n",
       "\n",
       "   edited_buildings_yes       quadkey  \\\n",
       "0                  8174  132303033313   \n",
       "\n",
       "                                         coordinates     type  \n",
       "0  [[[120.849609375, 14.093957177836227], [120.84...  Polygon  "
      ]
     },
     "execution_count": 8,
     "metadata": {},
     "output_type": "execute_result"
    }
   ],
   "source": [
    "def get_similar_tiles(tile, tolerance=0.01, ratio_tol=0.01):\n",
    "    \"\"\"Given a tile, find similar tiles in the _current database_ within specific thresholds.\"\"\"\n",
    "    df = tile['characteristics']\n",
    "    min_roads = (df.total_km - df.total_km*tolerance).values[0]\n",
    "    max_roads = (df.total_km + df.total_km*tolerance).values[0]\n",
    "    min_buildings = (df.total_buildings - df.total_buildings*tolerance).values[0]\n",
    "    max_buildings = (df.total_buildings + df.total_buildings*tolerance).values[0]\n",
    "    min_roads_ratio = (df.named_road_ratio - df.named_road_ratio*ratio_tol).values[0]\n",
    "    max_roads_ratio = (df.named_road_ratio + df.named_road_ratio*ratio_tol).values[0]    \n",
    "    min_building_ratio = (df.more_building_ratio - df.more_building_ratio*ratio_tol).values[0]\n",
    "    max_building_ratio = (df.more_building_ratio + df.more_building_ratio*ratio_tol).values[0]\n",
    "\n",
    "    query_string = \"\"\"SELECT * FROM roads, buildings, geometry WHERE roads.quadkey = buildings.quadkey AND geometry.quadkey = roads.quadkey AND \n",
    "    roads.total_km > {0} AND roads.total_km < {1} AND roads.quadkey != '{4}' AND \n",
    "    buildings.total_buildings > {2} AND buildings.total_buildings < {3} AND\n",
    "    (roads.named_edited_km + roads.named_new_km)/roads.total_km > {5} AND \n",
    "    (roads.named_edited_km + roads.named_new_km)/roads.total_km < {6} AND\n",
    "    (buildings.edited_buildings_more + buildings.new_buildings_more)::float / buildings.total_buildings::float > {7} AND\n",
    "    (buildings.edited_buildings_more + buildings.new_buildings_more)::float / buildings.total_buildings::float < {8}\n",
    "    \"\"\".format(min_roads, max_roads, min_buildings, max_buildings, df.quadkey.values[0][0], min_roads_ratio, max_roads_ratio, min_building_ratio, max_building_ratio)\n",
    "    return pd.read_sql_query(query_string,con=engine)\n",
    "\n",
    "# Test approach\n",
    "x = get_similar_tiles(study_tiles[2], tolerance = 0.25, ratio_tol=0.25)\n",
    "print(len(x))\n",
    "x.head()"
   ]
  },
  {
   "cell_type": "markdown",
   "metadata": {},
   "source": [
    "## Identify Similar Tiles in the Database\n",
    "\n",
    "For each of the study tiles, how many other tiles exist with similar characteristics: \n",
    " - Number of Buildings\n",
    " - km of roads\n",
    " - % of named roads\n",
    " - % of buildings with more than just `building==yes`"
   ]
  },
  {
   "cell_type": "code",
   "execution_count": 9,
   "metadata": {
    "collapsed": false
   },
   "outputs": [
    {
     "name": "stdout",
     "output_type": "stream",
     "text": [
      "Port Au Prince, Haiti\n",
      "Similar Tiles: 25\n",
      "\n",
      "Trisuli Bazar, Nepal\n",
      "Similar Tiles: 4\n",
      "\n",
      "Tacloban\n",
      "Similar Tiles: 2\n",
      "\n",
      "Kenema, Sierra Leone\n",
      "Similar Tiles: 1\n",
      "\n",
      "Monrovia, Liberia\n",
      "Similar Tiles: 1\n",
      "\n",
      "Kathmandu, Nepal\n",
      "Similar Tiles: 1\n",
      "\n",
      "Heidelberg, Germany\n",
      "Similar Tiles: 66\n",
      "\n",
      "London\n",
      "Similar Tiles: 32\n",
      "\n",
      "Manhattan, NY\n",
      "Similar Tiles: 16\n",
      "\n"
     ]
    }
   ],
   "source": [
    "for tile in study_tiles:\n",
    "    print(tile['name'])\n",
    "    sim_tiles = get_similar_tiles(tile, tolerance=0.35, ratio_tol=0.35)\n",
    "    print(\"Similar Tiles: {0}\\n\".format(len(sim_tiles)))\n",
    "    tile['similar_tiles'] = sim_tiles"
   ]
  },
  {
   "cell_type": "code",
   "execution_count": 10,
   "metadata": {
    "collapsed": false
   },
   "outputs": [],
   "source": [
    "def convert_to_gpd(df):\n",
    "    \"\"\" Given a pandas dataframe with a `geometry` column, return a GeoDataFrame\n",
    "        Note: This function creates the geometry from JSON string and then gets the envelope, this ensures proper winding order.\n",
    "    \"\"\"\n",
    "    df['geometry'] = df.coordinates.apply(lambda coords: shape({\"type\":\"Polygon\", \"coordinates\":json.loads(coords)}).exterior.envelope)\n",
    "    \n",
    "    return gpd.GeoDataFrame(df)\n",
    "y = convert_to_gpd(x)"
   ]
  },
  {
   "cell_type": "markdown",
   "metadata": {},
   "source": [
    "### Write GeoJSON feature collections of similar tiles for each study tile"
   ]
  },
  {
   "cell_type": "code",
   "execution_count": 11,
   "metadata": {
    "collapsed": false
   },
   "outputs": [
    {
     "name": "stdout",
     "output_type": "stream",
     "text": [
      "Port Au Prince, Haiti\n",
      "Trisuli Bazar, Nepal\n",
      "Tacloban\n",
      "Kenema, Sierra Leone\n",
      "Monrovia, Liberia\n",
      "Kathmandu, Nepal\n",
      "Heidelberg, Germany\n",
      "London\n",
      "Manhattan, NY\n"
     ]
    }
   ],
   "source": [
    "directory = '/data/www/jennings/iscram/'\n",
    "if not os.path.exists(directory):\n",
    "    os.makedirs(directory)\n",
    "for tile in study_tiles:\n",
    "    print(tile['name'])\n",
    "    tile_gpd = convert_to_gpd(tile['similar_tiles'])\n",
    "    filename = directory+\"/\"+tile['name']+\"_sim_tiles.geojson\"\n",
    "    if os.path.exists(filename):\n",
    "        os.remove(filename)\n",
    "    try:\n",
    "        tile_gpd.to_file(directory+\"/\"+tile['name']+\"_sim_tiles.geojson\", driver=\"GeoJSON\")\n",
    "    except:\n",
    "        print(\"\\tError. Length of dataframe: {0}\".format(len(tile_gpd)))"
   ]
  },
  {
   "cell_type": "markdown",
   "metadata": {},
   "source": [
    "### Create GeoJSON file for all features"
   ]
  },
  {
   "cell_type": "code",
   "execution_count": 12,
   "metadata": {
    "collapsed": false
   },
   "outputs": [],
   "source": [
    "feat_coll = {\"type\":\"FeatureCollection\",\"features\":[]}\n",
    "for tile in study_tiles:\n",
    "    tile['characteristics']['name'] = tile['name']\n",
    "    feat_coll['features'].append( json.loads(convert_to_gpd(tile['characteristics']).to_json())['features'][0] )\n",
    "\n",
    "with open(directory+\"study_tiles.geojson\",'w') as oFile:\n",
    "    json.dump(feat_coll, oFile)"
   ]
  },
  {
   "cell_type": "markdown",
   "metadata": {},
   "source": [
    "### The study tiles can be [visualized here](http://www.townsendjennings.com/geojson-polygons?geojson=http://epic-analytics.cs.colorado.edu:9000/jennings/iscram/study_tiles.geojson#1.9/14.6/8.5)\n",
    "(Must be on the CU network)"
   ]
  },
  {
   "cell_type": "markdown",
   "metadata": {
    "collapsed": true
   },
   "source": [
    "## Create Single JSON record with study tiles and comparable tiles"
   ]
  },
  {
   "cell_type": "code",
   "execution_count": 13,
   "metadata": {
    "collapsed": false
   },
   "outputs": [],
   "source": [
    "output = []\n",
    "for tile in study_tiles: \n",
    "    sim_quads = [x[0] for x in tile['similar_tiles'].quadkey.values]\n",
    "    output.append(\n",
    "        {'name':tile['name'],\n",
    "         'quad':tile['quad'],\n",
    "         'compare_tiles': [{'quad':x} for x in sim_quads]})\n",
    "with open(\"study_tiles_with_compare_tiles.json\",'w') as oFile:\n",
    "    json.dump(output,oFile)"
   ]
  },
  {
   "cell_type": "code",
   "execution_count": 18,
   "metadata": {
    "collapsed": false
   },
   "outputs": [
    {
     "name": "stdout",
     "output_type": "stream",
     "text": [
      "Monrovia, Liberia\n"
     ]
    },
    {
     "data": {
      "text/html": [
       "<div>\n",
       "<table border=\"1\" class=\"dataframe\">\n",
       "  <thead>\n",
       "    <tr style=\"text-align: right;\">\n",
       "      <th></th>\n",
       "      <th>quadkey</th>\n",
       "      <th>named_edited_km</th>\n",
       "      <th>named_new_km</th>\n",
       "      <th>total_edited_km</th>\n",
       "      <th>total_km</th>\n",
       "      <th>total_new_km</th>\n",
       "      <th>unnamed_edited_km</th>\n",
       "      <th>unnamed_new_km</th>\n",
       "      <th>quadkey</th>\n",
       "      <th>total_buildings</th>\n",
       "      <th>...</th>\n",
       "      <th>new_buildings_yes</th>\n",
       "      <th>edited_buildings_more</th>\n",
       "      <th>edited_buildings_yes</th>\n",
       "      <th>quadkey</th>\n",
       "      <th>coordinates</th>\n",
       "      <th>type</th>\n",
       "      <th>named_road_ratio</th>\n",
       "      <th>more_building_ratio</th>\n",
       "      <th>name</th>\n",
       "      <th>geometry</th>\n",
       "    </tr>\n",
       "  </thead>\n",
       "  <tbody>\n",
       "    <tr>\n",
       "      <th>0</th>\n",
       "      <td>033330222101</td>\n",
       "      <td>54.9428</td>\n",
       "      <td>1.09467</td>\n",
       "      <td>127.642</td>\n",
       "      <td>174.068</td>\n",
       "      <td>46.4256</td>\n",
       "      <td>72.6993</td>\n",
       "      <td>45.331</td>\n",
       "      <td>033330222101</td>\n",
       "      <td>19193</td>\n",
       "      <td>...</td>\n",
       "      <td>17610</td>\n",
       "      <td>138</td>\n",
       "      <td>514</td>\n",
       "      <td>033330222101</td>\n",
       "      <td>[[[-10.810546875, 6.227933930268673], [-10.810...</td>\n",
       "      <td>Polygon</td>\n",
       "      <td>0.321929</td>\n",
       "      <td>0.055697</td>\n",
       "      <td>Monrovia, Liberia</td>\n",
       "      <td>POLYGON ((-10.810546875 6.227933930268673, -10...</td>\n",
       "    </tr>\n",
       "  </tbody>\n",
       "</table>\n",
       "<p>1 rows × 23 columns</p>\n",
       "</div>"
      ],
      "text/plain": [
       "        quadkey  named_edited_km  named_new_km  total_edited_km  total_km  \\\n",
       "0  033330222101          54.9428       1.09467          127.642   174.068   \n",
       "\n",
       "   total_new_km  unnamed_edited_km  unnamed_new_km       quadkey  \\\n",
       "0       46.4256            72.6993          45.331  033330222101   \n",
       "\n",
       "   total_buildings                        ...                          \\\n",
       "0            19193                        ...                           \n",
       "\n",
       "   new_buildings_yes  edited_buildings_more  edited_buildings_yes  \\\n",
       "0              17610                    138                   514   \n",
       "\n",
       "        quadkey                                        coordinates     type  \\\n",
       "0  033330222101  [[[-10.810546875, 6.227933930268673], [-10.810...  Polygon   \n",
       "\n",
       "  named_road_ratio more_building_ratio               name  \\\n",
       "0         0.321929            0.055697  Monrovia, Liberia   \n",
       "\n",
       "                                            geometry  \n",
       "0  POLYGON ((-10.810546875 6.227933930268673, -10...  \n",
       "\n",
       "[1 rows x 23 columns]"
      ]
     },
     "execution_count": 18,
     "metadata": {},
     "output_type": "execute_result"
    }
   ],
   "source": [
    "print(study_tiles[4]['name'])\n",
    "study_tiles[4]['characteristics']"
   ]
  },
  {
   "cell_type": "code",
   "execution_count": null,
   "metadata": {
    "collapsed": true
   },
   "outputs": [],
   "source": []
  }
 ],
 "metadata": {
  "kernelspec": {
   "display_name": "IPython (Python 3)",
   "language": "python",
   "name": "python3"
  },
  "language_info": {
   "codemirror_mode": {
    "name": "ipython",
    "version": 3
   },
   "file_extension": ".py",
   "mimetype": "text/x-python",
   "name": "python",
   "nbconvert_exporter": "python",
   "pygments_lexer": "ipython3",
   "version": "3.4.3"
  }
 },
 "nbformat": 4,
 "nbformat_minor": 1
}
