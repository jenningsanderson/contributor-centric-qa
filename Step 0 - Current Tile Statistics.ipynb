{
 "cells": [
  {
   "cell_type": "code",
   "execution_count": 33,
   "metadata": {
    "collapsed": true
   },
   "outputs": [],
   "source": [
    "import psycopg2, psycopg2.extras, psycopg2.pool, pickle, json, matplotlib, os, sys, shapely\n",
    "from multiprocessing import Pool, Manager; from collections import OrderedDict; from shapely.geometry import mapping, shape; from sqlalchemy import create_engine\n",
    "import matplotlib.pyplot as plt; import numpy as np; import pandas as pd; import geopandas as gpd; import seaborn as sns\n",
    "%matplotlib inline"
   ]
  },
  {
   "cell_type": "markdown",
   "metadata": {},
   "source": [
    "# Latest Tile Statistics\n",
    "\n",
    "This notebook queries the `latest-tile-data-v3` database to identify tiles with specific characteristics, such as:\n",
    "- named road km\n",
    "- total road km\n",
    "- total buildings\n",
    "- number of buildings with more than `building=yes`\n",
    "\n",
    "This allows for further _intrinsic quality_ comparison between the histories of tiles that are currently quantitatively similar on the map."
   ]
  },
  {
   "cell_type": "code",
   "execution_count": 34,
   "metadata": {
    "collapsed": false
   },
   "outputs": [],
   "source": [
    "#Create the engine for Pandas to query SQL with\n",
    "engine = create_engine('postgresql://anderstj@127.0.0.1:5432/latest-tile-data-v3')"
   ]
  },
  {
   "cell_type": "code",
   "execution_count": 35,
   "metadata": {
    "collapsed": false
   },
   "outputs": [
    {
     "name": "stdout",
     "output_type": "stream",
     "text": [
      "Found 9 tiles.\n"
     ]
    }
   ],
   "source": [
    "study_tiles = json.loads(open('study_tiles.json','r').read())\n",
    "print(\"Found {0} tiles.\".format(len(study_tiles)))"
   ]
  },
  {
   "cell_type": "code",
   "execution_count": 36,
   "metadata": {
    "collapsed": false
   },
   "outputs": [
    {
     "name": "stdout",
     "output_type": "stream",
     "text": [
      "Port Au Prince, Haiti...Trisuli Bazar, Nepal...Tacloban, Philippines...Kenema, Sierra Leone...Monrovia, Liberia...Kathmandu, Nepal...Heidelberg, Germany...London, UK...Manhattan, NY..."
     ]
    }
   ],
   "source": [
    "# Get study_tile stats\n",
    "def get_tile_df(quadkey):\n",
    "    q_s = \"\"\"SELECT * FROM roads, buildings, geometry WHERE \n",
    "        roads.quadkey = buildings.quadkey AND \n",
    "        geometry.quadkey = roads.quadkey AND \n",
    "        roads.quadkey = '{0}'\"\"\".format(quadkey)\n",
    "    df = pd.read_sql_query(q_s,con=engine)\n",
    "    \n",
    "    df['named_road_ratio'] = (df.named_edited_km + df.named_new_km) / df.total_km\n",
    "    df['more_building_ratio'] = (df.new_buildings_more + df.edited_buildings_more) / df.total_buildings\n",
    "    return df\n",
    "\n",
    "for tile in study_tiles:\n",
    "    print(tile['name'], end=\"...\")\n",
    "    tile['characteristics'] = get_tile_df(tile['quad'])"
   ]
  },
  {
   "cell_type": "code",
   "execution_count": 37,
   "metadata": {
    "collapsed": false
   },
   "outputs": [
    {
     "name": "stdout",
     "output_type": "stream",
     "text": [
      "1\n"
     ]
    },
    {
     "data": {
      "text/html": [
       "<div>\n",
       "<table border=\"1\" class=\"dataframe\">\n",
       "  <thead>\n",
       "    <tr style=\"text-align: right;\">\n",
       "      <th></th>\n",
       "      <th>quadkey</th>\n",
       "      <th>named_edited_km</th>\n",
       "      <th>named_new_km</th>\n",
       "      <th>total_edited_km</th>\n",
       "      <th>total_km</th>\n",
       "      <th>total_new_km</th>\n",
       "      <th>unnamed_edited_km</th>\n",
       "      <th>unnamed_new_km</th>\n",
       "      <th>quadkey</th>\n",
       "      <th>total_buildings</th>\n",
       "      <th>total_new_buildings</th>\n",
       "      <th>total_edited_buildings</th>\n",
       "      <th>new_buildings_more</th>\n",
       "      <th>new_buildings_yes</th>\n",
       "      <th>edited_buildings_more</th>\n",
       "      <th>edited_buildings_yes</th>\n",
       "      <th>quadkey</th>\n",
       "      <th>coordinates</th>\n",
       "      <th>type</th>\n",
       "    </tr>\n",
       "  </thead>\n",
       "  <tbody>\n",
       "    <tr>\n",
       "      <th>0</th>\n",
       "      <td>132303033313</td>\n",
       "      <td>99.9365</td>\n",
       "      <td>3.75274</td>\n",
       "      <td>218.701</td>\n",
       "      <td>319.301</td>\n",
       "      <td>100.6</td>\n",
       "      <td>118.764</td>\n",
       "      <td>96.8474</td>\n",
       "      <td>132303033313</td>\n",
       "      <td>27667</td>\n",
       "      <td>3366</td>\n",
       "      <td>24301</td>\n",
       "      <td>1170</td>\n",
       "      <td>2196</td>\n",
       "      <td>16127</td>\n",
       "      <td>8174</td>\n",
       "      <td>132303033313</td>\n",
       "      <td>[[[120.849609375, 14.093957177836227], [120.84...</td>\n",
       "      <td>Polygon</td>\n",
       "    </tr>\n",
       "  </tbody>\n",
       "</table>\n",
       "</div>"
      ],
      "text/plain": [
       "        quadkey  named_edited_km  named_new_km  total_edited_km  total_km  \\\n",
       "0  132303033313          99.9365       3.75274          218.701   319.301   \n",
       "\n",
       "   total_new_km  unnamed_edited_km  unnamed_new_km       quadkey  \\\n",
       "0         100.6            118.764         96.8474  132303033313   \n",
       "\n",
       "   total_buildings  total_new_buildings  total_edited_buildings  \\\n",
       "0            27667                 3366                   24301   \n",
       "\n",
       "   new_buildings_more  new_buildings_yes  edited_buildings_more  \\\n",
       "0                1170               2196                  16127   \n",
       "\n",
       "   edited_buildings_yes       quadkey  \\\n",
       "0                  8174  132303033313   \n",
       "\n",
       "                                         coordinates     type  \n",
       "0  [[[120.849609375, 14.093957177836227], [120.84...  Polygon  "
      ]
     },
     "execution_count": 37,
     "metadata": {},
     "output_type": "execute_result"
    }
   ],
   "source": [
    "def get_similar_tiles(tile, tolerance=0.01, ratio_tol=0.01):\n",
    "    \"\"\"Given a tile, find similar tiles in the _current database_ within specific thresholds.\"\"\"\n",
    "    df = tile['characteristics']\n",
    "    min_roads = (df.total_km - df.total_km*tolerance).values[0]\n",
    "    max_roads = (df.total_km + df.total_km*tolerance).values[0]\n",
    "    min_buildings = (df.total_buildings - df.total_buildings*tolerance).values[0]\n",
    "    max_buildings = (df.total_buildings + df.total_buildings*tolerance).values[0]\n",
    "    min_roads_ratio = (df.named_road_ratio - df.named_road_ratio*ratio_tol).values[0]\n",
    "    max_roads_ratio = (df.named_road_ratio + df.named_road_ratio*ratio_tol).values[0]    \n",
    "    min_building_ratio = (df.more_building_ratio - df.more_building_ratio*ratio_tol).values[0]\n",
    "    max_building_ratio = (df.more_building_ratio + df.more_building_ratio*ratio_tol).values[0]\n",
    "\n",
    "    query_string = \"\"\"SELECT * FROM roads, buildings, geometry WHERE roads.quadkey = buildings.quadkey AND geometry.quadkey = roads.quadkey AND \n",
    "    roads.total_km > {0} AND roads.total_km < {1} AND roads.quadkey != '{4}' AND \n",
    "    buildings.total_buildings > {2} AND buildings.total_buildings < {3} AND\n",
    "    (roads.named_edited_km + roads.named_new_km)/roads.total_km > {5} AND \n",
    "    (roads.named_edited_km + roads.named_new_km)/roads.total_km < {6} AND\n",
    "    (buildings.edited_buildings_more + buildings.new_buildings_more)::float / buildings.total_buildings::float > {7} AND\n",
    "    (buildings.edited_buildings_more + buildings.new_buildings_more)::float / buildings.total_buildings::float < {8}\n",
    "    \"\"\".format(min_roads, max_roads, min_buildings, max_buildings, df.quadkey.values[0][0], min_roads_ratio, max_roads_ratio, min_building_ratio, max_building_ratio)\n",
    "    return pd.read_sql_query(query_string,con=engine)\n",
    "\n",
    "# Test approach\n",
    "x = get_similar_tiles(study_tiles[2], tolerance = 0.25, ratio_tol=0.25)\n",
    "print(len(x))\n",
    "x.head()"
   ]
  },
  {
   "cell_type": "markdown",
   "metadata": {},
   "source": [
    "## Identify Similar Tiles in the Database\n",
    "\n",
    "For each of the study tiles, how many other tiles exist with similar characteristics: \n",
    " - Number of Buildings\n",
    " - km of roads\n",
    " - % of named roads\n",
    " - % of buildings with more than just `building==yes`"
   ]
  },
  {
   "cell_type": "code",
   "execution_count": 38,
   "metadata": {
    "collapsed": true
   },
   "outputs": [],
   "source": [
    "# study_tiles = [study_tiles[x] for x in [0,1,2,4]]"
   ]
  },
  {
   "cell_type": "code",
   "execution_count": 39,
   "metadata": {
    "collapsed": false
   },
   "outputs": [
    {
     "name": "stdout",
     "output_type": "stream",
     "text": [
      "Port Au Prince, Haiti\n",
      "Similar Tiles: 8\n",
      "\n",
      "        quadkey       quadkey       quadkey\n",
      "0  120213000002  120213000002  120213000002\n",
      "1  120221033031  120221033031  120221033031\n",
      "2  120221122003  120221122003  120221122003\n",
      "3  122101130101  122101130101  122101130101\n",
      "4  033110210131  033110210131  033110210131\n",
      "5  033333010032  033333010032  033333010032\n",
      "6  132232231103  132232231103  132232231103\n",
      "7  021333011030  021333011030  021333011030\n",
      "Trisuli Bazar, Nepal\n",
      "Similar Tiles: 4\n",
      "\n",
      "        quadkey       quadkey       quadkey\n",
      "0  123131220022  123131220022  123131220022\n",
      "1  123131221323  123131221323  123131221323\n",
      "2  123131221321  123131221321  123131221321\n",
      "3  123130333100  123130333100  123130333100\n",
      "Tacloban, Philippines\n",
      "Similar Tiles: 1\n",
      "\n",
      "        quadkey       quadkey       quadkey\n",
      "0  132303033313  132303033313  132303033313\n",
      "Kenema, Sierra Leone\n",
      "Similar Tiles: 0\n",
      "\n",
      "Empty DataFrame\n",
      "Columns: [quadkey, quadkey, quadkey]\n",
      "Index: []\n",
      "Monrovia, Liberia\n",
      "Similar Tiles: 1\n",
      "\n",
      "        quadkey       quadkey       quadkey\n",
      "0  310101233020  310101233020  310101233020\n",
      "Kathmandu, Nepal\n",
      "Similar Tiles: 0\n",
      "\n",
      "Empty DataFrame\n",
      "Columns: [quadkey, quadkey, quadkey]\n",
      "Index: []\n",
      "Heidelberg, Germany\n",
      "Similar Tiles: 37\n",
      "\n",
      "         quadkey       quadkey       quadkey\n",
      "0   120210201003  120210201003  120210201003\n",
      "1   120201330112  120201330112  120201330112\n",
      "2   120201332212  120201332212  120201332212\n",
      "3   120210232331  120210232331  120210232331\n",
      "4   120212011000  120212011000  120212011000\n",
      "5   120203101113  120203101113  120203101113\n",
      "6   120212011010  120212011010  120212011010\n",
      "7   120212011001  120212011001  120212011001\n",
      "8   120203102231  120203102231  120203102231\n",
      "9   120203030300  120203030300  120203030300\n",
      "10  120203021123  120203021123  120203021123\n",
      "11  120203030301  120203030301  120203030301\n",
      "12  120203121213  120203121213  120203121213\n",
      "13  120212021302  120212021302  120212021302\n",
      "14  120203021322  120203021322  120203021322\n",
      "15  120212033031  120212033031  120212033031\n",
      "16  120203133123  120203133123  120203133123\n",
      "17  120203033213  120203033213  120203033213\n",
      "18  120202132303  120202132303  120202132303\n",
      "19  120213212111  120213212111  120213212111\n",
      "20  120203302020  120203302020  120203302020\n",
      "21  120203213123  120203213123  120203213123\n",
      "22  120203302021  120203302021  120203302021\n",
      "23  120213313210  120213313210  120213313210\n",
      "24  120203213303  120203213303  120203213303\n",
      "25  120203320203  120203320203  120203320203\n",
      "26  120203320202  120203320202  120203320202\n",
      "27  120203233333  120203233333  120203233333\n",
      "28  120212223221  120212223221  120212223221\n",
      "29  120221101002  120221101002  120221101002\n",
      "30  120221101023  120221101023  120221101023\n",
      "31  120221101021  120221101021  120221101021\n",
      "32  120230002210  120230002210  120230002210\n",
      "33  120231002213  120231002213  120231002213\n",
      "34  120221013223  120221013223  120221013223\n",
      "35  120233101200  120233101200  120233101200\n",
      "36  120322201221  120322201221  120322201221\n",
      "London, UK\n",
      "Similar Tiles: 17\n",
      "\n",
      "         quadkey       quadkey       quadkey\n",
      "0   120212011000  120212011000  120212011000\n",
      "1   120210232333  120210232333  120210232333\n",
      "2   120203101113  120203101113  120203101113\n",
      "3   120212011001  120212011001  120212011001\n",
      "4   031313131121  031313131121  031313131121\n",
      "5   120203030003  120203030003  120203030003\n",
      "6   120202132303  120202132303  120202132303\n",
      "7   120203213123  120203213123  120203213123\n",
      "8   120320201300  120320201300  120320201300\n",
      "9   120230223013  120230223013  120230223013\n",
      "10  120221333120  120221333120  120221333120\n",
      "11  120233101200  120233101200  120233101200\n",
      "12  120223102121  120223102121  120223102121\n",
      "13  120223131032  120223131032  120223131032\n",
      "14  120322201203  120322201203  120322201203\n",
      "15  122011012222  122011012222  122011012222\n",
      "16  021330310030  021330310030  021330310030\n",
      "Manhattan, NY\n",
      "Similar Tiles: 8\n",
      "\n",
      "        quadkey       quadkey       quadkey\n",
      "0  120220011030  120220011030  120220011030\n",
      "1  031331123312  031331123312  031331123312\n",
      "2  120220330313  120220330313  120220330313\n",
      "3  021212222131  021212222131  021212222131\n",
      "4  030222231030  030222231030  030222231030\n",
      "5  032010033002  032010033002  032010033002\n",
      "6  023010230020  023010230020  023010230020\n",
      "7  032300212020  032300212020  032300212020\n"
     ]
    }
   ],
   "source": [
    "for tile in study_tiles:\n",
    "    print(tile['name'])\n",
    "    sim_tiles = get_similar_tiles(tile, tolerance=0.25, ratio_tol=0.35)\n",
    "    print(\"Similar Tiles: {0}\\n\".format(len(sim_tiles)))\n",
    "    tile['similar_tiles'] = sim_tiles\n",
    "    print(sim_tiles.quadkey)"
   ]
  },
  {
   "cell_type": "code",
   "execution_count": 40,
   "metadata": {
    "collapsed": false
   },
   "outputs": [],
   "source": [
    "def convert_to_gpd(df):\n",
    "    \"\"\" Given a pandas dataframe with a `geometry` column, return a GeoDataFrame\n",
    "        Note: This function creates the geometry from JSON string and then gets the envelope, this ensures proper winding order.\n",
    "    \"\"\"\n",
    "    df['geometry'] = df.coordinates.apply(lambda coords: shape({\"type\":\"Polygon\", \"coordinates\":json.loads(coords)}).exterior.envelope)\n",
    "    \n",
    "    return gpd.GeoDataFrame(df)\n",
    "y = convert_to_gpd(x)"
   ]
  },
  {
   "cell_type": "markdown",
   "metadata": {},
   "source": [
    "### Write GeoJSON feature collections of similar tiles for each study tile"
   ]
  },
  {
   "cell_type": "code",
   "execution_count": 41,
   "metadata": {
    "collapsed": false
   },
   "outputs": [
    {
     "name": "stdout",
     "output_type": "stream",
     "text": [
      "Port Au Prince, Haiti\n",
      "Trisuli Bazar, Nepal\n",
      "Tacloban, Philippines\n",
      "Kenema, Sierra Leone\n",
      "\tError. Length of dataframe: 0\n",
      "Monrovia, Liberia\n",
      "Kathmandu, Nepal\n",
      "\tError. Length of dataframe: 0\n",
      "Heidelberg, Germany\n",
      "London, UK\n",
      "Manhattan, NY\n"
     ]
    }
   ],
   "source": [
    "directory = '/data/www/jennings/iscram/'\n",
    "if not os.path.exists(directory):\n",
    "    os.makedirs(directory)\n",
    "for tile in study_tiles:\n",
    "    print(tile['name'])\n",
    "    tile_gpd = convert_to_gpd(tile['similar_tiles'])\n",
    "    filename = directory+\"/\"+tile['name']+\"_sim_tiles.geojson\"\n",
    "    if os.path.exists(filename):\n",
    "        os.remove(filename)\n",
    "    try:\n",
    "        tile_gpd.to_file(directory+\"/\"+tile['name']+\"_sim_tiles.geojson\", driver=\"GeoJSON\")\n",
    "    except:\n",
    "        print(\"\\tError. Length of dataframe: {0}\".format(len(tile_gpd)))"
   ]
  },
  {
   "cell_type": "markdown",
   "metadata": {},
   "source": [
    "### Create GeoJSON file for all features"
   ]
  },
  {
   "cell_type": "code",
   "execution_count": 42,
   "metadata": {
    "collapsed": false
   },
   "outputs": [],
   "source": [
    "feat_coll = {\"type\":\"FeatureCollection\",\"features\":[]}\n",
    "for tile in study_tiles:\n",
    "    tile['characteristics']['name'] = tile['name']\n",
    "    feat_coll['features'].append( json.loads(convert_to_gpd(tile['characteristics']).to_json())['features'][0] )\n",
    "\n",
    "with open(directory+\"study_tiles.geojson\",'w') as oFile:\n",
    "    json.dump(feat_coll, oFile)"
   ]
  },
  {
   "cell_type": "markdown",
   "metadata": {},
   "source": [
    "### The study tiles can be [visualized here](http://www.townsendjennings.com/geojson-polygons?geojson=http://epic-analytics.cs.colorado.edu:9000/jennings/iscram/study_tiles.geojson#1.9/14.6/8.5)\n",
    "(Must be on the CU network)"
   ]
  },
  {
   "cell_type": "markdown",
   "metadata": {
    "collapsed": true
   },
   "source": [
    "## Create Single JSON record with study tiles and comparable tiles"
   ]
  },
  {
   "cell_type": "code",
   "execution_count": 43,
   "metadata": {
    "collapsed": false
   },
   "outputs": [],
   "source": [
    "output = []\n",
    "for tile in study_tiles: \n",
    "    sim_quads = [x[0] for x in tile['similar_tiles'].quadkey.values]\n",
    "    output.append(\n",
    "        {'name':tile['name'],\n",
    "         'quad':tile['quad'],\n",
    "         'compare_tiles': [{'quad':x} for x in sim_quads]})\n",
    "with open(\"study_tiles_with_compare_tiles.json\",'w') as oFile:\n",
    "    json.dump(output,oFile)"
   ]
  },
  {
   "cell_type": "code",
   "execution_count": 44,
   "metadata": {
    "collapsed": false
   },
   "outputs": [
    {
     "name": "stdout",
     "output_type": "stream",
     "text": [
      "Kenema, Sierra Leone\n"
     ]
    },
    {
     "data": {
      "text/html": [
       "<div>\n",
       "<table border=\"1\" class=\"dataframe\">\n",
       "  <thead>\n",
       "    <tr style=\"text-align: right;\">\n",
       "      <th></th>\n",
       "      <th>quadkey</th>\n",
       "      <th>named_edited_km</th>\n",
       "      <th>named_new_km</th>\n",
       "      <th>total_edited_km</th>\n",
       "      <th>total_km</th>\n",
       "      <th>total_new_km</th>\n",
       "      <th>unnamed_edited_km</th>\n",
       "      <th>unnamed_new_km</th>\n",
       "      <th>quadkey</th>\n",
       "      <th>total_buildings</th>\n",
       "      <th>...</th>\n",
       "      <th>new_buildings_yes</th>\n",
       "      <th>edited_buildings_more</th>\n",
       "      <th>edited_buildings_yes</th>\n",
       "      <th>quadkey</th>\n",
       "      <th>coordinates</th>\n",
       "      <th>type</th>\n",
       "      <th>named_road_ratio</th>\n",
       "      <th>more_building_ratio</th>\n",
       "      <th>name</th>\n",
       "      <th>geometry</th>\n",
       "    </tr>\n",
       "  </thead>\n",
       "  <tbody>\n",
       "    <tr>\n",
       "      <th>0</th>\n",
       "      <td>033330200220</td>\n",
       "      <td>51.8717</td>\n",
       "      <td>4.15538</td>\n",
       "      <td>184.462</td>\n",
       "      <td>322.26</td>\n",
       "      <td>137.798</td>\n",
       "      <td>132.59</td>\n",
       "      <td>133.643</td>\n",
       "      <td>033330200220</td>\n",
       "      <td>16469</td>\n",
       "      <td>...</td>\n",
       "      <td>15758</td>\n",
       "      <td>32</td>\n",
       "      <td>171</td>\n",
       "      <td>033330200220</td>\n",
       "      <td>[[[-11.25, 7.7980785313553085], [-11.25, 7.885...</td>\n",
       "      <td>Polygon</td>\n",
       "      <td>0.173857</td>\n",
       "      <td>0.032789</td>\n",
       "      <td>Kenema, Sierra Leone</td>\n",
       "      <td>POLYGON ((-11.25 7.798078531355308, -11.162109...</td>\n",
       "    </tr>\n",
       "  </tbody>\n",
       "</table>\n",
       "<p>1 rows × 23 columns</p>\n",
       "</div>"
      ],
      "text/plain": [
       "        quadkey  named_edited_km  named_new_km  total_edited_km  total_km  \\\n",
       "0  033330200220          51.8717       4.15538          184.462    322.26   \n",
       "\n",
       "   total_new_km  unnamed_edited_km  unnamed_new_km       quadkey  \\\n",
       "0       137.798             132.59         133.643  033330200220   \n",
       "\n",
       "   total_buildings                        ...                          \\\n",
       "0            16469                        ...                           \n",
       "\n",
       "   new_buildings_yes  edited_buildings_more  edited_buildings_yes  \\\n",
       "0              15758                     32                   171   \n",
       "\n",
       "        quadkey                                        coordinates     type  \\\n",
       "0  033330200220  [[[-11.25, 7.7980785313553085], [-11.25, 7.885...  Polygon   \n",
       "\n",
       "  named_road_ratio more_building_ratio                  name  \\\n",
       "0         0.173857            0.032789  Kenema, Sierra Leone   \n",
       "\n",
       "                                            geometry  \n",
       "0  POLYGON ((-11.25 7.798078531355308, -11.162109...  \n",
       "\n",
       "[1 rows x 23 columns]"
      ]
     },
     "execution_count": 44,
     "metadata": {},
     "output_type": "execute_result"
    }
   ],
   "source": [
    "print(study_tiles[3]['name'])\n",
    "study_tiles[3]['characteristics']"
   ]
  },
  {
   "cell_type": "code",
   "execution_count": 64,
   "metadata": {
    "collapsed": false,
    "scrolled": false
   },
   "outputs": [
    {
     "data": {
      "text/plain": [
       "'Port Au Prince, Haiti'"
      ]
     },
     "metadata": {},
     "output_type": "display_data"
    },
    {
     "data": {
      "text/html": [
       "<div>\n",
       "<table border=\"1\" class=\"dataframe\">\n",
       "  <thead>\n",
       "    <tr style=\"text-align: right;\">\n",
       "      <th></th>\n",
       "      <th>quadkey</th>\n",
       "      <th>named_edited_km</th>\n",
       "      <th>named_new_km</th>\n",
       "      <th>total_edited_km</th>\n",
       "      <th>total_km</th>\n",
       "      <th>total_new_km</th>\n",
       "      <th>unnamed_edited_km</th>\n",
       "      <th>unnamed_new_km</th>\n",
       "      <th>quadkey</th>\n",
       "      <th>total_buildings</th>\n",
       "      <th>...</th>\n",
       "      <th>coordinates</th>\n",
       "      <th>type</th>\n",
       "      <th>named_road_ratio</th>\n",
       "      <th>more_building_ratio</th>\n",
       "      <th>name</th>\n",
       "      <th>geometry</th>\n",
       "      <th>total_more_buildings</th>\n",
       "      <th>more_buildings_percent</th>\n",
       "      <th>total_named_km</th>\n",
       "      <th>named_km_percent</th>\n",
       "    </tr>\n",
       "  </thead>\n",
       "  <tbody>\n",
       "    <tr>\n",
       "      <th>0</th>\n",
       "      <td>032211203001</td>\n",
       "      <td>532.033</td>\n",
       "      <td>11.403</td>\n",
       "      <td>844.578</td>\n",
       "      <td>1006.15</td>\n",
       "      <td>161.576</td>\n",
       "      <td>312.546</td>\n",
       "      <td>150.173</td>\n",
       "      <td>032211203001</td>\n",
       "      <td>12141</td>\n",
       "      <td>...</td>\n",
       "      <td>[[[-72.333984375, 18.562947442888305], [-72.33...</td>\n",
       "      <td>Polygon</td>\n",
       "      <td>0.540114</td>\n",
       "      <td>0.068693</td>\n",
       "      <td>Port Au Prince, Haiti</td>\n",
       "      <td>POLYGON ((-72.333984375 18.56294744288831, -72...</td>\n",
       "      <td>834</td>\n",
       "      <td>6.869286</td>\n",
       "      <td>543.436</td>\n",
       "      <td>54.01143</td>\n",
       "    </tr>\n",
       "  </tbody>\n",
       "</table>\n",
       "<p>1 rows × 27 columns</p>\n",
       "</div>"
      ],
      "text/plain": [
       "        quadkey  named_edited_km  named_new_km  total_edited_km  total_km  \\\n",
       "0  032211203001          532.033        11.403          844.578   1006.15   \n",
       "\n",
       "   total_new_km  unnamed_edited_km  unnamed_new_km       quadkey  \\\n",
       "0       161.576            312.546         150.173  032211203001   \n",
       "\n",
       "   total_buildings        ...         \\\n",
       "0            12141        ...          \n",
       "\n",
       "                                         coordinates     type  \\\n",
       "0  [[[-72.333984375, 18.562947442888305], [-72.33...  Polygon   \n",
       "\n",
       "   named_road_ratio  more_building_ratio                   name  \\\n",
       "0          0.540114             0.068693  Port Au Prince, Haiti   \n",
       "\n",
       "                                            geometry total_more_buildings  \\\n",
       "0  POLYGON ((-72.333984375 18.56294744288831, -72...                  834   \n",
       "\n",
       "  more_buildings_percent total_named_km  named_km_percent  \n",
       "0               6.869286        543.436          54.01143  \n",
       "\n",
       "[1 rows x 27 columns]"
      ]
     },
     "metadata": {},
     "output_type": "display_data"
    },
    {
     "data": {
      "text/html": [
       "<div>\n",
       "<table border=\"1\" class=\"dataframe\">\n",
       "  <thead>\n",
       "    <tr style=\"text-align: right;\">\n",
       "      <th></th>\n",
       "      <th>total_buildings</th>\n",
       "      <th>more_buildings_percent</th>\n",
       "      <th>total_km</th>\n",
       "      <th>named_km_percent</th>\n",
       "    </tr>\n",
       "  </thead>\n",
       "  <tbody>\n",
       "    <tr>\n",
       "      <th>0</th>\n",
       "      <td>12141</td>\n",
       "      <td>6.869286</td>\n",
       "      <td>1006.15</td>\n",
       "      <td>54.01143</td>\n",
       "    </tr>\n",
       "  </tbody>\n",
       "</table>\n",
       "</div>"
      ],
      "text/plain": [
       "   total_buildings  more_buildings_percent  total_km  named_km_percent\n",
       "0            12141                6.869286   1006.15          54.01143"
      ]
     },
     "metadata": {},
     "output_type": "display_data"
    },
    {
     "data": {
      "text/plain": [
       "'Trisuli Bazar, Nepal'"
      ]
     },
     "metadata": {},
     "output_type": "display_data"
    },
    {
     "data": {
      "text/html": [
       "<div>\n",
       "<table border=\"1\" class=\"dataframe\">\n",
       "  <thead>\n",
       "    <tr style=\"text-align: right;\">\n",
       "      <th></th>\n",
       "      <th>quadkey</th>\n",
       "      <th>named_edited_km</th>\n",
       "      <th>named_new_km</th>\n",
       "      <th>total_edited_km</th>\n",
       "      <th>total_km</th>\n",
       "      <th>total_new_km</th>\n",
       "      <th>unnamed_edited_km</th>\n",
       "      <th>unnamed_new_km</th>\n",
       "      <th>quadkey</th>\n",
       "      <th>total_buildings</th>\n",
       "      <th>...</th>\n",
       "      <th>coordinates</th>\n",
       "      <th>type</th>\n",
       "      <th>named_road_ratio</th>\n",
       "      <th>more_building_ratio</th>\n",
       "      <th>name</th>\n",
       "      <th>geometry</th>\n",
       "      <th>total_more_buildings</th>\n",
       "      <th>more_buildings_percent</th>\n",
       "      <th>total_named_km</th>\n",
       "      <th>named_km_percent</th>\n",
       "    </tr>\n",
       "  </thead>\n",
       "  <tbody>\n",
       "    <tr>\n",
       "      <th>0</th>\n",
       "      <td>123131221200</td>\n",
       "      <td>10.1151</td>\n",
       "      <td>0.318314</td>\n",
       "      <td>242.562</td>\n",
       "      <td>324.699</td>\n",
       "      <td>82.1367</td>\n",
       "      <td>232.447</td>\n",
       "      <td>81.8184</td>\n",
       "      <td>123131221200</td>\n",
       "      <td>7596</td>\n",
       "      <td>...</td>\n",
       "      <td>[[[85.078125, 27.91676664124907], [85.078125, ...</td>\n",
       "      <td>Polygon</td>\n",
       "      <td>0.032133</td>\n",
       "      <td>0.16456</td>\n",
       "      <td>Trisuli Bazar, Nepal</td>\n",
       "      <td>POLYGON ((85.078125 27.91676664124907, 85.1660...</td>\n",
       "      <td>1250</td>\n",
       "      <td>16.456029</td>\n",
       "      <td>10.433414</td>\n",
       "      <td>3.213257</td>\n",
       "    </tr>\n",
       "  </tbody>\n",
       "</table>\n",
       "<p>1 rows × 27 columns</p>\n",
       "</div>"
      ],
      "text/plain": [
       "        quadkey  named_edited_km  named_new_km  total_edited_km  total_km  \\\n",
       "0  123131221200          10.1151      0.318314          242.562   324.699   \n",
       "\n",
       "   total_new_km  unnamed_edited_km  unnamed_new_km       quadkey  \\\n",
       "0       82.1367            232.447         81.8184  123131221200   \n",
       "\n",
       "   total_buildings        ...         \\\n",
       "0             7596        ...          \n",
       "\n",
       "                                         coordinates     type  \\\n",
       "0  [[[85.078125, 27.91676664124907], [85.078125, ...  Polygon   \n",
       "\n",
       "   named_road_ratio  more_building_ratio                  name  \\\n",
       "0          0.032133              0.16456  Trisuli Bazar, Nepal   \n",
       "\n",
       "                                            geometry total_more_buildings  \\\n",
       "0  POLYGON ((85.078125 27.91676664124907, 85.1660...                 1250   \n",
       "\n",
       "  more_buildings_percent total_named_km  named_km_percent  \n",
       "0              16.456029      10.433414          3.213257  \n",
       "\n",
       "[1 rows x 27 columns]"
      ]
     },
     "metadata": {},
     "output_type": "display_data"
    },
    {
     "data": {
      "text/html": [
       "<div>\n",
       "<table border=\"1\" class=\"dataframe\">\n",
       "  <thead>\n",
       "    <tr style=\"text-align: right;\">\n",
       "      <th></th>\n",
       "      <th>total_buildings</th>\n",
       "      <th>more_buildings_percent</th>\n",
       "      <th>total_km</th>\n",
       "      <th>named_km_percent</th>\n",
       "    </tr>\n",
       "  </thead>\n",
       "  <tbody>\n",
       "    <tr>\n",
       "      <th>0</th>\n",
       "      <td>7596</td>\n",
       "      <td>16.456029</td>\n",
       "      <td>324.699</td>\n",
       "      <td>3.213257</td>\n",
       "    </tr>\n",
       "  </tbody>\n",
       "</table>\n",
       "</div>"
      ],
      "text/plain": [
       "   total_buildings  more_buildings_percent  total_km  named_km_percent\n",
       "0             7596               16.456029   324.699          3.213257"
      ]
     },
     "metadata": {},
     "output_type": "display_data"
    },
    {
     "data": {
      "text/plain": [
       "'Tacloban, Philippines'"
      ]
     },
     "metadata": {},
     "output_type": "display_data"
    },
    {
     "data": {
      "text/html": [
       "<div>\n",
       "<table border=\"1\" class=\"dataframe\">\n",
       "  <thead>\n",
       "    <tr style=\"text-align: right;\">\n",
       "      <th></th>\n",
       "      <th>quadkey</th>\n",
       "      <th>named_edited_km</th>\n",
       "      <th>named_new_km</th>\n",
       "      <th>total_edited_km</th>\n",
       "      <th>total_km</th>\n",
       "      <th>total_new_km</th>\n",
       "      <th>unnamed_edited_km</th>\n",
       "      <th>unnamed_new_km</th>\n",
       "      <th>quadkey</th>\n",
       "      <th>total_buildings</th>\n",
       "      <th>...</th>\n",
       "      <th>coordinates</th>\n",
       "      <th>type</th>\n",
       "      <th>named_road_ratio</th>\n",
       "      <th>more_building_ratio</th>\n",
       "      <th>name</th>\n",
       "      <th>geometry</th>\n",
       "      <th>total_more_buildings</th>\n",
       "      <th>more_buildings_percent</th>\n",
       "      <th>total_named_km</th>\n",
       "      <th>named_km_percent</th>\n",
       "    </tr>\n",
       "  </thead>\n",
       "  <tbody>\n",
       "    <tr>\n",
       "      <th>0</th>\n",
       "      <td>132312223332</td>\n",
       "      <td>84.9569</td>\n",
       "      <td>6.22306</td>\n",
       "      <td>199.199</td>\n",
       "      <td>257.339</td>\n",
       "      <td>58.1398</td>\n",
       "      <td>114.242</td>\n",
       "      <td>51.9167</td>\n",
       "      <td>132312223332</td>\n",
       "      <td>29573</td>\n",
       "      <td>...</td>\n",
       "      <td>[[[124.98046875, 11.178401873711792], [124.980...</td>\n",
       "      <td>Polygon</td>\n",
       "      <td>0.354318</td>\n",
       "      <td>0.710682</td>\n",
       "      <td>Tacloban, Philippines</td>\n",
       "      <td>POLYGON ((124.98046875 11.17840187371179, 125....</td>\n",
       "      <td>21017</td>\n",
       "      <td>71.068204</td>\n",
       "      <td>91.17996</td>\n",
       "      <td>35.431847</td>\n",
       "    </tr>\n",
       "  </tbody>\n",
       "</table>\n",
       "<p>1 rows × 27 columns</p>\n",
       "</div>"
      ],
      "text/plain": [
       "        quadkey  named_edited_km  named_new_km  total_edited_km  total_km  \\\n",
       "0  132312223332          84.9569       6.22306          199.199   257.339   \n",
       "\n",
       "   total_new_km  unnamed_edited_km  unnamed_new_km       quadkey  \\\n",
       "0       58.1398            114.242         51.9167  132312223332   \n",
       "\n",
       "   total_buildings        ...         \\\n",
       "0            29573        ...          \n",
       "\n",
       "                                         coordinates     type  \\\n",
       "0  [[[124.98046875, 11.178401873711792], [124.980...  Polygon   \n",
       "\n",
       "   named_road_ratio  more_building_ratio                   name  \\\n",
       "0          0.354318             0.710682  Tacloban, Philippines   \n",
       "\n",
       "                                            geometry total_more_buildings  \\\n",
       "0  POLYGON ((124.98046875 11.17840187371179, 125....                21017   \n",
       "\n",
       "  more_buildings_percent total_named_km  named_km_percent  \n",
       "0              71.068204       91.17996         35.431847  \n",
       "\n",
       "[1 rows x 27 columns]"
      ]
     },
     "metadata": {},
     "output_type": "display_data"
    },
    {
     "data": {
      "text/html": [
       "<div>\n",
       "<table border=\"1\" class=\"dataframe\">\n",
       "  <thead>\n",
       "    <tr style=\"text-align: right;\">\n",
       "      <th></th>\n",
       "      <th>total_buildings</th>\n",
       "      <th>more_buildings_percent</th>\n",
       "      <th>total_km</th>\n",
       "      <th>named_km_percent</th>\n",
       "    </tr>\n",
       "  </thead>\n",
       "  <tbody>\n",
       "    <tr>\n",
       "      <th>0</th>\n",
       "      <td>29573</td>\n",
       "      <td>71.068204</td>\n",
       "      <td>257.339</td>\n",
       "      <td>35.431847</td>\n",
       "    </tr>\n",
       "  </tbody>\n",
       "</table>\n",
       "</div>"
      ],
      "text/plain": [
       "   total_buildings  more_buildings_percent  total_km  named_km_percent\n",
       "0            29573               71.068204   257.339         35.431847"
      ]
     },
     "metadata": {},
     "output_type": "display_data"
    },
    {
     "data": {
      "text/plain": [
       "'Kenema, Sierra Leone'"
      ]
     },
     "metadata": {},
     "output_type": "display_data"
    },
    {
     "data": {
      "text/html": [
       "<div>\n",
       "<table border=\"1\" class=\"dataframe\">\n",
       "  <thead>\n",
       "    <tr style=\"text-align: right;\">\n",
       "      <th></th>\n",
       "      <th>quadkey</th>\n",
       "      <th>named_edited_km</th>\n",
       "      <th>named_new_km</th>\n",
       "      <th>total_edited_km</th>\n",
       "      <th>total_km</th>\n",
       "      <th>total_new_km</th>\n",
       "      <th>unnamed_edited_km</th>\n",
       "      <th>unnamed_new_km</th>\n",
       "      <th>quadkey</th>\n",
       "      <th>total_buildings</th>\n",
       "      <th>...</th>\n",
       "      <th>coordinates</th>\n",
       "      <th>type</th>\n",
       "      <th>named_road_ratio</th>\n",
       "      <th>more_building_ratio</th>\n",
       "      <th>name</th>\n",
       "      <th>geometry</th>\n",
       "      <th>total_more_buildings</th>\n",
       "      <th>more_buildings_percent</th>\n",
       "      <th>total_named_km</th>\n",
       "      <th>named_km_percent</th>\n",
       "    </tr>\n",
       "  </thead>\n",
       "  <tbody>\n",
       "    <tr>\n",
       "      <th>0</th>\n",
       "      <td>033330200220</td>\n",
       "      <td>51.8717</td>\n",
       "      <td>4.15538</td>\n",
       "      <td>184.462</td>\n",
       "      <td>322.26</td>\n",
       "      <td>137.798</td>\n",
       "      <td>132.59</td>\n",
       "      <td>133.643</td>\n",
       "      <td>033330200220</td>\n",
       "      <td>16469</td>\n",
       "      <td>...</td>\n",
       "      <td>[[[-11.25, 7.7980785313553085], [-11.25, 7.885...</td>\n",
       "      <td>Polygon</td>\n",
       "      <td>0.173857</td>\n",
       "      <td>0.032789</td>\n",
       "      <td>Kenema, Sierra Leone</td>\n",
       "      <td>POLYGON ((-11.25 7.798078531355308, -11.162109...</td>\n",
       "      <td>540</td>\n",
       "      <td>3.278888</td>\n",
       "      <td>56.02708</td>\n",
       "      <td>17.385676</td>\n",
       "    </tr>\n",
       "  </tbody>\n",
       "</table>\n",
       "<p>1 rows × 27 columns</p>\n",
       "</div>"
      ],
      "text/plain": [
       "        quadkey  named_edited_km  named_new_km  total_edited_km  total_km  \\\n",
       "0  033330200220          51.8717       4.15538          184.462    322.26   \n",
       "\n",
       "   total_new_km  unnamed_edited_km  unnamed_new_km       quadkey  \\\n",
       "0       137.798             132.59         133.643  033330200220   \n",
       "\n",
       "   total_buildings        ...         \\\n",
       "0            16469        ...          \n",
       "\n",
       "                                         coordinates     type  \\\n",
       "0  [[[-11.25, 7.7980785313553085], [-11.25, 7.885...  Polygon   \n",
       "\n",
       "   named_road_ratio  more_building_ratio                  name  \\\n",
       "0          0.173857             0.032789  Kenema, Sierra Leone   \n",
       "\n",
       "                                            geometry total_more_buildings  \\\n",
       "0  POLYGON ((-11.25 7.798078531355308, -11.162109...                  540   \n",
       "\n",
       "  more_buildings_percent total_named_km  named_km_percent  \n",
       "0               3.278888       56.02708         17.385676  \n",
       "\n",
       "[1 rows x 27 columns]"
      ]
     },
     "metadata": {},
     "output_type": "display_data"
    },
    {
     "data": {
      "text/html": [
       "<div>\n",
       "<table border=\"1\" class=\"dataframe\">\n",
       "  <thead>\n",
       "    <tr style=\"text-align: right;\">\n",
       "      <th></th>\n",
       "      <th>total_buildings</th>\n",
       "      <th>more_buildings_percent</th>\n",
       "      <th>total_km</th>\n",
       "      <th>named_km_percent</th>\n",
       "    </tr>\n",
       "  </thead>\n",
       "  <tbody>\n",
       "    <tr>\n",
       "      <th>0</th>\n",
       "      <td>16469</td>\n",
       "      <td>3.278888</td>\n",
       "      <td>322.26</td>\n",
       "      <td>17.385676</td>\n",
       "    </tr>\n",
       "  </tbody>\n",
       "</table>\n",
       "</div>"
      ],
      "text/plain": [
       "   total_buildings  more_buildings_percent  total_km  named_km_percent\n",
       "0            16469                3.278888    322.26         17.385676"
      ]
     },
     "metadata": {},
     "output_type": "display_data"
    },
    {
     "data": {
      "text/plain": [
       "'Monrovia, Liberia'"
      ]
     },
     "metadata": {},
     "output_type": "display_data"
    },
    {
     "data": {
      "text/html": [
       "<div>\n",
       "<table border=\"1\" class=\"dataframe\">\n",
       "  <thead>\n",
       "    <tr style=\"text-align: right;\">\n",
       "      <th></th>\n",
       "      <th>quadkey</th>\n",
       "      <th>named_edited_km</th>\n",
       "      <th>named_new_km</th>\n",
       "      <th>total_edited_km</th>\n",
       "      <th>total_km</th>\n",
       "      <th>total_new_km</th>\n",
       "      <th>unnamed_edited_km</th>\n",
       "      <th>unnamed_new_km</th>\n",
       "      <th>quadkey</th>\n",
       "      <th>total_buildings</th>\n",
       "      <th>...</th>\n",
       "      <th>coordinates</th>\n",
       "      <th>type</th>\n",
       "      <th>named_road_ratio</th>\n",
       "      <th>more_building_ratio</th>\n",
       "      <th>name</th>\n",
       "      <th>geometry</th>\n",
       "      <th>total_more_buildings</th>\n",
       "      <th>more_buildings_percent</th>\n",
       "      <th>total_named_km</th>\n",
       "      <th>named_km_percent</th>\n",
       "    </tr>\n",
       "  </thead>\n",
       "  <tbody>\n",
       "    <tr>\n",
       "      <th>0</th>\n",
       "      <td>033330222101</td>\n",
       "      <td>54.9428</td>\n",
       "      <td>1.09467</td>\n",
       "      <td>127.642</td>\n",
       "      <td>174.068</td>\n",
       "      <td>46.4256</td>\n",
       "      <td>72.6993</td>\n",
       "      <td>45.331</td>\n",
       "      <td>033330222101</td>\n",
       "      <td>19193</td>\n",
       "      <td>...</td>\n",
       "      <td>[[[-10.810546875, 6.227933930268673], [-10.810...</td>\n",
       "      <td>Polygon</td>\n",
       "      <td>0.321929</td>\n",
       "      <td>0.055697</td>\n",
       "      <td>Monrovia, Liberia</td>\n",
       "      <td>POLYGON ((-10.810546875 6.227933930268673, -10...</td>\n",
       "      <td>1069</td>\n",
       "      <td>5.569739</td>\n",
       "      <td>56.03747</td>\n",
       "      <td>32.192861</td>\n",
       "    </tr>\n",
       "  </tbody>\n",
       "</table>\n",
       "<p>1 rows × 27 columns</p>\n",
       "</div>"
      ],
      "text/plain": [
       "        quadkey  named_edited_km  named_new_km  total_edited_km  total_km  \\\n",
       "0  033330222101          54.9428       1.09467          127.642   174.068   \n",
       "\n",
       "   total_new_km  unnamed_edited_km  unnamed_new_km       quadkey  \\\n",
       "0       46.4256            72.6993          45.331  033330222101   \n",
       "\n",
       "   total_buildings        ...         \\\n",
       "0            19193        ...          \n",
       "\n",
       "                                         coordinates     type  \\\n",
       "0  [[[-10.810546875, 6.227933930268673], [-10.810...  Polygon   \n",
       "\n",
       "   named_road_ratio  more_building_ratio               name  \\\n",
       "0          0.321929             0.055697  Monrovia, Liberia   \n",
       "\n",
       "                                            geometry total_more_buildings  \\\n",
       "0  POLYGON ((-10.810546875 6.227933930268673, -10...                 1069   \n",
       "\n",
       "  more_buildings_percent total_named_km  named_km_percent  \n",
       "0               5.569739       56.03747         32.192861  \n",
       "\n",
       "[1 rows x 27 columns]"
      ]
     },
     "metadata": {},
     "output_type": "display_data"
    },
    {
     "data": {
      "text/html": [
       "<div>\n",
       "<table border=\"1\" class=\"dataframe\">\n",
       "  <thead>\n",
       "    <tr style=\"text-align: right;\">\n",
       "      <th></th>\n",
       "      <th>total_buildings</th>\n",
       "      <th>more_buildings_percent</th>\n",
       "      <th>total_km</th>\n",
       "      <th>named_km_percent</th>\n",
       "    </tr>\n",
       "  </thead>\n",
       "  <tbody>\n",
       "    <tr>\n",
       "      <th>0</th>\n",
       "      <td>19193</td>\n",
       "      <td>5.569739</td>\n",
       "      <td>174.068</td>\n",
       "      <td>32.192861</td>\n",
       "    </tr>\n",
       "  </tbody>\n",
       "</table>\n",
       "</div>"
      ],
      "text/plain": [
       "   total_buildings  more_buildings_percent  total_km  named_km_percent\n",
       "0            19193                5.569739   174.068         32.192861"
      ]
     },
     "metadata": {},
     "output_type": "display_data"
    },
    {
     "data": {
      "text/plain": [
       "'Kathmandu, Nepal'"
      ]
     },
     "metadata": {},
     "output_type": "display_data"
    },
    {
     "data": {
      "text/html": [
       "<div>\n",
       "<table border=\"1\" class=\"dataframe\">\n",
       "  <thead>\n",
       "    <tr style=\"text-align: right;\">\n",
       "      <th></th>\n",
       "      <th>quadkey</th>\n",
       "      <th>named_edited_km</th>\n",
       "      <th>named_new_km</th>\n",
       "      <th>total_edited_km</th>\n",
       "      <th>total_km</th>\n",
       "      <th>total_new_km</th>\n",
       "      <th>unnamed_edited_km</th>\n",
       "      <th>unnamed_new_km</th>\n",
       "      <th>quadkey</th>\n",
       "      <th>total_buildings</th>\n",
       "      <th>...</th>\n",
       "      <th>coordinates</th>\n",
       "      <th>type</th>\n",
       "      <th>named_road_ratio</th>\n",
       "      <th>more_building_ratio</th>\n",
       "      <th>name</th>\n",
       "      <th>geometry</th>\n",
       "      <th>total_more_buildings</th>\n",
       "      <th>more_buildings_percent</th>\n",
       "      <th>total_named_km</th>\n",
       "      <th>named_km_percent</th>\n",
       "    </tr>\n",
       "  </thead>\n",
       "  <tbody>\n",
       "    <tr>\n",
       "      <th>0</th>\n",
       "      <td>123131221232</td>\n",
       "      <td>343.699</td>\n",
       "      <td>36.842</td>\n",
       "      <td>784.772</td>\n",
       "      <td>1038.24</td>\n",
       "      <td>253.467</td>\n",
       "      <td>441.072</td>\n",
       "      <td>216.625</td>\n",
       "      <td>123131221232</td>\n",
       "      <td>84873</td>\n",
       "      <td>...</td>\n",
       "      <td>[[[85.25390625, 27.683528083787767], [85.25390...</td>\n",
       "      <td>Polygon</td>\n",
       "      <td>0.366525</td>\n",
       "      <td>0.066605</td>\n",
       "      <td>Kathmandu, Nepal</td>\n",
       "      <td>POLYGON ((85.25390625 27.68352808378777, 85.34...</td>\n",
       "      <td>5653</td>\n",
       "      <td>6.66054</td>\n",
       "      <td>380.541</td>\n",
       "      <td>36.652508</td>\n",
       "    </tr>\n",
       "  </tbody>\n",
       "</table>\n",
       "<p>1 rows × 27 columns</p>\n",
       "</div>"
      ],
      "text/plain": [
       "        quadkey  named_edited_km  named_new_km  total_edited_km  total_km  \\\n",
       "0  123131221232          343.699        36.842          784.772   1038.24   \n",
       "\n",
       "   total_new_km  unnamed_edited_km  unnamed_new_km       quadkey  \\\n",
       "0       253.467            441.072         216.625  123131221232   \n",
       "\n",
       "   total_buildings        ...         \\\n",
       "0            84873        ...          \n",
       "\n",
       "                                         coordinates     type  \\\n",
       "0  [[[85.25390625, 27.683528083787767], [85.25390...  Polygon   \n",
       "\n",
       "   named_road_ratio  more_building_ratio              name  \\\n",
       "0          0.366525             0.066605  Kathmandu, Nepal   \n",
       "\n",
       "                                            geometry total_more_buildings  \\\n",
       "0  POLYGON ((85.25390625 27.68352808378777, 85.34...                 5653   \n",
       "\n",
       "  more_buildings_percent total_named_km  named_km_percent  \n",
       "0                6.66054        380.541         36.652508  \n",
       "\n",
       "[1 rows x 27 columns]"
      ]
     },
     "metadata": {},
     "output_type": "display_data"
    },
    {
     "data": {
      "text/html": [
       "<div>\n",
       "<table border=\"1\" class=\"dataframe\">\n",
       "  <thead>\n",
       "    <tr style=\"text-align: right;\">\n",
       "      <th></th>\n",
       "      <th>total_buildings</th>\n",
       "      <th>more_buildings_percent</th>\n",
       "      <th>total_km</th>\n",
       "      <th>named_km_percent</th>\n",
       "    </tr>\n",
       "  </thead>\n",
       "  <tbody>\n",
       "    <tr>\n",
       "      <th>0</th>\n",
       "      <td>84873</td>\n",
       "      <td>6.66054</td>\n",
       "      <td>1038.24</td>\n",
       "      <td>36.652508</td>\n",
       "    </tr>\n",
       "  </tbody>\n",
       "</table>\n",
       "</div>"
      ],
      "text/plain": [
       "   total_buildings  more_buildings_percent  total_km  named_km_percent\n",
       "0            84873                 6.66054   1038.24         36.652508"
      ]
     },
     "metadata": {},
     "output_type": "display_data"
    },
    {
     "data": {
      "text/plain": [
       "'Heidelberg, Germany'"
      ]
     },
     "metadata": {},
     "output_type": "display_data"
    },
    {
     "data": {
      "text/html": [
       "<div>\n",
       "<table border=\"1\" class=\"dataframe\">\n",
       "  <thead>\n",
       "    <tr style=\"text-align: right;\">\n",
       "      <th></th>\n",
       "      <th>quadkey</th>\n",
       "      <th>named_edited_km</th>\n",
       "      <th>named_new_km</th>\n",
       "      <th>total_edited_km</th>\n",
       "      <th>total_km</th>\n",
       "      <th>total_new_km</th>\n",
       "      <th>unnamed_edited_km</th>\n",
       "      <th>unnamed_new_km</th>\n",
       "      <th>quadkey</th>\n",
       "      <th>total_buildings</th>\n",
       "      <th>...</th>\n",
       "      <th>coordinates</th>\n",
       "      <th>type</th>\n",
       "      <th>named_road_ratio</th>\n",
       "      <th>more_building_ratio</th>\n",
       "      <th>name</th>\n",
       "      <th>geometry</th>\n",
       "      <th>total_more_buildings</th>\n",
       "      <th>more_buildings_percent</th>\n",
       "      <th>total_named_km</th>\n",
       "      <th>named_km_percent</th>\n",
       "    </tr>\n",
       "  </thead>\n",
       "  <tbody>\n",
       "    <tr>\n",
       "      <th>0</th>\n",
       "      <td>120203320232</td>\n",
       "      <td>299.818</td>\n",
       "      <td>35.5168</td>\n",
       "      <td>647.057</td>\n",
       "      <td>818.667</td>\n",
       "      <td>171.609</td>\n",
       "      <td>347.24</td>\n",
       "      <td>136.093</td>\n",
       "      <td>120203320232</td>\n",
       "      <td>17772</td>\n",
       "      <td>...</td>\n",
       "      <td>[[[8.61328125, 49.38237278700956], [8.61328125...</td>\n",
       "      <td>Polygon</td>\n",
       "      <td>0.409611</td>\n",
       "      <td>0.291582</td>\n",
       "      <td>Heidelberg, Germany</td>\n",
       "      <td>POLYGON ((8.61328125 49.38237278700956, 8.7011...</td>\n",
       "      <td>5182</td>\n",
       "      <td>29.158226</td>\n",
       "      <td>335.3348</td>\n",
       "      <td>40.961075</td>\n",
       "    </tr>\n",
       "  </tbody>\n",
       "</table>\n",
       "<p>1 rows × 27 columns</p>\n",
       "</div>"
      ],
      "text/plain": [
       "        quadkey  named_edited_km  named_new_km  total_edited_km  total_km  \\\n",
       "0  120203320232          299.818       35.5168          647.057   818.667   \n",
       "\n",
       "   total_new_km  unnamed_edited_km  unnamed_new_km       quadkey  \\\n",
       "0       171.609             347.24         136.093  120203320232   \n",
       "\n",
       "   total_buildings        ...         \\\n",
       "0            17772        ...          \n",
       "\n",
       "                                         coordinates     type  \\\n",
       "0  [[[8.61328125, 49.38237278700956], [8.61328125...  Polygon   \n",
       "\n",
       "   named_road_ratio  more_building_ratio                 name  \\\n",
       "0          0.409611             0.291582  Heidelberg, Germany   \n",
       "\n",
       "                                            geometry total_more_buildings  \\\n",
       "0  POLYGON ((8.61328125 49.38237278700956, 8.7011...                 5182   \n",
       "\n",
       "  more_buildings_percent total_named_km  named_km_percent  \n",
       "0              29.158226       335.3348         40.961075  \n",
       "\n",
       "[1 rows x 27 columns]"
      ]
     },
     "metadata": {},
     "output_type": "display_data"
    },
    {
     "data": {
      "text/html": [
       "<div>\n",
       "<table border=\"1\" class=\"dataframe\">\n",
       "  <thead>\n",
       "    <tr style=\"text-align: right;\">\n",
       "      <th></th>\n",
       "      <th>total_buildings</th>\n",
       "      <th>more_buildings_percent</th>\n",
       "      <th>total_km</th>\n",
       "      <th>named_km_percent</th>\n",
       "    </tr>\n",
       "  </thead>\n",
       "  <tbody>\n",
       "    <tr>\n",
       "      <th>0</th>\n",
       "      <td>17772</td>\n",
       "      <td>29.158226</td>\n",
       "      <td>818.667</td>\n",
       "      <td>40.961075</td>\n",
       "    </tr>\n",
       "  </tbody>\n",
       "</table>\n",
       "</div>"
      ],
      "text/plain": [
       "   total_buildings  more_buildings_percent  total_km  named_km_percent\n",
       "0            17772               29.158226   818.667         40.961075"
      ]
     },
     "metadata": {},
     "output_type": "display_data"
    },
    {
     "data": {
      "text/plain": [
       "'London, UK'"
      ]
     },
     "metadata": {},
     "output_type": "display_data"
    },
    {
     "data": {
      "text/html": [
       "<div>\n",
       "<table border=\"1\" class=\"dataframe\">\n",
       "  <thead>\n",
       "    <tr style=\"text-align: right;\">\n",
       "      <th></th>\n",
       "      <th>quadkey</th>\n",
       "      <th>named_edited_km</th>\n",
       "      <th>named_new_km</th>\n",
       "      <th>total_edited_km</th>\n",
       "      <th>total_km</th>\n",
       "      <th>total_new_km</th>\n",
       "      <th>unnamed_edited_km</th>\n",
       "      <th>unnamed_new_km</th>\n",
       "      <th>quadkey</th>\n",
       "      <th>total_buildings</th>\n",
       "      <th>...</th>\n",
       "      <th>coordinates</th>\n",
       "      <th>type</th>\n",
       "      <th>named_road_ratio</th>\n",
       "      <th>more_building_ratio</th>\n",
       "      <th>name</th>\n",
       "      <th>geometry</th>\n",
       "      <th>total_more_buildings</th>\n",
       "      <th>more_buildings_percent</th>\n",
       "      <th>total_named_km</th>\n",
       "      <th>named_km_percent</th>\n",
       "    </tr>\n",
       "  </thead>\n",
       "  <tbody>\n",
       "    <tr>\n",
       "      <th>0</th>\n",
       "      <td>031313131103</td>\n",
       "      <td>490.036</td>\n",
       "      <td>46.8263</td>\n",
       "      <td>616.1</td>\n",
       "      <td>766.442</td>\n",
       "      <td>150.341</td>\n",
       "      <td>126.065</td>\n",
       "      <td>103.515</td>\n",
       "      <td>031313131103</td>\n",
       "      <td>18234</td>\n",
       "      <td>...</td>\n",
       "      <td>[[[-0.263671875, 51.50874245880334], [-0.26367...</td>\n",
       "      <td>Polygon</td>\n",
       "      <td>0.70046</td>\n",
       "      <td>0.361797</td>\n",
       "      <td>London, UK</td>\n",
       "      <td>POLYGON ((-0.263671875 51.50874245880334, -0.1...</td>\n",
       "      <td>6597</td>\n",
       "      <td>36.179664</td>\n",
       "      <td>536.8623</td>\n",
       "      <td>70.046044</td>\n",
       "    </tr>\n",
       "  </tbody>\n",
       "</table>\n",
       "<p>1 rows × 27 columns</p>\n",
       "</div>"
      ],
      "text/plain": [
       "        quadkey  named_edited_km  named_new_km  total_edited_km  total_km  \\\n",
       "0  031313131103          490.036       46.8263            616.1   766.442   \n",
       "\n",
       "   total_new_km  unnamed_edited_km  unnamed_new_km       quadkey  \\\n",
       "0       150.341            126.065         103.515  031313131103   \n",
       "\n",
       "   total_buildings        ...         \\\n",
       "0            18234        ...          \n",
       "\n",
       "                                         coordinates     type  \\\n",
       "0  [[[-0.263671875, 51.50874245880334], [-0.26367...  Polygon   \n",
       "\n",
       "   named_road_ratio  more_building_ratio        name  \\\n",
       "0           0.70046             0.361797  London, UK   \n",
       "\n",
       "                                            geometry total_more_buildings  \\\n",
       "0  POLYGON ((-0.263671875 51.50874245880334, -0.1...                 6597   \n",
       "\n",
       "  more_buildings_percent total_named_km  named_km_percent  \n",
       "0              36.179664       536.8623         70.046044  \n",
       "\n",
       "[1 rows x 27 columns]"
      ]
     },
     "metadata": {},
     "output_type": "display_data"
    },
    {
     "data": {
      "text/html": [
       "<div>\n",
       "<table border=\"1\" class=\"dataframe\">\n",
       "  <thead>\n",
       "    <tr style=\"text-align: right;\">\n",
       "      <th></th>\n",
       "      <th>total_buildings</th>\n",
       "      <th>more_buildings_percent</th>\n",
       "      <th>total_km</th>\n",
       "      <th>named_km_percent</th>\n",
       "    </tr>\n",
       "  </thead>\n",
       "  <tbody>\n",
       "    <tr>\n",
       "      <th>0</th>\n",
       "      <td>18234</td>\n",
       "      <td>36.179664</td>\n",
       "      <td>766.442</td>\n",
       "      <td>70.046044</td>\n",
       "    </tr>\n",
       "  </tbody>\n",
       "</table>\n",
       "</div>"
      ],
      "text/plain": [
       "   total_buildings  more_buildings_percent  total_km  named_km_percent\n",
       "0            18234               36.179664   766.442         70.046044"
      ]
     },
     "metadata": {},
     "output_type": "display_data"
    },
    {
     "data": {
      "text/plain": [
       "'Manhattan, NY'"
      ]
     },
     "metadata": {},
     "output_type": "display_data"
    },
    {
     "data": {
      "text/html": [
       "<div>\n",
       "<table border=\"1\" class=\"dataframe\">\n",
       "  <thead>\n",
       "    <tr style=\"text-align: right;\">\n",
       "      <th></th>\n",
       "      <th>quadkey</th>\n",
       "      <th>named_edited_km</th>\n",
       "      <th>named_new_km</th>\n",
       "      <th>total_edited_km</th>\n",
       "      <th>total_km</th>\n",
       "      <th>total_new_km</th>\n",
       "      <th>unnamed_edited_km</th>\n",
       "      <th>unnamed_new_km</th>\n",
       "      <th>quadkey</th>\n",
       "      <th>total_buildings</th>\n",
       "      <th>...</th>\n",
       "      <th>coordinates</th>\n",
       "      <th>type</th>\n",
       "      <th>named_road_ratio</th>\n",
       "      <th>more_building_ratio</th>\n",
       "      <th>name</th>\n",
       "      <th>geometry</th>\n",
       "      <th>total_more_buildings</th>\n",
       "      <th>more_buildings_percent</th>\n",
       "      <th>total_named_km</th>\n",
       "      <th>named_km_percent</th>\n",
       "    </tr>\n",
       "  </thead>\n",
       "  <tbody>\n",
       "    <tr>\n",
       "      <th>0</th>\n",
       "      <td>032010110132</td>\n",
       "      <td>740.823</td>\n",
       "      <td>129.041</td>\n",
       "      <td>865.668</td>\n",
       "      <td>1098.95</td>\n",
       "      <td>233.285</td>\n",
       "      <td>124.845</td>\n",
       "      <td>104.244</td>\n",
       "      <td>032010110132</td>\n",
       "      <td>50080</td>\n",
       "      <td>...</td>\n",
       "      <td>[[[-74.00390625, 40.71395582628604], [-74.0039...</td>\n",
       "      <td>Polygon</td>\n",
       "      <td>0.791541</td>\n",
       "      <td>0.028654</td>\n",
       "      <td>Manhattan, NY</td>\n",
       "      <td>POLYGON ((-74.00390625 40.71395582628604, -73....</td>\n",
       "      <td>1435</td>\n",
       "      <td>2.865415</td>\n",
       "      <td>869.864</td>\n",
       "      <td>79.154102</td>\n",
       "    </tr>\n",
       "  </tbody>\n",
       "</table>\n",
       "<p>1 rows × 27 columns</p>\n",
       "</div>"
      ],
      "text/plain": [
       "        quadkey  named_edited_km  named_new_km  total_edited_km  total_km  \\\n",
       "0  032010110132          740.823       129.041          865.668   1098.95   \n",
       "\n",
       "   total_new_km  unnamed_edited_km  unnamed_new_km       quadkey  \\\n",
       "0       233.285            124.845         104.244  032010110132   \n",
       "\n",
       "   total_buildings        ...         \\\n",
       "0            50080        ...          \n",
       "\n",
       "                                         coordinates     type  \\\n",
       "0  [[[-74.00390625, 40.71395582628604], [-74.0039...  Polygon   \n",
       "\n",
       "   named_road_ratio  more_building_ratio           name  \\\n",
       "0          0.791541             0.028654  Manhattan, NY   \n",
       "\n",
       "                                            geometry total_more_buildings  \\\n",
       "0  POLYGON ((-74.00390625 40.71395582628604, -73....                 1435   \n",
       "\n",
       "  more_buildings_percent total_named_km  named_km_percent  \n",
       "0               2.865415        869.864         79.154102  \n",
       "\n",
       "[1 rows x 27 columns]"
      ]
     },
     "metadata": {},
     "output_type": "display_data"
    },
    {
     "data": {
      "text/html": [
       "<div>\n",
       "<table border=\"1\" class=\"dataframe\">\n",
       "  <thead>\n",
       "    <tr style=\"text-align: right;\">\n",
       "      <th></th>\n",
       "      <th>total_buildings</th>\n",
       "      <th>more_buildings_percent</th>\n",
       "      <th>total_km</th>\n",
       "      <th>named_km_percent</th>\n",
       "    </tr>\n",
       "  </thead>\n",
       "  <tbody>\n",
       "    <tr>\n",
       "      <th>0</th>\n",
       "      <td>50080</td>\n",
       "      <td>2.865415</td>\n",
       "      <td>1098.95</td>\n",
       "      <td>79.154102</td>\n",
       "    </tr>\n",
       "  </tbody>\n",
       "</table>\n",
       "</div>"
      ],
      "text/plain": [
       "   total_buildings  more_buildings_percent  total_km  named_km_percent\n",
       "0            50080                2.865415   1098.95         79.154102"
      ]
     },
     "metadata": {},
     "output_type": "display_data"
    }
   ],
   "source": [
    "from IPython import display\n",
    "for x in study_tiles: \n",
    "    display.display((x['name']))\n",
    "    df = x['characteristics']\n",
    "\n",
    "    df['total_more_buildings']   = df.edited_buildings_more+df.new_buildings_more\n",
    "    df['more_buildings_percent'] = df.total_more_buildings / df.total_buildings * 100\n",
    "\n",
    "    df['total_named_km']   = df.named_edited_km+df.named_new_km\n",
    "    df['named_km_percent'] = df.total_named_km / df.total_km * 100\n",
    "\n",
    "    display.display(df)    \n",
    "    display.display(df[['total_buildings','more_buildings_percent','total_km','named_km_percent']])"
   ]
  },
  {
   "cell_type": "code",
   "execution_count": null,
   "metadata": {
    "collapsed": true
   },
   "outputs": [],
   "source": []
  }
 ],
 "metadata": {
  "kernelspec": {
   "display_name": "IPython (Python 3)",
   "language": "python",
   "name": "python3"
  },
  "language_info": {
   "codemirror_mode": {
    "name": "ipython",
    "version": 3
   },
   "file_extension": ".py",
   "mimetype": "text/x-python",
   "name": "python",
   "nbconvert_exporter": "python",
   "pygments_lexer": "ipython3",
   "version": "3.4.3"
  }
 },
 "nbformat": 4,
 "nbformat_minor": 1
}
