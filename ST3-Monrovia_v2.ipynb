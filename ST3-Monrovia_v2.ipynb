{
 "cells": [
  {
   "cell_type": "code",
   "execution_count": 30,
   "metadata": {
    "collapsed": false
   },
   "outputs": [],
   "source": [
    "import matplotlib.pyplot as plt; import numpy as np; import pandas as pd\n",
    "from IPython import display\n",
    "from scipy import stats\n",
    "import seaborn as sns\n",
    "from ContributorCentricFunctions import *\n",
    "%matplotlib inline\n",
    "from scipy import stats"
   ]
  },
  {
   "cell_type": "code",
   "execution_count": 31,
   "metadata": {
    "collapsed": false,
    "scrolled": true
   },
   "outputs": [
    {
     "data": {
      "text/plain": [
       "[2005, 2006, 2007, 2008, 2009, 2010, 2011, 2012, 2013, 2014, 2015, 2016]"
      ]
     },
     "execution_count": 31,
     "metadata": {},
     "output_type": "execute_result"
    }
   ],
   "source": [
    "years = [2005+i for i in range(12)]\n",
    "years"
   ]
  },
  {
   "cell_type": "code",
   "execution_count": 32,
   "metadata": {
    "collapsed": false
   },
   "outputs": [
    {
     "name": "stdout",
     "output_type": "stream",
     "text": [
      "Found 7 tiles.\n"
     ]
    }
   ],
   "source": [
    "study_tiles = json.loads(open('study_tiles_with_compare_tiles.json','r').read())\n",
    "print(\"Found {0} tiles.\".format(len(study_tiles)))"
   ]
  },
  {
   "cell_type": "markdown",
   "metadata": {},
   "source": [
    "# Study Tiles: Load data for a specific study tile"
   ]
  },
  {
   "cell_type": "code",
   "execution_count": 33,
   "metadata": {
    "collapsed": false
   },
   "outputs": [
    {
     "name": "stdout",
     "output_type": "stream",
     "text": [
      "0 Port Au Prince, Haiti\n",
      "1 Tacloban, Philippines\n",
      "2 Monrovia, Liberia\n",
      "3 Trisuli Bazar, Nepal\n",
      "4 Heidelberg, Germany\n",
      "5 London, UK\n",
      "6 Manhattan, NY\n"
     ]
    }
   ],
   "source": [
    "for idx, tile in enumerate(study_tiles):\n",
    "    print(idx, tile['name'])"
   ]
  },
  {
   "cell_type": "markdown",
   "metadata": {},
   "source": [
    "## 1. Get the `user_list` by setting the `study_tile_idx` to the appropriate study tile"
   ]
  },
  {
   "cell_type": "code",
   "execution_count": 34,
   "metadata": {
    "collapsed": true
   },
   "outputs": [],
   "source": [
    "study_tile_idx = 2"
   ]
  },
  {
   "cell_type": "code",
   "execution_count": 38,
   "metadata": {
    "collapsed": false
   },
   "outputs": [
    {
     "name": "stderr",
     "output_type": "stream",
     "text": [
      "Exception during reset or similar\n",
      "Traceback (most recent call last):\n",
      "  File \"/usr/local/lib/python3.4/dist-packages/sqlalchemy/pool.py\", line 636, in _finalize_fairy\n",
      "    fairy._reset(pool)\n",
      "  File \"/usr/local/lib/python3.4/dist-packages/sqlalchemy/pool.py\", line 776, in _reset\n",
      "    pool._dialect.do_rollback(self)\n",
      "  File \"/usr/local/lib/python3.4/dist-packages/sqlalchemy/engine/default.py\", line 420, in do_rollback\n",
      "    dbapi_connection.rollback()\n",
      "psycopg2.OperationalError: SSL error: decryption failed or bad record mac\n",
      "\n",
      "Exception during reset or similar\n",
      "Traceback (most recent call last):\n",
      "  File \"/usr/local/lib/python3.4/dist-packages/sqlalchemy/pool.py\", line 636, in _finalize_fairy\n",
      "    fairy._reset(pool)\n",
      "  File \"/usr/local/lib/python3.4/dist-packages/sqlalchemy/pool.py\", line 776, in _reset\n",
      "    pool._dialect.do_rollback(self)\n",
      "  File \"/usr/local/lib/python3.4/dist-packages/sqlalchemy/engine/default.py\", line 420, in do_rollback\n",
      "    dbapi_connection.rollback()\n",
      "psycopg2.OperationalError: SSL error: decryption failed or bad record mac\n",
      "\n",
      "Exception during reset or similar\n",
      "Traceback (most recent call last):\n",
      "  File \"/usr/local/lib/python3.4/dist-packages/sqlalchemy/pool.py\", line 636, in _finalize_fairy\n",
      "    fairy._reset(pool)\n",
      "  File \"/usr/local/lib/python3.4/dist-packages/sqlalchemy/pool.py\", line 776, in _reset\n",
      "    pool._dialect.do_rollback(self)\n",
      "  File \"/usr/local/lib/python3.4/dist-packages/sqlalchemy/engine/default.py\", line 420, in do_rollback\n",
      "    dbapi_connection.rollback()\n",
      "psycopg2.OperationalError: SSL error: decryption failed or bad record mac\n",
      "\n",
      "Exception during reset or similar\n",
      "Traceback (most recent call last):\n",
      "  File \"/usr/local/lib/python3.4/dist-packages/sqlalchemy/pool.py\", line 636, in _finalize_fairy\n",
      "    fairy._reset(pool)\n",
      "  File \"/usr/local/lib/python3.4/dist-packages/sqlalchemy/pool.py\", line 776, in _reset\n",
      "    pool._dialect.do_rollback(self)\n",
      "  File \"/usr/local/lib/python3.4/dist-packages/sqlalchemy/engine/default.py\", line 420, in do_rollback\n",
      "    dbapi_connection.rollback()\n",
      "psycopg2.OperationalError: SSL error: decryption failed or bad record mac\n",
      "\n",
      "Exception during reset or similar\n",
      "Traceback (most recent call last):\n",
      "  File \"/usr/local/lib/python3.4/dist-packages/sqlalchemy/pool.py\", line 636, in _finalize_fairy\n",
      "    fairy._reset(pool)\n",
      "  File \"/usr/local/lib/python3.4/dist-packages/sqlalchemy/pool.py\", line 776, in _reset\n",
      "    pool._dialect.do_rollback(self)\n",
      "  File \"/usr/local/lib/python3.4/dist-packages/sqlalchemy/engine/default.py\", line 420, in do_rollback\n",
      "    dbapi_connection.rollback()\n",
      "psycopg2.OperationalError: SSL error: decryption failed or bad record mac\n",
      "\n",
      "Exception during reset or similar\n",
      "Traceback (most recent call last):\n",
      "  File \"/usr/local/lib/python3.4/dist-packages/sqlalchemy/pool.py\", line 636, in _finalize_fairy\n",
      "    fairy._reset(pool)\n",
      "  File \"/usr/local/lib/python3.4/dist-packages/sqlalchemy/pool.py\", line 776, in _reset\n",
      "    pool._dialect.do_rollback(self)\n",
      "  File \"/usr/local/lib/python3.4/dist-packages/sqlalchemy/engine/default.py\", line 420, in do_rollback\n",
      "    dbapi_connection.rollback()\n",
      "psycopg2.OperationalError: SSL error: decryption failed or bad record mac\n",
      "\n",
      "Exception during reset or similar\n",
      "Traceback (most recent call last):\n",
      "  File \"/usr/local/lib/python3.4/dist-packages/sqlalchemy/pool.py\", line 636, in _finalize_fairy\n",
      "    fairy._reset(pool)\n",
      "  File \"/usr/local/lib/python3.4/dist-packages/sqlalchemy/pool.py\", line 776, in _reset\n",
      "    pool._dialect.do_rollback(self)\n",
      "  File \"/usr/local/lib/python3.4/dist-packages/sqlalchemy/engine/default.py\", line 420, in do_rollback\n",
      "    dbapi_connection.rollback()\n",
      "psycopg2.OperationalError: SSL error: decryption failed or bad record mac\n",
      "\n",
      "Exception during reset or similar\n",
      "Traceback (most recent call last):\n",
      "  File \"/usr/local/lib/python3.4/dist-packages/sqlalchemy/pool.py\", line 636, in _finalize_fairy\n",
      "    fairy._reset(pool)\n",
      "  File \"/usr/local/lib/python3.4/dist-packages/sqlalchemy/pool.py\", line 776, in _reset\n",
      "    pool._dialect.do_rollback(self)\n",
      "  File \"/usr/local/lib/python3.4/dist-packages/sqlalchemy/engine/default.py\", line 420, in do_rollback\n",
      "    dbapi_connection.rollback()\n",
      "psycopg2.OperationalError: SSL error: decryption failed or bad record mac\n",
      "\n",
      "Exception during reset or similar\n",
      "Traceback (most recent call last):\n",
      "  File \"/usr/local/lib/python3.4/dist-packages/sqlalchemy/pool.py\", line 636, in _finalize_fairy\n",
      "    fairy._reset(pool)\n",
      "  File \"/usr/local/lib/python3.4/dist-packages/sqlalchemy/pool.py\", line 776, in _reset\n",
      "    pool._dialect.do_rollback(self)\n",
      "  File \"/usr/local/lib/python3.4/dist-packages/sqlalchemy/engine/default.py\", line 420, in do_rollback\n",
      "    dbapi_connection.rollback()\n",
      "psycopg2.OperationalError: SSL error: decryption failed or bad record mac\n",
      "\n",
      "Exception during reset or similar\n",
      "Traceback (most recent call last):\n",
      "  File \"/usr/local/lib/python3.4/dist-packages/sqlalchemy/pool.py\", line 636, in _finalize_fairy\n",
      "    fairy._reset(pool)\n",
      "  File \"/usr/local/lib/python3.4/dist-packages/sqlalchemy/pool.py\", line 776, in _reset\n",
      "    pool._dialect.do_rollback(self)\n",
      "  File \"/usr/local/lib/python3.4/dist-packages/sqlalchemy/engine/default.py\", line 420, in do_rollback\n",
      "    dbapi_connection.rollback()\n",
      "psycopg2.OperationalError: SSL error: decryption failed or bad record mac\n",
      "\n",
      "Exception during reset or similar\n",
      "Traceback (most recent call last):\n",
      "  File \"/usr/local/lib/python3.4/dist-packages/sqlalchemy/pool.py\", line 636, in _finalize_fairy\n",
      "    fairy._reset(pool)\n",
      "  File \"/usr/local/lib/python3.4/dist-packages/sqlalchemy/pool.py\", line 776, in _reset\n",
      "    pool._dialect.do_rollback(self)\n",
      "  File \"/usr/local/lib/python3.4/dist-packages/sqlalchemy/engine/default.py\", line 420, in do_rollback\n",
      "    dbapi_connection.rollback()\n",
      "psycopg2.OperationalError: SSL error: decryption failed or bad record mac\n",
      "\n",
      "Exception during reset or similar\n",
      "Traceback (most recent call last):\n",
      "  File \"/usr/local/lib/python3.4/dist-packages/sqlalchemy/pool.py\", line 636, in _finalize_fairy\n",
      "    fairy._reset(pool)\n",
      "  File \"/usr/local/lib/python3.4/dist-packages/sqlalchemy/pool.py\", line 776, in _reset\n",
      "    pool._dialect.do_rollback(self)\n",
      "  File \"/usr/local/lib/python3.4/dist-packages/sqlalchemy/engine/default.py\", line 420, in do_rollback\n",
      "    dbapi_connection.rollback()\n",
      "psycopg2.OperationalError: SSL error: decryption failed or bad record mac\n",
      "\n"
     ]
    },
    {
     "name": "stdout",
     "output_type": "stream",
     "text": [
      "2005 . 2006 . 2007 . 2008 . 2009 . 2010 . 2011 . 2012 . 2013 . 2014 . 2015 . 2016 . "
     ]
    }
   ],
   "source": [
    "reset() #Safety for the db connections\n",
    "study_tiles[study_tile_idx]['user_list'] = get_all_users_who_edited_tile(study_tiles[study_tile_idx])"
   ]
  },
  {
   "cell_type": "code",
   "execution_count": 39,
   "metadata": {
    "collapsed": false
   },
   "outputs": [
    {
     "name": "stdout",
     "output_type": "stream",
     "text": [
      "Found: 201 users\n"
     ]
    }
   ],
   "source": [
    "print(\"Found: {0} users\".format(len(study_tiles[study_tile_idx]['user_list'])))"
   ]
  },
  {
   "cell_type": "markdown",
   "metadata": {},
   "source": [
    "## 2. Build the User Distributions\n",
    "If this doesn't run, run the cell 2 above again)"
   ]
  },
  {
   "cell_type": "code",
   "execution_count": 40,
   "metadata": {
    "collapsed": false
   },
   "outputs": [
    {
     "name": "stderr",
     "output_type": "stream",
     "text": [
      " 788/ ~ 965"
     ]
    },
    {
     "data": {
      "text/html": [
       "<div>\n",
       "<table border=\"1\" class=\"dataframe\">\n",
       "  <thead>\n",
       "    <tr style=\"text-align: right;\">\n",
       "      <th></th>\n",
       "      <th>quadkey</th>\n",
       "      <th>year</th>\n",
       "      <th>uid</th>\n",
       "      <th>buildings</th>\n",
       "      <th>road_km</th>\n",
       "      <th>amenities</th>\n",
       "      <th>edits</th>\n",
       "      <th>num_days</th>\n",
       "      <th>user_stats_uid</th>\n",
       "      <th>user_name</th>\n",
       "      <th>total_year</th>\n",
       "      <th>total_buildings</th>\n",
       "      <th>total_road_km</th>\n",
       "      <th>total_amenities</th>\n",
       "      <th>total_edits</th>\n",
       "      <th>total_active_days</th>\n",
       "    </tr>\n",
       "  </thead>\n",
       "  <tbody>\n",
       "    <tr>\n",
       "      <th>0</th>\n",
       "      <td>031311303031</td>\n",
       "      <td>2007</td>\n",
       "      <td>1611</td>\n",
       "      <td>0</td>\n",
       "      <td>0.0</td>\n",
       "      <td>1</td>\n",
       "      <td>29</td>\n",
       "      <td>1</td>\n",
       "      <td>1611</td>\n",
       "      <td>Harry Wood</td>\n",
       "      <td>2007</td>\n",
       "      <td>12</td>\n",
       "      <td>188.38</td>\n",
       "      <td>275</td>\n",
       "      <td>7583</td>\n",
       "      <td>97</td>\n",
       "    </tr>\n",
       "    <tr>\n",
       "      <th>1</th>\n",
       "      <td>031311303030</td>\n",
       "      <td>2007</td>\n",
       "      <td>1611</td>\n",
       "      <td>0</td>\n",
       "      <td>0.0</td>\n",
       "      <td>0</td>\n",
       "      <td>1</td>\n",
       "      <td>1</td>\n",
       "      <td>1611</td>\n",
       "      <td>Harry Wood</td>\n",
       "      <td>2007</td>\n",
       "      <td>12</td>\n",
       "      <td>188.38</td>\n",
       "      <td>275</td>\n",
       "      <td>7583</td>\n",
       "      <td>97</td>\n",
       "    </tr>\n",
       "  </tbody>\n",
       "</table>\n",
       "</div>"
      ],
      "text/plain": [
       "        quadkey  year   uid  buildings  road_km  amenities  edits  num_days  \\\n",
       "0  031311303031  2007  1611          0      0.0          1     29         1   \n",
       "1  031311303030  2007  1611          0      0.0          0      1         1   \n",
       "\n",
       "   user_stats_uid   user_name  total_year  total_buildings  total_road_km  \\\n",
       "0            1611  Harry Wood        2007               12         188.38   \n",
       "1            1611  Harry Wood        2007               12         188.38   \n",
       "\n",
       "   total_amenities  total_edits  total_active_days  \n",
       "0              275         7583                 97  \n",
       "1              275         7583                 97  "
      ]
     },
     "metadata": {},
     "output_type": "display_data"
    }
   ],
   "source": [
    "study_tiles[study_tile_idx]['users'] = build_user_distributions(study_tiles[study_tile_idx]['user_list'])\n",
    "display.display(study_tiles[study_tile_idx]['users'][study_tiles[study_tile_idx]['user_list'][0]]['df'].head(2))"
   ]
  },
  {
   "cell_type": "markdown",
   "metadata": {
    "collapsed": true
   },
   "source": [
    "## 3. Get tile focus for each user"
   ]
  },
  {
   "cell_type": "code",
   "execution_count": 41,
   "metadata": {
    "collapsed": false
   },
   "outputs": [
    {
     "name": "stderr",
     "output_type": "stream",
     "text": [
      " 201/201"
     ]
    },
    {
     "data": {
      "text/html": [
       "<div>\n",
       "<table border=\"1\" class=\"dataframe\">\n",
       "  <thead>\n",
       "    <tr style=\"text-align: right;\">\n",
       "      <th></th>\n",
       "      <th>edits</th>\n",
       "      <th>road_km</th>\n",
       "      <th>num_days</th>\n",
       "      <th>buildings</th>\n",
       "      <th>amenities</th>\n",
       "      <th>percent_user_road_km</th>\n",
       "      <th>percent_user_buildings</th>\n",
       "      <th>percent_user_amenities</th>\n",
       "      <th>percent_user_edits</th>\n",
       "    </tr>\n",
       "    <tr>\n",
       "      <th>quadkey</th>\n",
       "      <th></th>\n",
       "      <th></th>\n",
       "      <th></th>\n",
       "      <th></th>\n",
       "      <th></th>\n",
       "      <th></th>\n",
       "      <th></th>\n",
       "      <th></th>\n",
       "      <th></th>\n",
       "    </tr>\n",
       "  </thead>\n",
       "  <tbody>\n",
       "    <tr>\n",
       "      <th>002321010132</th>\n",
       "      <td>2</td>\n",
       "      <td>0.0</td>\n",
       "      <td>1</td>\n",
       "      <td>0</td>\n",
       "      <td>0</td>\n",
       "      <td>0.0</td>\n",
       "      <td>0.0</td>\n",
       "      <td>0.0</td>\n",
       "      <td>0.00350</td>\n",
       "    </tr>\n",
       "    <tr>\n",
       "      <th>002321010133</th>\n",
       "      <td>1</td>\n",
       "      <td>0.0</td>\n",
       "      <td>1</td>\n",
       "      <td>0</td>\n",
       "      <td>0</td>\n",
       "      <td>0.0</td>\n",
       "      <td>0.0</td>\n",
       "      <td>0.0</td>\n",
       "      <td>0.00175</td>\n",
       "    </tr>\n",
       "  </tbody>\n",
       "</table>\n",
       "</div>"
      ],
      "text/plain": [
       "              edits  road_km  num_days  buildings  amenities  \\\n",
       "quadkey                                                        \n",
       "002321010132      2      0.0         1          0          0   \n",
       "002321010133      1      0.0         1          0          0   \n",
       "\n",
       "              percent_user_road_km  percent_user_buildings  \\\n",
       "quadkey                                                      \n",
       "002321010132                   0.0                     0.0   \n",
       "002321010133                   0.0                     0.0   \n",
       "\n",
       "              percent_user_amenities  percent_user_edits  \n",
       "quadkey                                                   \n",
       "002321010132                     0.0             0.00350  \n",
       "002321010133                     0.0             0.00175  "
      ]
     },
     "metadata": {},
     "output_type": "display_data"
    },
    {
     "data": {
      "text/html": [
       "<div>\n",
       "<table border=\"1\" class=\"dataframe\">\n",
       "  <thead>\n",
       "    <tr style=\"text-align: right;\">\n",
       "      <th></th>\n",
       "      <th>uid</th>\n",
       "      <th>user_name</th>\n",
       "      <th>year</th>\n",
       "      <th>total_buildings</th>\n",
       "      <th>total_road_km</th>\n",
       "      <th>total_amenities</th>\n",
       "      <th>total_edits</th>\n",
       "      <th>total_active_days</th>\n",
       "    </tr>\n",
       "  </thead>\n",
       "  <tbody>\n",
       "    <tr>\n",
       "      <th>0</th>\n",
       "      <td>1611</td>\n",
       "      <td>Harry Wood</td>\n",
       "      <td>2007</td>\n",
       "      <td>12</td>\n",
       "      <td>188.380</td>\n",
       "      <td>275</td>\n",
       "      <td>7583</td>\n",
       "      <td>97</td>\n",
       "    </tr>\n",
       "    <tr>\n",
       "      <th>1</th>\n",
       "      <td>1611</td>\n",
       "      <td>Harry Wood</td>\n",
       "      <td>2008</td>\n",
       "      <td>55</td>\n",
       "      <td>519.104</td>\n",
       "      <td>646</td>\n",
       "      <td>7239</td>\n",
       "      <td>118</td>\n",
       "    </tr>\n",
       "  </tbody>\n",
       "</table>\n",
       "</div>"
      ],
      "text/plain": [
       "    uid   user_name  year  total_buildings  total_road_km  total_amenities  \\\n",
       "0  1611  Harry Wood  2007               12        188.380              275   \n",
       "1  1611  Harry Wood  2008               55        519.104              646   \n",
       "\n",
       "   total_edits  total_active_days  \n",
       "0         7583                 97  \n",
       "1         7239                118  "
      ]
     },
     "metadata": {},
     "output_type": "display_data"
    }
   ],
   "source": [
    "process_dictionary_of_users(study_tiles[study_tile_idx]['users'])\n",
    "display.display(study_tiles[study_tile_idx]['users'][study_tiles[study_tile_idx]['user_list'][0]]['tiles'].head(2))\n",
    "display.display(study_tiles[study_tile_idx]['users'][study_tiles[study_tile_idx]['user_list'][0]]['annual'].head(2))"
   ]
  },
  {
   "cell_type": "markdown",
   "metadata": {},
   "source": [
    "## 3.5 Get Study Tile Focus"
   ]
  },
  {
   "cell_type": "code",
   "execution_count": 42,
   "metadata": {
    "collapsed": false
   },
   "outputs": [
    {
     "name": "stderr",
     "output_type": "stream",
     "text": [
      " 198/201"
     ]
    },
    {
     "data": {
      "text/html": [
       "<div>\n",
       "<table border=\"1\" class=\"dataframe\">\n",
       "  <thead>\n",
       "    <tr style=\"text-align: right;\">\n",
       "      <th></th>\n",
       "      <th>quadkey</th>\n",
       "      <th>year</th>\n",
       "      <th>uid</th>\n",
       "      <th>buildings</th>\n",
       "      <th>road_km</th>\n",
       "      <th>amenities</th>\n",
       "      <th>edits</th>\n",
       "      <th>num_days</th>\n",
       "      <th>user_stats_uid</th>\n",
       "      <th>user_name</th>\n",
       "      <th>total_year</th>\n",
       "      <th>total_buildings</th>\n",
       "      <th>total_road_km</th>\n",
       "      <th>total_amenities</th>\n",
       "      <th>total_edits</th>\n",
       "      <th>total_active_days</th>\n",
       "    </tr>\n",
       "  </thead>\n",
       "  <tbody>\n",
       "    <tr>\n",
       "      <th>3038</th>\n",
       "      <td>033330222101</td>\n",
       "      <td>2014</td>\n",
       "      <td>1611</td>\n",
       "      <td>57</td>\n",
       "      <td>2.13397</td>\n",
       "      <td>0</td>\n",
       "      <td>67</td>\n",
       "      <td>1</td>\n",
       "      <td>1611</td>\n",
       "      <td>Harry Wood</td>\n",
       "      <td>2014</td>\n",
       "      <td>2153</td>\n",
       "      <td>730.646</td>\n",
       "      <td>387</td>\n",
       "      <td>4430</td>\n",
       "      <td>131</td>\n",
       "    </tr>\n",
       "  </tbody>\n",
       "</table>\n",
       "</div>"
      ],
      "text/plain": [
       "           quadkey  year   uid  buildings  road_km  amenities  edits  \\\n",
       "3038  033330222101  2014  1611         57  2.13397          0     67   \n",
       "\n",
       "      num_days  user_stats_uid   user_name  total_year  total_buildings  \\\n",
       "3038         1            1611  Harry Wood        2014             2153   \n",
       "\n",
       "      total_road_km  total_amenities  total_edits  total_active_days  \n",
       "3038        730.646              387         4430                131  "
      ]
     },
     "metadata": {},
     "output_type": "display_data"
    }
   ],
   "source": [
    "process_dictionary_of_users_for_study_tile_stats(study_tiles[study_tile_idx]['users'], study_tiles[study_tile_idx]['quad'])\n",
    "display.display(study_tiles[study_tile_idx]['users'][study_tiles[study_tile_idx]['user_list'][0]]['toi'].head(2))"
   ]
  },
  {
   "cell_type": "markdown",
   "metadata": {},
   "source": [
    "## 4. Who is mapping what: Build Current Tile DF"
   ]
  },
  {
   "cell_type": "code",
   "execution_count": 43,
   "metadata": {
    "collapsed": false
   },
   "outputs": [
    {
     "data": {
      "text/html": [
       "<div>\n",
       "<table border=\"1\" class=\"dataframe\">\n",
       "  <thead>\n",
       "    <tr style=\"text-align: right;\">\n",
       "      <th></th>\n",
       "      <th>edits</th>\n",
       "      <th>road_km</th>\n",
       "      <th>num_days</th>\n",
       "      <th>buildings</th>\n",
       "      <th>amenities</th>\n",
       "      <th>percent_user_road_km</th>\n",
       "      <th>percent_user_buildings</th>\n",
       "      <th>percent_user_amenities</th>\n",
       "      <th>percent_user_edits</th>\n",
       "      <th>uid</th>\n",
       "      <th>total_editing_days_ever</th>\n",
       "      <th>total_buildings_ever</th>\n",
       "      <th>total_road_km_ever</th>\n",
       "      <th>total_amenities_ever</th>\n",
       "      <th>total_edits_ever</th>\n",
       "      <th>percent_tile_road_km</th>\n",
       "      <th>percent_tile_buildings</th>\n",
       "      <th>percent_tile_amenities</th>\n",
       "      <th>percent_tile_edits</th>\n",
       "    </tr>\n",
       "  </thead>\n",
       "  <tbody>\n",
       "    <tr>\n",
       "      <th>0</th>\n",
       "      <td>16</td>\n",
       "      <td>0.0</td>\n",
       "      <td>2</td>\n",
       "      <td>11</td>\n",
       "      <td>4</td>\n",
       "      <td>0.0</td>\n",
       "      <td>0.033177</td>\n",
       "      <td>0.849257</td>\n",
       "      <td>0.040699</td>\n",
       "      <td>1443840</td>\n",
       "      <td>276</td>\n",
       "      <td>33155</td>\n",
       "      <td>2078.4218</td>\n",
       "      <td>471</td>\n",
       "      <td>39313</td>\n",
       "      <td>0.0</td>\n",
       "      <td>0.057033</td>\n",
       "      <td>3.030303</td>\n",
       "      <td>0.069765</td>\n",
       "    </tr>\n",
       "    <tr>\n",
       "      <th>1</th>\n",
       "      <td>2</td>\n",
       "      <td>0.0</td>\n",
       "      <td>1</td>\n",
       "      <td>0</td>\n",
       "      <td>0</td>\n",
       "      <td>0.0</td>\n",
       "      <td>0.000000</td>\n",
       "      <td>0.000000</td>\n",
       "      <td>0.005760</td>\n",
       "      <td>343553</td>\n",
       "      <td>616</td>\n",
       "      <td>1305</td>\n",
       "      <td>45503.3970</td>\n",
       "      <td>622</td>\n",
       "      <td>34725</td>\n",
       "      <td>0.0</td>\n",
       "      <td>0.000000</td>\n",
       "      <td>0.000000</td>\n",
       "      <td>0.008721</td>\n",
       "    </tr>\n",
       "  </tbody>\n",
       "</table>\n",
       "</div>"
      ],
      "text/plain": [
       "   edits  road_km  num_days  buildings  amenities  percent_user_road_km  \\\n",
       "0     16      0.0         2         11          4                   0.0   \n",
       "1      2      0.0         1          0          0                   0.0   \n",
       "\n",
       "   percent_user_buildings  percent_user_amenities  percent_user_edits  \\\n",
       "0                0.033177                0.849257            0.040699   \n",
       "1                0.000000                0.000000            0.005760   \n",
       "\n",
       "       uid  total_editing_days_ever  total_buildings_ever  total_road_km_ever  \\\n",
       "0  1443840                      276                 33155           2078.4218   \n",
       "1   343553                      616                  1305          45503.3970   \n",
       "\n",
       "   total_amenities_ever  total_edits_ever  percent_tile_road_km  \\\n",
       "0                   471             39313                   0.0   \n",
       "1                   622             34725                   0.0   \n",
       "\n",
       "   percent_tile_buildings  percent_tile_amenities  percent_tile_edits  \n",
       "0                0.057033                3.030303            0.069765  \n",
       "1                0.000000                0.000000            0.008721  "
      ]
     },
     "execution_count": 43,
     "metadata": {},
     "output_type": "execute_result"
    }
   ],
   "source": [
    "current_tile_df = build_all_stats_for_tile(study_tiles[study_tile_idx])\n",
    "current_tile_df.head(2)"
   ]
  },
  {
   "cell_type": "markdown",
   "metadata": {},
   "source": [
    "### Processed Study tiles now have the following attributes: \n",
    "\n",
    "- **name**: Name of Region\n",
    "- **user_list**: List of UIDs of users who have edited on this tile\n",
    "- **users**: Dictionary, keyed by UID\n",
    "  - `uid`:\n",
    "    - **df**: Full dataframe of all edits on all tiles by this user\n",
    "    - **tiles**: DataFrame of unique tiles, summed over all years\n",
    "    - **annual**: DataFrame of Editing Aggregates over all tiles, per year"
   ]
  },
  {
   "cell_type": "markdown",
   "metadata": {},
   "source": [
    "# Begin Analysis of Tile"
   ]
  },
  {
   "cell_type": "code",
   "execution_count": 44,
   "metadata": {
    "collapsed": false
   },
   "outputs": [
    {
     "name": "stdout",
     "output_type": "stream",
     "text": [
      "Current Study Tile: Monrovia, Liberia\n",
      "\tUsers: 201\n",
      "Current_tile_df size: 201 (Should match the user count)\n"
     ]
    }
   ],
   "source": [
    "print(\"Current Study Tile: {0}\".format(study_tiles[study_tile_idx]['name']))\n",
    "print(\"\\tUsers: {0}\".format(len(study_tiles[study_tile_idx]['user_list'])))\n",
    "print(\"Current_tile_df size: {0} (Should match the user count)\".format(len(current_tile_df)))"
   ]
  },
  {
   "cell_type": "markdown",
   "metadata": {},
   "source": [
    "## Percentage of a User's edits (of all time) that occur on this tile: "
   ]
  },
  {
   "cell_type": "markdown",
   "metadata": {},
   "source": [
    "# 1.  Users active on this tile overtime"
   ]
  },
  {
   "cell_type": "code",
   "execution_count": 45,
   "metadata": {
    "collapsed": false
   },
   "outputs": [],
   "source": [
    "overtime_df = get_active_users_overtime_df(study_tiles[study_tile_idx]['users'])"
   ]
  },
  {
   "cell_type": "code",
   "execution_count": 46,
   "metadata": {
    "collapsed": false
   },
   "outputs": [
    {
     "data": {
      "text/plain": [
       "<matplotlib.axes._subplots.AxesSubplot at 0x7f57ee60a9e8>"
      ]
     },
     "execution_count": 46,
     "metadata": {},
     "output_type": "execute_result"
    },
    {
     "data": {
      "image/png": "[encoded data removed]",
      "text/plain": [
       "<matplotlib.figure.Figure at 0x7f57ee60a828>"
      ]
     },
     "metadata": {},
     "output_type": "display_data"
    }
   ],
   "source": [
    "sns.set(font_scale=1.25)\n",
    "plt.style.use('seaborn-white')\n",
    "fig, axs = plt.subplots(nrows=1, ncols=1, figsize=(15,8), facecolor='w', edgecolor='k')\n",
    "\n",
    "#How many days (to date) is considered experienced?\n",
    "threshold = 7\n",
    "\n",
    "gt_10 = overtime_df.query(\"active_days_to_date>={0}\".format(threshold)).groupby('year').aggregate({'uid':pd.Series.nunique})\n",
    "lt_10 = overtime_df.query(\"active_days_to_date<{0}\".format(threshold)).groupby('year').aggregate({'uid':pd.Series.nunique})\n",
    "\n",
    "gt_10.columns = ['Experienced']\n",
    "lt_10.columns = ['Inexperienced']\n",
    "\n",
    "gt_10.join(lt_10).plot(ax=axs,kind='bar',stacked=True)"
   ]
  },
  {
   "cell_type": "markdown",
   "metadata": {
    "collapsed": true
   },
   "source": [
    "# 2: User Experience \n",
    "\n",
    "Who's Mapping Buildings and Roads?"
   ]
  },
  {
   "cell_type": "code",
   "execution_count": 47,
   "metadata": {
    "collapsed": false
   },
   "outputs": [
    {
     "data": {
      "image/png": "[encoded data removed]",
      "text/plain": [
       "<matplotlib.figure.Figure at 0x7f57d7d8a208>"
      ]
     },
     "metadata": {},
     "output_type": "display_data"
    }
   ],
   "source": [
    "sns.set(font_scale=1.25)\n",
    "plt.style.use('seaborn-white')\n",
    "fig, axs = plt.subplots(nrows=1, ncols=2, figsize=(15,8), facecolor='w', edgecolor='k')\n",
    "\n",
    "b_view = current_tile_df.sort_values(by='total_buildings_ever')\n",
    "b_view['cumulative_percent'] = b_view.percent_tile_buildings.cumsum()\n",
    "\n",
    "b_view.plot(ax=axs[0],x='total_buildings_ever',y='cumulative_percent', logx=True,legend=None)\n",
    "\n",
    "axs[0].set_ylabel('Percent of buildings on tile (cumulative)')\n",
    "axs[0].set_xlabel('Number of Buildings a user has mapped (experience)')\n",
    "\n",
    "\n",
    "r_view = current_tile_df.sort_values(by='total_road_km_ever')\n",
    "r_view['cumulative_percent'] = r_view.percent_tile_road_km.cumsum()\n",
    "\n",
    "r_view.plot(ax=axs[1],x='total_road_km_ever',y='cumulative_percent', logx=True,legend=None)\n",
    "\n",
    "axs[1].set_ylabel('Percent of road km on tile (cumulative)')\n",
    "axs[1].set_xlabel('Kilometers of roads a user has mapped (experience)')\n",
    "\n",
    "for ax in axs:\n",
    "    ax.set_ylim(0,101)\n",
    "    ax.set_xlim(1)"
   ]
  },
  {
   "cell_type": "markdown",
   "metadata": {},
   "source": [
    "## Analysis\n",
    "We should expect to see this type of distribution from a tile that underwent a disaster mapping event. There are many users with low percentage of their edits occuring on this tile, these are likely the experienced users who dropped by to participate in the event.  Likewise, we see users with 100% of their edits occuring on this tile, likely the users who signed up to participate in the event and have not been active otherwise."
   ]
  },
  {
   "cell_type": "markdown",
   "metadata": {},
   "source": [
    "<br>\n",
    "<hr>\n",
    "<br>\n",
    "<br>\n",
    "# Run Tile-by-Tile Comparisons\n",
    "For each study tile, we have _comparable_ tiles, these are the tiles of most interest, because the difference in patterns between these tiles and our study tiles is what makes the analysis.\n",
    "\n",
    "#### 1. Get a _comparable_ tile\n",
    "\n",
    "[The Comparable tile for Monrovia is here](http://epic-analytics.cs.colorado.edu:9000/jennings/iscram/Monrovia%2c%20Liberia_sim_tiles.geojson), in Indonesia"
   ]
  },
  {
   "cell_type": "code",
   "execution_count": 48,
   "metadata": {
    "collapsed": false
   },
   "outputs": [
    {
     "name": "stdout",
     "output_type": "stream",
     "text": [
      "Comparable Tiles for Monrovia, Liberia: \n",
      "\t0, '310101233020'\n"
     ]
    }
   ],
   "source": [
    "if 'compare_tiles' in study_tiles[study_tile_idx]:\n",
    "    print(\"Comparable Tiles for {0}: \".format(study_tiles[study_tile_idx]['name']))\n",
    "    for idx, compare in enumerate(study_tiles[study_tile_idx]['compare_tiles']):\n",
    "        print(\"\\t{0}, '{1}'\".format(idx, compare['quad']))"
   ]
  },
  {
   "cell_type": "code",
   "execution_count": 49,
   "metadata": {
    "collapsed": true
   },
   "outputs": [],
   "source": [
    "#Which tile to compare? (from within the comparable study tiles)\n",
    "compare_tile_idx=0"
   ]
  },
  {
   "cell_type": "markdown",
   "metadata": {},
   "source": [
    "#### 2. Get Users\n",
    "If it crashes, just run it again"
   ]
  },
  {
   "cell_type": "code",
   "execution_count": 64,
   "metadata": {
    "collapsed": false
   },
   "outputs": [
    {
     "name": "stdout",
     "output_type": "stream",
     "text": [
      "2005 . 2006 . 2007 . 2008 . 2009 . 2010 . 2011 . 2012 . 2013 . 2014 . 2015 . 2016 . "
     ]
    }
   ],
   "source": [
    "reset()\n",
    "study_tiles[study_tile_idx]['compare_tiles'][compare_tile_idx]['user_list'] = get_all_users_who_edited_tile(study_tiles[study_tile_idx]['compare_tiles'][compare_tile_idx])"
   ]
  },
  {
   "cell_type": "markdown",
   "metadata": {},
   "source": [
    "#### 3. Build actual user distribution (may take a few minutes)\n",
    "If it fails, run the above cell again (probably twice)"
   ]
  },
  {
   "cell_type": "code",
   "execution_count": 65,
   "metadata": {
    "collapsed": false,
    "scrolled": true
   },
   "outputs": [
    {
     "name": "stderr",
     "output_type": "stream",
     "text": [
      " 167/ ~ 226"
     ]
    }
   ],
   "source": [
    "study_tiles[study_tile_idx]['compare_tiles'][compare_tile_idx]['users'] = build_user_distributions(study_tiles[study_tile_idx]['compare_tiles'][compare_tile_idx]['user_list'])"
   ]
  },
  {
   "cell_type": "markdown",
   "metadata": {},
   "source": [
    "#### 4. Now process user focus for compare tiles"
   ]
  },
  {
   "cell_type": "code",
   "execution_count": 66,
   "metadata": {
    "collapsed": false
   },
   "outputs": [
    {
     "name": "stderr",
     "output_type": "stream",
     "text": [
      " 45/47"
     ]
    },
    {
     "data": {
      "text/html": [
       "<div>\n",
       "<table border=\"1\" class=\"dataframe\">\n",
       "  <thead>\n",
       "    <tr style=\"text-align: right;\">\n",
       "      <th></th>\n",
       "      <th>quadkey</th>\n",
       "      <th>year</th>\n",
       "      <th>uid</th>\n",
       "      <th>buildings</th>\n",
       "      <th>road_km</th>\n",
       "      <th>amenities</th>\n",
       "      <th>edits</th>\n",
       "      <th>num_days</th>\n",
       "      <th>user_stats_uid</th>\n",
       "      <th>user_name</th>\n",
       "      <th>total_year</th>\n",
       "      <th>total_buildings</th>\n",
       "      <th>total_road_km</th>\n",
       "      <th>total_amenities</th>\n",
       "      <th>total_edits</th>\n",
       "      <th>total_active_days</th>\n",
       "    </tr>\n",
       "  </thead>\n",
       "  <tbody>\n",
       "    <tr>\n",
       "      <th>3038</th>\n",
       "      <td>033330222101</td>\n",
       "      <td>2014</td>\n",
       "      <td>1611</td>\n",
       "      <td>57</td>\n",
       "      <td>2.13397</td>\n",
       "      <td>0</td>\n",
       "      <td>67</td>\n",
       "      <td>1</td>\n",
       "      <td>1611</td>\n",
       "      <td>Harry Wood</td>\n",
       "      <td>2014</td>\n",
       "      <td>2153</td>\n",
       "      <td>730.646</td>\n",
       "      <td>387</td>\n",
       "      <td>4430</td>\n",
       "      <td>131</td>\n",
       "    </tr>\n",
       "  </tbody>\n",
       "</table>\n",
       "</div>"
      ],
      "text/plain": [
       "           quadkey  year   uid  buildings  road_km  amenities  edits  \\\n",
       "3038  033330222101  2014  1611         57  2.13397          0     67   \n",
       "\n",
       "      num_days  user_stats_uid   user_name  total_year  total_buildings  \\\n",
       "3038         1            1611  Harry Wood        2014             2153   \n",
       "\n",
       "      total_road_km  total_amenities  total_edits  total_active_days  \n",
       "3038        730.646              387         4430                131  "
      ]
     },
     "metadata": {},
     "output_type": "display_data"
    },
    {
     "data": {
      "text/html": [
       "<div>\n",
       "<table border=\"1\" class=\"dataframe\">\n",
       "  <thead>\n",
       "    <tr style=\"text-align: right;\">\n",
       "      <th></th>\n",
       "      <th>edits</th>\n",
       "      <th>road_km</th>\n",
       "      <th>num_days</th>\n",
       "      <th>buildings</th>\n",
       "      <th>amenities</th>\n",
       "      <th>percent_user_road_km</th>\n",
       "      <th>percent_user_buildings</th>\n",
       "      <th>percent_user_amenities</th>\n",
       "      <th>percent_user_edits</th>\n",
       "    </tr>\n",
       "    <tr>\n",
       "      <th>quadkey</th>\n",
       "      <th></th>\n",
       "      <th></th>\n",
       "      <th></th>\n",
       "      <th></th>\n",
       "      <th></th>\n",
       "      <th></th>\n",
       "      <th></th>\n",
       "      <th></th>\n",
       "      <th></th>\n",
       "    </tr>\n",
       "  </thead>\n",
       "  <tbody>\n",
       "    <tr>\n",
       "      <th>023012311301</th>\n",
       "      <td>1</td>\n",
       "      <td>0.0</td>\n",
       "      <td>1</td>\n",
       "      <td>0</td>\n",
       "      <td>0</td>\n",
       "      <td>0.0</td>\n",
       "      <td>0.0</td>\n",
       "      <td>0.0</td>\n",
       "      <td>0.006085</td>\n",
       "    </tr>\n",
       "    <tr>\n",
       "      <th>023012311303</th>\n",
       "      <td>4</td>\n",
       "      <td>0.0</td>\n",
       "      <td>1</td>\n",
       "      <td>0</td>\n",
       "      <td>0</td>\n",
       "      <td>0.0</td>\n",
       "      <td>0.0</td>\n",
       "      <td>0.0</td>\n",
       "      <td>0.024338</td>\n",
       "    </tr>\n",
       "  </tbody>\n",
       "</table>\n",
       "</div>"
      ],
      "text/plain": [
       "              edits  road_km  num_days  buildings  amenities  \\\n",
       "quadkey                                                        \n",
       "023012311301      1      0.0         1          0          0   \n",
       "023012311303      4      0.0         1          0          0   \n",
       "\n",
       "              percent_user_road_km  percent_user_buildings  \\\n",
       "quadkey                                                      \n",
       "023012311301                   0.0                     0.0   \n",
       "023012311303                   0.0                     0.0   \n",
       "\n",
       "              percent_user_amenities  percent_user_edits  \n",
       "quadkey                                                   \n",
       "023012311301                     0.0            0.006085  \n",
       "023012311303                     0.0            0.024338  "
      ]
     },
     "metadata": {},
     "output_type": "display_data"
    },
    {
     "data": {
      "text/html": [
       "<div>\n",
       "<table border=\"1\" class=\"dataframe\">\n",
       "  <thead>\n",
       "    <tr style=\"text-align: right;\">\n",
       "      <th></th>\n",
       "      <th>uid</th>\n",
       "      <th>user_name</th>\n",
       "      <th>year</th>\n",
       "      <th>total_buildings</th>\n",
       "      <th>total_road_km</th>\n",
       "      <th>total_amenities</th>\n",
       "      <th>total_edits</th>\n",
       "      <th>total_active_days</th>\n",
       "    </tr>\n",
       "  </thead>\n",
       "  <tbody>\n",
       "    <tr>\n",
       "      <th>0</th>\n",
       "      <td>7749</td>\n",
       "      <td>Matze</td>\n",
       "      <td>2007</td>\n",
       "      <td>0</td>\n",
       "      <td>791.482</td>\n",
       "      <td>18</td>\n",
       "      <td>14391</td>\n",
       "      <td>44</td>\n",
       "    </tr>\n",
       "    <tr>\n",
       "      <th>1</th>\n",
       "      <td>7749</td>\n",
       "      <td>Matze</td>\n",
       "      <td>2008</td>\n",
       "      <td>4</td>\n",
       "      <td>129.122</td>\n",
       "      <td>31</td>\n",
       "      <td>1479</td>\n",
       "      <td>34</td>\n",
       "    </tr>\n",
       "  </tbody>\n",
       "</table>\n",
       "</div>"
      ],
      "text/plain": [
       "    uid user_name  year  total_buildings  total_road_km  total_amenities  \\\n",
       "0  7749     Matze  2007                0        791.482               18   \n",
       "1  7749     Matze  2008                4        129.122               31   \n",
       "\n",
       "   total_edits  total_active_days  \n",
       "0        14391                 44  \n",
       "1         1479                 34  "
      ]
     },
     "metadata": {},
     "output_type": "display_data"
    }
   ],
   "source": [
    "process_dictionary_of_users(study_tiles[study_tile_idx]['compare_tiles'][compare_tile_idx]['users'])\n",
    "process_dictionary_of_users_for_study_tile_stats(study_tiles[study_tile_idx]['compare_tiles'][compare_tile_idx]['users'], study_tiles[study_tile_idx]['compare_tiles'][compare_tile_idx]['quad'])\n",
    "\n",
    "display.display(study_tiles[study_tile_idx]['users'][study_tiles[study_tile_idx]['user_list'][0]]['toi'].head(2))\n",
    "display.display(study_tiles[study_tile_idx]['compare_tiles'][compare_tile_idx]['users'][study_tiles[study_tile_idx]['compare_tiles'][compare_tile_idx]['user_list'][0]]['tiles'].head(2))\n",
    "display.display(study_tiles[study_tile_idx]['compare_tiles'][compare_tile_idx]['users'][study_tiles[study_tile_idx]['compare_tiles'][compare_tile_idx]['user_list'][0]]['annual'].head(2))"
   ]
  },
  {
   "cell_type": "markdown",
   "metadata": {},
   "source": [
    "#### 5. Build Compare Tile Full Stats"
   ]
  },
  {
   "cell_type": "code",
   "execution_count": 67,
   "metadata": {
    "collapsed": false
   },
   "outputs": [
    {
     "data": {
      "text/plain": [
       "edits      47\n",
       "road_km    47\n",
       "dtype: int64"
      ]
     },
     "execution_count": 67,
     "metadata": {},
     "output_type": "execute_result"
    }
   ],
   "source": [
    "compare_tile_df = build_all_stats_for_tile(study_tiles[study_tile_idx]['compare_tiles'][compare_tile_idx])\n",
    "compare_tile_df.count().head(2)"
   ]
  },
  {
   "cell_type": "code",
   "execution_count": 68,
   "metadata": {
    "collapsed": false
   },
   "outputs": [
    {
     "data": {
      "text/html": [
       "<div>\n",
       "<table border=\"1\" class=\"dataframe\">\n",
       "  <thead>\n",
       "    <tr style=\"text-align: right;\">\n",
       "      <th></th>\n",
       "      <th>quadkey</th>\n",
       "      <th>year</th>\n",
       "      <th>uid</th>\n",
       "      <th>buildings</th>\n",
       "      <th>road_km</th>\n",
       "      <th>amenities</th>\n",
       "      <th>edits</th>\n",
       "      <th>num_days</th>\n",
       "      <th>user_stats_uid</th>\n",
       "      <th>user_name</th>\n",
       "      <th>total_year</th>\n",
       "      <th>total_buildings</th>\n",
       "      <th>total_road_km</th>\n",
       "      <th>total_amenities</th>\n",
       "      <th>total_edits</th>\n",
       "      <th>total_active_days</th>\n",
       "      <th>active_days_to_date</th>\n",
       "    </tr>\n",
       "  </thead>\n",
       "  <tbody>\n",
       "    <tr>\n",
       "      <th>0</th>\n",
       "      <td>310101233020</td>\n",
       "      <td>2016</td>\n",
       "      <td>72235</td>\n",
       "      <td>0</td>\n",
       "      <td>0.0</td>\n",
       "      <td>0</td>\n",
       "      <td>3</td>\n",
       "      <td>1</td>\n",
       "      <td>72235</td>\n",
       "      <td>Basstoelpel</td>\n",
       "      <td>2016</td>\n",
       "      <td>3034</td>\n",
       "      <td>655.51</td>\n",
       "      <td>136</td>\n",
       "      <td>66630</td>\n",
       "      <td>177</td>\n",
       "      <td>2239</td>\n",
       "    </tr>\n",
       "    <tr>\n",
       "      <th>1</th>\n",
       "      <td>310101233020</td>\n",
       "      <td>2015</td>\n",
       "      <td>617220</td>\n",
       "      <td>2</td>\n",
       "      <td>0.0</td>\n",
       "      <td>0</td>\n",
       "      <td>2</td>\n",
       "      <td>2</td>\n",
       "      <td>617220</td>\n",
       "      <td>raniedwianugrah</td>\n",
       "      <td>2015</td>\n",
       "      <td>40241</td>\n",
       "      <td>3667.23</td>\n",
       "      <td>697</td>\n",
       "      <td>47568</td>\n",
       "      <td>88</td>\n",
       "      <td>256</td>\n",
       "    </tr>\n",
       "  </tbody>\n",
       "</table>\n",
       "</div>"
      ],
      "text/plain": [
       "        quadkey  year     uid  buildings  road_km  amenities  edits  num_days  \\\n",
       "0  310101233020  2016   72235          0      0.0          0      3         1   \n",
       "1  310101233020  2015  617220          2      0.0          0      2         2   \n",
       "\n",
       "   user_stats_uid        user_name  total_year  total_buildings  \\\n",
       "0           72235      Basstoelpel        2016             3034   \n",
       "1          617220  raniedwianugrah        2015            40241   \n",
       "\n",
       "   total_road_km  total_amenities  total_edits  total_active_days  \\\n",
       "0         655.51              136        66630                177   \n",
       "1        3667.23              697        47568                 88   \n",
       "\n",
       "   active_days_to_date  \n",
       "0                 2239  \n",
       "1                  256  "
      ]
     },
     "execution_count": 68,
     "metadata": {},
     "output_type": "execute_result"
    }
   ],
   "source": [
    "compare_overtime_df = get_active_users_overtime_df(study_tiles[study_tile_idx]['compare_tiles'][compare_tile_idx]['users'])\n",
    "compare_overtime_df.head(2)"
   ]
  },
  {
   "cell_type": "markdown",
   "metadata": {},
   "source": [
    "<br>\n",
    "<br>\n",
    "<hr>\n",
    "\n",
    "# Now we can compare Monrovia to its similar tiles\n",
    "\n",
    "First, basic stats: "
   ]
  },
  {
   "cell_type": "code",
   "execution_count": 69,
   "metadata": {
    "collapsed": false
   },
   "outputs": [
    {
     "name": "stdout",
     "output_type": "stream",
     "text": [
      "Users on Study Tile: 201, 201\n",
      "Users on Compare Tile: 47, 47\n"
     ]
    }
   ],
   "source": [
    "print(\"Users on Study Tile: {0}, {1}\".format(len(study_tiles[study_tile_idx]['user_list']), len(current_tile_df)))\n",
    "print(\"Users on Compare Tile: {0}, {1}\".format(len(study_tiles[study_tile_idx]['compare_tiles'][compare_tile_idx]['user_list']), len(compare_tile_df)))"
   ]
  },
  {
   "cell_type": "markdown",
   "metadata": {},
   "source": [
    "# 1.  Users active on the tiles overtime"
   ]
  },
  {
   "cell_type": "code",
   "execution_count": 78,
   "metadata": {
    "collapsed": false
   },
   "outputs": [
    {
     "data": {
      "image/png": "[encoded data removed]",
      "text/plain": [
       "<matplotlib.figure.Figure at 0x7f58129acc18>"
      ]
     },
     "metadata": {},
     "output_type": "display_data"
    }
   ],
   "source": [
    "sns.set(font_scale=1.5)\n",
    "plt.style.use('seaborn-whitegrid')\n",
    "fig, axs = plt.subplots(nrows=1, ncols=2, figsize=(15,6), facecolor='w', edgecolor='k')\n",
    "plt.subplots_adjust(left=None, bottom=0.4, right=None, top=None, wspace=None, hspace=0.1)\n",
    "\n",
    "#How many days (to date) is considered experienced?\n",
    "threshold = 7\n",
    "#Study Tile\n",
    "gt_10 = overtime_df.query(\"active_days_to_date>={0}\".format(threshold)).groupby('year').aggregate({'uid':pd.Series.nunique})\n",
    "lt_10 = overtime_df.query(\"active_days_to_date<{0}\".format(threshold)).groupby('year').aggregate({'uid':pd.Series.nunique})\n",
    "gt_10.columns = ['Experienced Contributors']\n",
    "lt_10.columns = ['Inexperienced Contributors']\n",
    "gt_10.join(lt_10).plot(ax=axs[0],kind='bar',stacked=True)\n",
    "\n",
    "#Compare DF\n",
    "compare_gt_10 = compare_overtime_df.query(\"active_days_to_date>={0}\".format(threshold)).groupby('year').aggregate({'uid':pd.Series.nunique})\n",
    "compare_lt_10 = compare_overtime_df.query(\"active_days_to_date<{0}\".format(threshold)).groupby('year').aggregate({'uid':pd.Series.nunique})\n",
    "compare_gt_10.columns = ['Experienced Contributors']\n",
    "compare_lt_10.columns = ['Inexperienced Contributors']\n",
    "compare_gt_10.join(compare_lt_10).plot(ax=axs[1],kind='bar',stacked=True)\n",
    "\n",
    "axs[0].set_ylabel(\"Users active each year\",fontsize=18)\n",
    "axs[0].set_title(\"Study Tile {0}: \".format(study_tile_idx+1)+study_tiles[study_tile_idx]['name'],fontsize=24)\n",
    "axs[0].set_xlabel(\"\\nUnique Contributors: {0}\".format(len(current_tile_df)),fontsize=18)\n",
    "\n",
    "axs[1].set_title(\"Comparable Tile {0}\".format(study_tile_idx+1),fontsize=24)\n",
    "axs[1].set_xlabel(\"\\nUnique Contributors: {0}\".format(len(compare_tile_df)),fontsize=18)\n",
    "\n",
    "axs[1].set_ylim(axs[0].get_ylim())\n",
    "\n",
    "                 \n",
    "for ax in axs:\n",
    "    ax.legend_.remove()\n",
    "\n",
    "handles, labels = axs[1].get_legend_handles_labels()\n",
    "plt.figlegend(handles, labels, loc='upper center', ncol=2, fontsize=18, borderaxespad=-0.4);"
   ]
  },
  {
   "cell_type": "code",
   "execution_count": 77,
   "metadata": {
    "collapsed": false
   },
   "outputs": [
    {
     "name": "stdout",
     "output_type": "stream",
     "text": [
      " Ratio of Experienced to Inexperienced 3.4:1\n"
     ]
    }
   ],
   "source": [
    "print(\" Ratio of Experienced to Inexperienced {0:.1f}:1\".format(\n",
    "      (len(overtime_df.query('year==2014').query('active_days_to_date>=7')) / \n",
    "           len(overtime_df.query('year==2014').query('active_days_to_date<7')))\n",
    "      ))"
   ]
  },
  {
   "cell_type": "markdown",
   "metadata": {},
   "source": [
    "# User Experience\n",
    "## Compare Buildings & Roads Across Two _Similar_ Tiles"
   ]
  },
  {
   "cell_type": "code",
   "execution_count": 79,
   "metadata": {
    "collapsed": false
   },
   "outputs": [
    {
     "data": {
      "image/png": "[encoded data removed]",
      "text/plain": [
       "<matplotlib.figure.Figure at 0x7f57ee58e780>"
      ]
     },
     "metadata": {},
     "output_type": "display_data"
    }
   ],
   "source": [
    "sns.set(font_scale=1.25)\n",
    "plt.style.use('seaborn-whitegrid')\n",
    "fig, axs = plt.subplots(nrows=1, ncols=2, figsize=(15,6), facecolor='w', edgecolor='k')\n",
    "\n",
    "#Buildings\n",
    "b_axis = axs[0]\n",
    "b_view = current_tile_df.sort_values(by='total_buildings_ever')\n",
    "b_view['cumulative_percent'] = b_view.percent_tile_buildings.cumsum()\n",
    "b_view.plot(ax=b_axis,x='total_buildings_ever',y='cumulative_percent', logx=True,label=study_tiles[study_tile_idx]['name'], lw=2)\n",
    "\n",
    "compare_b_view = compare_tile_df.sort_values(by='total_buildings_ever')\n",
    "compare_b_view['cumulative_percent'] = compare_b_view.percent_tile_buildings.cumsum()\n",
    "compare_b_view.plot(ax=b_axis,x='total_buildings_ever',y='cumulative_percent', logx=True,label=\"Similar Tile\", lw=2)\n",
    "\n",
    "b_axis.set_ylabel('Percent of buildings on tile (cumulative)', fontsize=18)\n",
    "b_axis.set_xlabel('Number of Buildings a user has mapped', fontsize=18)\n",
    "\n",
    "b_axis.set_title(\"Distribution of Building Experience\", fontsize=20)\n",
    "\n",
    "#Roads\n",
    "r_axis = axs[1]\n",
    "r_view = current_tile_df.sort_values(by='total_road_km_ever')\n",
    "r_view['cumulative_percent'] = r_view.percent_tile_road_km.cumsum()\n",
    "r_view.plot(ax=r_axis,x='total_road_km_ever',y='cumulative_percent', logx=True, lw=2,\n",
    "            label=\"Study Tile {0}: \".format(study_tile_idx+1)+study_tiles[study_tile_idx]['name'])\n",
    "\n",
    "compare_r_view = compare_tile_df.sort_values(by='total_road_km_ever')\n",
    "compare_r_view['cumulative_percent'] = compare_r_view.percent_tile_road_km.cumsum()\n",
    "compare_r_view.plot(ax=r_axis,x='total_road_km_ever',y='cumulative_percent', logx=True, lw=2,\n",
    "                    label=\"Comparable Tile {0}\".format(study_tile_idx+1))\n",
    "\n",
    "r_axis.set_ylabel('Percent of road km on tile (cumulative)',fontsize=18)\n",
    "r_axis.set_xlabel('Kilometers of roads a user has mapped',fontsize=18)\n",
    "\n",
    "r_axis.set_title(\"Distribution of Road Experience\", fontsize=20)\n",
    "\n",
    "for ax in [r_axis, b_axis]:\n",
    "    ax.set_ylim(0,101)\n",
    "    ax.set_xlim(1)\n",
    "    ax.legend_.remove()\n",
    "    \n",
    "handles, labels = axs[1].get_legend_handles_labels()\n",
    "plt.figlegend(handles, labels, loc='upper center', ncol=2, fontsize=20, borderaxespad=-0.3);"
   ]
  },
  {
   "cell_type": "markdown",
   "metadata": {
    "collapsed": true
   },
   "source": [
    "## Analysis\n",
    "This is really exciting to see. These distributions are very, very different. There is a steep, steep jump at the end of the buildings, meaning that most of the buildings on the tile were contributed by users who have contributed A LOT of buildings.\n",
    "\n",
    "On the other hand, when it comes to roads, the similar tile has the opposite distribution\n",
    "\n",
    "## TODO: KS Statistic on these; test for are the distributions different"
   ]
  },
  {
   "cell_type": "code",
   "execution_count": 73,
   "metadata": {
    "collapsed": false
   },
   "outputs": [
    {
     "name": "stdout",
     "output_type": "stream",
     "text": [
      "Buildings:  Ks_2sampResult(statistic=0.4884090187361067, pvalue=1.12701582156611e-08)\n",
      "Roads:  Ks_2sampResult(statistic=0.48819731131576161, pvalue=1.1457235194124846e-08)\n"
     ]
    }
   ],
   "source": [
    "#KS Test\n",
    "print(\"Buildings: \",stats.ks_2samp(b_view.cumulative_percent, compare_b_view.cumulative_percent))\n",
    "print(\"Roads: \",stats.ks_2samp(r_view.cumulative_percent, compare_r_view.cumulative_percent))"
   ]
  },
  {
   "cell_type": "code",
   "execution_count": 60,
   "metadata": {
    "collapsed": false
   },
   "outputs": [
    {
     "data": {
      "text/plain": [
       "'310101233020'"
      ]
     },
     "execution_count": 60,
     "metadata": {},
     "output_type": "execute_result"
    }
   ],
   "source": [
    "study_tiles[study_tile_idx]['compare_tiles'][compare_tile_idx]['quad']"
   ]
  },
  {
   "cell_type": "code",
   "execution_count": 61,
   "metadata": {
    "collapsed": false
   },
   "outputs": [
    {
     "data": {
      "text/plain": [
       "<matplotlib.text.Text at 0x7f580f08f908>"
      ]
     },
     "execution_count": 61,
     "metadata": {},
     "output_type": "execute_result"
    },
    {
     "data": {
      "image/png": "[encoded data removed]",
      "text/plain": [
       "<matplotlib.figure.Figure at 0x7f5780ad29e8>"
      ]
     },
     "metadata": {},
     "output_type": "display_data"
    }
   ],
   "source": [
    "sns.set(font_scale=1.25)\n",
    "plt.style.use('seaborn-white')\n",
    "fig, axs = plt.subplots(nrows=1, ncols=1, figsize=(8,8), facecolor='w', edgecolor='k')\n",
    "\n",
    "current_tile_df.sort_values(by='total_editing_days_ever').plot(kind='scatter',\n",
    "    ax=axs,x='total_editing_days_ever',y='percent_user_edits', label=study_tiles[study_tile_idx]['name'])\n",
    "\n",
    "compare_tile_df.sort_values(by='total_editing_days_ever').plot(kind='scatter', \n",
    "    ax=axs,x='total_editing_days_ever',y='percent_user_edits', color='red', label=\"Compare Tile\")\n",
    "\n",
    "df = pd.DataFrame(current_tile_df.sort_values(by='total_editing_days_ever')[['total_editing_days_ever','percent_user_edits']])\n",
    "fit = np.polyfit( df.total_editing_days_ever, df.percent_user_edits, deg=1)\n",
    "axs.plot(df.total_editing_days_ever, fit[0] * df.total_editing_days_ever + fit[1], color='blue')\n",
    "\n",
    "comparedf = pd.DataFrame(compare_tile_df.sort_values(by='total_editing_days_ever')[['total_editing_days_ever','percent_user_edits']])\n",
    "compare_fit = np.polyfit( comparedf.total_editing_days_ever, comparedf.percent_user_edits, deg=1)\n",
    "axs.plot(comparedf.total_editing_days_ever, compare_fit[0] * comparedf.total_editing_days_ever + compare_fit[1], color='red')\n",
    "\n",
    "axs.set_xscale('log')\n",
    "axs.set_yscale('log')\n",
    "\n",
    "axs.set_xlim(1,df.total_editing_days_ever.max())\n",
    "axs.set_ylim(0.01,100)\n",
    "axs.set_xlabel(\"Users's total number of active days\")\n",
    "axs.set_ylabel(\"Percent of User's Edits on this tile\")\n",
    "plt.suptitle(\"Percentage of User's Edits (total) Occuring on this tile\",fontsize=18)"
   ]
  },
  {
   "cell_type": "code",
   "execution_count": 62,
   "metadata": {
    "collapsed": false
   },
   "outputs": [
    {
     "data": {
      "text/plain": [
       "<matplotlib.text.Text at 0x7f57ca7dea90>"
      ]
     },
     "execution_count": 62,
     "metadata": {},
     "output_type": "execute_result"
    },
    {
     "data": {
      "image/png": "[encoded data removed]",
      "text/plain": [
       "<matplotlib.figure.Figure at 0x7f57a2a6e710>"
      ]
     },
     "metadata": {},
     "output_type": "display_data"
    }
   ],
   "source": [
    "sns.set(font_scale=1.25)\n",
    "plt.style.use('seaborn-white')\n",
    "fig, axs = plt.subplots(nrows=1, ncols=1, figsize=(8,8), facecolor='w', edgecolor='k')\n",
    "\n",
    "current_tile_df.sort_values(by='total_editing_days_ever').plot(kind='scatter',\n",
    "    ax=axs,x='total_editing_days_ever',y='percent_user_edits', loglog=True, label=study_tiles[study_tile_idx]['name'])\n",
    "\n",
    "compare_tile_df.sort_values(by='total_editing_days_ever').plot(kind='scatter', \n",
    "    ax=axs,x='total_editing_days_ever',y='percent_user_edits', loglog=True, color='red', label=\"Compare Tile\")\n",
    "\n",
    "axs.set_xlim(0,10000)\n",
    "axs.set_ylim(0,100)\n",
    "axs.set_xlabel(\"Users's total number of active days\")\n",
    "axs.set_ylabel(\"Percent of User's Edits on this tile\")\n",
    "plt.suptitle(\"Percentage of User's Edits (total) Occuring on this tile\",fontsize=18)"
   ]
  },
  {
   "cell_type": "code",
   "execution_count": null,
   "metadata": {
    "collapsed": true
   },
   "outputs": [],
   "source": []
  },
  {
   "cell_type": "code",
   "execution_count": null,
   "metadata": {
    "collapsed": true
   },
   "outputs": [],
   "source": []
  }
 ],
 "metadata": {
  "kernelspec": {
   "display_name": "IPython (Python 3)",
   "language": "python",
   "name": "python3"
  },
  "language_info": {
   "codemirror_mode": {
    "name": "ipython",
    "version": 3
   },
   "file_extension": ".py",
   "mimetype": "text/x-python",
   "name": "python",
   "nbconvert_exporter": "python",
   "pygments_lexer": "ipython3",
   "version": "3.4.3"
  }
 },
 "nbformat": 4,
 "nbformat_minor": 1
}
