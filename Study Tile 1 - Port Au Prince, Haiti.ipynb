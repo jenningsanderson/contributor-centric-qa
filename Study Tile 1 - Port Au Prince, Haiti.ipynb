{
 "cells": [
  {
   "cell_type": "code",
   "execution_count": 2,
   "metadata": {
    "collapsed": false
   },
   "outputs": [],
   "source": [
    "import matplotlib.pyplot as plt; import numpy as np; import pandas as pd\n",
    "from IPython import display\n",
    "import seaborn as sns\n",
    "from ContributorCentricFunctions import *\n",
    "%matplotlib inline"
   ]
  },
  {
   "cell_type": "code",
   "execution_count": 3,
   "metadata": {
    "collapsed": false,
    "scrolled": true
   },
   "outputs": [
    {
     "data": {
      "text/plain": [
       "[2005, 2006, 2007, 2008, 2009, 2010, 2011, 2012, 2013, 2014, 2015, 2016]"
      ]
     },
     "execution_count": 3,
     "metadata": {},
     "output_type": "execute_result"
    }
   ],
   "source": [
    "years = [2005+i for i in range(12)]\n",
    "years"
   ]
  },
  {
   "cell_type": "code",
   "execution_count": 4,
   "metadata": {
    "collapsed": false
   },
   "outputs": [
    {
     "name": "stdout",
     "output_type": "stream",
     "text": [
      "Found 9 tiles.\n"
     ]
    }
   ],
   "source": [
    "study_tiles = json.loads(open('study_tiles_with_compare_tiles.json','r').read())\n",
    "print(\"Found {0} tiles.\".format(len(study_tiles)))"
   ]
  },
  {
   "cell_type": "markdown",
   "metadata": {},
   "source": [
    "# Study Tiles: Load data for a specific study tile"
   ]
  },
  {
   "cell_type": "code",
   "execution_count": 5,
   "metadata": {
    "collapsed": false
   },
   "outputs": [
    {
     "name": "stdout",
     "output_type": "stream",
     "text": [
      "0 Port Au Prince, Haiti\n",
      "1 Trisuli Bazar, Nepal\n",
      "2 Tacloban\n",
      "3 Kenema, Sierra Leone\n",
      "4 Monrovia, Liberia\n",
      "5 Kathmandu, Nepal\n",
      "6 Heidelberg, Germany\n",
      "7 London\n",
      "8 Manhattan, NY\n"
     ]
    }
   ],
   "source": [
    "for idx, tile in enumerate(study_tiles):\n",
    "    print(idx, tile['name'])"
   ]
  },
  {
   "cell_type": "markdown",
   "metadata": {},
   "source": [
    "## 1. Get the `user_list` by setting the `study_tile_idx` to the appropriate study tile"
   ]
  },
  {
   "cell_type": "code",
   "execution_count": 6,
   "metadata": {
    "collapsed": true
   },
   "outputs": [],
   "source": [
    "study_tile_idx = 0"
   ]
  },
  {
   "cell_type": "code",
   "execution_count": 7,
   "metadata": {
    "collapsed": false
   },
   "outputs": [
    {
     "name": "stdout",
     "output_type": "stream",
     "text": [
      "2005 . 2006 . 2007 . 2008 . 2009 . 2010 . 2011 . 2012 . 2013 . 2014 . 2015 . 2016 . "
     ]
    }
   ],
   "source": [
    "reset() #Safety for the db connections\n",
    "study_tiles[study_tile_idx]['user_list'] = get_all_users_who_edited_tile(study_tiles[study_tile_idx])"
   ]
  },
  {
   "cell_type": "code",
   "execution_count": 8,
   "metadata": {
    "collapsed": false
   },
   "outputs": [
    {
     "name": "stdout",
     "output_type": "stream",
     "text": [
      "Found: 440 users\n"
     ]
    }
   ],
   "source": [
    "print(\"Found: {0} users\".format(len(study_tiles[study_tile_idx]['user_list'])))"
   ]
  },
  {
   "cell_type": "markdown",
   "metadata": {},
   "source": [
    "## 2. Build the User Distributions\n",
    "If this doesn't run, run the cell 2 above again)"
   ]
  },
  {
   "cell_type": "code",
   "execution_count": 9,
   "metadata": {
    "collapsed": false
   },
   "outputs": [
    {
     "name": "stderr",
     "output_type": "stream",
     "text": [
      " 2194/ ~ 2112"
     ]
    },
    {
     "data": {
      "text/html": [
       "<div>\n",
       "<table border=\"1\" class=\"dataframe\">\n",
       "  <thead>\n",
       "    <tr style=\"text-align: right;\">\n",
       "      <th></th>\n",
       "      <th>quadkey</th>\n",
       "      <th>year</th>\n",
       "      <th>uid</th>\n",
       "      <th>buildings</th>\n",
       "      <th>road_km</th>\n",
       "      <th>amenities</th>\n",
       "      <th>edits</th>\n",
       "      <th>num_days</th>\n",
       "      <th>user_stats_uid</th>\n",
       "      <th>user_name</th>\n",
       "      <th>total_year</th>\n",
       "      <th>total_buildings</th>\n",
       "      <th>total_road_km</th>\n",
       "      <th>total_amenities</th>\n",
       "      <th>total_edits</th>\n",
       "      <th>total_active_days</th>\n",
       "    </tr>\n",
       "  </thead>\n",
       "  <tbody>\n",
       "    <tr>\n",
       "      <th>0</th>\n",
       "      <td>102322322323</td>\n",
       "      <td>2005</td>\n",
       "      <td>143</td>\n",
       "      <td>0</td>\n",
       "      <td>0.0</td>\n",
       "      <td>0</td>\n",
       "      <td>5</td>\n",
       "      <td>1</td>\n",
       "      <td>143</td>\n",
       "      <td>sxpert</td>\n",
       "      <td>2005</td>\n",
       "      <td>0</td>\n",
       "      <td>0.0</td>\n",
       "      <td>0</td>\n",
       "      <td>1154</td>\n",
       "      <td>5</td>\n",
       "    </tr>\n",
       "    <tr>\n",
       "      <th>1</th>\n",
       "      <td>120032111012</td>\n",
       "      <td>2005</td>\n",
       "      <td>143</td>\n",
       "      <td>0</td>\n",
       "      <td>0.0</td>\n",
       "      <td>0</td>\n",
       "      <td>12</td>\n",
       "      <td>1</td>\n",
       "      <td>143</td>\n",
       "      <td>sxpert</td>\n",
       "      <td>2005</td>\n",
       "      <td>0</td>\n",
       "      <td>0.0</td>\n",
       "      <td>0</td>\n",
       "      <td>1154</td>\n",
       "      <td>5</td>\n",
       "    </tr>\n",
       "  </tbody>\n",
       "</table>\n",
       "</div>"
      ],
      "text/plain": [
       "        quadkey  year  uid  buildings  road_km  amenities  edits  num_days  \\\n",
       "0  102322322323  2005  143          0      0.0          0      5         1   \n",
       "1  120032111012  2005  143          0      0.0          0     12         1   \n",
       "\n",
       "   user_stats_uid user_name  total_year  total_buildings  total_road_km  \\\n",
       "0             143    sxpert        2005                0            0.0   \n",
       "1             143    sxpert        2005                0            0.0   \n",
       "\n",
       "   total_amenities  total_edits  total_active_days  \n",
       "0                0         1154                  5  \n",
       "1                0         1154                  5  "
      ]
     },
     "metadata": {},
     "output_type": "display_data"
    }
   ],
   "source": [
    "study_tiles[study_tile_idx]['users'] = build_user_distributions(study_tiles[study_tile_idx]['user_list'])\n",
    "display.display(study_tiles[study_tile_idx]['users'][study_tiles[study_tile_idx]['user_list'][0]]['df'].head(2))"
   ]
  },
  {
   "cell_type": "markdown",
   "metadata": {
    "collapsed": true
   },
   "source": [
    "## 3. Get tile focus for each user"
   ]
  },
  {
   "cell_type": "code",
   "execution_count": 10,
   "metadata": {
    "collapsed": false
   },
   "outputs": [
    {
     "name": "stderr",
     "output_type": "stream",
     "text": [
      " 440/440"
     ]
    },
    {
     "data": {
      "text/html": [
       "<div>\n",
       "<table border=\"1\" class=\"dataframe\">\n",
       "  <thead>\n",
       "    <tr style=\"text-align: right;\">\n",
       "      <th></th>\n",
       "      <th>road_km</th>\n",
       "      <th>buildings</th>\n",
       "      <th>edits</th>\n",
       "      <th>num_days</th>\n",
       "      <th>amenities</th>\n",
       "      <th>percent_user_road_km</th>\n",
       "      <th>percent_user_buildings</th>\n",
       "      <th>percent_user_amenities</th>\n",
       "      <th>percent_user_edits</th>\n",
       "    </tr>\n",
       "    <tr>\n",
       "      <th>quadkey</th>\n",
       "      <th></th>\n",
       "      <th></th>\n",
       "      <th></th>\n",
       "      <th></th>\n",
       "      <th></th>\n",
       "      <th></th>\n",
       "      <th></th>\n",
       "      <th></th>\n",
       "      <th></th>\n",
       "    </tr>\n",
       "  </thead>\n",
       "  <tbody>\n",
       "    <tr>\n",
       "      <th>031331301203</th>\n",
       "      <td>0.000000</td>\n",
       "      <td>0</td>\n",
       "      <td>2</td>\n",
       "      <td>1</td>\n",
       "      <td>0</td>\n",
       "      <td>0.00000</td>\n",
       "      <td>0.0</td>\n",
       "      <td>0.0</td>\n",
       "      <td>0.003337</td>\n",
       "    </tr>\n",
       "    <tr>\n",
       "      <th>031333131030</th>\n",
       "      <td>0.042327</td>\n",
       "      <td>0</td>\n",
       "      <td>1</td>\n",
       "      <td>1</td>\n",
       "      <td>0</td>\n",
       "      <td>0.00261</td>\n",
       "      <td>0.0</td>\n",
       "      <td>0.0</td>\n",
       "      <td>0.001668</td>\n",
       "    </tr>\n",
       "  </tbody>\n",
       "</table>\n",
       "</div>"
      ],
      "text/plain": [
       "               road_km  buildings  edits  num_days  amenities  \\\n",
       "quadkey                                                         \n",
       "031331301203  0.000000          0      2         1          0   \n",
       "031333131030  0.042327          0      1         1          0   \n",
       "\n",
       "              percent_user_road_km  percent_user_buildings  \\\n",
       "quadkey                                                      \n",
       "031331301203               0.00000                     0.0   \n",
       "031333131030               0.00261                     0.0   \n",
       "\n",
       "              percent_user_amenities  percent_user_edits  \n",
       "quadkey                                                   \n",
       "031331301203                     0.0            0.003337  \n",
       "031333131030                     0.0            0.001668  "
      ]
     },
     "metadata": {},
     "output_type": "display_data"
    },
    {
     "data": {
      "text/html": [
       "<div>\n",
       "<table border=\"1\" class=\"dataframe\">\n",
       "  <thead>\n",
       "    <tr style=\"text-align: right;\">\n",
       "      <th></th>\n",
       "      <th>uid</th>\n",
       "      <th>user_name</th>\n",
       "      <th>year</th>\n",
       "      <th>total_buildings</th>\n",
       "      <th>total_road_km</th>\n",
       "      <th>total_amenities</th>\n",
       "      <th>total_edits</th>\n",
       "      <th>total_active_days</th>\n",
       "    </tr>\n",
       "  </thead>\n",
       "  <tbody>\n",
       "    <tr>\n",
       "      <th>0</th>\n",
       "      <td>143</td>\n",
       "      <td>sxpert</td>\n",
       "      <td>2005</td>\n",
       "      <td>0</td>\n",
       "      <td>0.000</td>\n",
       "      <td>0</td>\n",
       "      <td>1154</td>\n",
       "      <td>5</td>\n",
       "    </tr>\n",
       "    <tr>\n",
       "      <th>1</th>\n",
       "      <td>143</td>\n",
       "      <td>sxpert</td>\n",
       "      <td>2006</td>\n",
       "      <td>0</td>\n",
       "      <td>61.198</td>\n",
       "      <td>5</td>\n",
       "      <td>18406</td>\n",
       "      <td>48</td>\n",
       "    </tr>\n",
       "  </tbody>\n",
       "</table>\n",
       "</div>"
      ],
      "text/plain": [
       "   uid user_name  year  total_buildings  total_road_km  total_amenities  \\\n",
       "0  143    sxpert  2005                0          0.000                0   \n",
       "1  143    sxpert  2006                0         61.198                5   \n",
       "\n",
       "   total_edits  total_active_days  \n",
       "0         1154                  5  \n",
       "1        18406                 48  "
      ]
     },
     "metadata": {},
     "output_type": "display_data"
    }
   ],
   "source": [
    "process_dictionary_of_users(study_tiles[study_tile_idx]['users'])\n",
    "display.display(study_tiles[study_tile_idx]['users'][study_tiles[study_tile_idx]['user_list'][0]]['tiles'].head(2))\n",
    "display.display(study_tiles[study_tile_idx]['users'][study_tiles[study_tile_idx]['user_list'][0]]['annual'].head(2))"
   ]
  },
  {
   "cell_type": "markdown",
   "metadata": {},
   "source": [
    "## 3.5 Get Study Tile Focus"
   ]
  },
  {
   "cell_type": "code",
   "execution_count": 11,
   "metadata": {
    "collapsed": false
   },
   "outputs": [
    {
     "name": "stderr",
     "output_type": "stream",
     "text": [
      " 435/440"
     ]
    },
    {
     "data": {
      "text/html": [
       "<div>\n",
       "<table border=\"1\" class=\"dataframe\">\n",
       "  <thead>\n",
       "    <tr style=\"text-align: right;\">\n",
       "      <th></th>\n",
       "      <th>quadkey</th>\n",
       "      <th>year</th>\n",
       "      <th>uid</th>\n",
       "      <th>buildings</th>\n",
       "      <th>road_km</th>\n",
       "      <th>amenities</th>\n",
       "      <th>edits</th>\n",
       "      <th>num_days</th>\n",
       "      <th>user_stats_uid</th>\n",
       "      <th>user_name</th>\n",
       "      <th>total_year</th>\n",
       "      <th>total_buildings</th>\n",
       "      <th>total_road_km</th>\n",
       "      <th>total_amenities</th>\n",
       "      <th>total_edits</th>\n",
       "      <th>total_active_days</th>\n",
       "    </tr>\n",
       "  </thead>\n",
       "  <tbody>\n",
       "    <tr>\n",
       "      <th>481</th>\n",
       "      <td>032211203001</td>\n",
       "      <td>2010</td>\n",
       "      <td>143</td>\n",
       "      <td>149</td>\n",
       "      <td>2.64401</td>\n",
       "      <td>0</td>\n",
       "      <td>174</td>\n",
       "      <td>2</td>\n",
       "      <td>143</td>\n",
       "      <td>sxpert</td>\n",
       "      <td>2010</td>\n",
       "      <td>257</td>\n",
       "      <td>42.1018</td>\n",
       "      <td>13</td>\n",
       "      <td>975</td>\n",
       "      <td>14</td>\n",
       "    </tr>\n",
       "  </tbody>\n",
       "</table>\n",
       "</div>"
      ],
      "text/plain": [
       "          quadkey  year  uid  buildings  road_km  amenities  edits  num_days  \\\n",
       "481  032211203001  2010  143        149  2.64401          0    174         2   \n",
       "\n",
       "     user_stats_uid user_name  total_year  total_buildings  total_road_km  \\\n",
       "481             143    sxpert        2010              257        42.1018   \n",
       "\n",
       "     total_amenities  total_edits  total_active_days  \n",
       "481               13          975                 14  "
      ]
     },
     "metadata": {},
     "output_type": "display_data"
    }
   ],
   "source": [
    "process_dictionary_of_users_for_study_tile_stats(study_tiles[study_tile_idx]['users'], study_tiles[study_tile_idx]['quad'])\n",
    "display.display(study_tiles[study_tile_idx]['users'][study_tiles[study_tile_idx]['user_list'][0]]['toi'].head(2))"
   ]
  },
  {
   "cell_type": "markdown",
   "metadata": {},
   "source": [
    "## 4. Who is mapping what: Build Current Tile DF"
   ]
  },
  {
   "cell_type": "code",
   "execution_count": 12,
   "metadata": {
    "collapsed": false
   },
   "outputs": [
    {
     "data": {
      "text/html": [
       "<div>\n",
       "<table border=\"1\" class=\"dataframe\">\n",
       "  <thead>\n",
       "    <tr style=\"text-align: right;\">\n",
       "      <th></th>\n",
       "      <th>road_km</th>\n",
       "      <th>buildings</th>\n",
       "      <th>edits</th>\n",
       "      <th>num_days</th>\n",
       "      <th>amenities</th>\n",
       "      <th>percent_user_road_km</th>\n",
       "      <th>percent_user_buildings</th>\n",
       "      <th>percent_user_amenities</th>\n",
       "      <th>percent_user_edits</th>\n",
       "      <th>uid</th>\n",
       "      <th>total_editing_days_ever</th>\n",
       "      <th>total_buildings_ever</th>\n",
       "      <th>total_road_km_ever</th>\n",
       "      <th>total_amenities_ever</th>\n",
       "      <th>total_edits_ever</th>\n",
       "      <th>percent_tile_road_km</th>\n",
       "      <th>percent_tile_buildings</th>\n",
       "      <th>percent_tile_amenities</th>\n",
       "      <th>percent_tile_edits</th>\n",
       "    </tr>\n",
       "  </thead>\n",
       "  <tbody>\n",
       "    <tr>\n",
       "      <th>0</th>\n",
       "      <td>3.1632</td>\n",
       "      <td>151</td>\n",
       "      <td>250</td>\n",
       "      <td>13</td>\n",
       "      <td>1</td>\n",
       "      <td>0.152193</td>\n",
       "      <td>0.455437</td>\n",
       "      <td>0.212314</td>\n",
       "      <td>0.635922</td>\n",
       "      <td>1443840</td>\n",
       "      <td>276</td>\n",
       "      <td>33155</td>\n",
       "      <td>2078.4218</td>\n",
       "      <td>471</td>\n",
       "      <td>39313</td>\n",
       "      <td>0.108544</td>\n",
       "      <td>1.015331</td>\n",
       "      <td>0.013622</td>\n",
       "      <td>0.572253</td>\n",
       "    </tr>\n",
       "    <tr>\n",
       "      <th>1</th>\n",
       "      <td>0.0000</td>\n",
       "      <td>0</td>\n",
       "      <td>2</td>\n",
       "      <td>1</td>\n",
       "      <td>0</td>\n",
       "      <td>0.000000</td>\n",
       "      <td>0.000000</td>\n",
       "      <td>0.000000</td>\n",
       "      <td>0.000440</td>\n",
       "      <td>307202</td>\n",
       "      <td>998</td>\n",
       "      <td>7659</td>\n",
       "      <td>128673.0430</td>\n",
       "      <td>6275</td>\n",
       "      <td>454250</td>\n",
       "      <td>0.000000</td>\n",
       "      <td>0.000000</td>\n",
       "      <td>0.000000</td>\n",
       "      <td>0.004578</td>\n",
       "    </tr>\n",
       "  </tbody>\n",
       "</table>\n",
       "</div>"
      ],
      "text/plain": [
       "   road_km  buildings  edits  num_days  amenities  percent_user_road_km  \\\n",
       "0   3.1632        151    250        13          1              0.152193   \n",
       "1   0.0000          0      2         1          0              0.000000   \n",
       "\n",
       "   percent_user_buildings  percent_user_amenities  percent_user_edits  \\\n",
       "0                0.455437                0.212314            0.635922   \n",
       "1                0.000000                0.000000            0.000440   \n",
       "\n",
       "       uid  total_editing_days_ever  total_buildings_ever  total_road_km_ever  \\\n",
       "0  1443840                      276                 33155           2078.4218   \n",
       "1   307202                      998                  7659         128673.0430   \n",
       "\n",
       "   total_amenities_ever  total_edits_ever  percent_tile_road_km  \\\n",
       "0                   471             39313              0.108544   \n",
       "1                  6275            454250              0.000000   \n",
       "\n",
       "   percent_tile_buildings  percent_tile_amenities  percent_tile_edits  \n",
       "0                1.015331                0.013622            0.572253  \n",
       "1                0.000000                0.000000            0.004578  "
      ]
     },
     "execution_count": 12,
     "metadata": {},
     "output_type": "execute_result"
    }
   ],
   "source": [
    "current_tile_df = build_all_stats_for_tile(study_tiles[study_tile_idx])\n",
    "current_tile_df.head(2)"
   ]
  },
  {
   "cell_type": "markdown",
   "metadata": {},
   "source": [
    "### Processed Study tiles now have the following attributes: \n",
    "\n",
    "- **name**: Name of Region\n",
    "- **user_list**: List of UIDs of users who have edited on this tile\n",
    "- **users**: Dictionary, keyed by UID\n",
    "  - `uid`:\n",
    "    - **df**: Full dataframe of all edits on all tiles by this user\n",
    "    - **tiles**: DataFrame of unique tiles, summed over all years\n",
    "    - **annual**: DataFrame of Editing Aggregates over all tiles, per year"
   ]
  },
  {
   "cell_type": "markdown",
   "metadata": {},
   "source": [
    "# Begin Analysis of Tile"
   ]
  },
  {
   "cell_type": "code",
   "execution_count": 13,
   "metadata": {
    "collapsed": false
   },
   "outputs": [
    {
     "name": "stdout",
     "output_type": "stream",
     "text": [
      "Current Study Tile: Port Au Prince, Haiti\n",
      "\tUsers: 440\n",
      "Current_tile_df size: 440 (Should match the user count)\n"
     ]
    }
   ],
   "source": [
    "print(\"Current Study Tile: {0}\".format(study_tiles[study_tile_idx]['name']))\n",
    "print(\"\\tUsers: {0}\".format(len(study_tiles[study_tile_idx]['user_list'])))\n",
    "print(\"Current_tile_df size: {0} (Should match the user count)\".format(len(current_tile_df)))"
   ]
  },
  {
   "cell_type": "markdown",
   "metadata": {},
   "source": [
    "## Percentage of a User's edits (of all time) that occur on this tile: "
   ]
  },
  {
   "cell_type": "markdown",
   "metadata": {},
   "source": [
    "# 1.  Users active on this tile overtime"
   ]
  },
  {
   "cell_type": "code",
   "execution_count": 14,
   "metadata": {
    "collapsed": false
   },
   "outputs": [],
   "source": [
    "overtime_df = get_active_users_overtime_df(study_tiles[study_tile_idx]['users'])"
   ]
  },
  {
   "cell_type": "code",
   "execution_count": 15,
   "metadata": {
    "collapsed": false
   },
   "outputs": [
    {
     "data": {
      "text/plain": [
       "<matplotlib.axes._subplots.AxesSubplot at 0x7fbfefc0fc50>"
      ]
     },
     "execution_count": 15,
     "metadata": {},
     "output_type": "execute_result"
    },
    {
     "data": {
      "image/png": "[encoded data removed]",
      "text/plain": [
       "<matplotlib.figure.Figure at 0x7fc0d7fdba58>"
      ]
     },
     "metadata": {},
     "output_type": "display_data"
    }
   ],
   "source": [
    "sns.set(font_scale=1.25)\n",
    "plt.style.use('seaborn-white')\n",
    "fig, axs = plt.subplots(nrows=1, ncols=1, figsize=(15,8), facecolor='w', edgecolor='k')\n",
    "\n",
    "#How many days (to date) is considered experienced?\n",
    "threshold = 7\n",
    "\n",
    "gt_10 = overtime_df.query(\"active_days_to_date>={0}\".format(threshold)).groupby('year').aggregate({'uid':pd.Series.nunique})\n",
    "lt_10 = overtime_df.query(\"active_days_to_date<{0}\".format(threshold)).groupby('year').aggregate({'uid':pd.Series.nunique})\n",
    "\n",
    "gt_10.columns = ['Experienced']\n",
    "lt_10.columns = ['Inexperienced']\n",
    "\n",
    "gt_10.join(lt_10).plot(ax=axs,kind='bar',stacked=True)"
   ]
  },
  {
   "cell_type": "markdown",
   "metadata": {
    "collapsed": true
   },
   "source": [
    "# 2: User Experience \n",
    "\n",
    "Who's Mapping Buildings and Roads?"
   ]
  },
  {
   "cell_type": "code",
   "execution_count": 16,
   "metadata": {
    "collapsed": false
   },
   "outputs": [
    {
     "data": {
      "image/png": "[encoded data removed]",
      "text/plain": [
       "<matplotlib.figure.Figure at 0x7fbfefc2d048>"
      ]
     },
     "metadata": {},
     "output_type": "display_data"
    }
   ],
   "source": [
    "sns.set(font_scale=1.25)\n",
    "plt.style.use('seaborn-white')\n",
    "fig, axs = plt.subplots(nrows=1, ncols=2, figsize=(15,8), facecolor='w', edgecolor='k')\n",
    "\n",
    "b_view = current_tile_df.sort_values(by='total_buildings_ever')\n",
    "b_view['cumulative_percent'] = b_view.percent_tile_buildings.cumsum()\n",
    "\n",
    "b_view.plot(ax=axs[0],x='total_buildings_ever',y='cumulative_percent', logx=True,legend=None)\n",
    "\n",
    "axs[0].set_ylabel('Percent of buildings on tile (cumulative)')\n",
    "axs[0].set_xlabel('Number of Buildings a user has mapped (experience)')\n",
    "\n",
    "\n",
    "r_view = current_tile_df.sort_values(by='total_road_km_ever')\n",
    "r_view['cumulative_percent'] = r_view.percent_tile_road_km.cumsum()\n",
    "\n",
    "r_view.plot(ax=axs[1],x='total_road_km_ever',y='cumulative_percent', logx=True,legend=None)\n",
    "\n",
    "axs[1].set_ylabel('Percent of road km on tile (cumulative)')\n",
    "axs[1].set_xlabel('Kilometers of roads a user has mapped (experience)')\n",
    "\n",
    "for ax in axs:\n",
    "    ax.set_ylim(0,101)\n",
    "    ax.set_xlim(1)"
   ]
  },
  {
   "cell_type": "markdown",
   "metadata": {},
   "source": [
    "# 3. User Focus"
   ]
  },
  {
   "cell_type": "code",
   "execution_count": 17,
   "metadata": {
    "collapsed": false
   },
   "outputs": [
    {
     "data": {
      "image/png": "[encoded data removed]",
      "text/plain": [
       "<matplotlib.figure.Figure at 0x7fbfefafca20>"
      ]
     },
     "metadata": {},
     "output_type": "display_data"
    }
   ],
   "source": [
    "sns.set(font_scale=1.25)\n",
    "plt.style.use('seaborn-white')\n",
    "fig, axs = plt.subplots(nrows=1, ncols=2, figsize=(15,8), facecolor='w', edgecolor='k')\n",
    "\n",
    "current_tile_df.query('total_editing_days_ever>7').query('total_editing_days_ever>1').plot(ax=axs[0], kind='hist',y=['percent_user_edits'], legend=None, bins=np.arange(0,101,5))\n",
    "axs[0].set_title('Users Editing more than 7 days ever')\n",
    "\n",
    "current_tile_df.query('total_editing_days_ever<7').query('total_editing_days_ever>1').plot(ax=axs[1], kind='hist',y=['percent_user_edits'], legend=None, bins=np.arange(0,101,5))\n",
    "axs[1].set_title('Users Editing between 2 and 7 days ever')\n",
    "\n",
    "for ax in axs:\n",
    "    ax.set_xlabel(\"Percent of user's edits on this tile\")\n",
    "    ax.set_ylabel('Number of Users')"
   ]
  },
  {
   "cell_type": "markdown",
   "metadata": {},
   "source": [
    "This is still not _quite_ right, there are better ways to show this type of _User Focus_"
   ]
  },
  {
   "cell_type": "markdown",
   "metadata": {},
   "source": [
    "<br>\n",
    "<hr>\n",
    "<br>\n",
    "<br>\n",
    "# Run Tile-by-Tile Comparisons\n",
    "For each study tile, we have _comparable_ tiles, these are the tiles of most interest, because the difference in patterns between these tiles and our study tiles is what makes the analysis.\n",
    "\n",
    "#### 1. Get a _comparable_ tile"
   ]
  },
  {
   "cell_type": "code",
   "execution_count": null,
   "metadata": {
    "collapsed": false
   },
   "outputs": [],
   "source": [
    "if 'compare_tiles' in study_tiles[study_tile_idx]:\n",
    "    print(\"Comparable Tiles for {0}: \".format(study_tiles[study_tile_idx]['name']))\n",
    "    for idx, compare in enumerate(study_tiles[study_tile_idx]['compare_tiles']):\n",
    "        print(\"\\t{0}, '{1}'\".format(idx, compare['quad']))"
   ]
  },
  {
   "cell_type": "code",
   "execution_count": null,
   "metadata": {
    "collapsed": true
   },
   "outputs": [],
   "source": [
    "#Which tile to compare? (from within the comparable study tiles)\n",
    "compare_tile_idx=1"
   ]
  },
  {
   "cell_type": "markdown",
   "metadata": {},
   "source": [
    "#### 2. Get Users"
   ]
  },
  {
   "cell_type": "code",
   "execution_count": null,
   "metadata": {
    "collapsed": false
   },
   "outputs": [],
   "source": [
    "reset()\n",
    "study_tiles[study_tile_idx]['compare_tiles'][compare_tile_idx]['user_list'] = get_all_users_who_edited_tile(study_tiles[study_tile_idx]['compare_tiles'][compare_tile_idx])"
   ]
  },
  {
   "cell_type": "markdown",
   "metadata": {},
   "source": [
    "#### 3. Build actual user distribution (may take a few minutes)\n",
    "If it fails, run the above cell again (probably twice)"
   ]
  },
  {
   "cell_type": "code",
   "execution_count": null,
   "metadata": {
    "collapsed": false,
    "scrolled": true
   },
   "outputs": [],
   "source": [
    "study_tiles[study_tile_idx]['compare_tiles'][compare_tile_idx]['users'] = build_user_distributions(study_tiles[study_tile_idx]['compare_tiles'][compare_tile_idx]['user_list'])"
   ]
  },
  {
   "cell_type": "markdown",
   "metadata": {},
   "source": [
    "#### 4. Now process user focus for compare tiles"
   ]
  },
  {
   "cell_type": "code",
   "execution_count": null,
   "metadata": {
    "collapsed": false
   },
   "outputs": [],
   "source": [
    "process_dictionary_of_users(study_tiles[study_tile_idx]['compare_tiles'][compare_tile_idx]['users'])\n",
    "process_dictionary_of_users_for_study_tile_stats(study_tiles[study_tile_idx]['compare_tiles'][compare_tile_idx]['users'], study_tiles[study_tile_idx]['compare_tiles'][compare_tile_idx]['quad'])\n",
    "\n",
    "display.display(study_tiles[study_tile_idx]['users'][study_tiles[study_tile_idx]['user_list'][0]]['toi'].head(2))\n",
    "display.display(study_tiles[study_tile_idx]['compare_tiles'][compare_tile_idx]['users'][study_tiles[study_tile_idx]['compare_tiles'][compare_tile_idx]['user_list'][0]]['tiles'].head(2))\n",
    "display.display(study_tiles[study_tile_idx]['compare_tiles'][compare_tile_idx]['users'][study_tiles[study_tile_idx]['compare_tiles'][compare_tile_idx]['user_list'][0]]['annual'].head(2))"
   ]
  },
  {
   "cell_type": "markdown",
   "metadata": {},
   "source": [
    "#### 5. Build Compare Tile Full Stats"
   ]
  },
  {
   "cell_type": "code",
   "execution_count": null,
   "metadata": {
    "collapsed": false
   },
   "outputs": [],
   "source": [
    "compare_tile_df = build_all_stats_for_tile(study_tiles[study_tile_idx]['compare_tiles'][compare_tile_idx])\n",
    "compare_tile_df.count().head(2)"
   ]
  },
  {
   "cell_type": "code",
   "execution_count": null,
   "metadata": {
    "collapsed": false
   },
   "outputs": [],
   "source": [
    "compare_overtime_df = get_active_users_overtime_df(study_tiles[study_tile_idx]['compare_tiles'][compare_tile_idx]['users'])\n",
    "compare_overtime_df.head(2)"
   ]
  },
  {
   "cell_type": "markdown",
   "metadata": {},
   "source": [
    "<br>\n",
    "<br>\n",
    "<hr>\n",
    "\n",
    "# Now we can compare Tacloban to its similar tiles\n",
    "\n",
    "First, basic stats: "
   ]
  },
  {
   "cell_type": "code",
   "execution_count": null,
   "metadata": {
    "collapsed": false
   },
   "outputs": [],
   "source": [
    "print(\"Users on Study Tile: {0}, {1}\".format(len(study_tiles[study_tile_idx]['user_list']), len(current_tile_df)))\n",
    "print(\"Users on Compare Tile: {0}, {1}\".format(len(study_tiles[study_tile_idx]['compare_tiles'][compare_tile_idx]['user_list']), len(compare_tile_df)))"
   ]
  },
  {
   "cell_type": "markdown",
   "metadata": {},
   "source": [
    "# 1.  Users active on the tiles overtime"
   ]
  },
  {
   "cell_type": "code",
   "execution_count": null,
   "metadata": {
    "collapsed": false
   },
   "outputs": [],
   "source": [
    "sns.set(font_scale=1.25)\n",
    "plt.style.use('seaborn-whitegrid')\n",
    "fig, axs = plt.subplots(nrows=1, ncols=2, figsize=(15,8), facecolor='w', edgecolor='k')\n",
    "\n",
    "#How many days (to date) is considered experienced?\n",
    "threshold = 7\n",
    "#Study Tile (Tacloban)\n",
    "gt_10 = overtime_df.query(\"active_days_to_date>={0}\".format(threshold)).groupby('year').aggregate({'uid':pd.Series.nunique})\n",
    "lt_10 = overtime_df.query(\"active_days_to_date<{0}\".format(threshold)).groupby('year').aggregate({'uid':pd.Series.nunique})\n",
    "gt_10.columns = ['Experienced Contributors']\n",
    "lt_10.columns = ['Inexperienced Contributors']\n",
    "gt_10.join(lt_10).plot(ax=axs[0],kind='bar',stacked=True)\n",
    "\n",
    "#Compare DF\n",
    "compare_gt_10 = compare_overtime_df.query(\"active_days_to_date>={0}\".format(threshold)).groupby('year').aggregate({'uid':pd.Series.nunique})\n",
    "compare_lt_10 = compare_overtime_df.query(\"active_days_to_date<{0}\".format(threshold)).groupby('year').aggregate({'uid':pd.Series.nunique})\n",
    "compare_gt_10.columns = ['Experienced Contributors']\n",
    "compare_lt_10.columns = ['Inexperienced Contributors']\n",
    "compare_gt_10.join(compare_lt_10).plot(ax=axs[1],kind='bar',stacked=True)\n",
    "\n",
    "axs[0].set_title(study_tiles[study_tile_idx]['name'],fontsize=18)\n",
    "axs[0].set_ylabel(\"Users active each year\",fontsize=18)\n",
    "axs[1].set_title(\"Similar Tile\",fontsize=18)\n",
    "\n",
    "axs[1].set_ylim(axs[0].get_ylim())\n",
    "\n",
    "for ax in axs:\n",
    "    ax.legend_.remove()\n",
    "    ax.set_xlabel(\"\")\n",
    "\n",
    "handles, labels = axs[1].get_legend_handles_labels()\n",
    "plt.figlegend(handles, labels, loc='upper center', ncol=2, fontsize=15)"
   ]
  },
  {
   "cell_type": "markdown",
   "metadata": {},
   "source": [
    "# Percentage of a User's Edits on Each Tile"
   ]
  },
  {
   "cell_type": "code",
   "execution_count": null,
   "metadata": {
    "collapsed": false
   },
   "outputs": [],
   "source": [
    "sns.set(font_scale=1.25)\n",
    "plt.style.use('seaborn-white')\n",
    "fig, axs = plt.subplots(nrows=1, ncols=2, figsize=(15,8), facecolor='w', edgecolor='k')\n",
    "\n",
    "current_tile_df.plot(ax=axs[0], kind='hist',y=['percent_user_edits'], legend=None, bins=np.arange(0,101,5))\n",
    "axs[0].set_title(study_tiles[study_tile_idx]['name'])\n",
    "\n",
    "compare_tile_df.plot(ax=axs[1], kind='hist',y=['percent_user_edits'], legend=None, bins=np.arange(0,101,5))\n",
    "axs[1].set_title(study_tiles[study_tile_idx]['compare_tiles'][idx]['quad'])\n",
    "\n",
    "for ax in axs:\n",
    "    ax.set_xlabel(\"Percent of User's Edits on Tile\")\n",
    "    ax.set_ylabel('Number of Users')\n",
    "plt.suptitle(\"Percentage of a User's Edits (total) Occuring on this tile\",fontsize=18)\n",
    "None"
   ]
  },
  {
   "cell_type": "markdown",
   "metadata": {},
   "source": [
    "# Compare Buildings & Roads Across Two _Similar_ Tiles"
   ]
  },
  {
   "cell_type": "code",
   "execution_count": null,
   "metadata": {
    "collapsed": false
   },
   "outputs": [],
   "source": [
    "sns.set(font_scale=1.25)\n",
    "plt.style.use('seaborn-white')\n",
    "fig, axs = plt.subplots(nrows=1, ncols=2, figsize=(15,8), facecolor='w', edgecolor='k')\n",
    "\n",
    "#Buildings\n",
    "b_axis = axs[0]\n",
    "b_view = current_tile_df.sort_values(by='total_buildings_ever')\n",
    "b_view['cumulative_percent'] = b_view.percent_tile_buildings.cumsum()\n",
    "b_view.plot(ax=b_axis,x='total_buildings_ever',y='cumulative_percent', logx=True,label=study_tiles[study_tile_idx]['name'])\n",
    "\n",
    "compare_b_view = compare_tile_df.sort_values(by='total_buildings_ever')\n",
    "compare_b_view['cumulative_percent'] = compare_b_view.percent_tile_buildings.cumsum()\n",
    "compare_b_view.plot(ax=b_axis,x='total_buildings_ever',y='cumulative_percent', logx=True,label=\"Similar Tile\")\n",
    "\n",
    "b_axis.set_ylabel('Percent of buildings on tile (cumulative)')\n",
    "b_axis.set_xlabel('Number of Buildings a user has mapped (experience)')\n",
    "\n",
    "#Roads\n",
    "r_axis = axs[1]\n",
    "r_view = current_tile_df.sort_values(by='total_road_km_ever')\n",
    "r_view['cumulative_percent'] = r_view.percent_tile_road_km.cumsum()\n",
    "r_view.plot(ax=r_axis,x='total_road_km_ever',y='cumulative_percent', logx=True,label=study_tiles[study_tile_idx]['name'])\n",
    "\n",
    "compare_r_view = compare_tile_df.sort_values(by='total_road_km_ever')\n",
    "compare_r_view['cumulative_percent'] = compare_r_view.percent_tile_road_km.cumsum()\n",
    "compare_r_view.plot(ax=r_axis,x='total_road_km_ever',y='cumulative_percent', logx=True,label=\"Similar Tile\")\n",
    "\n",
    "r_axis.set_ylabel('Percent of road km on tile (cumulative)')\n",
    "r_axis.set_xlabel('Kilometers of roads a user has mapped (experience)')\n",
    "\n",
    "for ax in [r_axis, b_axis]:\n",
    "    ax.set_ylim(0,101)\n",
    "    ax.set_xlim(1)"
   ]
  },
  {
   "cell_type": "code",
   "execution_count": null,
   "metadata": {
    "collapsed": true
   },
   "outputs": [],
   "source": []
  }
 ],
 "metadata": {
  "kernelspec": {
   "display_name": "IPython (Python 3)",
   "language": "python",
   "name": "python3"
  },
  "language_info": {
   "codemirror_mode": {
    "name": "ipython",
    "version": 3
   },
   "file_extension": ".py",
   "mimetype": "text/x-python",
   "name": "python",
   "nbconvert_exporter": "python",
   "pygments_lexer": "ipython3",
   "version": "3.4.3"
  }
 },
 "nbformat": 4,
 "nbformat_minor": 1
}
