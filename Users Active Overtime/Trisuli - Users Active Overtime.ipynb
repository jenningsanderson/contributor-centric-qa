{
 "cells": [
  {
   "cell_type": "code",
   "execution_count": 1,
   "metadata": {
    "collapsed": false
   },
   "outputs": [],
   "source": [
    "import psycopg2, psycopg2.extras, psycopg2.pool, pickle, json, matplotlib, sys, time\n",
    "from multiprocessing import Pool, Manager\n",
    "from collections import OrderedDict\n",
    "import matplotlib.pyplot as plt; import numpy as np; import pandas as pd\n",
    "import seaborn as sns; from sqlalchemy import create_engine\n",
    "from IPython import display\n",
    "%matplotlib inline"
   ]
  },
  {
   "cell_type": "markdown",
   "metadata": {
    "collapsed": true
   },
   "source": [
    "# When are users most active on the tile... and how experienced are they?"
   ]
  },
  {
   "cell_type": "code",
   "execution_count": 2,
   "metadata": {
    "collapsed": false
   },
   "outputs": [
    {
     "name": "stdout",
     "output_type": "stream",
     "text": [
      "Found 9 tiles.\n"
     ]
    }
   ],
   "source": [
    "study_tiles = json.loads(open('../study_tiles_with_compare_tiles.json','r').read())\n",
    "print(\"Found {0} tiles.\".format(len(study_tiles)))"
   ]
  },
  {
   "cell_type": "code",
   "execution_count": 3,
   "metadata": {
    "collapsed": false,
    "scrolled": true
   },
   "outputs": [
    {
     "data": {
      "text/plain": [
       "[2005, 2006, 2007, 2008, 2009, 2010, 2011, 2012, 2013, 2014, 2015, 2016]"
      ]
     },
     "execution_count": 3,
     "metadata": {},
     "output_type": "execute_result"
    }
   ],
   "source": [
    "years = [2005+i for i in range(12)]\n",
    "years"
   ]
  },
  {
   "cell_type": "code",
   "execution_count": 4,
   "metadata": {
    "collapsed": false
   },
   "outputs": [],
   "source": [
    "# Create connections for panda queries\n",
    "pd_engines = []\n",
    "pd_connections = []\n",
    "for idx, year in enumerate(years):\n",
    "    pd_engines.append( create_engine(\"postgresql://anderstj@127.0.0.1:5432/world-{0}\".format(year)) )\n",
    "    pd_connections.append(pd_engines[idx].connect())\n",
    "\n",
    "def reset(pd_connections):\n",
    "    new_cons = []\n",
    "    for idx, con in enumerate(pd_connections):\n",
    "        con.close()\n",
    "        new_cons.append(pd_engines[idx].connect())\n",
    "    return new_cons\n",
    "\n",
    "# pd_connections = reset(pd_connections)"
   ]
  },
  {
   "cell_type": "code",
   "execution_count": 5,
   "metadata": {
    "collapsed": false
   },
   "outputs": [],
   "source": [
    "def get_all_users_who_edited_tile(tile):\n",
    "    users_on_tile = []\n",
    "    for idx, year in enumerate(years):\n",
    "        print(year, end=\" . \")\n",
    "        query_string = \"\"\"SELECT distinct(uid) FROM per_tile WHERE quadkey = '{0}'\"\"\".format(tile['quad'])\n",
    "        year_df = pd.read_sql_query(query_string,con=pd_connections[idx])\n",
    "        users_on_tile = np.append(users_on_tile,year_df.uid.values)\n",
    "    return np.unique(users_on_tile)\n",
    "\n",
    "def annual_worker_function(args):\n",
    "    \"\"\"\n",
    "    Input: List of users and a year of choice\n",
    "    Returns: Dictionary, keyed by UID of all a user's edits for given year\n",
    "    \"\"\"\n",
    "    (user_list, year_idx, q) = args\n",
    "    dict_to_return = {}\n",
    "\n",
    "    #Query for 50 users at a time\n",
    "    for sub_list in [user_list[i:i + 50] for i in range(0, len(user_list), 50)]:\n",
    "    \n",
    "        query_string = \"\"\"SELECT per_tile.quadkey,\n",
    "                                 per_tile.year,\n",
    "                                 per_tile.uid,\n",
    "                                 per_tile.buildings,\n",
    "                                 per_tile.road_km,\n",
    "                                 per_tile.amenities,\n",
    "                                 per_tile.edits,\n",
    "                                 array_length(per_tile.active_days,1) AS \"num_days\",\n",
    "                                 user_stats.uid AS \"user_stats_uid\",\n",
    "                                 user_stats.name AS \"user_name\",\n",
    "                                 user_stats.year AS \"total_year\",\n",
    "                                 user_stats.buildings AS \"total_buildings\",\n",
    "                                 user_stats.road_km AS \"total_road_km\",\n",
    "                                 user_stats.amenities AS \"total_amenities\",\n",
    "                                 user_stats.edits AS \"total_edits\",\n",
    "                                 array_length(user_stats.active_days,1) AS \"total_active_days\"\n",
    "                          FROM per_tile, user_stats \n",
    "                          WHERE per_tile.uid = user_stats.uid AND \n",
    "                                per_tile.uid = ANY(ARRAY[%s])\"\"\"%(\", \".join([str(i) for i in sub_list]))\n",
    "        df = pd.read_sql_query(query_string, con=pd_connections[year_idx])\n",
    "        \n",
    "#         with open('tmp.log','w') as oFile:\n",
    "#             oFile.write(df.to_csv())\n",
    "\n",
    "        for uid in df['uid'].unique():\n",
    "            dict_to_return[uid] = df[:][df.uid == uid]\n",
    "            q.put(1)\n",
    "    return dict_to_return\n",
    "\n",
    "def build_user_distributions(uids):\n",
    "    \"\"\"\n",
    "        Given a list of user ids, spin up 12 processes (1 per year) to get back dictionaries, keyed by UID\n",
    "            of all a user's tiles for that year; then combine all of the years.\n",
    "        \n",
    "        Returns: A dictionary: { UID : DataFrame of all a user's edits (across all years) }\n",
    "    \"\"\"\n",
    "    m = Manager()\n",
    "    q = m.Queue()\n",
    "    p = Pool(12)\n",
    "    args = [ (uids, year_idx, q) for year_idx in range(12)]\n",
    "    \n",
    "    max_val = round(len(uids)*len(args)*0.4)\n",
    "\n",
    "    result = p.map_async(annual_worker_function, args)\n",
    "    \n",
    "    while True:\n",
    "        if result.ready():\n",
    "            break\n",
    "        else:\n",
    "            size = q.qsize()\n",
    "            sys.stderr.write(\"\\r \"+str(size)+ \"/ ~ \" + str(max_val))\n",
    "            time.sleep(1)\n",
    "    \n",
    "    aggregated = {}\n",
    "    \n",
    "    for year_data in result.get():\n",
    "        for uid, data in year_data.items():\n",
    "            if uid in aggregated:\n",
    "                aggregated[uid]['df'] = pd.concat([aggregated[uid]['df'], data], ignore_index=True)\n",
    "            else:\n",
    "                #This is the first we see this user\n",
    "                aggregated[uid] = {'df':data}\n",
    "    p.close()\n",
    "    return aggregated"
   ]
  },
  {
   "cell_type": "markdown",
   "metadata": {},
   "source": [
    "### With each user's dataframe, compute user focus stats"
   ]
  },
  {
   "cell_type": "code",
   "execution_count": 6,
   "metadata": {
    "collapsed": false
   },
   "outputs": [],
   "source": [
    "def calculate_user_focus(args):\n",
    "    \"\"\"\n",
    "    \n",
    "    \"\"\"\n",
    "    df, q = args\n",
    "    agged_quad = df.groupby('quadkey').aggregate({'buildings':sum,\n",
    "                                                 'road_km'  :sum,\n",
    "                                                 'edits'    :sum,\n",
    "                                                 'amenities':sum,\n",
    "                                                 'num_days' :sum})\n",
    "    \n",
    "    agged_quad['percent_user_road_km']   = agged_quad.road_km   / agged_quad.road_km.sum()*100\n",
    "    agged_quad['percent_user_buildings'] = agged_quad.buildings / agged_quad.buildings.sum()*100\n",
    "    agged_quad['percent_user_amenities'] = agged_quad.amenities / agged_quad.amenities.sum()*100\n",
    "    agged_quad['percent_user_edits']     = agged_quad.edits     / agged_quad.edits.sum()*100\n",
    "    \n",
    "\n",
    "    annual_stats = pd.DataFrame()\n",
    "    for year in df.total_year.unique():\n",
    "        this_year = df[['uid','user_name','year','total_buildings','total_road_km','total_amenities','total_edits','total_active_days']].query('year=={0}'.format(year)).head(1)\n",
    "        annual_stats = pd.concat( [annual_stats, this_year], ignore_index=True)\n",
    "    \n",
    "    if(q):\n",
    "        q.put(1)\n",
    "    return (agged_quad, annual_stats)\n",
    "\n",
    "def process_dictionary_of_users(user_dict):\n",
    "    \"\"\"\n",
    "    \n",
    "    \"\"\"\n",
    "    sorted_users = sorted(list(user_dict.keys()))\n",
    "    \n",
    "    m = Manager()\n",
    "    q = m.Queue()\n",
    "    p = Pool(24)\n",
    "    \n",
    "    args = [ (user_dict[uid]['df'], q) for uid in sorted_users]\n",
    "    result = p.map_async(calculate_user_focus, args)\n",
    "    \n",
    "    while True:\n",
    "        if result.ready():\n",
    "            break\n",
    "        else:\n",
    "            sys.stderr.write(\"\\r \"+str(q.qsize())+ \"/\" + str(len(sorted_users)))\n",
    "            time.sleep(0.5)\n",
    "\n",
    "    res = result.get()\n",
    "    for idx, user in enumerate(sorted_users):\n",
    "        user_dict[user]['tiles'] = res[idx][0]\n",
    "        user_dict[user]['annual'] = res[idx][1]\n",
    "        \n",
    "    p.close()"
   ]
  },
  {
   "cell_type": "code",
   "execution_count": 7,
   "metadata": {
    "collapsed": true
   },
   "outputs": [],
   "source": [
    "def pull_out_study_tile(args):\n",
    "    \"\"\"\n",
    "        For each user, pull out just the quadkey we want; but also tally the annual stuff...\n",
    "    \"\"\"\n",
    "    df, quad, q = args\n",
    "    \n",
    "    tile_of_interest = pd.DataFrame(df.query(\"quadkey=='{0}'\".format(quad)))\n",
    "\n",
    "    if(q):\n",
    "        q.put(1)\n",
    "    return tile_of_interest\n",
    "\n",
    "def process_dictionary_of_users_for_study_tile_stats(user_dict, quad):\n",
    "    \"\"\"\n",
    "    \n",
    "    \"\"\"\n",
    "    sorted_users = sorted(list(user_dict.keys()))\n",
    "    \n",
    "    m = Manager()\n",
    "    q = m.Queue()\n",
    "    p = Pool(24)\n",
    "    \n",
    "    args = [ (user_dict[uid]['df'], quad, q) for uid in sorted_users]\n",
    "    result = p.map_async(pull_out_study_tile, args)\n",
    "    \n",
    "    while True:\n",
    "        if result.ready():\n",
    "            break\n",
    "        else:\n",
    "            sys.stderr.write(\"\\r \"+str(q.qsize())+ \"/\" + str(len(sorted_users)))\n",
    "            time.sleep(0.5)\n",
    "\n",
    "    res = result.get()\n",
    "    for idx, user in enumerate(sorted_users):\n",
    "        user_dict[user]['toi'] = res[idx]\n",
    "        \n",
    "    p.close()"
   ]
  },
  {
   "cell_type": "code",
   "execution_count": 8,
   "metadata": {
    "collapsed": true
   },
   "outputs": [],
   "source": [
    "def build_all_stats_for_tile(current_tile):\n",
    "    \"\"\"\n",
    "    \n",
    "    \"\"\"\n",
    "    current_tile_df = pd.DataFrame()\n",
    "    for u,data in current_tile['users'].items():\n",
    "        data['tiles']['uid'] = u\n",
    "        data['tiles']['total_editing_days_ever'] = data['annual'].total_active_days.sum()\n",
    "        data['tiles']['total_buildings_ever'] = data['annual'].total_buildings.sum()\n",
    "        data['tiles']['total_road_km_ever'] = data['annual'].total_road_km.sum()\n",
    "        data['tiles']['total_amenities_ever'] = data['annual'].total_amenities.sum()\n",
    "        data['tiles']['total_edits_ever'] = data['annual'].total_edits.sum()\n",
    "        current_tile_df = pd.concat([current_tile_df, pd.DataFrame(data['tiles'].query(\"quadkey=='{0}'\".format(current_tile['quad'])))],ignore_index=True)\n",
    "\n",
    "    current_tile_df['percent_tile_road_km']   = current_tile_df.road_km   / current_tile_df.road_km.sum()*100\n",
    "    current_tile_df['percent_tile_buildings'] = current_tile_df.buildings / current_tile_df.buildings.sum()*100\n",
    "    current_tile_df['percent_tile_amenities'] = current_tile_df.amenities / current_tile_df.amenities.sum()*100\n",
    "    current_tile_df['percent_tile_edits']     = current_tile_df.edits     / current_tile_df.edits.sum()*100\n",
    "    \n",
    "    return current_tile_df"
   ]
  },
  {
   "cell_type": "markdown",
   "metadata": {},
   "source": [
    "# Study Tiles: Load data for a specific study tile"
   ]
  },
  {
   "cell_type": "code",
   "execution_count": 9,
   "metadata": {
    "collapsed": false
   },
   "outputs": [
    {
     "name": "stdout",
     "output_type": "stream",
     "text": [
      "0 Port Au Prince, Haiti\n",
      "1 Trisuli Bazar, Nepal\n",
      "2 Tacloban\n",
      "3 Kenema, Sierra Leone\n",
      "4 Monrovia, Liberia\n",
      "5 Kathmandu, Nepal\n",
      "6 Heidelberg, Germany\n",
      "7 London\n",
      "8 Manhattan, NY\n"
     ]
    }
   ],
   "source": [
    "for idx, tile in enumerate(study_tiles):\n",
    "    print(idx, tile['name'])"
   ]
  },
  {
   "cell_type": "markdown",
   "metadata": {},
   "source": [
    "## 1. Get the `user_list`"
   ]
  },
  {
   "cell_type": "code",
   "execution_count": 10,
   "metadata": {
    "collapsed": true
   },
   "outputs": [],
   "source": [
    "\"\"\"\n",
    "    First: Set the index for the study tile you want.\n",
    "\"\"\"\n",
    "study_tile_idx = 1"
   ]
  },
  {
   "cell_type": "code",
   "execution_count": 11,
   "metadata": {
    "collapsed": false
   },
   "outputs": [
    {
     "name": "stdout",
     "output_type": "stream",
     "text": [
      "2005 . 2006 . 2007 . 2008 . 2009 . 2010 . 2011 . 2012 . 2013 . 2014 . 2015 . 2016 . "
     ]
    }
   ],
   "source": [
    "pd_connections = reset(pd_connections)\n",
    "study_tiles[study_tile_idx]['user_list'] = get_all_users_who_edited_tile(study_tiles[study_tile_idx])"
   ]
  },
  {
   "cell_type": "code",
   "execution_count": 12,
   "metadata": {
    "collapsed": false
   },
   "outputs": [
    {
     "name": "stdout",
     "output_type": "stream",
     "text": [
      "Found: 244 users\n"
     ]
    }
   ],
   "source": [
    "print(\"Found: {0} users\".format(len(study_tiles[study_tile_idx]['user_list'])))"
   ]
  },
  {
   "cell_type": "markdown",
   "metadata": {},
   "source": [
    "## 2. Build the User Distributions\n",
    "If this doesn't run, run the cell 2 above again)"
   ]
  },
  {
   "cell_type": "code",
   "execution_count": 13,
   "metadata": {
    "collapsed": false
   },
   "outputs": [
    {
     "name": "stderr",
     "output_type": "stream",
     "text": [
      " 757/ ~ 1171"
     ]
    }
   ],
   "source": [
    "study_tiles[study_tile_idx]['users'] = build_user_distributions(study_tiles[study_tile_idx]['user_list'])"
   ]
  },
  {
   "cell_type": "markdown",
   "metadata": {
    "collapsed": true
   },
   "source": [
    "## 3. Get tile focus for each user"
   ]
  },
  {
   "cell_type": "code",
   "execution_count": 16,
   "metadata": {
    "collapsed": false
   },
   "outputs": [
    {
     "name": "stderr",
     "output_type": "stream",
     "text": [
      " 244/244"
     ]
    }
   ],
   "source": [
    "process_dictionary_of_users(study_tiles[study_tile_idx]['users'])"
   ]
  },
  {
   "cell_type": "markdown",
   "metadata": {},
   "source": [
    "## 3.5 Pull out per-user-study tile stats"
   ]
  },
  {
   "cell_type": "code",
   "execution_count": 17,
   "metadata": {
    "collapsed": false
   },
   "outputs": [
    {
     "name": "stderr",
     "output_type": "stream",
     "text": [
      " 243/244"
     ]
    }
   ],
   "source": [
    "process_dictionary_of_users_for_study_tile_stats(study_tiles[study_tile_idx]['users'], study_tiles[study_tile_idx]['quad'])"
   ]
  },
  {
   "cell_type": "markdown",
   "metadata": {},
   "source": [
    "Processed Study tiles now have the following attributes: \n",
    "\n",
    "- **name**: Name of Region\n",
    "- **user_list**: List of UIDs of users who have edited on this tile\n",
    "- **users**: Dictionary, keyed by UID\n",
    "  - `uid`:\n",
    "    - **df**: Full dataframe of all edits on all tiles by this user\n",
    "    - **tiles**: DataFrame of unique tiles, summed over all years\n",
    "    - **annual**: DataFrame of Editing Aggregates over all tiles, per year\n",
    "    - **toi**: DataFrame of just edits to the study tile per user"
   ]
  },
  {
   "cell_type": "markdown",
   "metadata": {},
   "source": [
    "# Begin Analysis"
   ]
  },
  {
   "cell_type": "code",
   "execution_count": 18,
   "metadata": {
    "collapsed": false,
    "scrolled": true
   },
   "outputs": [
    {
     "name": "stdout",
     "output_type": "stream",
     "text": [
      "Current Study Tile: Trisuli Bazar, Nepal\n",
      "\tUsers: 244\n"
     ]
    }
   ],
   "source": [
    "print(\"Current Study Tile: {0}\".format(study_tiles[study_tile_idx]['name']))\n",
    "print(\"\\tUsers: {0}\".format(len(study_tiles[study_tile_idx]['user_list'])))"
   ]
  },
  {
   "cell_type": "code",
   "execution_count": 19,
   "metadata": {
    "collapsed": false
   },
   "outputs": [
    {
     "data": {
      "text/html": [
       "<div>\n",
       "<table border=\"1\" class=\"dataframe\">\n",
       "  <thead>\n",
       "    <tr style=\"text-align: right;\">\n",
       "      <th></th>\n",
       "      <th>quadkey</th>\n",
       "      <th>year</th>\n",
       "      <th>uid</th>\n",
       "      <th>buildings</th>\n",
       "      <th>road_km</th>\n",
       "      <th>amenities</th>\n",
       "      <th>edits</th>\n",
       "      <th>num_days</th>\n",
       "      <th>user_stats_uid</th>\n",
       "      <th>user_name</th>\n",
       "      <th>total_year</th>\n",
       "      <th>total_buildings</th>\n",
       "      <th>total_road_km</th>\n",
       "      <th>total_amenities</th>\n",
       "      <th>total_edits</th>\n",
       "      <th>total_active_days</th>\n",
       "      <th>active_days_to_date</th>\n",
       "    </tr>\n",
       "  </thead>\n",
       "  <tbody>\n",
       "    <tr>\n",
       "      <th>0</th>\n",
       "      <td>123131221200</td>\n",
       "      <td>2015</td>\n",
       "      <td>1443840</td>\n",
       "      <td>1</td>\n",
       "      <td>0.0</td>\n",
       "      <td>0</td>\n",
       "      <td>1</td>\n",
       "      <td>1</td>\n",
       "      <td>1443840</td>\n",
       "      <td>dkunce</td>\n",
       "      <td>2015</td>\n",
       "      <td>14542</td>\n",
       "      <td>1101.480000</td>\n",
       "      <td>162</td>\n",
       "      <td>17281</td>\n",
       "      <td>111</td>\n",
       "      <td>210</td>\n",
       "    </tr>\n",
       "    <tr>\n",
       "      <th>1</th>\n",
       "      <td>123131221200</td>\n",
       "      <td>2015</td>\n",
       "      <td>2874373</td>\n",
       "      <td>1</td>\n",
       "      <td>0.0</td>\n",
       "      <td>0</td>\n",
       "      <td>1</td>\n",
       "      <td>1</td>\n",
       "      <td>2874373</td>\n",
       "      <td>Cat1106</td>\n",
       "      <td>2015</td>\n",
       "      <td>118</td>\n",
       "      <td>3.316500</td>\n",
       "      <td>0</td>\n",
       "      <td>123</td>\n",
       "      <td>1</td>\n",
       "      <td>1</td>\n",
       "    </tr>\n",
       "    <tr>\n",
       "      <th>2</th>\n",
       "      <td>123131221200</td>\n",
       "      <td>2015</td>\n",
       "      <td>2876934</td>\n",
       "      <td>46</td>\n",
       "      <td>0.0</td>\n",
       "      <td>0</td>\n",
       "      <td>46</td>\n",
       "      <td>1</td>\n",
       "      <td>2876934</td>\n",
       "      <td>sally3142</td>\n",
       "      <td>2015</td>\n",
       "      <td>254</td>\n",
       "      <td>0.386351</td>\n",
       "      <td>0</td>\n",
       "      <td>259</td>\n",
       "      <td>2</td>\n",
       "      <td>2</td>\n",
       "    </tr>\n",
       "    <tr>\n",
       "      <th>3</th>\n",
       "      <td>123131221200</td>\n",
       "      <td>2015</td>\n",
       "      <td>2859533</td>\n",
       "      <td>69</td>\n",
       "      <td>0.0</td>\n",
       "      <td>0</td>\n",
       "      <td>69</td>\n",
       "      <td>1</td>\n",
       "      <td>2859533</td>\n",
       "      <td>KJSime</td>\n",
       "      <td>2015</td>\n",
       "      <td>3165</td>\n",
       "      <td>10.134700</td>\n",
       "      <td>0</td>\n",
       "      <td>3222</td>\n",
       "      <td>13</td>\n",
       "      <td>13</td>\n",
       "    </tr>\n",
       "    <tr>\n",
       "      <th>4</th>\n",
       "      <td>123131221200</td>\n",
       "      <td>2015</td>\n",
       "      <td>2872850</td>\n",
       "      <td>1</td>\n",
       "      <td>0.0</td>\n",
       "      <td>1</td>\n",
       "      <td>6</td>\n",
       "      <td>2</td>\n",
       "      <td>2872850</td>\n",
       "      <td>Reikihobo</td>\n",
       "      <td>2015</td>\n",
       "      <td>29</td>\n",
       "      <td>12.166300</td>\n",
       "      <td>1</td>\n",
       "      <td>56</td>\n",
       "      <td>6</td>\n",
       "      <td>6</td>\n",
       "    </tr>\n",
       "  </tbody>\n",
       "</table>\n",
       "</div>"
      ],
      "text/plain": [
       "        quadkey  year      uid  buildings  road_km  amenities  edits  \\\n",
       "0  123131221200  2015  1443840          1      0.0          0      1   \n",
       "1  123131221200  2015  2874373          1      0.0          0      1   \n",
       "2  123131221200  2015  2876934         46      0.0          0     46   \n",
       "3  123131221200  2015  2859533         69      0.0          0     69   \n",
       "4  123131221200  2015  2872850          1      0.0          1      6   \n",
       "\n",
       "   num_days  user_stats_uid  user_name  total_year  total_buildings  \\\n",
       "0         1         1443840     dkunce        2015            14542   \n",
       "1         1         2874373    Cat1106        2015              118   \n",
       "2         1         2876934  sally3142        2015              254   \n",
       "3         1         2859533     KJSime        2015             3165   \n",
       "4         2         2872850  Reikihobo        2015               29   \n",
       "\n",
       "   total_road_km  total_amenities  total_edits  total_active_days  \\\n",
       "0    1101.480000              162        17281                111   \n",
       "1       3.316500                0          123                  1   \n",
       "2       0.386351                0          259                  2   \n",
       "3      10.134700                0         3222                 13   \n",
       "4      12.166300                1           56                  6   \n",
       "\n",
       "   active_days_to_date  \n",
       "0                  210  \n",
       "1                    1  \n",
       "2                    2  \n",
       "3                   13  \n",
       "4                    6  "
      ]
     },
     "execution_count": 19,
     "metadata": {},
     "output_type": "execute_result"
    }
   ],
   "source": [
    "overtime_df = pd.DataFrame()\n",
    "for uid, data in study_tiles[study_tile_idx]['users'].items():\n",
    "\n",
    "    safe_df = pd.DataFrame(data['annual'].sort_values(by='year'))\n",
    "    safe_df['active_days_to_date'] = safe_df.total_active_days.cumsum()\n",
    "\n",
    "    new_df = data['toi'].merge(safe_df[['active_days_to_date','year']], on='year')\n",
    "\n",
    "    overtime_df = pd.concat([overtime_df, new_df],ignore_index=True)\n",
    "\n",
    "overtime_df.head()"
   ]
  },
  {
   "cell_type": "code",
   "execution_count": 20,
   "metadata": {
    "collapsed": false
   },
   "outputs": [
    {
     "data": {
      "text/html": [
       "<div>\n",
       "<table border=\"1\" class=\"dataframe\">\n",
       "  <thead>\n",
       "    <tr style=\"text-align: right;\">\n",
       "      <th></th>\n",
       "      <th>quadkey</th>\n",
       "      <th>year</th>\n",
       "      <th>uid</th>\n",
       "      <th>buildings</th>\n",
       "      <th>road_km</th>\n",
       "      <th>amenities</th>\n",
       "      <th>edits</th>\n",
       "      <th>num_days</th>\n",
       "      <th>user_stats_uid</th>\n",
       "      <th>user_name</th>\n",
       "      <th>total_year</th>\n",
       "      <th>total_buildings</th>\n",
       "      <th>total_road_km</th>\n",
       "      <th>total_amenities</th>\n",
       "      <th>total_edits</th>\n",
       "      <th>total_active_days</th>\n",
       "      <th>active_days_to_date</th>\n",
       "    </tr>\n",
       "  </thead>\n",
       "  <tbody>\n",
       "    <tr>\n",
       "      <th>33</th>\n",
       "      <td>123131221200</td>\n",
       "      <td>2010</td>\n",
       "      <td>331348</td>\n",
       "      <td>0</td>\n",
       "      <td>0.0</td>\n",
       "      <td>0</td>\n",
       "      <td>1</td>\n",
       "      <td>1</td>\n",
       "      <td>331348</td>\n",
       "      <td>anthonynon</td>\n",
       "      <td>2010</td>\n",
       "      <td>8215</td>\n",
       "      <td>553.25</td>\n",
       "      <td>86</td>\n",
       "      <td>10472</td>\n",
       "      <td>46</td>\n",
       "      <td>46</td>\n",
       "    </tr>\n",
       "  </tbody>\n",
       "</table>\n",
       "</div>"
      ],
      "text/plain": [
       "         quadkey  year     uid  buildings  road_km  amenities  edits  \\\n",
       "33  123131221200  2010  331348          0      0.0          0      1   \n",
       "\n",
       "    num_days  user_stats_uid   user_name  total_year  total_buildings  \\\n",
       "33         1          331348  anthonynon        2010             8215   \n",
       "\n",
       "    total_road_km  total_amenities  total_edits  total_active_days  \\\n",
       "33         553.25               86        10472                 46   \n",
       "\n",
       "    active_days_to_date  \n",
       "33                   46  "
      ]
     },
     "execution_count": 20,
     "metadata": {},
     "output_type": "execute_result"
    }
   ],
   "source": [
    "overtime_df.query('active_days_to_date>10').query('year==2010').head()"
   ]
  },
  {
   "cell_type": "code",
   "execution_count": 21,
   "metadata": {
    "collapsed": false,
    "scrolled": false
   },
   "outputs": [
    {
     "data": {
      "text/plain": [
       "<matplotlib.axes._subplots.AxesSubplot at 0x7fe528f5e6a0>"
      ]
     },
     "execution_count": 21,
     "metadata": {},
     "output_type": "execute_result"
    },
    {
     "data": {
      "image/png": "[encoded data removed]",
      "text/plain": [
       "<matplotlib.figure.Figure at 0x7fe5891d16a0>"
      ]
     },
     "metadata": {},
     "output_type": "display_data"
    }
   ],
   "source": [
    "sns.set(font_scale=1.25)\n",
    "plt.style.use('seaborn-white')\n",
    "fig, axs = plt.subplots(nrows=1, ncols=1, figsize=(15,8), facecolor='w', edgecolor='k')\n",
    "\n",
    "threshold = 7\n",
    "\n",
    "gt_10 = overtime_df.query(\"active_days_to_date>={0}\".format(threshold)).groupby('year').aggregate({'uid':pd.Series.nunique})\n",
    "lt_10 = overtime_df.query(\"active_days_to_date<{0}\".format(threshold)).groupby('year').aggregate({'uid':pd.Series.nunique})\n",
    "\n",
    "gt_10.columns = ['Experienced']\n",
    "lt_10.columns = ['Inexperienced']\n",
    "\n",
    "gt_10.join(lt_10).plot(ax=axs,kind='bar',stacked=True)"
   ]
  },
  {
   "cell_type": "markdown",
   "metadata": {},
   "source": [
    "<hr>\n",
    "# Run Tile-by-Tile Comparisons\n",
    "For each study tile, we have _comparable_ tiles, these are the tiles of most interest, because the difference in patterns between these tiles and our study tiles is what makes the analysis.\n",
    "\n",
    "## 1. Get a _comparable_ tile"
   ]
  },
  {
   "cell_type": "code",
   "execution_count": 22,
   "metadata": {
    "collapsed": false
   },
   "outputs": [
    {
     "name": "stdout",
     "output_type": "stream",
     "text": [
      "Comparable Tiles for Trisuli Bazar, Nepal: \n",
      "\t0, '123131220022'\n",
      "\t1, '123131221323'\n",
      "\t2, '123131221321'\n",
      "\t3, '123130333100'\n"
     ]
    }
   ],
   "source": [
    "if 'compare_tiles' in study_tiles[study_tile_idx]:\n",
    "    print(\"Comparable Tiles for {0}: \".format(study_tiles[study_tile_idx]['name']))\n",
    "    for idx, compare in enumerate(study_tiles[study_tile_idx]['compare_tiles']):\n",
    "        print(\"\\t{0}, '{1}'\".format(idx, compare['quad']))"
   ]
  },
  {
   "cell_type": "code",
   "execution_count": 23,
   "metadata": {
    "collapsed": true
   },
   "outputs": [],
   "source": [
    "#Which tile to compare? (from within the comparable study tiles)\n",
    "compare_tile_idx=0"
   ]
  },
  {
   "cell_type": "markdown",
   "metadata": {},
   "source": [
    "## 2. Get Users"
   ]
  },
  {
   "cell_type": "code",
   "execution_count": 25,
   "metadata": {
    "collapsed": false
   },
   "outputs": [
    {
     "name": "stdout",
     "output_type": "stream",
     "text": [
      "2005 . 2006 . 2007 . 2008 . 2009 . 2010 . 2011 . 2012 . 2013 . 2014 . 2015 . 2016 . "
     ]
    }
   ],
   "source": [
    "pd_connections = reset(pd_connections)\n",
    "pd_connections = reset(pd_connections)\n",
    "study_tiles[study_tile_idx]['compare_tiles'][compare_tile_idx]['user_list'] = get_all_users_who_edited_tile(study_tiles[study_tile_idx]['compare_tiles'][compare_tile_idx])"
   ]
  },
  {
   "cell_type": "markdown",
   "metadata": {},
   "source": [
    "## 3. Build actual user distribution (may take a few minutes)\n",
    "If it fails, run the above cell again (probably twice)"
   ]
  },
  {
   "cell_type": "code",
   "execution_count": null,
   "metadata": {
    "collapsed": false,
    "scrolled": true
   },
   "outputs": [
    {
     "name": "stderr",
     "output_type": "stream",
     "text": [
      " 687/ ~ 922"
     ]
    }
   ],
   "source": [
    "study_tiles[study_tile_idx]['compare_tiles'][compare_tile_idx]['users'] = build_user_distributions(study_tiles[study_tile_idx]['compare_tiles'][compare_tile_idx]['user_list'])"
   ]
  },
  {
   "cell_type": "code",
   "execution_count": null,
   "metadata": {
    "collapsed": false
   },
   "outputs": [],
   "source": [
    "# Check these results?\n",
    "display.display(study_tiles[study_tile_idx]['compare_tiles'][compare_tile_idx]['users'][study_tiles[study_tile_idx]['compare_tiles'][compare_tile_idx]['user_list'][0]]['df'].head())"
   ]
  },
  {
   "cell_type": "markdown",
   "metadata": {},
   "source": [
    "## 3.5 Pull out per-user-study tile stats"
   ]
  },
  {
   "cell_type": "code",
   "execution_count": null,
   "metadata": {
    "collapsed": false
   },
   "outputs": [],
   "source": [
    "process_dictionary_of_users_for_study_tile_stats(study_tiles[study_tile_idx]['compare_tiles'][compare_tile_idx]['users'], study_tiles[study_tile_idx]['compare_tiles'][compare_tile_idx]['quad'])"
   ]
  },
  {
   "cell_type": "markdown",
   "metadata": {},
   "source": [
    "## 4. Now process user focus for compare tiles"
   ]
  },
  {
   "cell_type": "code",
   "execution_count": null,
   "metadata": {
    "collapsed": false
   },
   "outputs": [],
   "source": [
    "process_dictionary_of_users(study_tiles[study_tile_idx]['compare_tiles'][compare_tile_idx]['users'])\n",
    "display.display(study_tiles[study_tile_idx]['compare_tiles'][compare_tile_idx]['users'][study_tiles[study_tile_idx]['compare_tiles'][compare_tile_idx]['user_list'][0]]['tiles'].head())\n",
    "display.display(study_tiles[study_tile_idx]['compare_tiles'][compare_tile_idx]['users'][study_tiles[study_tile_idx]['compare_tiles'][compare_tile_idx]['user_list'][0]]['annual'].head())"
   ]
  },
  {
   "cell_type": "markdown",
   "metadata": {},
   "source": [
    "## 5. Build Compare Tile Full Stats"
   ]
  },
  {
   "cell_type": "code",
   "execution_count": null,
   "metadata": {
    "collapsed": false
   },
   "outputs": [],
   "source": [
    "compare_tile_df = build_all_stats_for_tile(study_tiles[study_tile_idx]['compare_tiles'][compare_tile_idx])\n",
    "compare_tile_df.count().head()"
   ]
  },
  {
   "cell_type": "markdown",
   "metadata": {},
   "source": [
    "# Now compare the tiles\n",
    "\n",
    "First, basic stats: "
   ]
  },
  {
   "cell_type": "code",
   "execution_count": null,
   "metadata": {
    "collapsed": false
   },
   "outputs": [],
   "source": [
    "print(\"Users on Study Tile: {0}\".format(len(study_tiles[study_tile_idx]['user_list'])))\n",
    "print(\"Users on Compare Tile: {0}, {1}\".format(len(study_tiles[study_tile_idx]['compare_tiles'][compare_tile_idx]['user_list']), len(compare_tile_df)))"
   ]
  },
  {
   "cell_type": "code",
   "execution_count": null,
   "metadata": {
    "collapsed": false
   },
   "outputs": [],
   "source": [
    "compare_overtime_df = pd.DataFrame()\n",
    "for uid, data in study_tiles[study_tile_idx]['compare_tiles'][compare_tile_idx]['users'].items():\n",
    "\n",
    "    safe_df = pd.DataFrame(data['annual'].sort_values(by='year'))\n",
    "    safe_df['active_days_to_date'] = safe_df.total_active_days.cumsum()\n",
    "\n",
    "    new_df = data['toi'].merge(safe_df[['active_days_to_date','year']], on='year')\n",
    "\n",
    "    compare_overtime_df = pd.concat([compare_overtime_df, new_df],ignore_index=True)\n",
    "\n",
    "compare_overtime_df.head()"
   ]
  },
  {
   "cell_type": "code",
   "execution_count": null,
   "metadata": {
    "collapsed": false
   },
   "outputs": [],
   "source": [
    "sns.set(font_scale=1.25)\n",
    "plt.style.use('seaborn-white')\n",
    "fig, axs = plt.subplots(nrows=1, ncols=1, figsize=(15,8), facecolor='w', edgecolor='k')\n",
    "\n",
    "threshold = 7\n",
    "\n",
    "compare_gt_10 = compare_overtime_df.query(\"active_days_to_date>={0}\".format(threshold)).groupby('year').aggregate({'uid':pd.Series.nunique})\n",
    "compare_lt_10 = compare_overtime_df.query(\"active_days_to_date<{0}\".format(threshold)).groupby('year').aggregate({'uid':pd.Series.nunique})\n",
    "\n",
    "compare_gt_10.columns = ['Experienced']\n",
    "compare_lt_10.columns = ['Inexperienced']\n",
    "\n",
    "compare_gt_10.join(lt_10).plot(ax=axs,kind='bar',stacked=True)"
   ]
  },
  {
   "cell_type": "markdown",
   "metadata": {
    "collapsed": true
   },
   "source": [
    "## Analysis \n",
    "\n",
    "Comparable tiles for Trisuli Bazar are all located in [Nepal](http://www.townsendjennings.com/geojson-polygons?geojson=http://epic-analytics.cs.colorado.edu:9000/jennings/iscram/Trisuli%20Bazar%2c%20Nepal_sim_tiles.geojson#7.39/27.677/84.699) as well.... which is interesting in its own right."
   ]
  },
  {
   "cell_type": "code",
   "execution_count": null,
   "metadata": {
    "collapsed": true
   },
   "outputs": [],
   "source": []
  }
 ],
 "metadata": {
  "kernelspec": {
   "display_name": "IPython (Python 3)",
   "language": "python",
   "name": "python3"
  },
  "language_info": {
   "codemirror_mode": {
    "name": "ipython",
    "version": 3
   },
   "file_extension": ".py",
   "mimetype": "text/x-python",
   "name": "python",
   "nbconvert_exporter": "python",
   "pygments_lexer": "ipython3",
   "version": "3.4.3"
  }
 },
 "nbformat": 4,
 "nbformat_minor": 1
}
