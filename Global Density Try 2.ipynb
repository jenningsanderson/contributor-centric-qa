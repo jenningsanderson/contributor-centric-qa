{
 "cells": [
  {
   "cell_type": "code",
   "execution_count": 1,
   "metadata": {
    "collapsed": false
   },
   "outputs": [],
   "source": [
    "import matplotlib.pyplot as plt\n",
    "import matplotlib\n",
    "import numpy as np; import pandas as pd\n",
    "import psycopg2, psycopg2.extras, psycopg2.pool, pickle, json, matplotlib, sys, time\n",
    "from multiprocessing import Pool, Manager\n",
    "from collections import OrderedDict\n",
    "from sqlalchemy import create_engine\n",
    "import seaborn as sns\n",
    "%matplotlib inline"
   ]
  },
  {
   "cell_type": "markdown",
   "metadata": {},
   "source": [
    "# Contributor Density\n",
    "Since each tile varies in area depending on it's latitude, we have processed each tile at the per-km level. The results are stored in the `users-per-sqkm` database.\n",
    "\n",
    "This notebook connects to this database and then tracks individual users present each year on each square kilometer inside of each tile.\n",
    "\n",
    "It takes the _average per year_ for these, and tracks the _running average_ (while maintaining unique users)."
   ]
  },
  {
   "cell_type": "markdown",
   "metadata": {},
   "source": [
    "### Connect to the `users-per-sqkm` database"
   ]
  },
  {
   "cell_type": "code",
   "execution_count": 2,
   "metadata": {
    "collapsed": false
   },
   "outputs": [],
   "source": [
    "d = \"dbname=users-per-sqkm user=anderstj host=127.0.0.1\"\n",
    "conn1 = psycopg2.pool.ThreadedConnectionPool(1, 50, dsn=d)\n",
    "CURSOR = conn1.getconn().cursor( cursor_factory = psycopg2.extras.DictCursor)"
   ]
  },
  {
   "cell_type": "code",
   "execution_count": 3,
   "metadata": {
    "collapsed": false
   },
   "outputs": [],
   "source": [
    "def get_year_data(year, quad):\n",
    "    string = \"SELECT * FROM tiles_per_year_%s \"%(year)\n",
    "    CURSOR.execute(string + \"where quadkey = %s\",(quad,))\n",
    "    return CURSOR.fetchall()"
   ]
  },
  {
   "cell_type": "code",
   "execution_count": 4,
   "metadata": {
    "collapsed": false
   },
   "outputs": [],
   "source": [
    "def get_annual_averages(quadkey,idx):\n",
    "    quad_sections  = {}\n",
    "    years          = []\n",
    "    sys.stderr.write(\"\\r\"+str(idx)+\": \"+quadkey)\n",
    "\n",
    "    for year in [2005,2006,2007,2008,2009,2010,2011,2012,2013,2014,2015,2016]:\n",
    "        sys.stderr.write(\".\")\n",
    "        res_coll = get_year_data(year, quadkey)\n",
    "        this_year = {'year':year}#, 'annual_mappers_per_sq_km':[]}\n",
    "        for res in res_coll:\n",
    "            qa = res[3]            \n",
    "#             this_year['annual_mappers_per_sq_km'].append(len(np.unique(res[5])) / res[4] )\n",
    "\n",
    "            section_id = res[2]\n",
    "\n",
    "            if section_id in quad_sections: \n",
    "                quad_sections[section_id]['users']+= res[5]\n",
    "            else:\n",
    "                quad_sections[section_id] = {'users':res[5], 'a':res[4]} \n",
    "        #Within each year, get the running average as it counts the users\n",
    "        running_avg = []\n",
    "        users = []\n",
    "        for a, data in quad_sections.items():\n",
    "            users_per_sqkm = len(np.unique(data['users'])) / data['a']\n",
    "            running_avg.append(users_per_sqkm)\n",
    "            users += data['users']\n",
    "        \n",
    "        this_year['running_average'] = np.average(running_avg)\n",
    "#         this_year['annual_average']  = np.average(this_year['annual_mappers_per_sq_km'])\n",
    "#         this_year['unique_users']    = len(np.unique(users))\n",
    "\n",
    "        years.append(this_year)\n",
    "        \n",
    "    return(years[-1]['running_average'])\n",
    "        \n",
    "#     df = pd.DataFrame(years)\n",
    "#     df['tile_area'] = qa\n",
    "#     df['users_over_area'] = df.unique_users / df.tile_area\n",
    "    return df"
   ]
  },
  {
   "cell_type": "code",
   "execution_count": 5,
   "metadata": {
    "collapsed": false
   },
   "outputs": [],
   "source": [
    "#List of quadkeys...\n",
    "all_quads = pd.read_sql_query(\"\"\"SELECT DISTINCT(quadkey) FROM tiles_per_year\"\"\", con=create_engine(\"postgresql://anderstj@127.0.0.1:5432/osm-quality-full-v3\"))"
   ]
  },
  {
   "cell_type": "code",
   "execution_count": 7,
   "metadata": {
    "collapsed": false
   },
   "outputs": [
    {
     "name": "stdout",
     "output_type": "stream",
     "text": [
      "3249936\n"
     ]
    }
   ],
   "source": [
    "print(len(all_quads))"
   ]
  },
  {
   "cell_type": "code",
   "execution_count": 12,
   "metadata": {
    "collapsed": false
   },
   "outputs": [
    {
     "data": {
      "text/html": [
       "<div>\n",
       "<table border=\"1\" class=\"dataframe\">\n",
       "  <thead>\n",
       "    <tr style=\"text-align: right;\">\n",
       "      <th></th>\n",
       "      <th>quadkey</th>\n",
       "      <th>users_per_sqkm</th>\n",
       "    </tr>\n",
       "  </thead>\n",
       "  <tbody>\n",
       "  </tbody>\n",
       "</table>\n",
       "</div>"
      ],
      "text/plain": [
       "Empty DataFrame\n",
       "Columns: [quadkey, users_per_sqkm]\n",
       "Index: []"
      ]
     },
     "execution_count": 12,
     "metadata": {},
     "output_type": "execute_result"
    }
   ],
   "source": [
    "all_quads['users_per_sqkm'] = np.NaN\n",
    "all_quads.query('users_per_sqkm>15')"
   ]
  },
  {
   "cell_type": "code",
   "execution_count": 24,
   "metadata": {
    "collapsed": false
   },
   "outputs": [],
   "source": [
    "section = all_quads.head(100000).copy()"
   ]
  },
  {
   "cell_type": "code",
   "execution_count": 25,
   "metadata": {
    "collapsed": false
   },
   "outputs": [
    {
     "name": "stderr",
     "output_type": "stream",
     "text": [
      "0: 001311103030./usr/local/lib/python3.4/dist-packages/numpy/core/_methods.py:59: RuntimeWarning: Mean of empty slice.\n",
      "  warnings.warn(\"Mean of empty slice.\", RuntimeWarning)\n",
      "99999: 003203101001............"
     ]
    }
   ],
   "source": [
    "section['users_per_sqkm'] = section.apply(lambda row: get_annual_averages(row.quadkey, row.name), axis=1)"
   ]
  },
  {
   "cell_type": "code",
   "execution_count": 30,
   "metadata": {
    "collapsed": false,
    "scrolled": true
   },
   "outputs": [
    {
     "data": {
      "text/plain": [
       "<matplotlib.axes._subplots.AxesSubplot at 0x7fe3efc4af60>"
      ]
     },
     "execution_count": 30,
     "metadata": {},
     "output_type": "execute_result"
    },
    {
     "data": {
      "image/png": "[encoded data removed]",
      "text/plain": [
       "<matplotlib.figure.Figure at 0x7fe3f4edf940>"
      ]
     },
     "metadata": {},
     "output_type": "display_data"
    }
   ],
   "source": [
    "section.plot(kind='hist')"
   ]
  },
  {
   "cell_type": "code",
   "execution_count": 37,
   "metadata": {
    "collapsed": false
   },
   "outputs": [
    {
     "data": {
      "text/plain": [
       "7"
      ]
     },
     "execution_count": 37,
     "metadata": {},
     "output_type": "execute_result"
    }
   ],
   "source": [
    "len(section.query('users_per_sqkm>=15'))"
   ]
  },
  {
   "cell_type": "code",
   "execution_count": 38,
   "metadata": {
    "collapsed": true
   },
   "outputs": [],
   "source": [
    "section2 = all_quads.iloc[100000:1000000].copy()"
   ]
  },
  {
   "cell_type": "code",
   "execution_count": null,
   "metadata": {
    "collapsed": false
   },
   "outputs": [
    {
     "name": "stderr",
     "output_type": "stream",
     "text": [
      "100000: 003203101002./usr/local/lib/python3.4/dist-packages/numpy/core/_methods.py:59: RuntimeWarning: Mean of empty slice.\n",
      "  warnings.warn(\"Mean of empty slice.\", RuntimeWarning)\n",
      "834165: 032233110022........."
     ]
    }
   ],
   "source": [
    "section2['users_per_sqkm'] = section2.apply(lambda row: get_annual_averages(row.quadkey, row.name), axis=1)"
   ]
  },
  {
   "cell_type": "code",
   "execution_count": null,
   "metadata": {
    "collapsed": true
   },
   "outputs": [],
   "source": [
    "section3 = all_quads.iloc[1000001:2000000].copy()"
   ]
  },
  {
   "cell_type": "code",
   "execution_count": 43,
   "metadata": {
    "collapsed": false
   },
   "outputs": [
    {
     "data": {
      "text/plain": [
       "quadkey           9248\n",
       "users_per_sqkm    9248\n",
       "dtype: int64"
      ]
     },
     "execution_count": 43,
     "metadata": {},
     "output_type": "execute_result"
    }
   ],
   "source": [
    "section2.query(\"users_per_sqkm >= 15\").count()"
   ]
  },
  {
   "cell_type": "code",
   "execution_count": 44,
   "metadata": {
    "collapsed": false
   },
   "outputs": [
    {
     "data": {
      "text/plain": [
       "<matplotlib.axes._subplots.AxesSubplot at 0x7fe3fa477860>"
      ]
     },
     "execution_count": 44,
     "metadata": {},
     "output_type": "execute_result"
    },
    {
     "data": {
      "image/png": "[encoded data removed]",
      "text/plain": [
       "<matplotlib.figure.Figure at 0x7fe3f3ade5f8>"
      ]
     },
     "metadata": {},
     "output_type": "display_data"
    }
   ],
   "source": [
    "sns.set(font_scale=1.25)\n",
    "plt.style.use('seaborn-whitegrid')\n",
    "fig, axs = plt.subplots(nrows=1, ncols=1, figsize=(8,8), facecolor='w', edgecolor='k')\n",
    "plt.subplots_adjust(wspace=0.25, hspace=0.3)\n",
    "\n",
    "section2.plot(ax=axs, kind='hist')"
   ]
  },
  {
   "cell_type": "code",
   "execution_count": null,
   "metadata": {
    "collapsed": true
   },
   "outputs": [],
   "source": []
  }
 ],
 "metadata": {
  "kernelspec": {
   "display_name": "IPython (Python 3)",
   "language": "python",
   "name": "python3"
  },
  "language_info": {
   "codemirror_mode": {
    "name": "ipython",
    "version": 3
   },
   "file_extension": ".py",
   "mimetype": "text/x-python",
   "name": "python",
   "nbconvert_exporter": "python",
   "pygments_lexer": "ipython3",
   "version": "3.4.3"
  }
 },
 "nbformat": 4,
 "nbformat_minor": 1
}
