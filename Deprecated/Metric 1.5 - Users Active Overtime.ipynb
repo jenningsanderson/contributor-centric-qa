{
 "cells": [
  {
   "cell_type": "code",
   "execution_count": 111,
   "metadata": {
    "collapsed": false
   },
   "outputs": [],
   "source": [
    "import psycopg2, psycopg2.extras, psycopg2.pool, pickle, json, matplotlib, sys, time\n",
    "from multiprocessing import Pool, Manager\n",
    "from collections import OrderedDict\n",
    "import matplotlib.pyplot as plt; import numpy as np; import pandas as pd\n",
    "import seaborn as sns; from sqlalchemy import create_engine\n",
    "from IPython import display\n",
    "%matplotlib inline"
   ]
  },
  {
   "cell_type": "markdown",
   "metadata": {
    "collapsed": true
   },
   "source": [
    "# When are users most active on the tile... and how experienced are they?"
   ]
  },
  {
   "cell_type": "code",
   "execution_count": 2,
   "metadata": {
    "collapsed": false
   },
   "outputs": [
    {
     "name": "stdout",
     "output_type": "stream",
     "text": [
      "Found 9 tiles.\n"
     ]
    }
   ],
   "source": [
    "study_tiles = json.loads(open('study_tiles_with_compare_tiles.json','r').read())\n",
    "print(\"Found {0} tiles.\".format(len(study_tiles)))"
   ]
  },
  {
   "cell_type": "code",
   "execution_count": 3,
   "metadata": {
    "collapsed": false,
    "scrolled": true
   },
   "outputs": [
    {
     "data": {
      "text/plain": [
       "[2005, 2006, 2007, 2008, 2009, 2010, 2011, 2012, 2013, 2014, 2015, 2016]"
      ]
     },
     "execution_count": 3,
     "metadata": {},
     "output_type": "execute_result"
    }
   ],
   "source": [
    "years = [2005+i for i in range(12)]\n",
    "years"
   ]
  },
  {
   "cell_type": "code",
   "execution_count": 4,
   "metadata": {
    "collapsed": false
   },
   "outputs": [],
   "source": [
    "# Create connections for panda queries\n",
    "pd_engines = []\n",
    "pd_connections = []\n",
    "for idx, year in enumerate(years):\n",
    "    pd_engines.append( create_engine(\"postgresql://anderstj@127.0.0.1:5432/world-{0}\".format(year)) )\n",
    "    pd_connections.append(pd_engines[idx].connect())\n",
    "\n",
    "def reset(pd_connections):\n",
    "    new_cons = []\n",
    "    for idx, con in enumerate(pd_connections):\n",
    "        con.close()\n",
    "        new_cons.append(pd_engines[idx].connect())\n",
    "    return new_cons\n",
    "\n",
    "# pd_connections = reset(pd_connections)"
   ]
  },
  {
   "cell_type": "code",
   "execution_count": 5,
   "metadata": {
    "collapsed": false
   },
   "outputs": [],
   "source": [
    "def get_all_users_who_edited_tile(tile):\n",
    "    users_on_tile = []\n",
    "    for idx, year in enumerate(years):\n",
    "        print(year, end=\" . \")\n",
    "        query_string = \"\"\"SELECT distinct(uid) FROM per_tile WHERE quadkey = '{0}'\"\"\".format(tile['quad'])\n",
    "        year_df = pd.read_sql_query(query_string,con=pd_connections[idx])\n",
    "        users_on_tile = np.append(users_on_tile,year_df.uid.values)\n",
    "    return np.unique(users_on_tile)\n",
    "\n",
    "def annual_worker_function(args):\n",
    "    \"\"\"\n",
    "    Input: List of users and a year of choice\n",
    "    Returns: Dictionary, keyed by UID of all a user's edits for given year\n",
    "    \"\"\"\n",
    "    (user_list, year_idx, q) = args\n",
    "    dict_to_return = {}\n",
    "\n",
    "    #Query for 50 users at a time\n",
    "    for sub_list in [user_list[i:i + 50] for i in range(0, len(user_list), 50)]:\n",
    "    \n",
    "        query_string = \"\"\"SELECT per_tile.quadkey,\n",
    "                                 per_tile.year,\n",
    "                                 per_tile.uid,\n",
    "                                 per_tile.buildings,\n",
    "                                 per_tile.road_km,\n",
    "                                 per_tile.amenities,\n",
    "                                 per_tile.edits,\n",
    "                                 array_length(per_tile.active_days,1) AS \"num_days\",\n",
    "                                 user_stats.uid AS \"user_stats_uid\",\n",
    "                                 user_stats.name AS \"user_name\",\n",
    "                                 user_stats.year AS \"total_year\",\n",
    "                                 user_stats.buildings AS \"total_buildings\",\n",
    "                                 user_stats.road_km AS \"total_road_km\",\n",
    "                                 user_stats.amenities AS \"total_amenities\",\n",
    "                                 user_stats.edits AS \"total_edits\",\n",
    "                                 array_length(user_stats.active_days,1) AS \"total_active_days\"\n",
    "                          FROM per_tile, user_stats \n",
    "                          WHERE per_tile.uid = user_stats.uid AND \n",
    "                                per_tile.uid = ANY(ARRAY[%s])\"\"\"%(\", \".join([str(i) for i in sub_list]))\n",
    "        df = pd.read_sql_query(query_string, con=pd_connections[year_idx])\n",
    "        \n",
    "#         with open('tmp.log','w') as oFile:\n",
    "#             oFile.write(df.to_csv())\n",
    "\n",
    "        for uid in df['uid'].unique():\n",
    "            dict_to_return[uid] = df[:][df.uid == uid]\n",
    "            q.put(1)\n",
    "    return dict_to_return\n",
    "\n",
    "def build_user_distributions(uids):\n",
    "    \"\"\"\n",
    "        Given a list of user ids, spin up 12 processes (1 per year) to get back dictionaries, keyed by UID\n",
    "            of all a user's tiles for that year; then combine all of the years.\n",
    "        \n",
    "        Returns: A dictionary: { UID : DataFrame of all a user's edits (across all years) }\n",
    "    \"\"\"\n",
    "    m = Manager()\n",
    "    q = m.Queue()\n",
    "    p = Pool(12)\n",
    "    args = [ (uids, year_idx, q) for year_idx in range(12)]\n",
    "    \n",
    "    max_val = round(len(uids)*len(args)*0.4)\n",
    "\n",
    "    result = p.map_async(annual_worker_function, args)\n",
    "    \n",
    "    while True:\n",
    "        if result.ready():\n",
    "            break\n",
    "        else:\n",
    "            size = q.qsize()\n",
    "            sys.stderr.write(\"\\r \"+str(size)+ \"/ ~ \" + str(max_val))\n",
    "            time.sleep(1)\n",
    "    \n",
    "    aggregated = {}\n",
    "    \n",
    "    for year_data in result.get():\n",
    "        for uid, data in year_data.items():\n",
    "            if uid in aggregated:\n",
    "                aggregated[uid]['df'] = pd.concat([aggregated[uid]['df'], data], ignore_index=True)\n",
    "            else:\n",
    "                #This is the first we see this user\n",
    "                aggregated[uid] = {'df':data}\n",
    "    p.close()\n",
    "    return aggregated"
   ]
  },
  {
   "cell_type": "markdown",
   "metadata": {},
   "source": [
    "### With each user's dataframe, compute user focus stats"
   ]
  },
  {
   "cell_type": "code",
   "execution_count": 6,
   "metadata": {
    "collapsed": false
   },
   "outputs": [],
   "source": [
    "def calculate_user_focus(args):\n",
    "    \"\"\"\n",
    "    \n",
    "    \"\"\"\n",
    "    df, q = args\n",
    "    agged_quad = df.groupby('quadkey').aggregate({'buildings':sum,\n",
    "                                                 'road_km'  :sum,\n",
    "                                                 'edits'    :sum,\n",
    "                                                 'amenities':sum,\n",
    "                                                 'num_days' :sum})\n",
    "    \n",
    "    agged_quad['percent_user_road_km']   = agged_quad.road_km   / agged_quad.road_km.sum()*100\n",
    "    agged_quad['percent_user_buildings'] = agged_quad.buildings / agged_quad.buildings.sum()*100\n",
    "    agged_quad['percent_user_amenities'] = agged_quad.amenities / agged_quad.amenities.sum()*100\n",
    "    agged_quad['percent_user_edits']     = agged_quad.edits     / agged_quad.edits.sum()*100\n",
    "    \n",
    "\n",
    "    annual_stats = pd.DataFrame()\n",
    "    for year in df.total_year.unique():\n",
    "        this_year = df[['uid','user_name','year','total_buildings','total_road_km','total_amenities','total_edits','total_active_days']].query('year=={0}'.format(year)).head(1)\n",
    "        annual_stats = pd.concat( [annual_stats, this_year], ignore_index=True)\n",
    "    \n",
    "    if(q):\n",
    "        q.put(1)\n",
    "    return (agged_quad, annual_stats)\n",
    "\n",
    "def process_dictionary_of_users(user_dict):\n",
    "    \"\"\"\n",
    "    \n",
    "    \"\"\"\n",
    "    sorted_users = sorted(list(user_dict.keys()))\n",
    "    \n",
    "    m = Manager()\n",
    "    q = m.Queue()\n",
    "    p = Pool(24)\n",
    "    \n",
    "    args = [ (user_dict[uid]['df'], q) for uid in sorted_users]\n",
    "    result = p.map_async(calculate_user_focus, args)\n",
    "    \n",
    "    while True:\n",
    "        if result.ready():\n",
    "            break\n",
    "        else:\n",
    "            sys.stderr.write(\"\\r \"+str(q.qsize())+ \"/\" + str(len(sorted_users)))\n",
    "            time.sleep(0.5)\n",
    "\n",
    "    res = result.get()\n",
    "    for idx, user in enumerate(sorted_users):\n",
    "        user_dict[user]['tiles'] = res[idx][0]\n",
    "        user_dict[user]['annual'] = res[idx][1]\n",
    "        \n",
    "    p.close()"
   ]
  },
  {
   "cell_type": "code",
   "execution_count": 33,
   "metadata": {
    "collapsed": true
   },
   "outputs": [],
   "source": [
    "def pull_out_study_tile(args):\n",
    "    \"\"\"\n",
    "        For each user, pull out just the quadkey we want; but also tally the annual stuff...\n",
    "    \"\"\"\n",
    "    df, quad, q = args\n",
    "    \n",
    "    tile_of_interest = pd.DataFrame(df.query(\"quadkey=='{0}'\".format(quad)))\n",
    "\n",
    "    if(q):\n",
    "        q.put(1)\n",
    "    return tile_of_interest\n",
    "\n",
    "def process_dictionary_of_users_for_study_tile_stats(user_dict, quad):\n",
    "    \"\"\"\n",
    "    \n",
    "    \"\"\"\n",
    "    sorted_users = sorted(list(user_dict.keys()))\n",
    "    \n",
    "    m = Manager()\n",
    "    q = m.Queue()\n",
    "    p = Pool(24)\n",
    "    \n",
    "    args = [ (user_dict[uid]['df'], quad, q) for uid in sorted_users]\n",
    "    result = p.map_async(pull_out_study_tile, args)\n",
    "    \n",
    "    while True:\n",
    "        if result.ready():\n",
    "            break\n",
    "        else:\n",
    "            sys.stderr.write(\"\\r \"+str(q.qsize())+ \"/\" + str(len(sorted_users)))\n",
    "            time.sleep(0.5)\n",
    "\n",
    "    res = result.get()\n",
    "    for idx, user in enumerate(sorted_users):\n",
    "        user_dict[user]['toi'] = res[idx]\n",
    "        \n",
    "    p.close()"
   ]
  },
  {
   "cell_type": "code",
   "execution_count": 7,
   "metadata": {
    "collapsed": true
   },
   "outputs": [],
   "source": [
    "def build_all_stats_for_tile(current_tile):\n",
    "    \"\"\"\n",
    "    \n",
    "    \"\"\"\n",
    "    current_tile_df = pd.DataFrame()\n",
    "    for u,data in current_tile['users'].items():\n",
    "        data['tiles']['uid'] = u\n",
    "        data['tiles']['total_editing_days_ever'] = data['annual'].total_active_days.sum()\n",
    "        data['tiles']['total_buildings_ever'] = data['annual'].total_buildings.sum()\n",
    "        data['tiles']['total_road_km_ever'] = data['annual'].total_road_km.sum()\n",
    "        data['tiles']['total_amenities_ever'] = data['annual'].total_amenities.sum()\n",
    "        data['tiles']['total_edits_ever'] = data['annual'].total_edits.sum()\n",
    "        current_tile_df = pd.concat([current_tile_df, pd.DataFrame(data['tiles'].query(\"quadkey=='{0}'\".format(current_tile['quad'])))],ignore_index=True)\n",
    "\n",
    "    current_tile_df['percent_tile_road_km']   = current_tile_df.road_km   / current_tile_df.road_km.sum()*100\n",
    "    current_tile_df['percent_tile_buildings'] = current_tile_df.buildings / current_tile_df.buildings.sum()*100\n",
    "    current_tile_df['percent_tile_amenities'] = current_tile_df.amenities / current_tile_df.amenities.sum()*100\n",
    "    current_tile_df['percent_tile_edits']     = current_tile_df.edits     / current_tile_df.edits.sum()*100\n",
    "    \n",
    "    return current_tile_df"
   ]
  },
  {
   "cell_type": "markdown",
   "metadata": {},
   "source": [
    "# Study Tiles: Load data for a specific study tile"
   ]
  },
  {
   "cell_type": "code",
   "execution_count": 8,
   "metadata": {
    "collapsed": false
   },
   "outputs": [
    {
     "name": "stdout",
     "output_type": "stream",
     "text": [
      "0 Port Au Prince, Haiti\n",
      "1 Trisuli Bazar, Nepal\n",
      "2 Tacloban\n",
      "3 Kenema, Sierra Leone\n",
      "4 Monrovia, Liberia\n",
      "5 Kathmandu, Nepal\n",
      "6 Heidelberg, Germany\n",
      "7 London\n",
      "8 Manhattan, NY\n"
     ]
    }
   ],
   "source": [
    "for idx, tile in enumerate(study_tiles):\n",
    "    print(idx, tile['name'])"
   ]
  },
  {
   "cell_type": "markdown",
   "metadata": {},
   "source": [
    "## 1. Get the `user_list`"
   ]
  },
  {
   "cell_type": "code",
   "execution_count": 11,
   "metadata": {
    "collapsed": true
   },
   "outputs": [],
   "source": [
    "\"\"\"\n",
    "    First: Set the index for the study tile you want.\n",
    "\"\"\"\n",
    "study_tile_idx = 0"
   ]
  },
  {
   "cell_type": "code",
   "execution_count": 12,
   "metadata": {
    "collapsed": false
   },
   "outputs": [
    {
     "name": "stdout",
     "output_type": "stream",
     "text": [
      "2005 . 2006 . 2007 . 2008 . 2009 . 2010 . 2011 . 2012 . 2013 . 2014 . 2015 . 2016 . "
     ]
    }
   ],
   "source": [
    "pd_connections = reset(pd_connections)\n",
    "study_tiles[study_tile_idx]['user_list'] = get_all_users_who_edited_tile(study_tiles[study_tile_idx])"
   ]
  },
  {
   "cell_type": "code",
   "execution_count": 13,
   "metadata": {
    "collapsed": false
   },
   "outputs": [
    {
     "name": "stdout",
     "output_type": "stream",
     "text": [
      "Found: 440 users\n"
     ]
    }
   ],
   "source": [
    "print(\"Found: {0} users\".format(len(study_tiles[study_tile_idx]['user_list'])))"
   ]
  },
  {
   "cell_type": "markdown",
   "metadata": {},
   "source": [
    "## 2. Build the User Distributions\n",
    "If this doesn't run, run the cell 2 above again)"
   ]
  },
  {
   "cell_type": "code",
   "execution_count": 14,
   "metadata": {
    "collapsed": false
   },
   "outputs": [
    {
     "name": "stderr",
     "output_type": "stream",
     "text": [
      " 2194/ ~ 2112"
     ]
    }
   ],
   "source": [
    "study_tiles[study_tile_idx]['users'] = build_user_distributions(study_tiles[study_tile_idx]['user_list'])"
   ]
  },
  {
   "cell_type": "markdown",
   "metadata": {},
   "source": [
    "### Check these results"
   ]
  },
  {
   "cell_type": "code",
   "execution_count": 15,
   "metadata": {
    "collapsed": false,
    "scrolled": false
   },
   "outputs": [
    {
     "data": {
      "text/html": [
       "<div>\n",
       "<table border=\"1\" class=\"dataframe\">\n",
       "  <thead>\n",
       "    <tr style=\"text-align: right;\">\n",
       "      <th></th>\n",
       "      <th>quadkey</th>\n",
       "      <th>year</th>\n",
       "      <th>uid</th>\n",
       "      <th>buildings</th>\n",
       "      <th>road_km</th>\n",
       "      <th>amenities</th>\n",
       "      <th>edits</th>\n",
       "      <th>num_days</th>\n",
       "      <th>user_stats_uid</th>\n",
       "      <th>user_name</th>\n",
       "      <th>total_year</th>\n",
       "      <th>total_buildings</th>\n",
       "      <th>total_road_km</th>\n",
       "      <th>total_amenities</th>\n",
       "      <th>total_edits</th>\n",
       "      <th>total_active_days</th>\n",
       "    </tr>\n",
       "  </thead>\n",
       "  <tbody>\n",
       "    <tr>\n",
       "      <th>0</th>\n",
       "      <td>102322322323</td>\n",
       "      <td>2005</td>\n",
       "      <td>143</td>\n",
       "      <td>0</td>\n",
       "      <td>0.0</td>\n",
       "      <td>0</td>\n",
       "      <td>5</td>\n",
       "      <td>1</td>\n",
       "      <td>143</td>\n",
       "      <td>sxpert</td>\n",
       "      <td>2005</td>\n",
       "      <td>0</td>\n",
       "      <td>0.0</td>\n",
       "      <td>0</td>\n",
       "      <td>1154</td>\n",
       "      <td>5</td>\n",
       "    </tr>\n",
       "    <tr>\n",
       "      <th>1</th>\n",
       "      <td>120032111012</td>\n",
       "      <td>2005</td>\n",
       "      <td>143</td>\n",
       "      <td>0</td>\n",
       "      <td>0.0</td>\n",
       "      <td>0</td>\n",
       "      <td>12</td>\n",
       "      <td>1</td>\n",
       "      <td>143</td>\n",
       "      <td>sxpert</td>\n",
       "      <td>2005</td>\n",
       "      <td>0</td>\n",
       "      <td>0.0</td>\n",
       "      <td>0</td>\n",
       "      <td>1154</td>\n",
       "      <td>5</td>\n",
       "    </tr>\n",
       "    <tr>\n",
       "      <th>2</th>\n",
       "      <td>120032110311</td>\n",
       "      <td>2005</td>\n",
       "      <td>143</td>\n",
       "      <td>0</td>\n",
       "      <td>0.0</td>\n",
       "      <td>0</td>\n",
       "      <td>10</td>\n",
       "      <td>1</td>\n",
       "      <td>143</td>\n",
       "      <td>sxpert</td>\n",
       "      <td>2005</td>\n",
       "      <td>0</td>\n",
       "      <td>0.0</td>\n",
       "      <td>0</td>\n",
       "      <td>1154</td>\n",
       "      <td>5</td>\n",
       "    </tr>\n",
       "    <tr>\n",
       "      <th>3</th>\n",
       "      <td>120032111200</td>\n",
       "      <td>2005</td>\n",
       "      <td>143</td>\n",
       "      <td>0</td>\n",
       "      <td>0.0</td>\n",
       "      <td>0</td>\n",
       "      <td>3</td>\n",
       "      <td>1</td>\n",
       "      <td>143</td>\n",
       "      <td>sxpert</td>\n",
       "      <td>2005</td>\n",
       "      <td>0</td>\n",
       "      <td>0.0</td>\n",
       "      <td>0</td>\n",
       "      <td>1154</td>\n",
       "      <td>5</td>\n",
       "    </tr>\n",
       "    <tr>\n",
       "      <th>4</th>\n",
       "      <td>120023332011</td>\n",
       "      <td>2005</td>\n",
       "      <td>143</td>\n",
       "      <td>0</td>\n",
       "      <td>0.0</td>\n",
       "      <td>0</td>\n",
       "      <td>11</td>\n",
       "      <td>1</td>\n",
       "      <td>143</td>\n",
       "      <td>sxpert</td>\n",
       "      <td>2005</td>\n",
       "      <td>0</td>\n",
       "      <td>0.0</td>\n",
       "      <td>0</td>\n",
       "      <td>1154</td>\n",
       "      <td>5</td>\n",
       "    </tr>\n",
       "  </tbody>\n",
       "</table>\n",
       "</div>"
      ],
      "text/plain": [
       "        quadkey  year  uid  buildings  road_km  amenities  edits  num_days  \\\n",
       "0  102322322323  2005  143          0      0.0          0      5         1   \n",
       "1  120032111012  2005  143          0      0.0          0     12         1   \n",
       "2  120032110311  2005  143          0      0.0          0     10         1   \n",
       "3  120032111200  2005  143          0      0.0          0      3         1   \n",
       "4  120023332011  2005  143          0      0.0          0     11         1   \n",
       "\n",
       "   user_stats_uid user_name  total_year  total_buildings  total_road_km  \\\n",
       "0             143    sxpert        2005                0            0.0   \n",
       "1             143    sxpert        2005                0            0.0   \n",
       "2             143    sxpert        2005                0            0.0   \n",
       "3             143    sxpert        2005                0            0.0   \n",
       "4             143    sxpert        2005                0            0.0   \n",
       "\n",
       "   total_amenities  total_edits  total_active_days  \n",
       "0                0         1154                  5  \n",
       "1                0         1154                  5  \n",
       "2                0         1154                  5  \n",
       "3                0         1154                  5  \n",
       "4                0         1154                  5  "
      ]
     },
     "metadata": {},
     "output_type": "display_data"
    }
   ],
   "source": [
    "display.display(study_tiles[study_tile_idx]['users'][study_tiles[study_tile_idx]['user_list'][0]]['df'].head())"
   ]
  },
  {
   "cell_type": "markdown",
   "metadata": {
    "collapsed": true
   },
   "source": [
    "## 3. Get tile focus for each user"
   ]
  },
  {
   "cell_type": "code",
   "execution_count": 31,
   "metadata": {
    "collapsed": false
   },
   "outputs": [
    {
     "name": "stderr",
     "output_type": "stream",
     "text": [
      " 440/440"
     ]
    }
   ],
   "source": [
    "process_dictionary_of_users(study_tiles[study_tile_idx]['users'])"
   ]
  },
  {
   "cell_type": "markdown",
   "metadata": {},
   "source": [
    "## 3.5 Pull out per-user-study tile stats"
   ]
  },
  {
   "cell_type": "code",
   "execution_count": 55,
   "metadata": {
    "collapsed": false
   },
   "outputs": [
    {
     "name": "stderr",
     "output_type": "stream",
     "text": [
      " 435/440"
     ]
    }
   ],
   "source": [
    "process_dictionary_of_users_for_study_tile_stats(study_tiles[study_tile_idx]['users'], study_tiles[study_tile_idx]['quad'])"
   ]
  },
  {
   "cell_type": "markdown",
   "metadata": {},
   "source": [
    "### Inspect these"
   ]
  },
  {
   "cell_type": "code",
   "execution_count": 56,
   "metadata": {
    "collapsed": false,
    "scrolled": false
   },
   "outputs": [
    {
     "data": {
      "text/html": [
       "<div>\n",
       "<table border=\"1\" class=\"dataframe\">\n",
       "  <thead>\n",
       "    <tr style=\"text-align: right;\">\n",
       "      <th></th>\n",
       "      <th>edits</th>\n",
       "      <th>amenities</th>\n",
       "      <th>num_days</th>\n",
       "      <th>buildings</th>\n",
       "      <th>road_km</th>\n",
       "      <th>percent_user_road_km</th>\n",
       "      <th>percent_user_buildings</th>\n",
       "      <th>percent_user_amenities</th>\n",
       "      <th>percent_user_edits</th>\n",
       "      <th>uid</th>\n",
       "      <th>total_editing_days_ever</th>\n",
       "      <th>total_buildings_ever</th>\n",
       "      <th>total_road_km_ever</th>\n",
       "      <th>total_amenities_ever</th>\n",
       "      <th>total_edits_ever</th>\n",
       "    </tr>\n",
       "    <tr>\n",
       "      <th>quadkey</th>\n",
       "      <th></th>\n",
       "      <th></th>\n",
       "      <th></th>\n",
       "      <th></th>\n",
       "      <th></th>\n",
       "      <th></th>\n",
       "      <th></th>\n",
       "      <th></th>\n",
       "      <th></th>\n",
       "      <th></th>\n",
       "      <th></th>\n",
       "      <th></th>\n",
       "      <th></th>\n",
       "      <th></th>\n",
       "      <th></th>\n",
       "    </tr>\n",
       "  </thead>\n",
       "  <tbody>\n",
       "    <tr>\n",
       "      <th>031331301203</th>\n",
       "      <td>2</td>\n",
       "      <td>0</td>\n",
       "      <td>1</td>\n",
       "      <td>0</td>\n",
       "      <td>0.000000</td>\n",
       "      <td>0.000000</td>\n",
       "      <td>0.0</td>\n",
       "      <td>0.000000</td>\n",
       "      <td>0.003337</td>\n",
       "      <td>143</td>\n",
       "      <td>187</td>\n",
       "      <td>2348</td>\n",
       "      <td>1621.42945</td>\n",
       "      <td>187</td>\n",
       "      <td>59937</td>\n",
       "    </tr>\n",
       "    <tr>\n",
       "      <th>031333131030</th>\n",
       "      <td>1</td>\n",
       "      <td>0</td>\n",
       "      <td>1</td>\n",
       "      <td>0</td>\n",
       "      <td>0.042327</td>\n",
       "      <td>0.002610</td>\n",
       "      <td>0.0</td>\n",
       "      <td>0.000000</td>\n",
       "      <td>0.001668</td>\n",
       "      <td>143</td>\n",
       "      <td>187</td>\n",
       "      <td>2348</td>\n",
       "      <td>1621.42945</td>\n",
       "      <td>187</td>\n",
       "      <td>59937</td>\n",
       "    </tr>\n",
       "    <tr>\n",
       "      <th>031333131032</th>\n",
       "      <td>30</td>\n",
       "      <td>5</td>\n",
       "      <td>1</td>\n",
       "      <td>0</td>\n",
       "      <td>3.370290</td>\n",
       "      <td>0.207859</td>\n",
       "      <td>0.0</td>\n",
       "      <td>2.673797</td>\n",
       "      <td>0.050053</td>\n",
       "      <td>143</td>\n",
       "      <td>187</td>\n",
       "      <td>2348</td>\n",
       "      <td>1621.42945</td>\n",
       "      <td>187</td>\n",
       "      <td>59937</td>\n",
       "    </tr>\n",
       "    <tr>\n",
       "      <th>031333131313</th>\n",
       "      <td>1</td>\n",
       "      <td>0</td>\n",
       "      <td>1</td>\n",
       "      <td>0</td>\n",
       "      <td>4.590440</td>\n",
       "      <td>0.283111</td>\n",
       "      <td>0.0</td>\n",
       "      <td>0.000000</td>\n",
       "      <td>0.001668</td>\n",
       "      <td>143</td>\n",
       "      <td>187</td>\n",
       "      <td>2348</td>\n",
       "      <td>1621.42945</td>\n",
       "      <td>187</td>\n",
       "      <td>59937</td>\n",
       "    </tr>\n",
       "    <tr>\n",
       "      <th>032211201213</th>\n",
       "      <td>1</td>\n",
       "      <td>0</td>\n",
       "      <td>1</td>\n",
       "      <td>0</td>\n",
       "      <td>0.034253</td>\n",
       "      <td>0.002113</td>\n",
       "      <td>0.0</td>\n",
       "      <td>0.000000</td>\n",
       "      <td>0.001668</td>\n",
       "      <td>143</td>\n",
       "      <td>187</td>\n",
       "      <td>2348</td>\n",
       "      <td>1621.42945</td>\n",
       "      <td>187</td>\n",
       "      <td>59937</td>\n",
       "    </tr>\n",
       "  </tbody>\n",
       "</table>\n",
       "</div>"
      ],
      "text/plain": [
       "              edits  amenities  num_days  buildings   road_km  \\\n",
       "quadkey                                                         \n",
       "031331301203      2          0         1          0  0.000000   \n",
       "031333131030      1          0         1          0  0.042327   \n",
       "031333131032     30          5         1          0  3.370290   \n",
       "031333131313      1          0         1          0  4.590440   \n",
       "032211201213      1          0         1          0  0.034253   \n",
       "\n",
       "              percent_user_road_km  percent_user_buildings  \\\n",
       "quadkey                                                      \n",
       "031331301203              0.000000                     0.0   \n",
       "031333131030              0.002610                     0.0   \n",
       "031333131032              0.207859                     0.0   \n",
       "031333131313              0.283111                     0.0   \n",
       "032211201213              0.002113                     0.0   \n",
       "\n",
       "              percent_user_amenities  percent_user_edits  uid  \\\n",
       "quadkey                                                         \n",
       "031331301203                0.000000            0.003337  143   \n",
       "031333131030                0.000000            0.001668  143   \n",
       "031333131032                2.673797            0.050053  143   \n",
       "031333131313                0.000000            0.001668  143   \n",
       "032211201213                0.000000            0.001668  143   \n",
       "\n",
       "              total_editing_days_ever  total_buildings_ever  \\\n",
       "quadkey                                                       \n",
       "031331301203                      187                  2348   \n",
       "031333131030                      187                  2348   \n",
       "031333131032                      187                  2348   \n",
       "031333131313                      187                  2348   \n",
       "032211201213                      187                  2348   \n",
       "\n",
       "              total_road_km_ever  total_amenities_ever  total_edits_ever  \n",
       "quadkey                                                                   \n",
       "031331301203          1621.42945                   187             59937  \n",
       "031333131030          1621.42945                   187             59937  \n",
       "031333131032          1621.42945                   187             59937  \n",
       "031333131313          1621.42945                   187             59937  \n",
       "032211201213          1621.42945                   187             59937  "
      ]
     },
     "metadata": {},
     "output_type": "display_data"
    },
    {
     "data": {
      "text/html": [
       "<div>\n",
       "<table border=\"1\" class=\"dataframe\">\n",
       "  <thead>\n",
       "    <tr style=\"text-align: right;\">\n",
       "      <th></th>\n",
       "      <th>uid</th>\n",
       "      <th>user_name</th>\n",
       "      <th>year</th>\n",
       "      <th>total_buildings</th>\n",
       "      <th>total_road_km</th>\n",
       "      <th>total_amenities</th>\n",
       "      <th>total_edits</th>\n",
       "      <th>total_active_days</th>\n",
       "    </tr>\n",
       "  </thead>\n",
       "  <tbody>\n",
       "    <tr>\n",
       "      <th>0</th>\n",
       "      <td>143</td>\n",
       "      <td>sxpert</td>\n",
       "      <td>2005</td>\n",
       "      <td>0</td>\n",
       "      <td>0.0000</td>\n",
       "      <td>0</td>\n",
       "      <td>1154</td>\n",
       "      <td>5</td>\n",
       "    </tr>\n",
       "    <tr>\n",
       "      <th>1</th>\n",
       "      <td>143</td>\n",
       "      <td>sxpert</td>\n",
       "      <td>2006</td>\n",
       "      <td>0</td>\n",
       "      <td>61.1980</td>\n",
       "      <td>5</td>\n",
       "      <td>18406</td>\n",
       "      <td>48</td>\n",
       "    </tr>\n",
       "    <tr>\n",
       "      <th>2</th>\n",
       "      <td>143</td>\n",
       "      <td>sxpert</td>\n",
       "      <td>2007</td>\n",
       "      <td>6</td>\n",
       "      <td>811.2400</td>\n",
       "      <td>52</td>\n",
       "      <td>27720</td>\n",
       "      <td>53</td>\n",
       "    </tr>\n",
       "    <tr>\n",
       "      <th>3</th>\n",
       "      <td>143</td>\n",
       "      <td>sxpert</td>\n",
       "      <td>2008</td>\n",
       "      <td>18</td>\n",
       "      <td>627.7060</td>\n",
       "      <td>76</td>\n",
       "      <td>5508</td>\n",
       "      <td>31</td>\n",
       "    </tr>\n",
       "    <tr>\n",
       "      <th>4</th>\n",
       "      <td>143</td>\n",
       "      <td>sxpert</td>\n",
       "      <td>2009</td>\n",
       "      <td>543</td>\n",
       "      <td>40.1319</td>\n",
       "      <td>31</td>\n",
       "      <td>4334</td>\n",
       "      <td>14</td>\n",
       "    </tr>\n",
       "  </tbody>\n",
       "</table>\n",
       "</div>"
      ],
      "text/plain": [
       "   uid user_name  year  total_buildings  total_road_km  total_amenities  \\\n",
       "0  143    sxpert  2005                0         0.0000                0   \n",
       "1  143    sxpert  2006                0        61.1980                5   \n",
       "2  143    sxpert  2007                6       811.2400               52   \n",
       "3  143    sxpert  2008               18       627.7060               76   \n",
       "4  143    sxpert  2009              543        40.1319               31   \n",
       "\n",
       "   total_edits  total_active_days  \n",
       "0         1154                  5  \n",
       "1        18406                 48  \n",
       "2        27720                 53  \n",
       "3         5508                 31  \n",
       "4         4334                 14  "
      ]
     },
     "metadata": {},
     "output_type": "display_data"
    },
    {
     "data": {
      "text/html": [
       "<div>\n",
       "<table border=\"1\" class=\"dataframe\">\n",
       "  <thead>\n",
       "    <tr style=\"text-align: right;\">\n",
       "      <th></th>\n",
       "      <th>quadkey</th>\n",
       "      <th>year</th>\n",
       "      <th>uid</th>\n",
       "      <th>buildings</th>\n",
       "      <th>road_km</th>\n",
       "      <th>amenities</th>\n",
       "      <th>edits</th>\n",
       "      <th>num_days</th>\n",
       "      <th>user_stats_uid</th>\n",
       "      <th>user_name</th>\n",
       "      <th>total_year</th>\n",
       "      <th>total_buildings</th>\n",
       "      <th>total_road_km</th>\n",
       "      <th>total_amenities</th>\n",
       "      <th>total_edits</th>\n",
       "      <th>total_active_days</th>\n",
       "    </tr>\n",
       "  </thead>\n",
       "  <tbody>\n",
       "    <tr>\n",
       "      <th>481</th>\n",
       "      <td>032211203001</td>\n",
       "      <td>2010</td>\n",
       "      <td>143</td>\n",
       "      <td>149</td>\n",
       "      <td>2.64401</td>\n",
       "      <td>0</td>\n",
       "      <td>174</td>\n",
       "      <td>2</td>\n",
       "      <td>143</td>\n",
       "      <td>sxpert</td>\n",
       "      <td>2010</td>\n",
       "      <td>257</td>\n",
       "      <td>42.1018</td>\n",
       "      <td>13</td>\n",
       "      <td>975</td>\n",
       "      <td>14</td>\n",
       "    </tr>\n",
       "  </tbody>\n",
       "</table>\n",
       "</div>"
      ],
      "text/plain": [
       "          quadkey  year  uid  buildings  road_km  amenities  edits  num_days  \\\n",
       "481  032211203001  2010  143        149  2.64401          0    174         2   \n",
       "\n",
       "     user_stats_uid user_name  total_year  total_buildings  total_road_km  \\\n",
       "481             143    sxpert        2010              257        42.1018   \n",
       "\n",
       "     total_amenities  total_edits  total_active_days  \n",
       "481               13          975                 14  "
      ]
     },
     "metadata": {},
     "output_type": "display_data"
    }
   ],
   "source": [
    "# So what's saved from this?\n",
    "display.display(study_tiles[study_tile_idx]['users'][study_tiles[study_tile_idx]['user_list'][0]]['tiles'].head())\n",
    "display.display(study_tiles[study_tile_idx]['users'][study_tiles[study_tile_idx]['user_list'][0]]['annual'].head())\n",
    "display.display(study_tiles[study_tile_idx]['users'][study_tiles[study_tile_idx]['user_list'][0]]['toi'].head())"
   ]
  },
  {
   "cell_type": "markdown",
   "metadata": {},
   "source": [
    "## 4. Who is mapping what: Build Current Tile DF"
   ]
  },
  {
   "cell_type": "code",
   "execution_count": 57,
   "metadata": {
    "collapsed": true
   },
   "outputs": [],
   "source": [
    "current_tile_df = build_all_stats_for_tile(study_tiles[study_tile_idx])"
   ]
  },
  {
   "cell_type": "code",
   "execution_count": 58,
   "metadata": {
    "collapsed": false
   },
   "outputs": [
    {
     "data": {
      "text/html": [
       "<div>\n",
       "<table border=\"1\" class=\"dataframe\">\n",
       "  <thead>\n",
       "    <tr style=\"text-align: right;\">\n",
       "      <th></th>\n",
       "      <th>edits</th>\n",
       "      <th>amenities</th>\n",
       "      <th>num_days</th>\n",
       "      <th>buildings</th>\n",
       "      <th>road_km</th>\n",
       "      <th>percent_user_road_km</th>\n",
       "      <th>percent_user_buildings</th>\n",
       "      <th>percent_user_amenities</th>\n",
       "      <th>percent_user_edits</th>\n",
       "      <th>uid</th>\n",
       "      <th>total_editing_days_ever</th>\n",
       "      <th>total_buildings_ever</th>\n",
       "      <th>total_road_km_ever</th>\n",
       "      <th>total_amenities_ever</th>\n",
       "      <th>total_edits_ever</th>\n",
       "      <th>percent_tile_road_km</th>\n",
       "      <th>percent_tile_buildings</th>\n",
       "      <th>percent_tile_amenities</th>\n",
       "      <th>percent_tile_edits</th>\n",
       "    </tr>\n",
       "  </thead>\n",
       "  <tbody>\n",
       "    <tr>\n",
       "      <th>0</th>\n",
       "      <td>250</td>\n",
       "      <td>1</td>\n",
       "      <td>13</td>\n",
       "      <td>151</td>\n",
       "      <td>3.163200</td>\n",
       "      <td>0.152193</td>\n",
       "      <td>0.455437</td>\n",
       "      <td>0.212314</td>\n",
       "      <td>0.635922</td>\n",
       "      <td>1443840</td>\n",
       "      <td>276</td>\n",
       "      <td>33155</td>\n",
       "      <td>2078.421800</td>\n",
       "      <td>471</td>\n",
       "      <td>39313</td>\n",
       "      <td>0.108544</td>\n",
       "      <td>1.015331</td>\n",
       "      <td>0.013622</td>\n",
       "      <td>0.572253</td>\n",
       "    </tr>\n",
       "    <tr>\n",
       "      <th>1</th>\n",
       "      <td>2</td>\n",
       "      <td>0</td>\n",
       "      <td>1</td>\n",
       "      <td>0</td>\n",
       "      <td>0.000000</td>\n",
       "      <td>0.000000</td>\n",
       "      <td>0.000000</td>\n",
       "      <td>0.000000</td>\n",
       "      <td>0.000440</td>\n",
       "      <td>307202</td>\n",
       "      <td>998</td>\n",
       "      <td>7659</td>\n",
       "      <td>128673.043000</td>\n",
       "      <td>6275</td>\n",
       "      <td>454250</td>\n",
       "      <td>0.000000</td>\n",
       "      <td>0.000000</td>\n",
       "      <td>0.000000</td>\n",
       "      <td>0.004578</td>\n",
       "    </tr>\n",
       "    <tr>\n",
       "      <th>2</th>\n",
       "      <td>1</td>\n",
       "      <td>0</td>\n",
       "      <td>1</td>\n",
       "      <td>1</td>\n",
       "      <td>0.000000</td>\n",
       "      <td>0.000000</td>\n",
       "      <td>0.123916</td>\n",
       "      <td>0.000000</td>\n",
       "      <td>0.018836</td>\n",
       "      <td>15363</td>\n",
       "      <td>185</td>\n",
       "      <td>807</td>\n",
       "      <td>516.256897</td>\n",
       "      <td>228</td>\n",
       "      <td>5309</td>\n",
       "      <td>0.000000</td>\n",
       "      <td>0.006724</td>\n",
       "      <td>0.000000</td>\n",
       "      <td>0.002289</td>\n",
       "    </tr>\n",
       "    <tr>\n",
       "      <th>3</th>\n",
       "      <td>2</td>\n",
       "      <td>0</td>\n",
       "      <td>2</td>\n",
       "      <td>0</td>\n",
       "      <td>0.188931</td>\n",
       "      <td>0.001451</td>\n",
       "      <td>0.000000</td>\n",
       "      <td>0.000000</td>\n",
       "      <td>0.016462</td>\n",
       "      <td>663559</td>\n",
       "      <td>361</td>\n",
       "      <td>1313</td>\n",
       "      <td>13020.981900</td>\n",
       "      <td>115</td>\n",
       "      <td>12149</td>\n",
       "      <td>0.006483</td>\n",
       "      <td>0.000000</td>\n",
       "      <td>0.000000</td>\n",
       "      <td>0.004578</td>\n",
       "    </tr>\n",
       "    <tr>\n",
       "      <th>4</th>\n",
       "      <td>1</td>\n",
       "      <td>0</td>\n",
       "      <td>1</td>\n",
       "      <td>0</td>\n",
       "      <td>0.186651</td>\n",
       "      <td>0.000669</td>\n",
       "      <td>0.000000</td>\n",
       "      <td>0.000000</td>\n",
       "      <td>0.000429</td>\n",
       "      <td>196617</td>\n",
       "      <td>922</td>\n",
       "      <td>4170</td>\n",
       "      <td>27907.690000</td>\n",
       "      <td>1116</td>\n",
       "      <td>233097</td>\n",
       "      <td>0.006405</td>\n",
       "      <td>0.000000</td>\n",
       "      <td>0.000000</td>\n",
       "      <td>0.002289</td>\n",
       "    </tr>\n",
       "  </tbody>\n",
       "</table>\n",
       "</div>"
      ],
      "text/plain": [
       "   edits  amenities  num_days  buildings   road_km  percent_user_road_km  \\\n",
       "0    250          1        13        151  3.163200              0.152193   \n",
       "1      2          0         1          0  0.000000              0.000000   \n",
       "2      1          0         1          1  0.000000              0.000000   \n",
       "3      2          0         2          0  0.188931              0.001451   \n",
       "4      1          0         1          0  0.186651              0.000669   \n",
       "\n",
       "   percent_user_buildings  percent_user_amenities  percent_user_edits  \\\n",
       "0                0.455437                0.212314            0.635922   \n",
       "1                0.000000                0.000000            0.000440   \n",
       "2                0.123916                0.000000            0.018836   \n",
       "3                0.000000                0.000000            0.016462   \n",
       "4                0.000000                0.000000            0.000429   \n",
       "\n",
       "       uid  total_editing_days_ever  total_buildings_ever  total_road_km_ever  \\\n",
       "0  1443840                      276                 33155         2078.421800   \n",
       "1   307202                      998                  7659       128673.043000   \n",
       "2    15363                      185                   807          516.256897   \n",
       "3   663559                      361                  1313        13020.981900   \n",
       "4   196617                      922                  4170        27907.690000   \n",
       "\n",
       "   total_amenities_ever  total_edits_ever  percent_tile_road_km  \\\n",
       "0                   471             39313              0.108544   \n",
       "1                  6275            454250              0.000000   \n",
       "2                   228              5309              0.000000   \n",
       "3                   115             12149              0.006483   \n",
       "4                  1116            233097              0.006405   \n",
       "\n",
       "   percent_tile_buildings  percent_tile_amenities  percent_tile_edits  \n",
       "0                1.015331                0.013622            0.572253  \n",
       "1                0.000000                0.000000            0.004578  \n",
       "2                0.006724                0.000000            0.002289  \n",
       "3                0.000000                0.000000            0.004578  \n",
       "4                0.000000                0.000000            0.002289  "
      ]
     },
     "execution_count": 58,
     "metadata": {},
     "output_type": "execute_result"
    }
   ],
   "source": [
    "current_tile_df.head()"
   ]
  },
  {
   "cell_type": "markdown",
   "metadata": {},
   "source": [
    "Processed Study tiles now have the following attributes: \n",
    "\n",
    "- **name**: Name of Region\n",
    "- **user_list**: List of UIDs of users who have edited on this tile\n",
    "- **users**: Dictionary, keyed by UID\n",
    "  - `uid`:\n",
    "    - **df**: Full dataframe of all edits on all tiles by this user\n",
    "    - **tiles**: DataFrame of unique tiles, summed over all years\n",
    "    - **annual**: DataFrame of Editing Aggregates over all tiles, per year\n",
    "    - **toi**: DataFrame of just edits to the study tile per user"
   ]
  },
  {
   "cell_type": "markdown",
   "metadata": {},
   "source": [
    "# Begin Analysis"
   ]
  },
  {
   "cell_type": "code",
   "execution_count": 60,
   "metadata": {
    "collapsed": false
   },
   "outputs": [
    {
     "name": "stdout",
     "output_type": "stream",
     "text": [
      "Current Study Tile: Port Au Prince, Haiti\n",
      "\tUsers: 440\n",
      "Current_tile_df size: 440 (Should match the user count)\n"
     ]
    }
   ],
   "source": [
    "print(\"Current Study Tile: {0}\".format(study_tiles[study_tile_idx]['name']))\n",
    "print(\"\\tUsers: {0}\".format(len(study_tiles[study_tile_idx]['user_list'])))\n",
    "print(\"Current_tile_df size: {0} (Should match the user count)\".format(len(current_tile_df)))"
   ]
  },
  {
   "cell_type": "code",
   "execution_count": 61,
   "metadata": {
    "collapsed": false
   },
   "outputs": [
    {
     "data": {
      "text/html": [
       "<div>\n",
       "<table border=\"1\" class=\"dataframe\">\n",
       "  <thead>\n",
       "    <tr style=\"text-align: right;\">\n",
       "      <th></th>\n",
       "      <th>quadkey</th>\n",
       "      <th>year</th>\n",
       "      <th>uid</th>\n",
       "      <th>buildings</th>\n",
       "      <th>road_km</th>\n",
       "      <th>amenities</th>\n",
       "      <th>edits</th>\n",
       "      <th>num_days</th>\n",
       "      <th>user_stats_uid</th>\n",
       "      <th>user_name</th>\n",
       "      <th>total_year</th>\n",
       "      <th>total_buildings</th>\n",
       "      <th>total_road_km</th>\n",
       "      <th>total_amenities</th>\n",
       "      <th>total_edits</th>\n",
       "      <th>total_active_days</th>\n",
       "      <th>active_days_to_date</th>\n",
       "    </tr>\n",
       "  </thead>\n",
       "  <tbody>\n",
       "    <tr>\n",
       "      <th>0</th>\n",
       "      <td>032211203001</td>\n",
       "      <td>2015</td>\n",
       "      <td>1443840</td>\n",
       "      <td>151</td>\n",
       "      <td>3.163200</td>\n",
       "      <td>1</td>\n",
       "      <td>250</td>\n",
       "      <td>13</td>\n",
       "      <td>1443840</td>\n",
       "      <td>dkunce</td>\n",
       "      <td>2015</td>\n",
       "      <td>14542</td>\n",
       "      <td>1101.4800</td>\n",
       "      <td>162</td>\n",
       "      <td>17281</td>\n",
       "      <td>111</td>\n",
       "      <td>210</td>\n",
       "    </tr>\n",
       "    <tr>\n",
       "      <th>1</th>\n",
       "      <td>032211203001</td>\n",
       "      <td>2011</td>\n",
       "      <td>307202</td>\n",
       "      <td>0</td>\n",
       "      <td>0.000000</td>\n",
       "      <td>0</td>\n",
       "      <td>2</td>\n",
       "      <td>1</td>\n",
       "      <td>307202</td>\n",
       "      <td>alester</td>\n",
       "      <td>2011</td>\n",
       "      <td>980</td>\n",
       "      <td>1159.9800</td>\n",
       "      <td>1406</td>\n",
       "      <td>10978</td>\n",
       "      <td>117</td>\n",
       "      <td>172</td>\n",
       "    </tr>\n",
       "    <tr>\n",
       "      <th>2</th>\n",
       "      <td>032211203001</td>\n",
       "      <td>2010</td>\n",
       "      <td>15363</td>\n",
       "      <td>1</td>\n",
       "      <td>0.000000</td>\n",
       "      <td>0</td>\n",
       "      <td>1</td>\n",
       "      <td>1</td>\n",
       "      <td>15363</td>\n",
       "      <td>TheChief</td>\n",
       "      <td>2010</td>\n",
       "      <td>23</td>\n",
       "      <td>25.6589</td>\n",
       "      <td>40</td>\n",
       "      <td>248</td>\n",
       "      <td>20</td>\n",
       "      <td>124</td>\n",
       "    </tr>\n",
       "    <tr>\n",
       "      <th>3</th>\n",
       "      <td>032211203001</td>\n",
       "      <td>2013</td>\n",
       "      <td>663559</td>\n",
       "      <td>0</td>\n",
       "      <td>0.188931</td>\n",
       "      <td>0</td>\n",
       "      <td>2</td>\n",
       "      <td>2</td>\n",
       "      <td>663559</td>\n",
       "      <td>geochrome</td>\n",
       "      <td>2013</td>\n",
       "      <td>779</td>\n",
       "      <td>4047.8700</td>\n",
       "      <td>32</td>\n",
       "      <td>4208</td>\n",
       "      <td>122</td>\n",
       "      <td>250</td>\n",
       "    </tr>\n",
       "    <tr>\n",
       "      <th>4</th>\n",
       "      <td>032211203001</td>\n",
       "      <td>2014</td>\n",
       "      <td>196617</td>\n",
       "      <td>0</td>\n",
       "      <td>0.186651</td>\n",
       "      <td>0</td>\n",
       "      <td>1</td>\n",
       "      <td>1</td>\n",
       "      <td>196617</td>\n",
       "      <td>venerdi</td>\n",
       "      <td>2014</td>\n",
       "      <td>144</td>\n",
       "      <td>3283.1900</td>\n",
       "      <td>328</td>\n",
       "      <td>14038</td>\n",
       "      <td>72</td>\n",
       "      <td>723</td>\n",
       "    </tr>\n",
       "  </tbody>\n",
       "</table>\n",
       "</div>"
      ],
      "text/plain": [
       "        quadkey  year      uid  buildings   road_km  amenities  edits  \\\n",
       "0  032211203001  2015  1443840        151  3.163200          1    250   \n",
       "1  032211203001  2011   307202          0  0.000000          0      2   \n",
       "2  032211203001  2010    15363          1  0.000000          0      1   \n",
       "3  032211203001  2013   663559          0  0.188931          0      2   \n",
       "4  032211203001  2014   196617          0  0.186651          0      1   \n",
       "\n",
       "   num_days  user_stats_uid  user_name  total_year  total_buildings  \\\n",
       "0        13         1443840     dkunce        2015            14542   \n",
       "1         1          307202    alester        2011              980   \n",
       "2         1           15363   TheChief        2010               23   \n",
       "3         2          663559  geochrome        2013              779   \n",
       "4         1          196617    venerdi        2014              144   \n",
       "\n",
       "   total_road_km  total_amenities  total_edits  total_active_days  \\\n",
       "0      1101.4800              162        17281                111   \n",
       "1      1159.9800             1406        10978                117   \n",
       "2        25.6589               40          248                 20   \n",
       "3      4047.8700               32         4208                122   \n",
       "4      3283.1900              328        14038                 72   \n",
       "\n",
       "   active_days_to_date  \n",
       "0                  210  \n",
       "1                  172  \n",
       "2                  124  \n",
       "3                  250  \n",
       "4                  723  "
      ]
     },
     "execution_count": 61,
     "metadata": {},
     "output_type": "execute_result"
    }
   ],
   "source": [
    "overtime_df = pd.DataFrame()\n",
    "for uid, data in study_tiles[study_tile_idx]['users'].items():\n",
    "\n",
    "    safe_df = pd.DataFrame(data['annual'].sort_values(by='year'))\n",
    "    safe_df['active_days_to_date'] = safe_df.total_active_days.cumsum()\n",
    "\n",
    "    new_df = data['toi'].merge(safe_df[['active_days_to_date','year']], on='year')\n",
    "\n",
    "    overtime_df = pd.concat([overtime_df, new_df],ignore_index=True)\n",
    "\n",
    "overtime_df.head()"
   ]
  },
  {
   "cell_type": "code",
   "execution_count": 85,
   "metadata": {
    "collapsed": false
   },
   "outputs": [
    {
     "data": {
      "text/html": [
       "<div>\n",
       "<table border=\"1\" class=\"dataframe\">\n",
       "  <thead>\n",
       "    <tr style=\"text-align: right;\">\n",
       "      <th></th>\n",
       "      <th>quadkey</th>\n",
       "      <th>year</th>\n",
       "      <th>uid</th>\n",
       "      <th>buildings</th>\n",
       "      <th>road_km</th>\n",
       "      <th>amenities</th>\n",
       "      <th>edits</th>\n",
       "      <th>num_days</th>\n",
       "      <th>user_stats_uid</th>\n",
       "      <th>user_name</th>\n",
       "      <th>total_year</th>\n",
       "      <th>total_buildings</th>\n",
       "      <th>total_road_km</th>\n",
       "      <th>total_amenities</th>\n",
       "      <th>total_edits</th>\n",
       "      <th>total_active_days</th>\n",
       "      <th>active_days_to_date</th>\n",
       "    </tr>\n",
       "  </thead>\n",
       "  <tbody>\n",
       "    <tr>\n",
       "      <th>2</th>\n",
       "      <td>032211203001</td>\n",
       "      <td>2010</td>\n",
       "      <td>15363</td>\n",
       "      <td>1</td>\n",
       "      <td>0.000000</td>\n",
       "      <td>0</td>\n",
       "      <td>1</td>\n",
       "      <td>1</td>\n",
       "      <td>15363</td>\n",
       "      <td>TheChief</td>\n",
       "      <td>2010</td>\n",
       "      <td>23</td>\n",
       "      <td>25.6589</td>\n",
       "      <td>40</td>\n",
       "      <td>248</td>\n",
       "      <td>20</td>\n",
       "      <td>124</td>\n",
       "    </tr>\n",
       "    <tr>\n",
       "      <th>5</th>\n",
       "      <td>032211203001</td>\n",
       "      <td>2010</td>\n",
       "      <td>178186</td>\n",
       "      <td>0</td>\n",
       "      <td>0.008948</td>\n",
       "      <td>0</td>\n",
       "      <td>1</td>\n",
       "      <td>1</td>\n",
       "      <td>178186</td>\n",
       "      <td>mdk</td>\n",
       "      <td>2010</td>\n",
       "      <td>11912</td>\n",
       "      <td>3895.9500</td>\n",
       "      <td>1424</td>\n",
       "      <td>38220</td>\n",
       "      <td>222</td>\n",
       "      <td>251</td>\n",
       "    </tr>\n",
       "    <tr>\n",
       "      <th>8</th>\n",
       "      <td>032211203001</td>\n",
       "      <td>2010</td>\n",
       "      <td>102411</td>\n",
       "      <td>11</td>\n",
       "      <td>3.532960</td>\n",
       "      <td>0</td>\n",
       "      <td>26</td>\n",
       "      <td>4</td>\n",
       "      <td>102411</td>\n",
       "      <td>Jeff Ollie</td>\n",
       "      <td>2010</td>\n",
       "      <td>2082</td>\n",
       "      <td>42597.9000</td>\n",
       "      <td>1358</td>\n",
       "      <td>72766</td>\n",
       "      <td>190</td>\n",
       "      <td>313</td>\n",
       "    </tr>\n",
       "    <tr>\n",
       "      <th>17</th>\n",
       "      <td>032211203001</td>\n",
       "      <td>2010</td>\n",
       "      <td>36894</td>\n",
       "      <td>0</td>\n",
       "      <td>0.412340</td>\n",
       "      <td>0</td>\n",
       "      <td>7</td>\n",
       "      <td>4</td>\n",
       "      <td>36894</td>\n",
       "      <td>rab</td>\n",
       "      <td>2010</td>\n",
       "      <td>2094</td>\n",
       "      <td>5006.2000</td>\n",
       "      <td>40</td>\n",
       "      <td>29953</td>\n",
       "      <td>187</td>\n",
       "      <td>513</td>\n",
       "    </tr>\n",
       "    <tr>\n",
       "      <th>24</th>\n",
       "      <td>032211203001</td>\n",
       "      <td>2010</td>\n",
       "      <td>219591</td>\n",
       "      <td>0</td>\n",
       "      <td>0.343480</td>\n",
       "      <td>0</td>\n",
       "      <td>1</td>\n",
       "      <td>1</td>\n",
       "      <td>219591</td>\n",
       "      <td>JP CASSOU</td>\n",
       "      <td>2010</td>\n",
       "      <td>82059</td>\n",
       "      <td>1626.4100</td>\n",
       "      <td>658</td>\n",
       "      <td>90845</td>\n",
       "      <td>92</td>\n",
       "      <td>92</td>\n",
       "    </tr>\n",
       "  </tbody>\n",
       "</table>\n",
       "</div>"
      ],
      "text/plain": [
       "         quadkey  year     uid  buildings   road_km  amenities  edits  \\\n",
       "2   032211203001  2010   15363          1  0.000000          0      1   \n",
       "5   032211203001  2010  178186          0  0.008948          0      1   \n",
       "8   032211203001  2010  102411         11  3.532960          0     26   \n",
       "17  032211203001  2010   36894          0  0.412340          0      7   \n",
       "24  032211203001  2010  219591          0  0.343480          0      1   \n",
       "\n",
       "    num_days  user_stats_uid   user_name  total_year  total_buildings  \\\n",
       "2          1           15363    TheChief        2010               23   \n",
       "5          1          178186         mdk        2010            11912   \n",
       "8          4          102411  Jeff Ollie        2010             2082   \n",
       "17         4           36894         rab        2010             2094   \n",
       "24         1          219591   JP CASSOU        2010            82059   \n",
       "\n",
       "    total_road_km  total_amenities  total_edits  total_active_days  \\\n",
       "2         25.6589               40          248                 20   \n",
       "5       3895.9500             1424        38220                222   \n",
       "8      42597.9000             1358        72766                190   \n",
       "17      5006.2000               40        29953                187   \n",
       "24      1626.4100              658        90845                 92   \n",
       "\n",
       "    active_days_to_date  \n",
       "2                   124  \n",
       "5                   251  \n",
       "8                   313  \n",
       "17                  513  \n",
       "24                   92  "
      ]
     },
     "execution_count": 85,
     "metadata": {},
     "output_type": "execute_result"
    }
   ],
   "source": [
    "overtime_df.query('active_days_to_date>10').query('year==2010').head()"
   ]
  },
  {
   "cell_type": "code",
   "execution_count": 108,
   "metadata": {
    "collapsed": false,
    "scrolled": false
   },
   "outputs": [
    {
     "data": {
      "text/plain": [
       "<matplotlib.axes._subplots.AxesSubplot at 0x7fd41c3590b8>"
      ]
     },
     "execution_count": 108,
     "metadata": {},
     "output_type": "execute_result"
    },
    {
     "data": {
      "image/png": "[encoded data removed]",
      "text/plain": [
       "<matplotlib.figure.Figure at 0x7fd476ea3978>"
      ]
     },
     "metadata": {},
     "output_type": "display_data"
    }
   ],
   "source": [
    "sns.set(font_scale=1.25)\n",
    "plt.style.use('seaborn-white')\n",
    "fig, axs = plt.subplots(nrows=1, ncols=1, figsize=(15,8), facecolor='w', edgecolor='k')\n",
    "\n",
    "threshold = 7\n",
    "\n",
    "gt_10 = overtime_df.query(\"active_days_to_date>={0}\".format(threshold)).groupby('year').aggregate({'uid':pd.Series.nunique})\n",
    "lt_10 = overtime_df.query(\"active_days_to_date<{0}\".format(threshold)).groupby('year').aggregate({'uid':pd.Series.nunique})\n",
    "\n",
    "gt_10.columns = ['Experienced']\n",
    "lt_10.columns = ['Inexperienced']\n",
    "\n",
    "gt_10.join(lt_10).plot(ax=axs,kind='bar',stacked=True)"
   ]
  },
  {
   "cell_type": "markdown",
   "metadata": {},
   "source": [
    "<hr>\n",
    "# Run Tile-by-Tile Comparisons\n",
    "For each study tile, we have _comparable_ tiles, these are the tiles of most interest, because the difference in patterns between these tiles and our study tiles is what makes the analysis.\n",
    "\n",
    "## 1. Get a _comparable_ tile"
   ]
  },
  {
   "cell_type": "code",
   "execution_count": null,
   "metadata": {
    "collapsed": true
   },
   "outputs": [],
   "source": [
    "# '132232231103' is Singapore!"
   ]
  },
  {
   "cell_type": "code",
   "execution_count": 86,
   "metadata": {
    "collapsed": false
   },
   "outputs": [
    {
     "name": "stdout",
     "output_type": "stream",
     "text": [
      "Comparable Tiles for Port Au Prince, Haiti: \n",
      "\t0, '120213000002'\n",
      "\t1, '120213101133'\n",
      "\t2, '031313131101'\n",
      "\t3, '120212032230'\n",
      "\t4, '120213302032'\n",
      "\t5, '120213231000'\n",
      "\t6, '120203231331'\n",
      "\t7, '120221101003'\n",
      "\t8, '120221100133'\n",
      "\t9, '120221130301'\n",
      "\t10, '120221033031'\n",
      "\t11, '120221122003'\n",
      "\t12, '120221122002'\n",
      "\t13, '120221033332'\n",
      "\t14, '120221202330'\n",
      "\t15, '120230320101'\n",
      "\t16, '120223110301'\n",
      "\t17, '122101130101'\n",
      "\t18, '033110210131'\n",
      "\t19, '122000322212'\n",
      "\t20, '033333010032'\n",
      "\t21, '132232231103'\n",
      "\t22, '021333011030'\n",
      "\t23, '032211203002'\n",
      "\t24, '032211203003'\n"
     ]
    }
   ],
   "source": [
    "if 'compare_tiles' in study_tiles[study_tile_idx]:\n",
    "    print(\"Comparable Tiles for {0}: \".format(study_tiles[study_tile_idx]['name']))\n",
    "    for idx, compare in enumerate(study_tiles[study_tile_idx]['compare_tiles']):\n",
    "        print(\"\\t{0}, '{1}'\".format(idx, compare['quad']))"
   ]
  },
  {
   "cell_type": "code",
   "execution_count": 100,
   "metadata": {
    "collapsed": true
   },
   "outputs": [],
   "source": [
    "#Which tile to compare? (from within the comparable study tiles)\n",
    "compare_tile_idx=21"
   ]
  },
  {
   "cell_type": "markdown",
   "metadata": {},
   "source": [
    "## 2. Get Users"
   ]
  },
  {
   "cell_type": "code",
   "execution_count": 89,
   "metadata": {
    "collapsed": false
   },
   "outputs": [
    {
     "name": "stdout",
     "output_type": "stream",
     "text": [
      "2005 . 2006 . 2007 . 2008 . 2009 . 2010 . 2011 . 2012 . 2013 . 2014 . 2015 . 2016 . "
     ]
    }
   ],
   "source": [
    "pd_connections = reset(pd_connections)\n",
    "pd_connections = reset(pd_connections)\n",
    "study_tiles[study_tile_idx]['compare_tiles'][compare_tile_idx]['user_list'] = get_all_users_who_edited_tile(study_tiles[study_tile_idx]['compare_tiles'][compare_tile_idx])"
   ]
  },
  {
   "cell_type": "markdown",
   "metadata": {},
   "source": [
    "## 3. Build actual user distribution (may take a few minutes)\n",
    "If it fails, run the above cell again (probably twice)"
   ]
  },
  {
   "cell_type": "code",
   "execution_count": 90,
   "metadata": {
    "collapsed": false,
    "scrolled": true
   },
   "outputs": [
    {
     "name": "stderr",
     "output_type": "stream",
     "text": [
      " 2011/ ~ 2645"
     ]
    }
   ],
   "source": [
    "study_tiles[study_tile_idx]['compare_tiles'][compare_tile_idx]['users'] = build_user_distributions(study_tiles[study_tile_idx]['compare_tiles'][compare_tile_idx]['user_list'])"
   ]
  },
  {
   "cell_type": "code",
   "execution_count": 91,
   "metadata": {
    "collapsed": false
   },
   "outputs": [
    {
     "data": {
      "text/html": [
       "<div>\n",
       "<table border=\"1\" class=\"dataframe\">\n",
       "  <thead>\n",
       "    <tr style=\"text-align: right;\">\n",
       "      <th></th>\n",
       "      <th>quadkey</th>\n",
       "      <th>year</th>\n",
       "      <th>uid</th>\n",
       "      <th>buildings</th>\n",
       "      <th>road_km</th>\n",
       "      <th>amenities</th>\n",
       "      <th>edits</th>\n",
       "      <th>num_days</th>\n",
       "      <th>user_stats_uid</th>\n",
       "      <th>user_name</th>\n",
       "      <th>total_year</th>\n",
       "      <th>total_buildings</th>\n",
       "      <th>total_road_km</th>\n",
       "      <th>total_amenities</th>\n",
       "      <th>total_edits</th>\n",
       "      <th>total_active_days</th>\n",
       "    </tr>\n",
       "  </thead>\n",
       "  <tbody>\n",
       "    <tr>\n",
       "      <th>0</th>\n",
       "      <td>031311301000</td>\n",
       "      <td>2006</td>\n",
       "      <td>308</td>\n",
       "      <td>0</td>\n",
       "      <td>0.0</td>\n",
       "      <td>0</td>\n",
       "      <td>149</td>\n",
       "      <td>1</td>\n",
       "      <td>308</td>\n",
       "      <td>MichaelCollinson</td>\n",
       "      <td>2006</td>\n",
       "      <td>0</td>\n",
       "      <td>1546.1</td>\n",
       "      <td>1138</td>\n",
       "      <td>67868</td>\n",
       "      <td>81</td>\n",
       "    </tr>\n",
       "    <tr>\n",
       "      <th>1</th>\n",
       "      <td>031311301002</td>\n",
       "      <td>2006</td>\n",
       "      <td>308</td>\n",
       "      <td>0</td>\n",
       "      <td>0.0</td>\n",
       "      <td>0</td>\n",
       "      <td>7</td>\n",
       "      <td>1</td>\n",
       "      <td>308</td>\n",
       "      <td>MichaelCollinson</td>\n",
       "      <td>2006</td>\n",
       "      <td>0</td>\n",
       "      <td>1546.1</td>\n",
       "      <td>1138</td>\n",
       "      <td>67868</td>\n",
       "      <td>81</td>\n",
       "    </tr>\n",
       "    <tr>\n",
       "      <th>2</th>\n",
       "      <td>031311301032</td>\n",
       "      <td>2006</td>\n",
       "      <td>308</td>\n",
       "      <td>0</td>\n",
       "      <td>0.0</td>\n",
       "      <td>0</td>\n",
       "      <td>1</td>\n",
       "      <td>1</td>\n",
       "      <td>308</td>\n",
       "      <td>MichaelCollinson</td>\n",
       "      <td>2006</td>\n",
       "      <td>0</td>\n",
       "      <td>1546.1</td>\n",
       "      <td>1138</td>\n",
       "      <td>67868</td>\n",
       "      <td>81</td>\n",
       "    </tr>\n",
       "    <tr>\n",
       "      <th>3</th>\n",
       "      <td>031311301210</td>\n",
       "      <td>2006</td>\n",
       "      <td>308</td>\n",
       "      <td>0</td>\n",
       "      <td>0.0</td>\n",
       "      <td>0</td>\n",
       "      <td>59</td>\n",
       "      <td>1</td>\n",
       "      <td>308</td>\n",
       "      <td>MichaelCollinson</td>\n",
       "      <td>2006</td>\n",
       "      <td>0</td>\n",
       "      <td>1546.1</td>\n",
       "      <td>1138</td>\n",
       "      <td>67868</td>\n",
       "      <td>81</td>\n",
       "    </tr>\n",
       "    <tr>\n",
       "      <th>4</th>\n",
       "      <td>031311301213</td>\n",
       "      <td>2006</td>\n",
       "      <td>308</td>\n",
       "      <td>0</td>\n",
       "      <td>0.0</td>\n",
       "      <td>0</td>\n",
       "      <td>14</td>\n",
       "      <td>1</td>\n",
       "      <td>308</td>\n",
       "      <td>MichaelCollinson</td>\n",
       "      <td>2006</td>\n",
       "      <td>0</td>\n",
       "      <td>1546.1</td>\n",
       "      <td>1138</td>\n",
       "      <td>67868</td>\n",
       "      <td>81</td>\n",
       "    </tr>\n",
       "  </tbody>\n",
       "</table>\n",
       "</div>"
      ],
      "text/plain": [
       "        quadkey  year  uid  buildings  road_km  amenities  edits  num_days  \\\n",
       "0  031311301000  2006  308          0      0.0          0    149         1   \n",
       "1  031311301002  2006  308          0      0.0          0      7         1   \n",
       "2  031311301032  2006  308          0      0.0          0      1         1   \n",
       "3  031311301210  2006  308          0      0.0          0     59         1   \n",
       "4  031311301213  2006  308          0      0.0          0     14         1   \n",
       "\n",
       "   user_stats_uid         user_name  total_year  total_buildings  \\\n",
       "0             308  MichaelCollinson        2006                0   \n",
       "1             308  MichaelCollinson        2006                0   \n",
       "2             308  MichaelCollinson        2006                0   \n",
       "3             308  MichaelCollinson        2006                0   \n",
       "4             308  MichaelCollinson        2006                0   \n",
       "\n",
       "   total_road_km  total_amenities  total_edits  total_active_days  \n",
       "0         1546.1             1138        67868                 81  \n",
       "1         1546.1             1138        67868                 81  \n",
       "2         1546.1             1138        67868                 81  \n",
       "3         1546.1             1138        67868                 81  \n",
       "4         1546.1             1138        67868                 81  "
      ]
     },
     "metadata": {},
     "output_type": "display_data"
    }
   ],
   "source": [
    "# Check these results?\n",
    "display.display(study_tiles[study_tile_idx]['compare_tiles'][compare_tile_idx]['users'][study_tiles[study_tile_idx]['compare_tiles'][compare_tile_idx]['user_list'][0]]['df'].head())"
   ]
  },
  {
   "cell_type": "markdown",
   "metadata": {},
   "source": [
    "## 3.5 Pull out per-user-study tile stats"
   ]
  },
  {
   "cell_type": "code",
   "execution_count": 96,
   "metadata": {
    "collapsed": false
   },
   "outputs": [
    {
     "name": "stderr",
     "output_type": "stream",
     "text": [
      " 450/551"
     ]
    }
   ],
   "source": [
    "process_dictionary_of_users_for_study_tile_stats(study_tiles[study_tile_idx]['compare_tiles'][compare_tile_idx]['users'], study_tiles[study_tile_idx]['compare_tiles'][compare_tile_idx]['quad'])"
   ]
  },
  {
   "cell_type": "markdown",
   "metadata": {},
   "source": [
    "## 4. Now process user focus for compare tiles"
   ]
  },
  {
   "cell_type": "code",
   "execution_count": 101,
   "metadata": {
    "collapsed": false
   },
   "outputs": [
    {
     "name": "stderr",
     "output_type": "stream",
     "text": [
      " 551/551"
     ]
    },
    {
     "data": {
      "text/html": [
       "<div>\n",
       "<table border=\"1\" class=\"dataframe\">\n",
       "  <thead>\n",
       "    <tr style=\"text-align: right;\">\n",
       "      <th></th>\n",
       "      <th>edits</th>\n",
       "      <th>amenities</th>\n",
       "      <th>num_days</th>\n",
       "      <th>buildings</th>\n",
       "      <th>road_km</th>\n",
       "      <th>percent_user_road_km</th>\n",
       "      <th>percent_user_buildings</th>\n",
       "      <th>percent_user_amenities</th>\n",
       "      <th>percent_user_edits</th>\n",
       "    </tr>\n",
       "    <tr>\n",
       "      <th>quadkey</th>\n",
       "      <th></th>\n",
       "      <th></th>\n",
       "      <th></th>\n",
       "      <th></th>\n",
       "      <th></th>\n",
       "      <th></th>\n",
       "      <th></th>\n",
       "      <th></th>\n",
       "      <th></th>\n",
       "    </tr>\n",
       "  </thead>\n",
       "  <tbody>\n",
       "    <tr>\n",
       "      <th>002331131311</th>\n",
       "      <td>3</td>\n",
       "      <td>0</td>\n",
       "      <td>1</td>\n",
       "      <td>0</td>\n",
       "      <td>0.0</td>\n",
       "      <td>0.0</td>\n",
       "      <td>0.0</td>\n",
       "      <td>0.0</td>\n",
       "      <td>0.000406</td>\n",
       "    </tr>\n",
       "    <tr>\n",
       "      <th>003132021330</th>\n",
       "      <td>1</td>\n",
       "      <td>0</td>\n",
       "      <td>1</td>\n",
       "      <td>0</td>\n",
       "      <td>0.0</td>\n",
       "      <td>0.0</td>\n",
       "      <td>0.0</td>\n",
       "      <td>0.0</td>\n",
       "      <td>0.000135</td>\n",
       "    </tr>\n",
       "    <tr>\n",
       "      <th>003220020200</th>\n",
       "      <td>3</td>\n",
       "      <td>0</td>\n",
       "      <td>1</td>\n",
       "      <td>0</td>\n",
       "      <td>0.0</td>\n",
       "      <td>0.0</td>\n",
       "      <td>0.0</td>\n",
       "      <td>0.0</td>\n",
       "      <td>0.000406</td>\n",
       "    </tr>\n",
       "    <tr>\n",
       "      <th>003331131311</th>\n",
       "      <td>1</td>\n",
       "      <td>0</td>\n",
       "      <td>1</td>\n",
       "      <td>0</td>\n",
       "      <td>0.0</td>\n",
       "      <td>0.0</td>\n",
       "      <td>0.0</td>\n",
       "      <td>0.0</td>\n",
       "      <td>0.000135</td>\n",
       "    </tr>\n",
       "    <tr>\n",
       "      <th>010123301120</th>\n",
       "      <td>1</td>\n",
       "      <td>0</td>\n",
       "      <td>1</td>\n",
       "      <td>0</td>\n",
       "      <td>0.0</td>\n",
       "      <td>0.0</td>\n",
       "      <td>0.0</td>\n",
       "      <td>0.0</td>\n",
       "      <td>0.000135</td>\n",
       "    </tr>\n",
       "  </tbody>\n",
       "</table>\n",
       "</div>"
      ],
      "text/plain": [
       "              edits  amenities  num_days  buildings  road_km  \\\n",
       "quadkey                                                        \n",
       "002331131311      3          0         1          0      0.0   \n",
       "003132021330      1          0         1          0      0.0   \n",
       "003220020200      3          0         1          0      0.0   \n",
       "003331131311      1          0         1          0      0.0   \n",
       "010123301120      1          0         1          0      0.0   \n",
       "\n",
       "              percent_user_road_km  percent_user_buildings  \\\n",
       "quadkey                                                      \n",
       "002331131311                   0.0                     0.0   \n",
       "003132021330                   0.0                     0.0   \n",
       "003220020200                   0.0                     0.0   \n",
       "003331131311                   0.0                     0.0   \n",
       "010123301120                   0.0                     0.0   \n",
       "\n",
       "              percent_user_amenities  percent_user_edits  \n",
       "quadkey                                                   \n",
       "002331131311                     0.0            0.000406  \n",
       "003132021330                     0.0            0.000135  \n",
       "003220020200                     0.0            0.000406  \n",
       "003331131311                     0.0            0.000135  \n",
       "010123301120                     0.0            0.000135  "
      ]
     },
     "metadata": {},
     "output_type": "display_data"
    },
    {
     "data": {
      "text/html": [
       "<div>\n",
       "<table border=\"1\" class=\"dataframe\">\n",
       "  <thead>\n",
       "    <tr style=\"text-align: right;\">\n",
       "      <th></th>\n",
       "      <th>uid</th>\n",
       "      <th>user_name</th>\n",
       "      <th>year</th>\n",
       "      <th>total_buildings</th>\n",
       "      <th>total_road_km</th>\n",
       "      <th>total_amenities</th>\n",
       "      <th>total_edits</th>\n",
       "      <th>total_active_days</th>\n",
       "    </tr>\n",
       "  </thead>\n",
       "  <tbody>\n",
       "    <tr>\n",
       "      <th>0</th>\n",
       "      <td>308</td>\n",
       "      <td>MichaelCollinson</td>\n",
       "      <td>2006</td>\n",
       "      <td>0</td>\n",
       "      <td>1546.10</td>\n",
       "      <td>1138</td>\n",
       "      <td>67868</td>\n",
       "      <td>81</td>\n",
       "    </tr>\n",
       "    <tr>\n",
       "      <th>1</th>\n",
       "      <td>308</td>\n",
       "      <td>MichaelCollinson</td>\n",
       "      <td>2007</td>\n",
       "      <td>574</td>\n",
       "      <td>6472.24</td>\n",
       "      <td>1650</td>\n",
       "      <td>317861</td>\n",
       "      <td>249</td>\n",
       "    </tr>\n",
       "    <tr>\n",
       "      <th>2</th>\n",
       "      <td>308</td>\n",
       "      <td>MichaelCollinson</td>\n",
       "      <td>2008</td>\n",
       "      <td>1784</td>\n",
       "      <td>25959.30</td>\n",
       "      <td>906</td>\n",
       "      <td>65649</td>\n",
       "      <td>158</td>\n",
       "    </tr>\n",
       "    <tr>\n",
       "      <th>3</th>\n",
       "      <td>308</td>\n",
       "      <td>MichaelCollinson</td>\n",
       "      <td>2009</td>\n",
       "      <td>4861</td>\n",
       "      <td>25068.20</td>\n",
       "      <td>949</td>\n",
       "      <td>49069</td>\n",
       "      <td>142</td>\n",
       "    </tr>\n",
       "    <tr>\n",
       "      <th>4</th>\n",
       "      <td>308</td>\n",
       "      <td>MichaelCollinson</td>\n",
       "      <td>2010</td>\n",
       "      <td>3998</td>\n",
       "      <td>4035.82</td>\n",
       "      <td>828</td>\n",
       "      <td>35502</td>\n",
       "      <td>151</td>\n",
       "    </tr>\n",
       "  </tbody>\n",
       "</table>\n",
       "</div>"
      ],
      "text/plain": [
       "   uid         user_name  year  total_buildings  total_road_km  \\\n",
       "0  308  MichaelCollinson  2006                0        1546.10   \n",
       "1  308  MichaelCollinson  2007              574        6472.24   \n",
       "2  308  MichaelCollinson  2008             1784       25959.30   \n",
       "3  308  MichaelCollinson  2009             4861       25068.20   \n",
       "4  308  MichaelCollinson  2010             3998        4035.82   \n",
       "\n",
       "   total_amenities  total_edits  total_active_days  \n",
       "0             1138        67868                 81  \n",
       "1             1650       317861                249  \n",
       "2              906        65649                158  \n",
       "3              949        49069                142  \n",
       "4              828        35502                151  "
      ]
     },
     "metadata": {},
     "output_type": "display_data"
    }
   ],
   "source": [
    "process_dictionary_of_users(study_tiles[study_tile_idx]['compare_tiles'][compare_tile_idx]['users'])\n",
    "display.display(study_tiles[study_tile_idx]['compare_tiles'][compare_tile_idx]['users'][study_tiles[study_tile_idx]['compare_tiles'][idx]['user_list'][0]]['tiles'].head())\n",
    "display.display(study_tiles[study_tile_idx]['compare_tiles'][compare_tile_idx]['users'][study_tiles[study_tile_idx]['compare_tiles'][idx]['user_list'][0]]['annual'].head())"
   ]
  },
  {
   "cell_type": "markdown",
   "metadata": {},
   "source": [
    "## 5. Build Compare Tile Full Stats"
   ]
  },
  {
   "cell_type": "code",
   "execution_count": 102,
   "metadata": {
    "collapsed": false
   },
   "outputs": [
    {
     "data": {
      "text/plain": [
       "edits        551\n",
       "amenities    551\n",
       "num_days     551\n",
       "buildings    551\n",
       "road_km      551\n",
       "dtype: int64"
      ]
     },
     "execution_count": 102,
     "metadata": {},
     "output_type": "execute_result"
    }
   ],
   "source": [
    "compare_tile_df = build_all_stats_for_tile(study_tiles[study_tile_idx]['compare_tiles'][compare_tile_idx])\n",
    "compare_tile_df.count().head()"
   ]
  },
  {
   "cell_type": "markdown",
   "metadata": {},
   "source": [
    "# Now compare the tiles\n",
    "\n",
    "First, basic stats: "
   ]
  },
  {
   "cell_type": "code",
   "execution_count": 103,
   "metadata": {
    "collapsed": false
   },
   "outputs": [
    {
     "name": "stdout",
     "output_type": "stream",
     "text": [
      "Users on Study Tile: 440, 440\n",
      "Users on Compare Tile: 551, 551\n"
     ]
    }
   ],
   "source": [
    "print(\"Users on Study Tile: {0}, {1}\".format(len(study_tiles[study_tile_idx]['user_list']), len(current_tile_df)))\n",
    "print(\"Users on Compare Tile: {0}, {1}\".format(len(study_tiles[study_tile_idx]['compare_tiles'][compare_tile_idx]['user_list']), len(compare_tile_df)))"
   ]
  },
  {
   "cell_type": "code",
   "execution_count": 104,
   "metadata": {
    "collapsed": false
   },
   "outputs": [
    {
     "data": {
      "text/html": [
       "<div>\n",
       "<table border=\"1\" class=\"dataframe\">\n",
       "  <thead>\n",
       "    <tr style=\"text-align: right;\">\n",
       "      <th></th>\n",
       "      <th>quadkey</th>\n",
       "      <th>year</th>\n",
       "      <th>uid</th>\n",
       "      <th>buildings</th>\n",
       "      <th>road_km</th>\n",
       "      <th>amenities</th>\n",
       "      <th>edits</th>\n",
       "      <th>num_days</th>\n",
       "      <th>user_stats_uid</th>\n",
       "      <th>user_name</th>\n",
       "      <th>total_year</th>\n",
       "      <th>total_buildings</th>\n",
       "      <th>total_road_km</th>\n",
       "      <th>total_amenities</th>\n",
       "      <th>total_edits</th>\n",
       "      <th>total_active_days</th>\n",
       "      <th>active_days_to_date</th>\n",
       "    </tr>\n",
       "  </thead>\n",
       "  <tbody>\n",
       "    <tr>\n",
       "      <th>0</th>\n",
       "      <td>132232231103</td>\n",
       "      <td>2015</td>\n",
       "      <td>3419136</td>\n",
       "      <td>1</td>\n",
       "      <td>0.451494</td>\n",
       "      <td>0</td>\n",
       "      <td>4</td>\n",
       "      <td>2</td>\n",
       "      <td>3419136</td>\n",
       "      <td>jujulapraline</td>\n",
       "      <td>2015</td>\n",
       "      <td>1</td>\n",
       "      <td>0.451494</td>\n",
       "      <td>0</td>\n",
       "      <td>4</td>\n",
       "      <td>2</td>\n",
       "      <td>2</td>\n",
       "    </tr>\n",
       "    <tr>\n",
       "      <th>1</th>\n",
       "      <td>132232231103</td>\n",
       "      <td>2011</td>\n",
       "      <td>307202</td>\n",
       "      <td>0</td>\n",
       "      <td>0.000000</td>\n",
       "      <td>0</td>\n",
       "      <td>1</td>\n",
       "      <td>1</td>\n",
       "      <td>307202</td>\n",
       "      <td>alester</td>\n",
       "      <td>2011</td>\n",
       "      <td>980</td>\n",
       "      <td>1159.980000</td>\n",
       "      <td>1406</td>\n",
       "      <td>10978</td>\n",
       "      <td>117</td>\n",
       "      <td>172</td>\n",
       "    </tr>\n",
       "    <tr>\n",
       "      <th>2</th>\n",
       "      <td>132232231103</td>\n",
       "      <td>2015</td>\n",
       "      <td>2812931</td>\n",
       "      <td>0</td>\n",
       "      <td>2.344470</td>\n",
       "      <td>0</td>\n",
       "      <td>8</td>\n",
       "      <td>1</td>\n",
       "      <td>2812931</td>\n",
       "      <td>nakedhours</td>\n",
       "      <td>2015</td>\n",
       "      <td>0</td>\n",
       "      <td>2.344470</td>\n",
       "      <td>0</td>\n",
       "      <td>11</td>\n",
       "      <td>1</td>\n",
       "      <td>1</td>\n",
       "    </tr>\n",
       "    <tr>\n",
       "      <th>3</th>\n",
       "      <td>132232231103</td>\n",
       "      <td>2013</td>\n",
       "      <td>67592</td>\n",
       "      <td>1</td>\n",
       "      <td>0.242027</td>\n",
       "      <td>1</td>\n",
       "      <td>4</td>\n",
       "      <td>3</td>\n",
       "      <td>67592</td>\n",
       "      <td>Sybren</td>\n",
       "      <td>2013</td>\n",
       "      <td>9</td>\n",
       "      <td>31.415600</td>\n",
       "      <td>15</td>\n",
       "      <td>221</td>\n",
       "      <td>29</td>\n",
       "      <td>100</td>\n",
       "    </tr>\n",
       "    <tr>\n",
       "      <th>4</th>\n",
       "      <td>132232231103</td>\n",
       "      <td>2015</td>\n",
       "      <td>67592</td>\n",
       "      <td>0</td>\n",
       "      <td>0.000000</td>\n",
       "      <td>1</td>\n",
       "      <td>1</td>\n",
       "      <td>1</td>\n",
       "      <td>67592</td>\n",
       "      <td>Sybren</td>\n",
       "      <td>2015</td>\n",
       "      <td>1</td>\n",
       "      <td>46.165500</td>\n",
       "      <td>10</td>\n",
       "      <td>85</td>\n",
       "      <td>14</td>\n",
       "      <td>134</td>\n",
       "    </tr>\n",
       "  </tbody>\n",
       "</table>\n",
       "</div>"
      ],
      "text/plain": [
       "        quadkey  year      uid  buildings   road_km  amenities  edits  \\\n",
       "0  132232231103  2015  3419136          1  0.451494          0      4   \n",
       "1  132232231103  2011   307202          0  0.000000          0      1   \n",
       "2  132232231103  2015  2812931          0  2.344470          0      8   \n",
       "3  132232231103  2013    67592          1  0.242027          1      4   \n",
       "4  132232231103  2015    67592          0  0.000000          1      1   \n",
       "\n",
       "   num_days  user_stats_uid      user_name  total_year  total_buildings  \\\n",
       "0         2         3419136  jujulapraline        2015                1   \n",
       "1         1          307202        alester        2011              980   \n",
       "2         1         2812931     nakedhours        2015                0   \n",
       "3         3           67592         Sybren        2013                9   \n",
       "4         1           67592         Sybren        2015                1   \n",
       "\n",
       "   total_road_km  total_amenities  total_edits  total_active_days  \\\n",
       "0       0.451494                0            4                  2   \n",
       "1    1159.980000             1406        10978                117   \n",
       "2       2.344470                0           11                  1   \n",
       "3      31.415600               15          221                 29   \n",
       "4      46.165500               10           85                 14   \n",
       "\n",
       "   active_days_to_date  \n",
       "0                    2  \n",
       "1                  172  \n",
       "2                    1  \n",
       "3                  100  \n",
       "4                  134  "
      ]
     },
     "execution_count": 104,
     "metadata": {},
     "output_type": "execute_result"
    }
   ],
   "source": [
    "compare_overtime_df = pd.DataFrame()\n",
    "for uid, data in study_tiles[study_tile_idx]['compare_tiles'][compare_tile_idx]['users'].items():\n",
    "\n",
    "    safe_df = pd.DataFrame(data['annual'].sort_values(by='year'))\n",
    "    safe_df['active_days_to_date'] = safe_df.total_active_days.cumsum()\n",
    "\n",
    "    new_df = data['toi'].merge(safe_df[['active_days_to_date','year']], on='year')\n",
    "\n",
    "    compare_overtime_df = pd.concat([compare_overtime_df, new_df],ignore_index=True)\n",
    "\n",
    "compare_overtime_df.head()"
   ]
  },
  {
   "cell_type": "code",
   "execution_count": 110,
   "metadata": {
    "collapsed": false
   },
   "outputs": [
    {
     "data": {
      "text/plain": [
       "<matplotlib.axes._subplots.AxesSubplot at 0x7fd41c352278>"
      ]
     },
     "execution_count": 110,
     "metadata": {},
     "output_type": "execute_result"
    },
    {
     "data": {
      "image/png": "[encoded data removed]",
      "text/plain": [
       "<matplotlib.figure.Figure at 0x7fd60612dfd0>"
      ]
     },
     "metadata": {},
     "output_type": "display_data"
    }
   ],
   "source": [
    "sns.set(font_scale=1.25)\n",
    "plt.style.use('seaborn-white')\n",
    "fig, axs = plt.subplots(nrows=1, ncols=1, figsize=(15,8), facecolor='w', edgecolor='k')\n",
    "\n",
    "threshold = 7\n",
    "\n",
    "compare_gt_10 = compare_overtime_df.query(\"active_days_to_date>={0}\".format(threshold)).groupby('year').aggregate({'uid':pd.Series.nunique})\n",
    "compare_lt_10 = compare_overtime_df.query(\"active_days_to_date<{0}\".format(threshold)).groupby('year').aggregate({'uid':pd.Series.nunique})\n",
    "\n",
    "compare_gt_10.columns = ['Experienced']\n",
    "compare_lt_10.columns = ['Inexperienced']\n",
    "\n",
    "compare_gt_10.join(lt_10).plot(ax=axs,kind='bar',stacked=True)"
   ]
  },
  {
   "cell_type": "code",
   "execution_count": null,
   "metadata": {
    "collapsed": true
   },
   "outputs": [],
   "source": []
  }
 ],
 "metadata": {
  "kernelspec": {
   "display_name": "IPython (Python 3)",
   "language": "python",
   "name": "python3"
  },
  "language_info": {
   "codemirror_mode": {
    "name": "ipython",
    "version": 3
   },
   "file_extension": ".py",
   "mimetype": "text/x-python",
   "name": "python",
   "nbconvert_exporter": "python",
   "pygments_lexer": "ipython3",
   "version": "3.4.3"
  }
 },
 "nbformat": 4,
 "nbformat_minor": 1
}
