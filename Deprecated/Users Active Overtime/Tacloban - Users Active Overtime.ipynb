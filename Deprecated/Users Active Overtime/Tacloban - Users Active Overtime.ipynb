{
 "cells": [
  {
   "cell_type": "code",
   "execution_count": null,
   "metadata": {
    "collapsed": false
   },
   "outputs": [],
   "source": [
    "import psycopg2, psycopg2.extras, psycopg2.pool, pickle, json, matplotlib, sys, time\n",
    "from multiprocessing import Pool, Manager\n",
    "from collections import OrderedDict\n",
    "import matplotlib.pyplot as plt; import numpy as np; import pandas as pd\n",
    "import seaborn as sns; from sqlalchemy import create_engine\n",
    "from IPython import display\n",
    "%matplotlib inline"
   ]
  },
  {
   "cell_type": "markdown",
   "metadata": {
    "collapsed": true
   },
   "source": [
    "# When are users most active on the tile... and how experienced are they?"
   ]
  },
  {
   "cell_type": "code",
   "execution_count": null,
   "metadata": {
    "collapsed": false
   },
   "outputs": [],
   "source": [
    "study_tiles = json.loads(open('../study_tiles_with_compare_tiles.json','r').read())\n",
    "print(\"Found {0} tiles.\".format(len(study_tiles)))"
   ]
  },
  {
   "cell_type": "code",
   "execution_count": null,
   "metadata": {
    "collapsed": false,
    "scrolled": true
   },
   "outputs": [],
   "source": [
    "years = [2005+i for i in range(12)]\n",
    "years"
   ]
  },
  {
   "cell_type": "code",
   "execution_count": null,
   "metadata": {
    "collapsed": false
   },
   "outputs": [],
   "source": [
    "# Create connections for panda queries\n",
    "pd_engines = []\n",
    "pd_connections = []\n",
    "for idx, year in enumerate(years):\n",
    "    pd_engines.append( create_engine(\"postgresql://anderstj@127.0.0.1:5432/world-{0}\".format(year)) )\n",
    "    pd_connections.append(pd_engines[idx].connect())\n",
    "\n",
    "def reset(pd_connections):\n",
    "    new_cons = []\n",
    "    for idx, con in enumerate(pd_connections):\n",
    "        con.close()\n",
    "        new_cons.append(pd_engines[idx].connect())\n",
    "    return new_cons\n",
    "\n",
    "# pd_connections = reset(pd_connections)"
   ]
  },
  {
   "cell_type": "code",
   "execution_count": null,
   "metadata": {
    "collapsed": false
   },
   "outputs": [],
   "source": [
    "def get_all_users_who_edited_tile(tile):\n",
    "    users_on_tile = []\n",
    "    for idx, year in enumerate(years):\n",
    "        print(year, end=\" . \")\n",
    "        query_string = \"\"\"SELECT distinct(uid) FROM per_tile WHERE quadkey = '{0}'\"\"\".format(tile['quad'])\n",
    "        year_df = pd.read_sql_query(query_string,con=pd_connections[idx])\n",
    "        users_on_tile = np.append(users_on_tile,year_df.uid.values)\n",
    "    return np.unique(users_on_tile)\n",
    "\n",
    "def annual_worker_function(args):\n",
    "    \"\"\"\n",
    "    Input: List of users and a year of choice\n",
    "    Returns: Dictionary, keyed by UID of all a user's edits for given year\n",
    "    \"\"\"\n",
    "    (user_list, year_idx, q) = args\n",
    "    dict_to_return = {}\n",
    "\n",
    "    #Query for 50 users at a time\n",
    "    for sub_list in [user_list[i:i + 50] for i in range(0, len(user_list), 50)]:\n",
    "    \n",
    "        query_string = \"\"\"SELECT per_tile.quadkey,\n",
    "                                 per_tile.year,\n",
    "                                 per_tile.uid,\n",
    "                                 per_tile.buildings,\n",
    "                                 per_tile.road_km,\n",
    "                                 per_tile.amenities,\n",
    "                                 per_tile.edits,\n",
    "                                 array_length(per_tile.active_days,1) AS \"num_days\",\n",
    "                                 user_stats.uid AS \"user_stats_uid\",\n",
    "                                 user_stats.name AS \"user_name\",\n",
    "                                 user_stats.year AS \"total_year\",\n",
    "                                 user_stats.buildings AS \"total_buildings\",\n",
    "                                 user_stats.road_km AS \"total_road_km\",\n",
    "                                 user_stats.amenities AS \"total_amenities\",\n",
    "                                 user_stats.edits AS \"total_edits\",\n",
    "                                 array_length(user_stats.active_days,1) AS \"total_active_days\"\n",
    "                          FROM per_tile, user_stats \n",
    "                          WHERE per_tile.uid = user_stats.uid AND \n",
    "                                per_tile.uid = ANY(ARRAY[%s])\"\"\"%(\", \".join([str(i) for i in sub_list]))\n",
    "        df = pd.read_sql_query(query_string, con=pd_connections[year_idx])\n",
    "        \n",
    "#         with open('tmp.log','w') as oFile:\n",
    "#             oFile.write(df.to_csv())\n",
    "\n",
    "        for uid in df['uid'].unique():\n",
    "            dict_to_return[uid] = df[:][df.uid == uid]\n",
    "            q.put(1)\n",
    "    return dict_to_return\n",
    "\n",
    "def build_user_distributions(uids):\n",
    "    \"\"\"\n",
    "        Given a list of user ids, spin up 12 processes (1 per year) to get back dictionaries, keyed by UID\n",
    "            of all a user's tiles for that year; then combine all of the years.\n",
    "        \n",
    "        Returns: A dictionary: { UID : DataFrame of all a user's edits (across all years) }\n",
    "    \"\"\"\n",
    "    m = Manager()\n",
    "    q = m.Queue()\n",
    "    p = Pool(12)\n",
    "    args = [ (uids, year_idx, q) for year_idx in range(12)]\n",
    "    \n",
    "    max_val = round(len(uids)*len(args)*0.4)\n",
    "\n",
    "    result = p.map_async(annual_worker_function, args)\n",
    "    \n",
    "    while True:\n",
    "        if result.ready():\n",
    "            break\n",
    "        else:\n",
    "            size = q.qsize()\n",
    "            sys.stderr.write(\"\\r \"+str(size)+ \"/ ~ \" + str(max_val))\n",
    "            time.sleep(1)\n",
    "    \n",
    "    aggregated = {}\n",
    "    \n",
    "    for year_data in result.get():\n",
    "        for uid, data in year_data.items():\n",
    "            if uid in aggregated:\n",
    "                aggregated[uid]['df'] = pd.concat([aggregated[uid]['df'], data], ignore_index=True)\n",
    "            else:\n",
    "                #This is the first we see this user\n",
    "                aggregated[uid] = {'df':data}\n",
    "    p.close()\n",
    "    return aggregated"
   ]
  },
  {
   "cell_type": "markdown",
   "metadata": {},
   "source": [
    "### With each user's dataframe, compute user focus stats"
   ]
  },
  {
   "cell_type": "code",
   "execution_count": null,
   "metadata": {
    "collapsed": false
   },
   "outputs": [],
   "source": [
    "def calculate_user_focus(args):\n",
    "    \"\"\"\n",
    "    \n",
    "    \"\"\"\n",
    "    df, q = args\n",
    "    agged_quad = df.groupby('quadkey').aggregate({'buildings':sum,\n",
    "                                                 'road_km'  :sum,\n",
    "                                                 'edits'    :sum,\n",
    "                                                 'amenities':sum,\n",
    "                                                 'num_days' :sum})\n",
    "    \n",
    "    agged_quad['percent_user_road_km']   = agged_quad.road_km   / agged_quad.road_km.sum()*100\n",
    "    agged_quad['percent_user_buildings'] = agged_quad.buildings / agged_quad.buildings.sum()*100\n",
    "    agged_quad['percent_user_amenities'] = agged_quad.amenities / agged_quad.amenities.sum()*100\n",
    "    agged_quad['percent_user_edits']     = agged_quad.edits     / agged_quad.edits.sum()*100\n",
    "    \n",
    "\n",
    "    annual_stats = pd.DataFrame()\n",
    "    for year in df.total_year.unique():\n",
    "        this_year = df[['uid','user_name','year','total_buildings','total_road_km','total_amenities','total_edits','total_active_days']].query('year=={0}'.format(year)).head(1)\n",
    "        annual_stats = pd.concat( [annual_stats, this_year], ignore_index=True)\n",
    "    \n",
    "    if(q):\n",
    "        q.put(1)\n",
    "    return (agged_quad, annual_stats)\n",
    "\n",
    "def process_dictionary_of_users(user_dict):\n",
    "    \"\"\"\n",
    "    \n",
    "    \"\"\"\n",
    "    sorted_users = sorted(list(user_dict.keys()))\n",
    "    \n",
    "    m = Manager()\n",
    "    q = m.Queue()\n",
    "    p = Pool(24)\n",
    "    \n",
    "    args = [ (user_dict[uid]['df'], q) for uid in sorted_users]\n",
    "    result = p.map_async(calculate_user_focus, args)\n",
    "    \n",
    "    while True:\n",
    "        if result.ready():\n",
    "            break\n",
    "        else:\n",
    "            sys.stderr.write(\"\\r \"+str(q.qsize())+ \"/\" + str(len(sorted_users)))\n",
    "            time.sleep(0.5)\n",
    "\n",
    "    res = result.get()\n",
    "    for idx, user in enumerate(sorted_users):\n",
    "        user_dict[user]['tiles'] = res[idx][0]\n",
    "        user_dict[user]['annual'] = res[idx][1]\n",
    "        \n",
    "    p.close()"
   ]
  },
  {
   "cell_type": "code",
   "execution_count": null,
   "metadata": {
    "collapsed": true
   },
   "outputs": [],
   "source": [
    "def pull_out_study_tile(args):\n",
    "    \"\"\"\n",
    "        For each user, pull out just the quadkey we want; but also tally the annual stuff...\n",
    "    \"\"\"\n",
    "    df, quad, q = args\n",
    "    \n",
    "    tile_of_interest = pd.DataFrame(df.query(\"quadkey=='{0}'\".format(quad)))\n",
    "\n",
    "    if(q):\n",
    "        q.put(1)\n",
    "    return tile_of_interest\n",
    "\n",
    "def process_dictionary_of_users_for_study_tile_stats(user_dict, quad):\n",
    "    \"\"\"\n",
    "    \n",
    "    \"\"\"\n",
    "    sorted_users = sorted(list(user_dict.keys()))\n",
    "    \n",
    "    m = Manager()\n",
    "    q = m.Queue()\n",
    "    p = Pool(24)\n",
    "    \n",
    "    args = [ (user_dict[uid]['df'], quad, q) for uid in sorted_users]\n",
    "    result = p.map_async(pull_out_study_tile, args)\n",
    "    \n",
    "    while True:\n",
    "        if result.ready():\n",
    "            break\n",
    "        else:\n",
    "            sys.stderr.write(\"\\r \"+str(q.qsize())+ \"/\" + str(len(sorted_users)))\n",
    "            time.sleep(0.5)\n",
    "\n",
    "    res = result.get()\n",
    "    for idx, user in enumerate(sorted_users):\n",
    "        user_dict[user]['toi'] = res[idx]\n",
    "        \n",
    "    p.close()"
   ]
  },
  {
   "cell_type": "code",
   "execution_count": null,
   "metadata": {
    "collapsed": true
   },
   "outputs": [],
   "source": [
    "def build_all_stats_for_tile(current_tile):\n",
    "    \"\"\"\n",
    "    \n",
    "    \"\"\"\n",
    "    current_tile_df = pd.DataFrame()\n",
    "    for u,data in current_tile['users'].items():\n",
    "        data['tiles']['uid'] = u\n",
    "        data['tiles']['total_editing_days_ever'] = data['annual'].total_active_days.sum()\n",
    "        data['tiles']['total_buildings_ever'] = data['annual'].total_buildings.sum()\n",
    "        data['tiles']['total_road_km_ever'] = data['annual'].total_road_km.sum()\n",
    "        data['tiles']['total_amenities_ever'] = data['annual'].total_amenities.sum()\n",
    "        data['tiles']['total_edits_ever'] = data['annual'].total_edits.sum()\n",
    "        current_tile_df = pd.concat([current_tile_df, pd.DataFrame(data['tiles'].query(\"quadkey=='{0}'\".format(current_tile['quad'])))],ignore_index=True)\n",
    "\n",
    "    current_tile_df['percent_tile_road_km']   = current_tile_df.road_km   / current_tile_df.road_km.sum()*100\n",
    "    current_tile_df['percent_tile_buildings'] = current_tile_df.buildings / current_tile_df.buildings.sum()*100\n",
    "    current_tile_df['percent_tile_amenities'] = current_tile_df.amenities / current_tile_df.amenities.sum()*100\n",
    "    current_tile_df['percent_tile_edits']     = current_tile_df.edits     / current_tile_df.edits.sum()*100\n",
    "    \n",
    "    return current_tile_df"
   ]
  },
  {
   "cell_type": "markdown",
   "metadata": {},
   "source": [
    "# Study Tiles: Load data for a specific study tile"
   ]
  },
  {
   "cell_type": "code",
   "execution_count": null,
   "metadata": {
    "collapsed": false
   },
   "outputs": [],
   "source": [
    "for idx, tile in enumerate(study_tiles):\n",
    "    print(idx, tile['name'])"
   ]
  },
  {
   "cell_type": "markdown",
   "metadata": {},
   "source": [
    "## 1. Get the `user_list`"
   ]
  },
  {
   "cell_type": "code",
   "execution_count": null,
   "metadata": {
    "collapsed": true
   },
   "outputs": [],
   "source": [
    "\"\"\"\n",
    "    First: Set the index for the study tile you want.\n",
    "\"\"\"\n",
    "study_tile_idx = 2"
   ]
  },
  {
   "cell_type": "code",
   "execution_count": null,
   "metadata": {
    "collapsed": false
   },
   "outputs": [],
   "source": [
    "pd_connections = reset(pd_connections)\n",
    "study_tiles[study_tile_idx]['user_list'] = get_all_users_who_edited_tile(study_tiles[study_tile_idx])"
   ]
  },
  {
   "cell_type": "code",
   "execution_count": null,
   "metadata": {
    "collapsed": false
   },
   "outputs": [],
   "source": [
    "print(\"Found: {0} users\".format(len(study_tiles[study_tile_idx]['user_list'])))"
   ]
  },
  {
   "cell_type": "markdown",
   "metadata": {},
   "source": [
    "## 2. Build the User Distributions\n",
    "If this doesn't run, run the cell 2 above again)"
   ]
  },
  {
   "cell_type": "code",
   "execution_count": null,
   "metadata": {
    "collapsed": false
   },
   "outputs": [],
   "source": [
    "study_tiles[study_tile_idx]['users'] = build_user_distributions(study_tiles[study_tile_idx]['user_list'])"
   ]
  },
  {
   "cell_type": "markdown",
   "metadata": {},
   "source": [
    "### Check these results"
   ]
  },
  {
   "cell_type": "code",
   "execution_count": 18,
   "metadata": {
    "collapsed": false,
    "scrolled": false
   },
   "outputs": [
    {
     "data": {
      "text/html": [
       "<div>\n",
       "<table border=\"1\" class=\"dataframe\">\n",
       "  <thead>\n",
       "    <tr style=\"text-align: right;\">\n",
       "      <th></th>\n",
       "      <th>quadkey</th>\n",
       "      <th>year</th>\n",
       "      <th>uid</th>\n",
       "      <th>buildings</th>\n",
       "      <th>road_km</th>\n",
       "      <th>amenities</th>\n",
       "      <th>edits</th>\n",
       "      <th>num_days</th>\n",
       "      <th>user_stats_uid</th>\n",
       "      <th>user_name</th>\n",
       "      <th>total_year</th>\n",
       "      <th>total_buildings</th>\n",
       "      <th>total_road_km</th>\n",
       "      <th>total_amenities</th>\n",
       "      <th>total_edits</th>\n",
       "      <th>total_active_days</th>\n",
       "    </tr>\n",
       "  </thead>\n",
       "  <tbody>\n",
       "    <tr>\n",
       "      <th>0</th>\n",
       "      <td>120221323223</td>\n",
       "      <td>2006</td>\n",
       "      <td>137</td>\n",
       "      <td>0</td>\n",
       "      <td>0.0</td>\n",
       "      <td>0</td>\n",
       "      <td>3</td>\n",
       "      <td>1</td>\n",
       "      <td>137</td>\n",
       "      <td>simone</td>\n",
       "      <td>2006</td>\n",
       "      <td>0</td>\n",
       "      <td>0.0000</td>\n",
       "      <td>0</td>\n",
       "      <td>24</td>\n",
       "      <td>1</td>\n",
       "    </tr>\n",
       "    <tr>\n",
       "      <th>1</th>\n",
       "      <td>120221323222</td>\n",
       "      <td>2006</td>\n",
       "      <td>137</td>\n",
       "      <td>0</td>\n",
       "      <td>0.0</td>\n",
       "      <td>0</td>\n",
       "      <td>21</td>\n",
       "      <td>1</td>\n",
       "      <td>137</td>\n",
       "      <td>simone</td>\n",
       "      <td>2006</td>\n",
       "      <td>0</td>\n",
       "      <td>0.0000</td>\n",
       "      <td>0</td>\n",
       "      <td>24</td>\n",
       "      <td>1</td>\n",
       "    </tr>\n",
       "    <tr>\n",
       "      <th>2</th>\n",
       "      <td>031313131112</td>\n",
       "      <td>2007</td>\n",
       "      <td>137</td>\n",
       "      <td>0</td>\n",
       "      <td>0.0</td>\n",
       "      <td>2</td>\n",
       "      <td>2</td>\n",
       "      <td>1</td>\n",
       "      <td>137</td>\n",
       "      <td>simone</td>\n",
       "      <td>2007</td>\n",
       "      <td>0</td>\n",
       "      <td>92.2827</td>\n",
       "      <td>2</td>\n",
       "      <td>153</td>\n",
       "      <td>8</td>\n",
       "    </tr>\n",
       "    <tr>\n",
       "      <th>3</th>\n",
       "      <td>120221323021</td>\n",
       "      <td>2007</td>\n",
       "      <td>137</td>\n",
       "      <td>0</td>\n",
       "      <td>0.0</td>\n",
       "      <td>0</td>\n",
       "      <td>1</td>\n",
       "      <td>1</td>\n",
       "      <td>137</td>\n",
       "      <td>simone</td>\n",
       "      <td>2007</td>\n",
       "      <td>0</td>\n",
       "      <td>92.2827</td>\n",
       "      <td>2</td>\n",
       "      <td>153</td>\n",
       "      <td>8</td>\n",
       "    </tr>\n",
       "    <tr>\n",
       "      <th>4</th>\n",
       "      <td>120221323022</td>\n",
       "      <td>2007</td>\n",
       "      <td>137</td>\n",
       "      <td>0</td>\n",
       "      <td>0.0</td>\n",
       "      <td>0</td>\n",
       "      <td>1</td>\n",
       "      <td>1</td>\n",
       "      <td>137</td>\n",
       "      <td>simone</td>\n",
       "      <td>2007</td>\n",
       "      <td>0</td>\n",
       "      <td>92.2827</td>\n",
       "      <td>2</td>\n",
       "      <td>153</td>\n",
       "      <td>8</td>\n",
       "    </tr>\n",
       "  </tbody>\n",
       "</table>\n",
       "</div>"
      ],
      "text/plain": [
       "        quadkey  year  uid  buildings  road_km  amenities  edits  num_days  \\\n",
       "0  120221323223  2006  137          0      0.0          0      3         1   \n",
       "1  120221323222  2006  137          0      0.0          0     21         1   \n",
       "2  031313131112  2007  137          0      0.0          2      2         1   \n",
       "3  120221323021  2007  137          0      0.0          0      1         1   \n",
       "4  120221323022  2007  137          0      0.0          0      1         1   \n",
       "\n",
       "   user_stats_uid user_name  total_year  total_buildings  total_road_km  \\\n",
       "0             137    simone        2006                0         0.0000   \n",
       "1             137    simone        2006                0         0.0000   \n",
       "2             137    simone        2007                0        92.2827   \n",
       "3             137    simone        2007                0        92.2827   \n",
       "4             137    simone        2007                0        92.2827   \n",
       "\n",
       "   total_amenities  total_edits  total_active_days  \n",
       "0                0           24                  1  \n",
       "1                0           24                  1  \n",
       "2                2          153                  8  \n",
       "3                2          153                  8  \n",
       "4                2          153                  8  "
      ]
     },
     "metadata": {},
     "output_type": "display_data"
    }
   ],
   "source": [
    "display.display(study_tiles[study_tile_idx]['users'][study_tiles[study_tile_idx]['user_list'][0]]['df'].head())"
   ]
  },
  {
   "cell_type": "markdown",
   "metadata": {
    "collapsed": true
   },
   "source": [
    "## 3. Get tile focus for each user"
   ]
  },
  {
   "cell_type": "code",
   "execution_count": 19,
   "metadata": {
    "collapsed": false
   },
   "outputs": [
    {
     "name": "stderr",
     "output_type": "stream",
     "text": [
      " 325/325"
     ]
    }
   ],
   "source": [
    "process_dictionary_of_users(study_tiles[study_tile_idx]['users'])"
   ]
  },
  {
   "cell_type": "markdown",
   "metadata": {},
   "source": [
    "## 3.5 Pull out per-user-study tile stats"
   ]
  },
  {
   "cell_type": "code",
   "execution_count": 20,
   "metadata": {
    "collapsed": false
   },
   "outputs": [
    {
     "name": "stderr",
     "output_type": "stream",
     "text": [
      " 321/325"
     ]
    }
   ],
   "source": [
    "process_dictionary_of_users_for_study_tile_stats(study_tiles[study_tile_idx]['users'], study_tiles[study_tile_idx]['quad'])"
   ]
  },
  {
   "cell_type": "markdown",
   "metadata": {},
   "source": [
    "### Inspect these"
   ]
  },
  {
   "cell_type": "code",
   "execution_count": 21,
   "metadata": {
    "collapsed": false,
    "scrolled": false
   },
   "outputs": [
    {
     "data": {
      "text/html": [
       "<div>\n",
       "<table border=\"1\" class=\"dataframe\">\n",
       "  <thead>\n",
       "    <tr style=\"text-align: right;\">\n",
       "      <th></th>\n",
       "      <th>buildings</th>\n",
       "      <th>road_km</th>\n",
       "      <th>amenities</th>\n",
       "      <th>edits</th>\n",
       "      <th>num_days</th>\n",
       "      <th>percent_user_road_km</th>\n",
       "      <th>percent_user_buildings</th>\n",
       "      <th>percent_user_amenities</th>\n",
       "      <th>percent_user_edits</th>\n",
       "    </tr>\n",
       "    <tr>\n",
       "      <th>quadkey</th>\n",
       "      <th></th>\n",
       "      <th></th>\n",
       "      <th></th>\n",
       "      <th></th>\n",
       "      <th></th>\n",
       "      <th></th>\n",
       "      <th></th>\n",
       "      <th></th>\n",
       "      <th></th>\n",
       "    </tr>\n",
       "  </thead>\n",
       "  <tbody>\n",
       "    <tr>\n",
       "      <th>021112001110</th>\n",
       "      <td>0</td>\n",
       "      <td>0.0</td>\n",
       "      <td>0</td>\n",
       "      <td>1</td>\n",
       "      <td>1</td>\n",
       "      <td>0.0</td>\n",
       "      <td>0.0</td>\n",
       "      <td>0.0</td>\n",
       "      <td>0.000174</td>\n",
       "    </tr>\n",
       "    <tr>\n",
       "      <th>021112001111</th>\n",
       "      <td>0</td>\n",
       "      <td>0.0</td>\n",
       "      <td>0</td>\n",
       "      <td>1</td>\n",
       "      <td>1</td>\n",
       "      <td>0.0</td>\n",
       "      <td>0.0</td>\n",
       "      <td>0.0</td>\n",
       "      <td>0.000174</td>\n",
       "    </tr>\n",
       "    <tr>\n",
       "      <th>021112001112</th>\n",
       "      <td>0</td>\n",
       "      <td>0.0</td>\n",
       "      <td>0</td>\n",
       "      <td>1</td>\n",
       "      <td>1</td>\n",
       "      <td>0.0</td>\n",
       "      <td>0.0</td>\n",
       "      <td>0.0</td>\n",
       "      <td>0.000174</td>\n",
       "    </tr>\n",
       "    <tr>\n",
       "      <th>021112001130</th>\n",
       "      <td>0</td>\n",
       "      <td>0.0</td>\n",
       "      <td>0</td>\n",
       "      <td>1</td>\n",
       "      <td>1</td>\n",
       "      <td>0.0</td>\n",
       "      <td>0.0</td>\n",
       "      <td>0.0</td>\n",
       "      <td>0.000174</td>\n",
       "    </tr>\n",
       "    <tr>\n",
       "      <th>021112001131</th>\n",
       "      <td>0</td>\n",
       "      <td>0.0</td>\n",
       "      <td>0</td>\n",
       "      <td>1</td>\n",
       "      <td>1</td>\n",
       "      <td>0.0</td>\n",
       "      <td>0.0</td>\n",
       "      <td>0.0</td>\n",
       "      <td>0.000174</td>\n",
       "    </tr>\n",
       "  </tbody>\n",
       "</table>\n",
       "</div>"
      ],
      "text/plain": [
       "              buildings  road_km  amenities  edits  num_days  \\\n",
       "quadkey                                                        \n",
       "021112001110          0      0.0          0      1         1   \n",
       "021112001111          0      0.0          0      1         1   \n",
       "021112001112          0      0.0          0      1         1   \n",
       "021112001130          0      0.0          0      1         1   \n",
       "021112001131          0      0.0          0      1         1   \n",
       "\n",
       "              percent_user_road_km  percent_user_buildings  \\\n",
       "quadkey                                                      \n",
       "021112001110                   0.0                     0.0   \n",
       "021112001111                   0.0                     0.0   \n",
       "021112001112                   0.0                     0.0   \n",
       "021112001130                   0.0                     0.0   \n",
       "021112001131                   0.0                     0.0   \n",
       "\n",
       "              percent_user_amenities  percent_user_edits  \n",
       "quadkey                                                   \n",
       "021112001110                     0.0            0.000174  \n",
       "021112001111                     0.0            0.000174  \n",
       "021112001112                     0.0            0.000174  \n",
       "021112001130                     0.0            0.000174  \n",
       "021112001131                     0.0            0.000174  "
      ]
     },
     "metadata": {},
     "output_type": "display_data"
    },
    {
     "data": {
      "text/html": [
       "<div>\n",
       "<table border=\"1\" class=\"dataframe\">\n",
       "  <thead>\n",
       "    <tr style=\"text-align: right;\">\n",
       "      <th></th>\n",
       "      <th>uid</th>\n",
       "      <th>user_name</th>\n",
       "      <th>year</th>\n",
       "      <th>total_buildings</th>\n",
       "      <th>total_road_km</th>\n",
       "      <th>total_amenities</th>\n",
       "      <th>total_edits</th>\n",
       "      <th>total_active_days</th>\n",
       "    </tr>\n",
       "  </thead>\n",
       "  <tbody>\n",
       "    <tr>\n",
       "      <th>0</th>\n",
       "      <td>137</td>\n",
       "      <td>simone</td>\n",
       "      <td>2006</td>\n",
       "      <td>0</td>\n",
       "      <td>0.0000</td>\n",
       "      <td>0</td>\n",
       "      <td>24</td>\n",
       "      <td>1</td>\n",
       "    </tr>\n",
       "    <tr>\n",
       "      <th>1</th>\n",
       "      <td>137</td>\n",
       "      <td>simone</td>\n",
       "      <td>2007</td>\n",
       "      <td>0</td>\n",
       "      <td>92.2827</td>\n",
       "      <td>2</td>\n",
       "      <td>153</td>\n",
       "      <td>8</td>\n",
       "    </tr>\n",
       "    <tr>\n",
       "      <th>2</th>\n",
       "      <td>137</td>\n",
       "      <td>simone</td>\n",
       "      <td>2008</td>\n",
       "      <td>13</td>\n",
       "      <td>486.1230</td>\n",
       "      <td>122</td>\n",
       "      <td>38917</td>\n",
       "      <td>85</td>\n",
       "    </tr>\n",
       "    <tr>\n",
       "      <th>3</th>\n",
       "      <td>137</td>\n",
       "      <td>simone</td>\n",
       "      <td>2009</td>\n",
       "      <td>505465</td>\n",
       "      <td>239.5140</td>\n",
       "      <td>2391</td>\n",
       "      <td>516880</td>\n",
       "      <td>63</td>\n",
       "    </tr>\n",
       "    <tr>\n",
       "      <th>4</th>\n",
       "      <td>137</td>\n",
       "      <td>simone</td>\n",
       "      <td>2010</td>\n",
       "      <td>342</td>\n",
       "      <td>163.0080</td>\n",
       "      <td>184</td>\n",
       "      <td>2170</td>\n",
       "      <td>67</td>\n",
       "    </tr>\n",
       "  </tbody>\n",
       "</table>\n",
       "</div>"
      ],
      "text/plain": [
       "   uid user_name  year  total_buildings  total_road_km  total_amenities  \\\n",
       "0  137    simone  2006                0         0.0000                0   \n",
       "1  137    simone  2007                0        92.2827                2   \n",
       "2  137    simone  2008               13       486.1230              122   \n",
       "3  137    simone  2009           505465       239.5140             2391   \n",
       "4  137    simone  2010              342       163.0080              184   \n",
       "\n",
       "   total_edits  total_active_days  \n",
       "0           24                  1  \n",
       "1          153                  8  \n",
       "2        38917                 85  \n",
       "3       516880                 63  \n",
       "4         2170                 67  "
      ]
     },
     "metadata": {},
     "output_type": "display_data"
    },
    {
     "data": {
      "text/html": [
       "<div>\n",
       "<table border=\"1\" class=\"dataframe\">\n",
       "  <thead>\n",
       "    <tr style=\"text-align: right;\">\n",
       "      <th></th>\n",
       "      <th>quadkey</th>\n",
       "      <th>year</th>\n",
       "      <th>uid</th>\n",
       "      <th>buildings</th>\n",
       "      <th>road_km</th>\n",
       "      <th>amenities</th>\n",
       "      <th>edits</th>\n",
       "      <th>num_days</th>\n",
       "      <th>user_stats_uid</th>\n",
       "      <th>user_name</th>\n",
       "      <th>total_year</th>\n",
       "      <th>total_buildings</th>\n",
       "      <th>total_road_km</th>\n",
       "      <th>total_amenities</th>\n",
       "      <th>total_edits</th>\n",
       "      <th>total_active_days</th>\n",
       "    </tr>\n",
       "  </thead>\n",
       "  <tbody>\n",
       "    <tr>\n",
       "      <th>6919</th>\n",
       "      <td>132312223332</td>\n",
       "      <td>2013</td>\n",
       "      <td>137</td>\n",
       "      <td>1</td>\n",
       "      <td>0.0</td>\n",
       "      <td>0</td>\n",
       "      <td>6</td>\n",
       "      <td>1</td>\n",
       "      <td>137</td>\n",
       "      <td>simone</td>\n",
       "      <td>2013</td>\n",
       "      <td>692</td>\n",
       "      <td>180.318</td>\n",
       "      <td>289</td>\n",
       "      <td>1963</td>\n",
       "      <td>64</td>\n",
       "    </tr>\n",
       "  </tbody>\n",
       "</table>\n",
       "</div>"
      ],
      "text/plain": [
       "           quadkey  year  uid  buildings  road_km  amenities  edits  num_days  \\\n",
       "6919  132312223332  2013  137          1      0.0          0      6         1   \n",
       "\n",
       "      user_stats_uid user_name  total_year  total_buildings  total_road_km  \\\n",
       "6919             137    simone        2013              692        180.318   \n",
       "\n",
       "      total_amenities  total_edits  total_active_days  \n",
       "6919              289         1963                 64  "
      ]
     },
     "metadata": {},
     "output_type": "display_data"
    }
   ],
   "source": [
    "# So what's saved from this?\n",
    "display.display(study_tiles[study_tile_idx]['users'][study_tiles[study_tile_idx]['user_list'][0]]['tiles'].head())\n",
    "display.display(study_tiles[study_tile_idx]['users'][study_tiles[study_tile_idx]['user_list'][0]]['annual'].head())\n",
    "display.display(study_tiles[study_tile_idx]['users'][study_tiles[study_tile_idx]['user_list'][0]]['toi'].head())"
   ]
  },
  {
   "cell_type": "markdown",
   "metadata": {},
   "source": [
    "Processed Study tiles now have the following attributes: \n",
    "\n",
    "- **name**: Name of Region\n",
    "- **user_list**: List of UIDs of users who have edited on this tile\n",
    "- **users**: Dictionary, keyed by UID\n",
    "  - `uid`:\n",
    "    - **df**: Full dataframe of all edits on all tiles by this user\n",
    "    - **tiles**: DataFrame of unique tiles, summed over all years\n",
    "    - **annual**: DataFrame of Editing Aggregates over all tiles, per year\n",
    "    - **toi**: DataFrame of just edits to the study tile per user"
   ]
  },
  {
   "cell_type": "markdown",
   "metadata": {},
   "source": [
    "# Begin Analysis"
   ]
  },
  {
   "cell_type": "code",
   "execution_count": 24,
   "metadata": {
    "collapsed": false
   },
   "outputs": [
    {
     "name": "stdout",
     "output_type": "stream",
     "text": [
      "Current Study Tile: Tacloban\n",
      "\tUsers: 325\n"
     ]
    }
   ],
   "source": [
    "print(\"Current Study Tile: {0}\".format(study_tiles[study_tile_idx]['name']))\n",
    "print(\"\\tUsers: {0}\".format(len(study_tiles[study_tile_idx]['user_list'])))"
   ]
  },
  {
   "cell_type": "code",
   "execution_count": 25,
   "metadata": {
    "collapsed": false
   },
   "outputs": [
    {
     "data": {
      "text/html": [
       "<div>\n",
       "<table border=\"1\" class=\"dataframe\">\n",
       "  <thead>\n",
       "    <tr style=\"text-align: right;\">\n",
       "      <th></th>\n",
       "      <th>quadkey</th>\n",
       "      <th>year</th>\n",
       "      <th>uid</th>\n",
       "      <th>buildings</th>\n",
       "      <th>road_km</th>\n",
       "      <th>amenities</th>\n",
       "      <th>edits</th>\n",
       "      <th>num_days</th>\n",
       "      <th>user_stats_uid</th>\n",
       "      <th>user_name</th>\n",
       "      <th>total_year</th>\n",
       "      <th>total_buildings</th>\n",
       "      <th>total_road_km</th>\n",
       "      <th>total_amenities</th>\n",
       "      <th>total_edits</th>\n",
       "      <th>total_active_days</th>\n",
       "      <th>active_days_to_date</th>\n",
       "    </tr>\n",
       "  </thead>\n",
       "  <tbody>\n",
       "    <tr>\n",
       "      <th>0</th>\n",
       "      <td>132312223332</td>\n",
       "      <td>2013</td>\n",
       "      <td>1772032</td>\n",
       "      <td>2</td>\n",
       "      <td>0.000000</td>\n",
       "      <td>1</td>\n",
       "      <td>12</td>\n",
       "      <td>1</td>\n",
       "      <td>1772032</td>\n",
       "      <td>Vincent Génin</td>\n",
       "      <td>2013</td>\n",
       "      <td>22</td>\n",
       "      <td>6.65890</td>\n",
       "      <td>187</td>\n",
       "      <td>396</td>\n",
       "      <td>11</td>\n",
       "      <td>11</td>\n",
       "    </tr>\n",
       "    <tr>\n",
       "      <th>1</th>\n",
       "      <td>132312223332</td>\n",
       "      <td>2013</td>\n",
       "      <td>188930</td>\n",
       "      <td>0</td>\n",
       "      <td>0.000000</td>\n",
       "      <td>0</td>\n",
       "      <td>1</td>\n",
       "      <td>1</td>\n",
       "      <td>188930</td>\n",
       "      <td>JLZIMMERMANN</td>\n",
       "      <td>2013</td>\n",
       "      <td>1505</td>\n",
       "      <td>1184.31000</td>\n",
       "      <td>2484</td>\n",
       "      <td>22010</td>\n",
       "      <td>335</td>\n",
       "      <td>881</td>\n",
       "    </tr>\n",
       "    <tr>\n",
       "      <th>2</th>\n",
       "      <td>132312223332</td>\n",
       "      <td>2013</td>\n",
       "      <td>1784020</td>\n",
       "      <td>55</td>\n",
       "      <td>0.000000</td>\n",
       "      <td>0</td>\n",
       "      <td>55</td>\n",
       "      <td>2</td>\n",
       "      <td>1784020</td>\n",
       "      <td>JPavlik</td>\n",
       "      <td>2013</td>\n",
       "      <td>276</td>\n",
       "      <td>2.86617</td>\n",
       "      <td>0</td>\n",
       "      <td>292</td>\n",
       "      <td>8</td>\n",
       "      <td>8</td>\n",
       "    </tr>\n",
       "    <tr>\n",
       "      <th>3</th>\n",
       "      <td>132312223332</td>\n",
       "      <td>2013</td>\n",
       "      <td>167945</td>\n",
       "      <td>0</td>\n",
       "      <td>0.212441</td>\n",
       "      <td>0</td>\n",
       "      <td>2</td>\n",
       "      <td>1</td>\n",
       "      <td>167945</td>\n",
       "      <td>Xinfe</td>\n",
       "      <td>2013</td>\n",
       "      <td>759</td>\n",
       "      <td>247.51700</td>\n",
       "      <td>174</td>\n",
       "      <td>2798</td>\n",
       "      <td>32</td>\n",
       "      <td>190</td>\n",
       "    </tr>\n",
       "    <tr>\n",
       "      <th>4</th>\n",
       "      <td>132312223332</td>\n",
       "      <td>2013</td>\n",
       "      <td>178186</td>\n",
       "      <td>334</td>\n",
       "      <td>6.782210</td>\n",
       "      <td>0</td>\n",
       "      <td>379</td>\n",
       "      <td>2</td>\n",
       "      <td>178186</td>\n",
       "      <td>mdk</td>\n",
       "      <td>2013</td>\n",
       "      <td>18695</td>\n",
       "      <td>3266.83000</td>\n",
       "      <td>1266</td>\n",
       "      <td>127477</td>\n",
       "      <td>161</td>\n",
       "      <td>921</td>\n",
       "    </tr>\n",
       "  </tbody>\n",
       "</table>\n",
       "</div>"
      ],
      "text/plain": [
       "        quadkey  year      uid  buildings   road_km  amenities  edits  \\\n",
       "0  132312223332  2013  1772032          2  0.000000          1     12   \n",
       "1  132312223332  2013   188930          0  0.000000          0      1   \n",
       "2  132312223332  2013  1784020         55  0.000000          0     55   \n",
       "3  132312223332  2013   167945          0  0.212441          0      2   \n",
       "4  132312223332  2013   178186        334  6.782210          0    379   \n",
       "\n",
       "   num_days  user_stats_uid      user_name  total_year  total_buildings  \\\n",
       "0         1         1772032  Vincent Génin        2013               22   \n",
       "1         1          188930   JLZIMMERMANN        2013             1505   \n",
       "2         2         1784020        JPavlik        2013              276   \n",
       "3         1          167945          Xinfe        2013              759   \n",
       "4         2          178186            mdk        2013            18695   \n",
       "\n",
       "   total_road_km  total_amenities  total_edits  total_active_days  \\\n",
       "0        6.65890              187          396                 11   \n",
       "1     1184.31000             2484        22010                335   \n",
       "2        2.86617                0          292                  8   \n",
       "3      247.51700              174         2798                 32   \n",
       "4     3266.83000             1266       127477                161   \n",
       "\n",
       "   active_days_to_date  \n",
       "0                   11  \n",
       "1                  881  \n",
       "2                    8  \n",
       "3                  190  \n",
       "4                  921  "
      ]
     },
     "execution_count": 25,
     "metadata": {},
     "output_type": "execute_result"
    }
   ],
   "source": [
    "overtime_df = pd.DataFrame()\n",
    "for uid, data in study_tiles[study_tile_idx]['users'].items():\n",
    "\n",
    "    safe_df = pd.DataFrame(data['annual'].sort_values(by='year'))\n",
    "    safe_df['active_days_to_date'] = safe_df.total_active_days.cumsum()\n",
    "\n",
    "    new_df = data['toi'].merge(safe_df[['active_days_to_date','year']], on='year')\n",
    "\n",
    "    overtime_df = pd.concat([overtime_df, new_df],ignore_index=True)\n",
    "\n",
    "overtime_df.head()"
   ]
  },
  {
   "cell_type": "code",
   "execution_count": 26,
   "metadata": {
    "collapsed": false
   },
   "outputs": [
    {
     "data": {
      "text/html": [
       "<div>\n",
       "<table border=\"1\" class=\"dataframe\">\n",
       "  <thead>\n",
       "    <tr style=\"text-align: right;\">\n",
       "      <th></th>\n",
       "      <th>quadkey</th>\n",
       "      <th>year</th>\n",
       "      <th>uid</th>\n",
       "      <th>buildings</th>\n",
       "      <th>road_km</th>\n",
       "      <th>amenities</th>\n",
       "      <th>edits</th>\n",
       "      <th>num_days</th>\n",
       "      <th>user_stats_uid</th>\n",
       "      <th>user_name</th>\n",
       "      <th>total_year</th>\n",
       "      <th>total_buildings</th>\n",
       "      <th>total_road_km</th>\n",
       "      <th>total_amenities</th>\n",
       "      <th>total_edits</th>\n",
       "      <th>total_active_days</th>\n",
       "      <th>active_days_to_date</th>\n",
       "    </tr>\n",
       "  </thead>\n",
       "  <tbody>\n",
       "    <tr>\n",
       "      <th>179</th>\n",
       "      <td>132312223332</td>\n",
       "      <td>2010</td>\n",
       "      <td>45827</td>\n",
       "      <td>0</td>\n",
       "      <td>0.415658</td>\n",
       "      <td>0</td>\n",
       "      <td>1</td>\n",
       "      <td>1</td>\n",
       "      <td>45827</td>\n",
       "      <td>danyx</td>\n",
       "      <td>2010</td>\n",
       "      <td>9</td>\n",
       "      <td>184.847</td>\n",
       "      <td>60</td>\n",
       "      <td>735</td>\n",
       "      <td>36</td>\n",
       "      <td>113</td>\n",
       "    </tr>\n",
       "    <tr>\n",
       "      <th>189</th>\n",
       "      <td>132312223332</td>\n",
       "      <td>2010</td>\n",
       "      <td>24338</td>\n",
       "      <td>0</td>\n",
       "      <td>0.000000</td>\n",
       "      <td>0</td>\n",
       "      <td>1</td>\n",
       "      <td>1</td>\n",
       "      <td>24338</td>\n",
       "      <td>Rally</td>\n",
       "      <td>2010</td>\n",
       "      <td>152</td>\n",
       "      <td>4364.480</td>\n",
       "      <td>786</td>\n",
       "      <td>6973</td>\n",
       "      <td>104</td>\n",
       "      <td>141</td>\n",
       "    </tr>\n",
       "    <tr>\n",
       "      <th>259</th>\n",
       "      <td>132312223332</td>\n",
       "      <td>2010</td>\n",
       "      <td>11126</td>\n",
       "      <td>0</td>\n",
       "      <td>0.000000</td>\n",
       "      <td>0</td>\n",
       "      <td>1</td>\n",
       "      <td>1</td>\n",
       "      <td>11126</td>\n",
       "      <td>seav</td>\n",
       "      <td>2010</td>\n",
       "      <td>1052</td>\n",
       "      <td>1540.610</td>\n",
       "      <td>1190</td>\n",
       "      <td>12601</td>\n",
       "      <td>176</td>\n",
       "      <td>345</td>\n",
       "    </tr>\n",
       "    <tr>\n",
       "      <th>305</th>\n",
       "      <td>132312223332</td>\n",
       "      <td>2010</td>\n",
       "      <td>31138</td>\n",
       "      <td>0</td>\n",
       "      <td>0.000000</td>\n",
       "      <td>0</td>\n",
       "      <td>2</td>\n",
       "      <td>1</td>\n",
       "      <td>31138</td>\n",
       "      <td>5EE</td>\n",
       "      <td>2010</td>\n",
       "      <td>352</td>\n",
       "      <td>4674.800</td>\n",
       "      <td>51</td>\n",
       "      <td>15709</td>\n",
       "      <td>113</td>\n",
       "      <td>452</td>\n",
       "    </tr>\n",
       "    <tr>\n",
       "      <th>343</th>\n",
       "      <td>132312223332</td>\n",
       "      <td>2010</td>\n",
       "      <td>69076</td>\n",
       "      <td>0</td>\n",
       "      <td>47.552800</td>\n",
       "      <td>8</td>\n",
       "      <td>98</td>\n",
       "      <td>8</td>\n",
       "      <td>69076</td>\n",
       "      <td>axk</td>\n",
       "      <td>2010</td>\n",
       "      <td>92</td>\n",
       "      <td>2737.580</td>\n",
       "      <td>338</td>\n",
       "      <td>4527</td>\n",
       "      <td>115</td>\n",
       "      <td>170</td>\n",
       "    </tr>\n",
       "  </tbody>\n",
       "</table>\n",
       "</div>"
      ],
      "text/plain": [
       "          quadkey  year    uid  buildings    road_km  amenities  edits  \\\n",
       "179  132312223332  2010  45827          0   0.415658          0      1   \n",
       "189  132312223332  2010  24338          0   0.000000          0      1   \n",
       "259  132312223332  2010  11126          0   0.000000          0      1   \n",
       "305  132312223332  2010  31138          0   0.000000          0      2   \n",
       "343  132312223332  2010  69076          0  47.552800          8     98   \n",
       "\n",
       "     num_days  user_stats_uid user_name  total_year  total_buildings  \\\n",
       "179         1           45827     danyx        2010                9   \n",
       "189         1           24338     Rally        2010              152   \n",
       "259         1           11126      seav        2010             1052   \n",
       "305         1           31138       5EE        2010              352   \n",
       "343         8           69076       axk        2010               92   \n",
       "\n",
       "     total_road_km  total_amenities  total_edits  total_active_days  \\\n",
       "179        184.847               60          735                 36   \n",
       "189       4364.480              786         6973                104   \n",
       "259       1540.610             1190        12601                176   \n",
       "305       4674.800               51        15709                113   \n",
       "343       2737.580              338         4527                115   \n",
       "\n",
       "     active_days_to_date  \n",
       "179                  113  \n",
       "189                  141  \n",
       "259                  345  \n",
       "305                  452  \n",
       "343                  170  "
      ]
     },
     "execution_count": 26,
     "metadata": {},
     "output_type": "execute_result"
    }
   ],
   "source": [
    "overtime_df.query('active_days_to_date>10').query('year==2010').head()"
   ]
  },
  {
   "cell_type": "code",
   "execution_count": 27,
   "metadata": {
    "collapsed": false,
    "scrolled": false
   },
   "outputs": [
    {
     "data": {
      "text/plain": [
       "<matplotlib.axes._subplots.AxesSubplot at 0x7fdb75734dd8>"
      ]
     },
     "execution_count": 27,
     "metadata": {},
     "output_type": "execute_result"
    },
    {
     "data": {
      "image/png": "[encoded data removed]",
      "text/plain": [
       "<matplotlib.figure.Figure at 0x7fdb78fdd5f8>"
      ]
     },
     "metadata": {},
     "output_type": "display_data"
    }
   ],
   "source": [
    "sns.set(font_scale=1.25)\n",
    "plt.style.use('seaborn-white')\n",
    "fig, axs = plt.subplots(nrows=1, ncols=1, figsize=(15,8), facecolor='w', edgecolor='k')\n",
    "\n",
    "threshold = 7\n",
    "\n",
    "gt_10 = overtime_df.query(\"active_days_to_date>={0}\".format(threshold)).groupby('year').aggregate({'uid':pd.Series.nunique})\n",
    "lt_10 = overtime_df.query(\"active_days_to_date<{0}\".format(threshold)).groupby('year').aggregate({'uid':pd.Series.nunique})\n",
    "\n",
    "gt_10.columns = ['Experienced']\n",
    "lt_10.columns = ['Inexperienced']\n",
    "\n",
    "gt_10.join(lt_10).plot(ax=axs,kind='bar',stacked=True)"
   ]
  },
  {
   "cell_type": "markdown",
   "metadata": {},
   "source": [
    "<hr>\n",
    "# Run Tile-by-Tile Comparisons\n",
    "For each study tile, we have _comparable_ tiles, these are the tiles of most interest, because the difference in patterns between these tiles and our study tiles is what makes the analysis.\n",
    "\n",
    "## 1. Get a _comparable_ tile"
   ]
  },
  {
   "cell_type": "code",
   "execution_count": 28,
   "metadata": {
    "collapsed": false
   },
   "outputs": [
    {
     "name": "stdout",
     "output_type": "stream",
     "text": [
      "Comparable Tiles for Tacloban: \n",
      "\t0, '132303033311'\n",
      "\t1, '132303033313'\n"
     ]
    }
   ],
   "source": [
    "if 'compare_tiles' in study_tiles[study_tile_idx]:\n",
    "    print(\"Comparable Tiles for {0}: \".format(study_tiles[study_tile_idx]['name']))\n",
    "    for idx, compare in enumerate(study_tiles[study_tile_idx]['compare_tiles']):\n",
    "        print(\"\\t{0}, '{1}'\".format(idx, compare['quad']))"
   ]
  },
  {
   "cell_type": "code",
   "execution_count": 29,
   "metadata": {
    "collapsed": true
   },
   "outputs": [],
   "source": [
    "#Which tile to compare? (from within the comparable study tiles)\n",
    "compare_tile_idx=0"
   ]
  },
  {
   "cell_type": "markdown",
   "metadata": {},
   "source": [
    "## 2. Get Users"
   ]
  },
  {
   "cell_type": "code",
   "execution_count": 31,
   "metadata": {
    "collapsed": false
   },
   "outputs": [
    {
     "name": "stdout",
     "output_type": "stream",
     "text": [
      "2005 . 2006 . 2007 . 2008 . 2009 . 2010 . 2011 . 2012 . 2013 . 2014 . 2015 . 2016 . "
     ]
    }
   ],
   "source": [
    "pd_connections = reset(pd_connections)\n",
    "pd_connections = reset(pd_connections)\n",
    "study_tiles[study_tile_idx]['compare_tiles'][compare_tile_idx]['user_list'] = get_all_users_who_edited_tile(study_tiles[study_tile_idx]['compare_tiles'][compare_tile_idx])"
   ]
  },
  {
   "cell_type": "markdown",
   "metadata": {},
   "source": [
    "## 3. Build actual user distribution (may take a few minutes)\n",
    "If it fails, run the above cell again (probably twice)"
   ]
  },
  {
   "cell_type": "code",
   "execution_count": 32,
   "metadata": {
    "collapsed": false,
    "scrolled": true
   },
   "outputs": [
    {
     "name": "stderr",
     "output_type": "stream",
     "text": [
      " 319/ ~ 350"
     ]
    }
   ],
   "source": [
    "study_tiles[study_tile_idx]['compare_tiles'][compare_tile_idx]['users'] = build_user_distributions(study_tiles[study_tile_idx]['compare_tiles'][compare_tile_idx]['user_list'])"
   ]
  },
  {
   "cell_type": "code",
   "execution_count": 33,
   "metadata": {
    "collapsed": false
   },
   "outputs": [
    {
     "data": {
      "text/html": [
       "<div>\n",
       "<table border=\"1\" class=\"dataframe\">\n",
       "  <thead>\n",
       "    <tr style=\"text-align: right;\">\n",
       "      <th></th>\n",
       "      <th>quadkey</th>\n",
       "      <th>year</th>\n",
       "      <th>uid</th>\n",
       "      <th>buildings</th>\n",
       "      <th>road_km</th>\n",
       "      <th>amenities</th>\n",
       "      <th>edits</th>\n",
       "      <th>num_days</th>\n",
       "      <th>user_stats_uid</th>\n",
       "      <th>user_name</th>\n",
       "      <th>total_year</th>\n",
       "      <th>total_buildings</th>\n",
       "      <th>total_road_km</th>\n",
       "      <th>total_amenities</th>\n",
       "      <th>total_edits</th>\n",
       "      <th>total_active_days</th>\n",
       "    </tr>\n",
       "  </thead>\n",
       "  <tbody>\n",
       "    <tr>\n",
       "      <th>0</th>\n",
       "      <td>132303120223</td>\n",
       "      <td>2006</td>\n",
       "      <td>1417</td>\n",
       "      <td>0</td>\n",
       "      <td>0.0</td>\n",
       "      <td>0</td>\n",
       "      <td>15</td>\n",
       "      <td>4</td>\n",
       "      <td>1417</td>\n",
       "      <td>maning</td>\n",
       "      <td>2006</td>\n",
       "      <td>0</td>\n",
       "      <td>0.0</td>\n",
       "      <td>0</td>\n",
       "      <td>212</td>\n",
       "      <td>6</td>\n",
       "    </tr>\n",
       "    <tr>\n",
       "      <th>1</th>\n",
       "      <td>132303122000</td>\n",
       "      <td>2006</td>\n",
       "      <td>1417</td>\n",
       "      <td>0</td>\n",
       "      <td>0.0</td>\n",
       "      <td>0</td>\n",
       "      <td>19</td>\n",
       "      <td>3</td>\n",
       "      <td>1417</td>\n",
       "      <td>maning</td>\n",
       "      <td>2006</td>\n",
       "      <td>0</td>\n",
       "      <td>0.0</td>\n",
       "      <td>0</td>\n",
       "      <td>212</td>\n",
       "      <td>6</td>\n",
       "    </tr>\n",
       "    <tr>\n",
       "      <th>2</th>\n",
       "      <td>132303120230</td>\n",
       "      <td>2006</td>\n",
       "      <td>1417</td>\n",
       "      <td>0</td>\n",
       "      <td>0.0</td>\n",
       "      <td>0</td>\n",
       "      <td>177</td>\n",
       "      <td>3</td>\n",
       "      <td>1417</td>\n",
       "      <td>maning</td>\n",
       "      <td>2006</td>\n",
       "      <td>0</td>\n",
       "      <td>0.0</td>\n",
       "      <td>0</td>\n",
       "      <td>212</td>\n",
       "      <td>6</td>\n",
       "    </tr>\n",
       "    <tr>\n",
       "      <th>3</th>\n",
       "      <td>132303122001</td>\n",
       "      <td>2006</td>\n",
       "      <td>1417</td>\n",
       "      <td>0</td>\n",
       "      <td>0.0</td>\n",
       "      <td>0</td>\n",
       "      <td>1</td>\n",
       "      <td>1</td>\n",
       "      <td>1417</td>\n",
       "      <td>maning</td>\n",
       "      <td>2006</td>\n",
       "      <td>0</td>\n",
       "      <td>0.0</td>\n",
       "      <td>0</td>\n",
       "      <td>212</td>\n",
       "      <td>6</td>\n",
       "    </tr>\n",
       "    <tr>\n",
       "      <th>4</th>\n",
       "      <td>132301103230</td>\n",
       "      <td>2007</td>\n",
       "      <td>1417</td>\n",
       "      <td>0</td>\n",
       "      <td>0.0</td>\n",
       "      <td>0</td>\n",
       "      <td>1</td>\n",
       "      <td>1</td>\n",
       "      <td>1417</td>\n",
       "      <td>maning</td>\n",
       "      <td>2007</td>\n",
       "      <td>134</td>\n",
       "      <td>3123.1</td>\n",
       "      <td>193</td>\n",
       "      <td>15978</td>\n",
       "      <td>150</td>\n",
       "    </tr>\n",
       "  </tbody>\n",
       "</table>\n",
       "</div>"
      ],
      "text/plain": [
       "        quadkey  year   uid  buildings  road_km  amenities  edits  num_days  \\\n",
       "0  132303120223  2006  1417          0      0.0          0     15         4   \n",
       "1  132303122000  2006  1417          0      0.0          0     19         3   \n",
       "2  132303120230  2006  1417          0      0.0          0    177         3   \n",
       "3  132303122001  2006  1417          0      0.0          0      1         1   \n",
       "4  132301103230  2007  1417          0      0.0          0      1         1   \n",
       "\n",
       "   user_stats_uid user_name  total_year  total_buildings  total_road_km  \\\n",
       "0            1417    maning        2006                0            0.0   \n",
       "1            1417    maning        2006                0            0.0   \n",
       "2            1417    maning        2006                0            0.0   \n",
       "3            1417    maning        2006                0            0.0   \n",
       "4            1417    maning        2007              134         3123.1   \n",
       "\n",
       "   total_amenities  total_edits  total_active_days  \n",
       "0                0          212                  6  \n",
       "1                0          212                  6  \n",
       "2                0          212                  6  \n",
       "3                0          212                  6  \n",
       "4              193        15978                150  "
      ]
     },
     "metadata": {},
     "output_type": "display_data"
    }
   ],
   "source": [
    "# Check these results?\n",
    "display.display(study_tiles[study_tile_idx]['compare_tiles'][compare_tile_idx]['users'][study_tiles[study_tile_idx]['compare_tiles'][compare_tile_idx]['user_list'][0]]['df'].head())"
   ]
  },
  {
   "cell_type": "markdown",
   "metadata": {},
   "source": [
    "## 3.5 Pull out per-user-study tile stats"
   ]
  },
  {
   "cell_type": "code",
   "execution_count": 34,
   "metadata": {
    "collapsed": false
   },
   "outputs": [
    {
     "name": "stderr",
     "output_type": "stream",
     "text": [
      " 72/73"
     ]
    }
   ],
   "source": [
    "process_dictionary_of_users_for_study_tile_stats(study_tiles[study_tile_idx]['compare_tiles'][compare_tile_idx]['users'], study_tiles[study_tile_idx]['compare_tiles'][compare_tile_idx]['quad'])"
   ]
  },
  {
   "cell_type": "markdown",
   "metadata": {},
   "source": [
    "## 4. Now process user focus for compare tiles"
   ]
  },
  {
   "cell_type": "code",
   "execution_count": 36,
   "metadata": {
    "collapsed": false
   },
   "outputs": [
    {
     "name": "stderr",
     "output_type": "stream",
     "text": [
      " 73/73"
     ]
    },
    {
     "data": {
      "text/html": [
       "<div>\n",
       "<table border=\"1\" class=\"dataframe\">\n",
       "  <thead>\n",
       "    <tr style=\"text-align: right;\">\n",
       "      <th></th>\n",
       "      <th>buildings</th>\n",
       "      <th>road_km</th>\n",
       "      <th>amenities</th>\n",
       "      <th>edits</th>\n",
       "      <th>num_days</th>\n",
       "      <th>percent_user_road_km</th>\n",
       "      <th>percent_user_buildings</th>\n",
       "      <th>percent_user_amenities</th>\n",
       "      <th>percent_user_edits</th>\n",
       "    </tr>\n",
       "    <tr>\n",
       "      <th>quadkey</th>\n",
       "      <th></th>\n",
       "      <th></th>\n",
       "      <th></th>\n",
       "      <th></th>\n",
       "      <th></th>\n",
       "      <th></th>\n",
       "      <th></th>\n",
       "      <th></th>\n",
       "      <th></th>\n",
       "    </tr>\n",
       "  </thead>\n",
       "  <tbody>\n",
       "    <tr>\n",
       "      <th>021230312302</th>\n",
       "      <td>0</td>\n",
       "      <td>2.859930</td>\n",
       "      <td>0</td>\n",
       "      <td>2</td>\n",
       "      <td>1</td>\n",
       "      <td>0.003572</td>\n",
       "      <td>0.0</td>\n",
       "      <td>0.0</td>\n",
       "      <td>0.000650</td>\n",
       "    </tr>\n",
       "    <tr>\n",
       "      <th>023310311001</th>\n",
       "      <td>0</td>\n",
       "      <td>4.237360</td>\n",
       "      <td>0</td>\n",
       "      <td>2</td>\n",
       "      <td>1</td>\n",
       "      <td>0.005293</td>\n",
       "      <td>0.0</td>\n",
       "      <td>0.0</td>\n",
       "      <td>0.000650</td>\n",
       "    </tr>\n",
       "    <tr>\n",
       "      <th>023313121033</th>\n",
       "      <td>0</td>\n",
       "      <td>55.814500</td>\n",
       "      <td>0</td>\n",
       "      <td>129</td>\n",
       "      <td>1</td>\n",
       "      <td>0.069721</td>\n",
       "      <td>0.0</td>\n",
       "      <td>0.0</td>\n",
       "      <td>0.041908</td>\n",
       "    </tr>\n",
       "    <tr>\n",
       "      <th>023313121211</th>\n",
       "      <td>0</td>\n",
       "      <td>0.546778</td>\n",
       "      <td>0</td>\n",
       "      <td>1</td>\n",
       "      <td>1</td>\n",
       "      <td>0.000683</td>\n",
       "      <td>0.0</td>\n",
       "      <td>0.0</td>\n",
       "      <td>0.000325</td>\n",
       "    </tr>\n",
       "    <tr>\n",
       "      <th>032003033002</th>\n",
       "      <td>0</td>\n",
       "      <td>2.505910</td>\n",
       "      <td>0</td>\n",
       "      <td>1</td>\n",
       "      <td>1</td>\n",
       "      <td>0.003130</td>\n",
       "      <td>0.0</td>\n",
       "      <td>0.0</td>\n",
       "      <td>0.000325</td>\n",
       "    </tr>\n",
       "  </tbody>\n",
       "</table>\n",
       "</div>"
      ],
      "text/plain": [
       "              buildings    road_km  amenities  edits  num_days  \\\n",
       "quadkey                                                          \n",
       "021230312302          0   2.859930          0      2         1   \n",
       "023310311001          0   4.237360          0      2         1   \n",
       "023313121033          0  55.814500          0    129         1   \n",
       "023313121211          0   0.546778          0      1         1   \n",
       "032003033002          0   2.505910          0      1         1   \n",
       "\n",
       "              percent_user_road_km  percent_user_buildings  \\\n",
       "quadkey                                                      \n",
       "021230312302              0.003572                     0.0   \n",
       "023310311001              0.005293                     0.0   \n",
       "023313121033              0.069721                     0.0   \n",
       "023313121211              0.000683                     0.0   \n",
       "032003033002              0.003130                     0.0   \n",
       "\n",
       "              percent_user_amenities  percent_user_edits  \n",
       "quadkey                                                   \n",
       "021230312302                     0.0            0.000650  \n",
       "023310311001                     0.0            0.000650  \n",
       "023313121033                     0.0            0.041908  \n",
       "023313121211                     0.0            0.000325  \n",
       "032003033002                     0.0            0.000325  "
      ]
     },
     "metadata": {},
     "output_type": "display_data"
    },
    {
     "data": {
      "text/html": [
       "<div>\n",
       "<table border=\"1\" class=\"dataframe\">\n",
       "  <thead>\n",
       "    <tr style=\"text-align: right;\">\n",
       "      <th></th>\n",
       "      <th>uid</th>\n",
       "      <th>user_name</th>\n",
       "      <th>year</th>\n",
       "      <th>total_buildings</th>\n",
       "      <th>total_road_km</th>\n",
       "      <th>total_amenities</th>\n",
       "      <th>total_edits</th>\n",
       "      <th>total_active_days</th>\n",
       "    </tr>\n",
       "  </thead>\n",
       "  <tbody>\n",
       "    <tr>\n",
       "      <th>0</th>\n",
       "      <td>1417</td>\n",
       "      <td>maning</td>\n",
       "      <td>2006</td>\n",
       "      <td>0</td>\n",
       "      <td>0.00</td>\n",
       "      <td>0</td>\n",
       "      <td>212</td>\n",
       "      <td>6</td>\n",
       "    </tr>\n",
       "    <tr>\n",
       "      <th>1</th>\n",
       "      <td>1417</td>\n",
       "      <td>maning</td>\n",
       "      <td>2007</td>\n",
       "      <td>134</td>\n",
       "      <td>3123.10</td>\n",
       "      <td>193</td>\n",
       "      <td>15978</td>\n",
       "      <td>150</td>\n",
       "    </tr>\n",
       "    <tr>\n",
       "      <th>2</th>\n",
       "      <td>1417</td>\n",
       "      <td>maning</td>\n",
       "      <td>2008</td>\n",
       "      <td>951</td>\n",
       "      <td>11360.70</td>\n",
       "      <td>2994</td>\n",
       "      <td>47366</td>\n",
       "      <td>195</td>\n",
       "    </tr>\n",
       "    <tr>\n",
       "      <th>3</th>\n",
       "      <td>1417</td>\n",
       "      <td>maning</td>\n",
       "      <td>2009</td>\n",
       "      <td>758</td>\n",
       "      <td>8933.49</td>\n",
       "      <td>1075</td>\n",
       "      <td>58975</td>\n",
       "      <td>216</td>\n",
       "    </tr>\n",
       "    <tr>\n",
       "      <th>4</th>\n",
       "      <td>1417</td>\n",
       "      <td>maning</td>\n",
       "      <td>2010</td>\n",
       "      <td>216</td>\n",
       "      <td>5580.00</td>\n",
       "      <td>568</td>\n",
       "      <td>17904</td>\n",
       "      <td>189</td>\n",
       "    </tr>\n",
       "  </tbody>\n",
       "</table>\n",
       "</div>"
      ],
      "text/plain": [
       "    uid user_name  year  total_buildings  total_road_km  total_amenities  \\\n",
       "0  1417    maning  2006                0           0.00                0   \n",
       "1  1417    maning  2007              134        3123.10              193   \n",
       "2  1417    maning  2008              951       11360.70             2994   \n",
       "3  1417    maning  2009              758        8933.49             1075   \n",
       "4  1417    maning  2010              216        5580.00              568   \n",
       "\n",
       "   total_edits  total_active_days  \n",
       "0          212                  6  \n",
       "1        15978                150  \n",
       "2        47366                195  \n",
       "3        58975                216  \n",
       "4        17904                189  "
      ]
     },
     "metadata": {},
     "output_type": "display_data"
    }
   ],
   "source": [
    "process_dictionary_of_users(study_tiles[study_tile_idx]['compare_tiles'][compare_tile_idx]['users'])\n",
    "display.display(study_tiles[study_tile_idx]['compare_tiles'][compare_tile_idx]['users'][study_tiles[study_tile_idx]['compare_tiles'][compare_tile_idx]['user_list'][0]]['tiles'].head())\n",
    "display.display(study_tiles[study_tile_idx]['compare_tiles'][compare_tile_idx]['users'][study_tiles[study_tile_idx]['compare_tiles'][compare_tile_idx]['user_list'][0]]['annual'].head())"
   ]
  },
  {
   "cell_type": "markdown",
   "metadata": {},
   "source": [
    "## 5. Build Compare Tile Full Stats"
   ]
  },
  {
   "cell_type": "code",
   "execution_count": 37,
   "metadata": {
    "collapsed": false
   },
   "outputs": [
    {
     "data": {
      "text/plain": [
       "buildings    73\n",
       "road_km      73\n",
       "amenities    73\n",
       "edits        73\n",
       "num_days     73\n",
       "dtype: int64"
      ]
     },
     "execution_count": 37,
     "metadata": {},
     "output_type": "execute_result"
    }
   ],
   "source": [
    "compare_tile_df = build_all_stats_for_tile(study_tiles[study_tile_idx]['compare_tiles'][compare_tile_idx])\n",
    "compare_tile_df.count().head()"
   ]
  },
  {
   "cell_type": "markdown",
   "metadata": {},
   "source": [
    "# Now compare the tiles\n",
    "\n",
    "First, basic stats: "
   ]
  },
  {
   "cell_type": "code",
   "execution_count": 38,
   "metadata": {
    "collapsed": false
   },
   "outputs": [
    {
     "name": "stdout",
     "output_type": "stream",
     "text": [
      "Users on Study Tile: 325, 325\n",
      "Users on Compare Tile: 73, 73\n"
     ]
    }
   ],
   "source": [
    "print(\"Users on Study Tile: {0}, {1}\".format(len(study_tiles[study_tile_idx]['user_list']), len(current_tile_df)))\n",
    "print(\"Users on Compare Tile: {0}, {1}\".format(len(study_tiles[study_tile_idx]['compare_tiles'][compare_tile_idx]['user_list']), len(compare_tile_df)))"
   ]
  },
  {
   "cell_type": "code",
   "execution_count": 39,
   "metadata": {
    "collapsed": false
   },
   "outputs": [
    {
     "data": {
      "text/html": [
       "<div>\n",
       "<table border=\"1\" class=\"dataframe\">\n",
       "  <thead>\n",
       "    <tr style=\"text-align: right;\">\n",
       "      <th></th>\n",
       "      <th>quadkey</th>\n",
       "      <th>year</th>\n",
       "      <th>uid</th>\n",
       "      <th>buildings</th>\n",
       "      <th>road_km</th>\n",
       "      <th>amenities</th>\n",
       "      <th>edits</th>\n",
       "      <th>num_days</th>\n",
       "      <th>user_stats_uid</th>\n",
       "      <th>user_name</th>\n",
       "      <th>total_year</th>\n",
       "      <th>total_buildings</th>\n",
       "      <th>total_road_km</th>\n",
       "      <th>total_amenities</th>\n",
       "      <th>total_edits</th>\n",
       "      <th>total_active_days</th>\n",
       "      <th>active_days_to_date</th>\n",
       "    </tr>\n",
       "  </thead>\n",
       "  <tbody>\n",
       "    <tr>\n",
       "      <th>0</th>\n",
       "      <td>132303033311</td>\n",
       "      <td>2016</td>\n",
       "      <td>1942402</td>\n",
       "      <td>8</td>\n",
       "      <td>0.000000</td>\n",
       "      <td>0</td>\n",
       "      <td>8</td>\n",
       "      <td>1</td>\n",
       "      <td>1942402</td>\n",
       "      <td>wherehavejobyn</td>\n",
       "      <td>2016</td>\n",
       "      <td>9120</td>\n",
       "      <td>0.367473</td>\n",
       "      <td>2</td>\n",
       "      <td>9125</td>\n",
       "      <td>22</td>\n",
       "      <td>27</td>\n",
       "    </tr>\n",
       "    <tr>\n",
       "      <th>1</th>\n",
       "      <td>132303033311</td>\n",
       "      <td>2016</td>\n",
       "      <td>3724858</td>\n",
       "      <td>1190</td>\n",
       "      <td>0.298397</td>\n",
       "      <td>0</td>\n",
       "      <td>1193</td>\n",
       "      <td>1</td>\n",
       "      <td>3724858</td>\n",
       "      <td>audz</td>\n",
       "      <td>2016</td>\n",
       "      <td>5314</td>\n",
       "      <td>7.233310</td>\n",
       "      <td>2</td>\n",
       "      <td>13444</td>\n",
       "      <td>14</td>\n",
       "      <td>14</td>\n",
       "    </tr>\n",
       "    <tr>\n",
       "      <th>2</th>\n",
       "      <td>132303033311</td>\n",
       "      <td>2015</td>\n",
       "      <td>118021</td>\n",
       "      <td>0</td>\n",
       "      <td>0.000000</td>\n",
       "      <td>1</td>\n",
       "      <td>1</td>\n",
       "      <td>1</td>\n",
       "      <td>118021</td>\n",
       "      <td>maggot27</td>\n",
       "      <td>2015</td>\n",
       "      <td>22208</td>\n",
       "      <td>3614.850000</td>\n",
       "      <td>5177</td>\n",
       "      <td>58783</td>\n",
       "      <td>34</td>\n",
       "      <td>166</td>\n",
       "    </tr>\n",
       "    <tr>\n",
       "      <th>3</th>\n",
       "      <td>132303033311</td>\n",
       "      <td>2014</td>\n",
       "      <td>2331271</td>\n",
       "      <td>0</td>\n",
       "      <td>0.000000</td>\n",
       "      <td>0</td>\n",
       "      <td>1</td>\n",
       "      <td>1</td>\n",
       "      <td>2331271</td>\n",
       "      <td>Nate Joshua</td>\n",
       "      <td>2014</td>\n",
       "      <td>1320</td>\n",
       "      <td>930.919000</td>\n",
       "      <td>332</td>\n",
       "      <td>10303</td>\n",
       "      <td>59</td>\n",
       "      <td>59</td>\n",
       "    </tr>\n",
       "    <tr>\n",
       "      <th>4</th>\n",
       "      <td>132303033311</td>\n",
       "      <td>2014</td>\n",
       "      <td>2444680</td>\n",
       "      <td>0</td>\n",
       "      <td>0.000000</td>\n",
       "      <td>0</td>\n",
       "      <td>2</td>\n",
       "      <td>2</td>\n",
       "      <td>2444680</td>\n",
       "      <td>ivet</td>\n",
       "      <td>2014</td>\n",
       "      <td>189</td>\n",
       "      <td>0.000000</td>\n",
       "      <td>369</td>\n",
       "      <td>7721</td>\n",
       "      <td>22</td>\n",
       "      <td>22</td>\n",
       "    </tr>\n",
       "  </tbody>\n",
       "</table>\n",
       "</div>"
      ],
      "text/plain": [
       "        quadkey  year      uid  buildings   road_km  amenities  edits  \\\n",
       "0  132303033311  2016  1942402          8  0.000000          0      8   \n",
       "1  132303033311  2016  3724858       1190  0.298397          0   1193   \n",
       "2  132303033311  2015   118021          0  0.000000          1      1   \n",
       "3  132303033311  2014  2331271          0  0.000000          0      1   \n",
       "4  132303033311  2014  2444680          0  0.000000          0      2   \n",
       "\n",
       "   num_days  user_stats_uid       user_name  total_year  total_buildings  \\\n",
       "0         1         1942402  wherehavejobyn        2016             9120   \n",
       "1         1         3724858            audz        2016             5314   \n",
       "2         1          118021        maggot27        2015            22208   \n",
       "3         1         2331271     Nate Joshua        2014             1320   \n",
       "4         2         2444680            ivet        2014              189   \n",
       "\n",
       "   total_road_km  total_amenities  total_edits  total_active_days  \\\n",
       "0       0.367473                2         9125                 22   \n",
       "1       7.233310                2        13444                 14   \n",
       "2    3614.850000             5177        58783                 34   \n",
       "3     930.919000              332        10303                 59   \n",
       "4       0.000000              369         7721                 22   \n",
       "\n",
       "   active_days_to_date  \n",
       "0                   27  \n",
       "1                   14  \n",
       "2                  166  \n",
       "3                   59  \n",
       "4                   22  "
      ]
     },
     "execution_count": 39,
     "metadata": {},
     "output_type": "execute_result"
    }
   ],
   "source": [
    "compare_overtime_df = pd.DataFrame()\n",
    "for uid, data in study_tiles[study_tile_idx]['compare_tiles'][compare_tile_idx]['users'].items():\n",
    "\n",
    "    safe_df = pd.DataFrame(data['annual'].sort_values(by='year'))\n",
    "    safe_df['active_days_to_date'] = safe_df.total_active_days.cumsum()\n",
    "\n",
    "    new_df = data['toi'].merge(safe_df[['active_days_to_date','year']], on='year')\n",
    "\n",
    "    compare_overtime_df = pd.concat([compare_overtime_df, new_df],ignore_index=True)\n",
    "\n",
    "compare_overtime_df.head()"
   ]
  },
  {
   "cell_type": "code",
   "execution_count": 40,
   "metadata": {
    "collapsed": false
   },
   "outputs": [
    {
     "data": {
      "text/plain": [
       "<matplotlib.axes._subplots.AxesSubplot at 0x7fdaa3f26048>"
      ]
     },
     "execution_count": 40,
     "metadata": {},
     "output_type": "execute_result"
    },
    {
     "data": {
      "image/png": "[encoded data removed]",
      "text/plain": [
       "<matplotlib.figure.Figure at 0x7fdb575d95c0>"
      ]
     },
     "metadata": {},
     "output_type": "display_data"
    }
   ],
   "source": [
    "sns.set(font_scale=1.25)\n",
    "plt.style.use('seaborn-white')\n",
    "fig, axs = plt.subplots(nrows=1, ncols=1, figsize=(15,8), facecolor='w', edgecolor='k')\n",
    "\n",
    "threshold = 7\n",
    "\n",
    "compare_gt_10 = compare_overtime_df.query(\"active_days_to_date>={0}\".format(threshold)).groupby('year').aggregate({'uid':pd.Series.nunique})\n",
    "compare_lt_10 = compare_overtime_df.query(\"active_days_to_date<{0}\".format(threshold)).groupby('year').aggregate({'uid':pd.Series.nunique})\n",
    "\n",
    "compare_gt_10.columns = ['Experienced']\n",
    "compare_lt_10.columns = ['Inexperienced']\n",
    "\n",
    "compare_gt_10.join(lt_10).plot(ax=axs,kind='bar',stacked=True)"
   ]
  },
  {
   "cell_type": "markdown",
   "metadata": {
    "collapsed": true
   },
   "source": [
    "## Analysis \n",
    "\n",
    "The comparable Tacloban tiles are also in the Philippines. Note, however, that this particular tile had more _inexperienced users_ than Tacloban."
   ]
  },
  {
   "cell_type": "code",
   "execution_count": null,
   "metadata": {
    "collapsed": true
   },
   "outputs": [],
   "source": []
  }
 ],
 "metadata": {
  "kernelspec": {
   "display_name": "IPython (Python 3)",
   "language": "python",
   "name": "python3"
  },
  "language_info": {
   "codemirror_mode": {
    "name": "ipython",
    "version": 3
   },
   "file_extension": ".py",
   "mimetype": "text/x-python",
   "name": "python",
   "nbconvert_exporter": "python",
   "pygments_lexer": "ipython3",
   "version": "3.4.3"
  }
 },
 "nbformat": 4,
 "nbformat_minor": 1
}
