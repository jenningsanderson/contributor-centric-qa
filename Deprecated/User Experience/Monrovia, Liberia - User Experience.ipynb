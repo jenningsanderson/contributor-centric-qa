{
 "cells": [
  {
   "cell_type": "code",
   "execution_count": 1,
   "metadata": {
    "collapsed": false
   },
   "outputs": [],
   "source": [
    "import psycopg2, psycopg2.extras, psycopg2.pool, pickle, json, matplotlib, sys, time\n",
    "from multiprocessing import Pool, Manager\n",
    "from collections import OrderedDict\n",
    "import matplotlib.pyplot as plt; import numpy as np; import pandas as pd\n",
    "import seaborn as sns; from sqlalchemy import create_engine\n",
    "from IPython import display\n",
    "%matplotlib inline"
   ]
  },
  {
   "cell_type": "markdown",
   "metadata": {
    "collapsed": true
   },
   "source": [
    "# When is a user _Experienced_?\n",
    "This is a difficult question in that we cannot simply take above the mean / below the mean because of the problematic distributions within the database.\n",
    "\n",
    " - We can look at users who map more buildings than roads? \n",
    " - We can look at users with more than half of their edits to buildings?"
   ]
  },
  {
   "cell_type": "code",
   "execution_count": 2,
   "metadata": {
    "collapsed": false
   },
   "outputs": [
    {
     "name": "stdout",
     "output_type": "stream",
     "text": [
      "Found 9 tiles.\n"
     ]
    }
   ],
   "source": [
    "study_tiles = json.loads(open('../study_tiles_with_compare_tiles.json','r').read())\n",
    "print(\"Found {0} tiles.\".format(len(study_tiles)))"
   ]
  },
  {
   "cell_type": "code",
   "execution_count": 3,
   "metadata": {
    "collapsed": false,
    "scrolled": true
   },
   "outputs": [
    {
     "data": {
      "text/plain": [
       "[2005, 2006, 2007, 2008, 2009, 2010, 2011, 2012, 2013, 2014, 2015, 2016]"
      ]
     },
     "execution_count": 3,
     "metadata": {},
     "output_type": "execute_result"
    }
   ],
   "source": [
    "years = [2005+i for i in range(12)]\n",
    "years"
   ]
  },
  {
   "cell_type": "code",
   "execution_count": 4,
   "metadata": {
    "collapsed": false
   },
   "outputs": [],
   "source": [
    "# Create connections for panda queries\n",
    "pd_engines = []\n",
    "pd_connections = []\n",
    "for idx, year in enumerate(years):\n",
    "    pd_engines.append( create_engine(\"postgresql://anderstj@127.0.0.1:5432/world-{0}\".format(year)) )\n",
    "    pd_connections.append(pd_engines[idx].connect())\n",
    "\n",
    "def reset(pd_connections):\n",
    "    new_cons = []\n",
    "    for idx, con in enumerate(pd_connections):\n",
    "        con.close()\n",
    "        new_cons.append(pd_engines[idx].connect())\n",
    "    return new_cons\n",
    "\n",
    "# pd_connections = reset(pd_connections)"
   ]
  },
  {
   "cell_type": "code",
   "execution_count": 5,
   "metadata": {
    "collapsed": false
   },
   "outputs": [],
   "source": [
    "def get_all_users_who_edited_tile(tile):\n",
    "    users_on_tile = []\n",
    "    for idx, year in enumerate(years):\n",
    "        print(year, end=\" . \")\n",
    "        query_string = \"\"\"SELECT distinct(uid) FROM per_tile WHERE quadkey = '{0}'\"\"\".format(tile['quad'])\n",
    "        year_df = pd.read_sql_query(query_string,con=pd_connections[idx])\n",
    "        users_on_tile = np.append(users_on_tile,year_df.uid.values)\n",
    "    return np.unique(users_on_tile)\n",
    "\n",
    "def annual_worker_function(args):\n",
    "    \"\"\"\n",
    "    Input: List of users and a year of choice\n",
    "    Returns: Dictionary, keyed by UID of all a user's edits for given year\n",
    "    \"\"\"\n",
    "    (user_list, year_idx, q) = args\n",
    "    dict_to_return = {}\n",
    "\n",
    "    #Query for 50 users at a time\n",
    "    for sub_list in [user_list[i:i + 50] for i in range(0, len(user_list), 50)]:\n",
    "    \n",
    "        query_string = \"\"\"SELECT per_tile.quadkey,\n",
    "                                 per_tile.year,\n",
    "                                 per_tile.uid,\n",
    "                                 per_tile.buildings,\n",
    "                                 per_tile.road_km,\n",
    "                                 per_tile.amenities,\n",
    "                                 per_tile.edits,\n",
    "                                 array_length(per_tile.active_days,1) AS \"num_days\",\n",
    "                                 user_stats.uid AS \"user_stats_uid\",\n",
    "                                 user_stats.name AS \"user_name\",\n",
    "                                 user_stats.year AS \"total_year\",\n",
    "                                 user_stats.buildings AS \"total_buildings\",\n",
    "                                 user_stats.road_km AS \"total_road_km\",\n",
    "                                 user_stats.amenities AS \"total_amenities\",\n",
    "                                 user_stats.edits AS \"total_edits\",\n",
    "                                 array_length(user_stats.active_days,1) AS \"total_active_days\"\n",
    "                          FROM per_tile, user_stats \n",
    "                          WHERE per_tile.uid = user_stats.uid AND \n",
    "                                per_tile.uid = ANY(ARRAY[%s])\"\"\"%(\", \".join([str(i) for i in sub_list]))\n",
    "        df = pd.read_sql_query(query_string, con=pd_connections[year_idx])\n",
    "        \n",
    "#         with open('tmp.log','w') as oFile:\n",
    "#             oFile.write(df.to_csv())\n",
    "\n",
    "        for uid in df['uid'].unique():\n",
    "            dict_to_return[uid] = df[:][df.uid == uid]\n",
    "            q.put(1)\n",
    "    return dict_to_return\n",
    "\n",
    "def build_user_distributions(uids):\n",
    "    \"\"\"\n",
    "        Given a list of user ids, spin up 12 processes (1 per year) to get back dictionaries, keyed by UID\n",
    "            of all a user's tiles for that year; then combine all of the years.\n",
    "        \n",
    "        Returns: A dictionary: { UID : DataFrame of all a user's edits (across all years) }\n",
    "    \"\"\"\n",
    "    m = Manager()\n",
    "    q = m.Queue()\n",
    "    p = Pool(12)\n",
    "    args = [ (uids, year_idx, q) for year_idx in range(12)]\n",
    "    \n",
    "    max_val = round(len(uids)*len(args)*0.4)\n",
    "\n",
    "    result = p.map_async(annual_worker_function, args)\n",
    "    \n",
    "    while True:\n",
    "        if result.ready():\n",
    "            break\n",
    "        else:\n",
    "            size = q.qsize()\n",
    "            sys.stderr.write(\"\\r \"+str(size)+ \"/ ~ \" + str(max_val))\n",
    "            time.sleep(1)\n",
    "    \n",
    "    aggregated = {}\n",
    "    \n",
    "    for year_data in result.get():\n",
    "        for uid, data in year_data.items():\n",
    "            if uid in aggregated:\n",
    "                aggregated[uid]['df'] = pd.concat([aggregated[uid]['df'], data], ignore_index=True)\n",
    "            else:\n",
    "                #This is the first we see this user\n",
    "                aggregated[uid] = {'df':data}\n",
    "    p.close()\n",
    "    return aggregated"
   ]
  },
  {
   "cell_type": "markdown",
   "metadata": {},
   "source": [
    "### With each user's dataframe, compute user focus stats"
   ]
  },
  {
   "cell_type": "code",
   "execution_count": 6,
   "metadata": {
    "collapsed": false
   },
   "outputs": [],
   "source": [
    "def calculate_user_focus(args):\n",
    "    \"\"\"\n",
    "    \n",
    "    \"\"\"\n",
    "    df, q = args\n",
    "    agged_quad = df.groupby('quadkey').aggregate({'buildings':sum,\n",
    "                                                 'road_km'  :sum,\n",
    "                                                 'edits'    :sum,\n",
    "                                                 'amenities':sum,\n",
    "                                                 'num_days' :sum})\n",
    "    \n",
    "    agged_quad['percent_user_road_km']   = agged_quad.road_km   / agged_quad.road_km.sum()*100\n",
    "    agged_quad['percent_user_buildings'] = agged_quad.buildings / agged_quad.buildings.sum()*100\n",
    "    agged_quad['percent_user_amenities'] = agged_quad.amenities / agged_quad.amenities.sum()*100\n",
    "    agged_quad['percent_user_edits']     = agged_quad.edits     / agged_quad.edits.sum()*100\n",
    "    \n",
    "\n",
    "    annual_stats = pd.DataFrame()\n",
    "    for year in df.total_year.unique():\n",
    "        this_year = df[['uid','user_name','year','total_buildings','total_road_km','total_amenities','total_edits','total_active_days']].query('year=={0}'.format(year)).head(1)\n",
    "        annual_stats = pd.concat( [annual_stats, this_year], ignore_index=True)\n",
    "    \n",
    "    if(q):\n",
    "        q.put(1)\n",
    "    return (agged_quad, annual_stats)\n",
    "\n",
    "def process_dictionary_of_users(user_dict):\n",
    "    \"\"\"\n",
    "    \n",
    "    \"\"\"\n",
    "    sorted_users = sorted(list(user_dict.keys()))\n",
    "    \n",
    "    m = Manager()\n",
    "    q = m.Queue()\n",
    "    p = Pool(24)\n",
    "    \n",
    "    args = [ (user_dict[uid]['df'], q) for uid in sorted_users]\n",
    "    result = p.map_async(calculate_user_focus, args)\n",
    "    \n",
    "    while True:\n",
    "        if result.ready():\n",
    "            break\n",
    "        else:\n",
    "            sys.stderr.write(\"\\r \"+str(q.qsize())+ \"/\" + str(len(sorted_users)))\n",
    "            time.sleep(0.5)\n",
    "\n",
    "    res = result.get()\n",
    "    for idx, user in enumerate(sorted_users):\n",
    "        user_dict[user]['tiles'] = res[idx][0]\n",
    "        user_dict[user]['annual'] = res[idx][1]\n",
    "        \n",
    "    p.close()"
   ]
  },
  {
   "cell_type": "code",
   "execution_count": null,
   "metadata": {
    "collapsed": true
   },
   "outputs": [],
   "source": [
    "def build_all_stats_for_tile(current_tile):\n",
    "    \"\"\"\n",
    "    \n",
    "    \"\"\"\n",
    "    current_tile_df = pd.DataFrame()\n",
    "    for u,data in current_tile['users'].items():\n",
    "        data['tiles']['uid'] = u\n",
    "        data['tiles']['total_editing_days_ever'] = data['annual'].total_active_days.sum()\n",
    "        data['tiles']['total_buildings_ever'] = data['annual'].total_buildings.sum()\n",
    "        data['tiles']['total_road_km_ever'] = data['annual'].total_road_km.sum()\n",
    "        data['tiles']['total_amenities_ever'] = data['annual'].total_amenities.sum()\n",
    "        data['tiles']['total_edits_ever'] = data['annual'].total_edits.sum()\n",
    "        current_tile_df = pd.concat([current_tile_df, pd.DataFrame(data['tiles'].query(\"quadkey=='{0}'\".format(current_tile['quad'])))],ignore_index=True)\n",
    "\n",
    "    current_tile_df['percent_tile_road_km']   = current_tile_df.road_km   / current_tile_df.road_km.sum()*100\n",
    "    current_tile_df['percent_tile_buildings'] = current_tile_df.buildings / current_tile_df.buildings.sum()*100\n",
    "    current_tile_df['percent_tile_amenities'] = current_tile_df.amenities / current_tile_df.amenities.sum()*100\n",
    "    current_tile_df['percent_tile_edits']     = current_tile_df.edits     / current_tile_df.edits.sum()*100\n",
    "    \n",
    "    return current_tile_df"
   ]
  },
  {
   "cell_type": "markdown",
   "metadata": {},
   "source": [
    "# Study Tiles: Load data for a specific study tile"
   ]
  },
  {
   "cell_type": "code",
   "execution_count": null,
   "metadata": {
    "collapsed": false
   },
   "outputs": [],
   "source": [
    "for idx, tile in enumerate(study_tiles):\n",
    "    print(idx, tile['name'])"
   ]
  },
  {
   "cell_type": "markdown",
   "metadata": {},
   "source": [
    "## 1. Get the `user_list`"
   ]
  },
  {
   "cell_type": "code",
   "execution_count": null,
   "metadata": {
    "collapsed": true
   },
   "outputs": [],
   "source": [
    "\"\"\"\n",
    "    First: Set the index for the study tile you want.\n",
    "\"\"\"\n",
    "study_tile_idx = 4"
   ]
  },
  {
   "cell_type": "code",
   "execution_count": null,
   "metadata": {
    "collapsed": false
   },
   "outputs": [],
   "source": [
    "pd_connections = reset(pd_connections)\n",
    "study_tiles[study_tile_idx]['user_list'] = get_all_users_who_edited_tile(study_tiles[study_tile_idx])"
   ]
  },
  {
   "cell_type": "code",
   "execution_count": null,
   "metadata": {
    "collapsed": false
   },
   "outputs": [],
   "source": [
    "print(\"Found: {0} users\".format(len(study_tiles[study_tile_idx]['user_list'])))"
   ]
  },
  {
   "cell_type": "markdown",
   "metadata": {},
   "source": [
    "## 2. Build the User Distributions\n",
    "If this doesn't run, run the cell 2 above again)"
   ]
  },
  {
   "cell_type": "code",
   "execution_count": null,
   "metadata": {
    "collapsed": false
   },
   "outputs": [],
   "source": [
    "study_tiles[study_tile_idx]['users'] = build_user_distributions(study_tiles[study_tile_idx]['user_list'])"
   ]
  },
  {
   "cell_type": "markdown",
   "metadata": {},
   "source": [
    "### Check these results"
   ]
  },
  {
   "cell_type": "code",
   "execution_count": null,
   "metadata": {
    "collapsed": false,
    "scrolled": false
   },
   "outputs": [],
   "source": [
    "display.display(study_tiles[study_tile_idx]['users'][study_tiles[study_tile_idx]['user_list'][0]]['df'].head())"
   ]
  },
  {
   "cell_type": "markdown",
   "metadata": {
    "collapsed": true
   },
   "source": [
    "## 3. Get tile focus for each user"
   ]
  },
  {
   "cell_type": "code",
   "execution_count": null,
   "metadata": {
    "collapsed": false
   },
   "outputs": [],
   "source": [
    "process_dictionary_of_users(study_tiles[study_tile_idx]['users'])"
   ]
  },
  {
   "cell_type": "markdown",
   "metadata": {},
   "source": [
    "### Inspect these"
   ]
  },
  {
   "cell_type": "code",
   "execution_count": null,
   "metadata": {
    "collapsed": false,
    "scrolled": true
   },
   "outputs": [],
   "source": [
    "# So what's saved from this?\n",
    "display.display(study_tiles[study_tile_idx]['users'][study_tiles[study_tile_idx]['user_list'][0]]['tiles'].head())\n",
    "display.display(study_tiles[study_tile_idx]['users'][study_tiles[study_tile_idx]['user_list'][0]]['annual'].head())"
   ]
  },
  {
   "cell_type": "markdown",
   "metadata": {},
   "source": [
    "## 4. Who is mapping what: Build Current Tile DF"
   ]
  },
  {
   "cell_type": "code",
   "execution_count": null,
   "metadata": {
    "collapsed": true
   },
   "outputs": [],
   "source": [
    "current_tile_df = build_all_stats_for_tile(study_tiles[study_tile_idx])"
   ]
  },
  {
   "cell_type": "code",
   "execution_count": null,
   "metadata": {
    "collapsed": false
   },
   "outputs": [],
   "source": [
    "current_tile_df.head()"
   ]
  },
  {
   "cell_type": "markdown",
   "metadata": {},
   "source": [
    "Processed Study tiles now have the following attributes: \n",
    "\n",
    "- **name**: Name of Region\n",
    "- **user_list**: List of UIDs of users who have edited on this tile\n",
    "- **users**: Dictionary, keyed by UID\n",
    "  - `uid`:\n",
    "    - **df**: Full dataframe of all edits on all tiles by this user\n",
    "    - **tiles**: DataFrame of unique tiles, summed over all years\n",
    "    - **annual**: DataFrame of Editing Aggregates over all tiles, per year"
   ]
  },
  {
   "cell_type": "markdown",
   "metadata": {},
   "source": [
    "# Begin Analysis"
   ]
  },
  {
   "cell_type": "code",
   "execution_count": null,
   "metadata": {
    "collapsed": false
   },
   "outputs": [],
   "source": [
    "print(\"Current Study Tile: {0}\".format(study_tiles[study_tile_idx]['name']))\n",
    "print(\"\\tUsers: {0}\".format(len(study_tiles[study_tile_idx]['user_list'])))\n",
    "print(\"Current_tile_df size: {0} (Should match the user count)\".format(len(current_tile_df)))"
   ]
  },
  {
   "cell_type": "markdown",
   "metadata": {},
   "source": [
    "## Percentage of a User's edits (of all time) that occur on this tile: "
   ]
  },
  {
   "cell_type": "code",
   "execution_count": null,
   "metadata": {
    "collapsed": false
   },
   "outputs": [],
   "source": [
    "sns.set(font_scale=1.25)\n",
    "plt.style.use('seaborn-white')\n",
    "fig, axs = plt.subplots(nrows=1, ncols=2, figsize=(15,8), facecolor='w', edgecolor='k')\n",
    "\n",
    "current_tile_df.query('total_editing_days_ever>5').plot(ax=axs[0], kind='hist',y=['percent_user_edits'], legend=None, bins=np.arange(0,101,5))\n",
    "axs[0].set_title('Users Editing more than 5 days ever')\n",
    "\n",
    "current_tile_df.query('total_editing_days_ever<5').plot(ax=axs[1], kind='hist',y=['percent_user_edits'], legend=None, bins=np.arange(0,101,5))\n",
    "axs[1].set_title('Users Editing less than 5 days ever')\n",
    "\n",
    "for ax in axs:\n",
    "    ax.set_xlabel(\"Percent of User's Edits on Tile\")\n",
    "    ax.set_ylabel('Number of Users')"
   ]
  },
  {
   "cell_type": "markdown",
   "metadata": {},
   "source": [
    "## Who's Mapping Buildings and Roads?"
   ]
  },
  {
   "cell_type": "code",
   "execution_count": null,
   "metadata": {
    "collapsed": false
   },
   "outputs": [],
   "source": [
    "sns.set(font_scale=1.25)\n",
    "plt.style.use('seaborn-white')\n",
    "fig, axs = plt.subplots(nrows=1, ncols=2, figsize=(15,8), facecolor='w', edgecolor='k')\n",
    "\n",
    "b_view = current_tile_df.sort_values(by='total_buildings_ever')\n",
    "b_view['cumulative_percent'] = b_view.percent_tile_buildings.cumsum()\n",
    "\n",
    "b_view.plot(ax=axs[0],x='total_buildings_ever',y='cumulative_percent', logx=True,legend=None)\n",
    "\n",
    "axs[0].set_ylabel('Percent of buildings on tile (cumulative)')\n",
    "axs[0].set_xlabel('Number of Buildings a user has mapped (experience)')\n",
    "\n",
    "\n",
    "r_view = current_tile_df.sort_values(by='total_road_km_ever')\n",
    "r_view['cumulative_percent'] = r_view.percent_tile_road_km.cumsum()\n",
    "\n",
    "r_view.plot(ax=axs[1],x='total_road_km_ever',y='cumulative_percent', logx=True,legend=None)\n",
    "\n",
    "axs[1].set_ylabel('Percent of road km on tile (cumulative)')\n",
    "axs[1].set_xlabel('Kilometers of roads a user has mapped (experience)')\n",
    "\n",
    "for ax in axs:\n",
    "    ax.set_ylim(0,101)\n",
    "    ax.set_xlim(1)\n",
    "#     ax.set_xlabel(\"Percent of User's Edits on Tile\")\n",
    "#     ax.set_ylabel('Number of Users')"
   ]
  },
  {
   "cell_type": "markdown",
   "metadata": {},
   "source": [
    "<br>\n",
    "<hr>\n",
    "<br>"
   ]
  },
  {
   "cell_type": "markdown",
   "metadata": {},
   "source": [
    "<hr>\n",
    "# Run Tile-by-Tile Comparisons\n",
    "For each study tile, we have _comparable_ tiles, these are the tiles of most interest, because the difference in patterns between these tiles and our study tiles is what makes the analysis.\n",
    "\n",
    "## 1. Get a _comparable_ tile"
   ]
  },
  {
   "cell_type": "code",
   "execution_count": null,
   "metadata": {
    "collapsed": false
   },
   "outputs": [],
   "source": [
    "if 'compare_tiles' in study_tiles[study_tile_idx]:\n",
    "    print(\"Comparable Tiles for {0}: \".format(study_tiles[study_tile_idx]['name']))\n",
    "    for idx, compare in enumerate(study_tiles[study_tile_idx]['compare_tiles']):\n",
    "        print(\"\\t{0}, '{1}'\".format(idx, compare['quad']))"
   ]
  },
  {
   "cell_type": "code",
   "execution_count": null,
   "metadata": {
    "collapsed": true
   },
   "outputs": [],
   "source": [
    "#Which tile to compare? (from within the comparable study tiles)\n",
    "idx=0"
   ]
  },
  {
   "cell_type": "markdown",
   "metadata": {},
   "source": [
    "## 2. Get Users"
   ]
  },
  {
   "cell_type": "code",
   "execution_count": null,
   "metadata": {
    "collapsed": false
   },
   "outputs": [],
   "source": [
    "pd_connections = reset(pd_connections)\n",
    "pd_connections = reset(pd_connections)\n",
    "study_tiles[study_tile_idx]['compare_tiles'][idx]['user_list'] = get_all_users_who_edited_tile(study_tiles[study_tile_idx]['compare_tiles'][idx])"
   ]
  },
  {
   "cell_type": "markdown",
   "metadata": {},
   "source": [
    "## 3. Build actual user distribution (may take a few minutes)\n",
    "If it fails, run the above cell again (probably twice)"
   ]
  },
  {
   "cell_type": "code",
   "execution_count": null,
   "metadata": {
    "collapsed": false,
    "scrolled": true
   },
   "outputs": [],
   "source": [
    "study_tiles[study_tile_idx]['compare_tiles'][idx]['users'] = build_user_distributions(study_tiles[study_tile_idx]['compare_tiles'][idx]['user_list'])"
   ]
  },
  {
   "cell_type": "code",
   "execution_count": null,
   "metadata": {
    "collapsed": false
   },
   "outputs": [],
   "source": [
    "# Check these results?\n",
    "display.display(study_tiles[study_tile_idx]['compare_tiles'][idx]['users'][study_tiles[study_tile_idx]['compare_tiles'][idx]['user_list'][0]]['df'].head())"
   ]
  },
  {
   "cell_type": "markdown",
   "metadata": {},
   "source": [
    "## 4. Now process user focus for compare tiles"
   ]
  },
  {
   "cell_type": "code",
   "execution_count": null,
   "metadata": {
    "collapsed": false
   },
   "outputs": [],
   "source": [
    "process_dictionary_of_users(study_tiles[study_tile_idx]['compare_tiles'][idx]['users'])\n",
    "display.display(study_tiles[study_tile_idx]['compare_tiles'][idx]['users'][study_tiles[study_tile_idx]['compare_tiles'][idx]['user_list'][0]]['tiles'].head())\n",
    "display.display(study_tiles[study_tile_idx]['compare_tiles'][idx]['users'][study_tiles[study_tile_idx]['compare_tiles'][idx]['user_list'][0]]['annual'].head())"
   ]
  },
  {
   "cell_type": "markdown",
   "metadata": {},
   "source": [
    "## 5. Build Compare Tile Full Stats"
   ]
  },
  {
   "cell_type": "code",
   "execution_count": null,
   "metadata": {
    "collapsed": false
   },
   "outputs": [],
   "source": [
    "compare_tile_df = build_all_stats_for_tile(study_tiles[study_tile_idx]['compare_tiles'][idx])\n",
    "compare_tile_df.count().head()"
   ]
  },
  {
   "cell_type": "markdown",
   "metadata": {},
   "source": [
    "# Now compare the tiles\n",
    "\n",
    "First, basic stats: "
   ]
  },
  {
   "cell_type": "code",
   "execution_count": null,
   "metadata": {
    "collapsed": false
   },
   "outputs": [],
   "source": [
    "print(\"Users on Study Tile: {0}, {1}\".format(len(study_tiles[study_tile_idx]['user_list']), len(current_tile_df)))\n",
    "print(\"Users on Compare Tile: {0}, {1}\".format(len(study_tiles[study_tile_idx]['compare_tiles'][idx]['user_list']), len(compare_tile_df)))"
   ]
  },
  {
   "cell_type": "code",
   "execution_count": null,
   "metadata": {
    "collapsed": false,
    "scrolled": false
   },
   "outputs": [],
   "source": [
    "sns.set(font_scale=1.25)\n",
    "plt.style.use('seaborn-white')\n",
    "fig, axs = plt.subplots(nrows=1, ncols=2, figsize=(15,8), facecolor='w', edgecolor='k')\n",
    "\n",
    "#Editing more than 7 days\n",
    "current_tile_df.plot(ax=axs[0], kind='hist',y=['percent_user_edits'], legend=None, bins=np.arange(0,101,5))\n",
    "axs[0].set_title(study_tiles[study_tile_idx]['name'])\n",
    "\n",
    "#Editing just 1 day\n",
    "compare_tile_df.plot(ax=axs[1], kind='hist',y=['percent_user_edits'], legend=None, bins=np.arange(0,101,5))\n",
    "axs[1].set_title(study_tiles[study_tile_idx]['compare_tiles'][idx]['quad'])\n",
    "\n",
    "for ax in axs:\n",
    "    ax.set_xlabel(\"Percent of User's Edits on Tile\")\n",
    "    ax.set_ylabel('Number of Users')\n",
    "plt.suptitle(\"Percentage of a User's Edits (total) Occuring on this tile\",fontsize=18)"
   ]
  },
  {
   "cell_type": "markdown",
   "metadata": {},
   "source": [
    "# Compare Buildings & Roads Across Two _Similar_ Tiles"
   ]
  },
  {
   "cell_type": "code",
   "execution_count": null,
   "metadata": {
    "collapsed": false
   },
   "outputs": [],
   "source": [
    "sns.set(font_scale=1.25)\n",
    "plt.style.use('seaborn-white')\n",
    "fig, axs = plt.subplots(nrows=2, ncols=2, figsize=(15,15), facecolor='w', edgecolor='k')\n",
    "\n",
    "for idx, tile in enumerate([current_tile_df, compare_tile_df]):\n",
    "    this_axis = axs[idx]\n",
    "    b_view = tile.sort_values(by='total_buildings_ever')\n",
    "    b_view['cumulative_percent'] = b_view.percent_tile_buildings.cumsum()\n",
    "\n",
    "    b_view.plot(ax=this_axis[0],x='total_buildings_ever',y='cumulative_percent', logx=True,legend=None)\n",
    "\n",
    "    this_axis[0].set_ylabel('Percent of buildings on tile (cumulative)')\n",
    "    this_axis[0].set_xlabel('Number of Buildings a user has mapped (experience)')\n",
    "\n",
    "    r_view = tile.sort_values(by='total_road_km_ever')\n",
    "    r_view['cumulative_percent'] = r_view.percent_tile_road_km.cumsum()\n",
    "\n",
    "    r_view.plot(ax=this_axis[1],x='total_road_km_ever',y='cumulative_percent', logx=True,legend=None)\n",
    "\n",
    "    this_axis[1].set_ylabel('Percent of road km on tile (cumulative)')\n",
    "    this_axis[1].set_xlabel('Kilometers of roads a user has mapped (experience)')\n",
    "\n",
    "    for ax in this_axis:\n",
    "        ax.set_ylim(0,101)\n",
    "        ax.set_xlim(1)"
   ]
  },
  {
   "cell_type": "markdown",
   "metadata": {
    "collapsed": true
   },
   "source": [
    "## Analysis\n",
    "\n",
    "Top Row: Monrovia, Liberia.  Bottom Row: [Similar Tile](http://www.townsendjennings.com/geojson-polygons?geojson=http://epic-analytics.cs.colorado.edu:9000/jennings/iscram/Monrovia%2c%20Liberia_sim_tiles.geojson#12.54/-5.1349/120.2784)\n",
    "\n",
    "Most of the buildings on this tile were added by users with significant experience adding buildings; most likely a single import."
   ]
  },
  {
   "cell_type": "code",
   "execution_count": null,
   "metadata": {
    "collapsed": false
   },
   "outputs": [],
   "source": [
    "compare_tile_df.sort_values(by=\"total_buildings_ever\",ascending=False)"
   ]
  },
  {
   "cell_type": "code",
   "execution_count": null,
   "metadata": {
    "collapsed": true
   },
   "outputs": [],
   "source": []
  }
 ],
 "metadata": {
  "kernelspec": {
   "display_name": "IPython (Python 3)",
   "language": "python",
   "name": "python3"
  },
  "language_info": {
   "codemirror_mode": {
    "name": "ipython",
    "version": 3
   },
   "file_extension": ".py",
   "mimetype": "text/x-python",
   "name": "python",
   "nbconvert_exporter": "python",
   "pygments_lexer": "ipython3",
   "version": "3.4.3"
  }
 },
 "nbformat": 4,
 "nbformat_minor": 1
}
