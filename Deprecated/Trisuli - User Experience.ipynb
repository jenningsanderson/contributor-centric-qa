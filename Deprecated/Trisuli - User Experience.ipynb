{
 "cells": [
  {
   "cell_type": "code",
   "execution_count": 8,
   "metadata": {
    "collapsed": false
   },
   "outputs": [],
   "source": [
    "import matplotlib.pyplot as plt; import numpy as np; import pandas as pd\n",
    "from IPython import display\n",
    "import seaborn as sns\n",
    "from ContributorCentricFunctions import *\n",
    "%matplotlib inline"
   ]
  },
  {
   "cell_type": "markdown",
   "metadata": {
    "collapsed": true
   },
   "source": [
    "# When is a user _Experienced_?\n",
    "This is a difficult question in that we cannot simply take above the mean / below the mean because of the problematic distributions within the database.\n",
    "\n",
    " - We can look at users who map more buildings than roads? \n",
    " - We can look at users with more than half of their edits to buildings?"
   ]
  },
  {
   "cell_type": "code",
   "execution_count": 9,
   "metadata": {
    "collapsed": false,
    "scrolled": true
   },
   "outputs": [
    {
     "data": {
      "text/plain": [
       "[2005, 2006, 2007, 2008, 2009, 2010, 2011, 2012, 2013, 2014, 2015, 2016]"
      ]
     },
     "execution_count": 9,
     "metadata": {},
     "output_type": "execute_result"
    }
   ],
   "source": [
    "years = [2005+i for i in range(12)]\n",
    "years"
   ]
  },
  {
   "cell_type": "code",
   "execution_count": 10,
   "metadata": {
    "collapsed": false
   },
   "outputs": [
    {
     "name": "stdout",
     "output_type": "stream",
     "text": [
      "Found 9 tiles.\n"
     ]
    }
   ],
   "source": [
    "study_tiles = json.loads(open('study_tiles_with_compare_tiles.json','r').read())\n",
    "print(\"Found {0} tiles.\".format(len(study_tiles)))"
   ]
  },
  {
   "cell_type": "markdown",
   "metadata": {},
   "source": [
    "# Study Tiles: Load data for a specific study tile"
   ]
  },
  {
   "cell_type": "code",
   "execution_count": 11,
   "metadata": {
    "collapsed": false
   },
   "outputs": [
    {
     "name": "stdout",
     "output_type": "stream",
     "text": [
      "0 Port Au Prince, Haiti\n",
      "1 Trisuli Bazar, Nepal\n",
      "2 Tacloban\n",
      "3 Kenema, Sierra Leone\n",
      "4 Monrovia, Liberia\n",
      "5 Kathmandu, Nepal\n",
      "6 Heidelberg, Germany\n",
      "7 London\n",
      "8 Manhattan, NY\n"
     ]
    }
   ],
   "source": [
    "for idx, tile in enumerate(study_tiles):\n",
    "    print(idx, tile['name'])"
   ]
  },
  {
   "cell_type": "markdown",
   "metadata": {},
   "source": [
    "## 1. Get the `user_list`"
   ]
  },
  {
   "cell_type": "code",
   "execution_count": 12,
   "metadata": {
    "collapsed": true
   },
   "outputs": [],
   "source": [
    "\"\"\"\n",
    "    First: Set the index for the study tile you want.\n",
    "\"\"\"\n",
    "study_tile_idx = 1"
   ]
  },
  {
   "cell_type": "code",
   "execution_count": 13,
   "metadata": {
    "collapsed": false
   },
   "outputs": [
    {
     "name": "stdout",
     "output_type": "stream",
     "text": [
      "2005 . 2006 . 2007 . 2008 . 2009 . 2010 . 2011 . 2012 . 2013 . 2014 . 2015 . 2016 . "
     ]
    }
   ],
   "source": [
    "reset() #Safety for the db connections\n",
    "study_tiles[study_tile_idx]['user_list'] = get_all_users_who_edited_tile(study_tiles[study_tile_idx])"
   ]
  },
  {
   "cell_type": "code",
   "execution_count": 14,
   "metadata": {
    "collapsed": false
   },
   "outputs": [
    {
     "name": "stdout",
     "output_type": "stream",
     "text": [
      "Found: 244 users\n"
     ]
    }
   ],
   "source": [
    "print(\"Found: {0} users\".format(len(study_tiles[study_tile_idx]['user_list'])))"
   ]
  },
  {
   "cell_type": "markdown",
   "metadata": {},
   "source": [
    "## 2. Build the User Distributions\n",
    "If this doesn't run, run the cell 2 above again)"
   ]
  },
  {
   "cell_type": "code",
   "execution_count": 15,
   "metadata": {
    "collapsed": false
   },
   "outputs": [
    {
     "name": "stderr",
     "output_type": "stream",
     "text": [
      " 757/ ~ 1171"
     ]
    },
    {
     "data": {
      "text/html": [
       "<div>\n",
       "<table border=\"1\" class=\"dataframe\">\n",
       "  <thead>\n",
       "    <tr style=\"text-align: right;\">\n",
       "      <th></th>\n",
       "      <th>quadkey</th>\n",
       "      <th>year</th>\n",
       "      <th>uid</th>\n",
       "      <th>buildings</th>\n",
       "      <th>road_km</th>\n",
       "      <th>amenities</th>\n",
       "      <th>edits</th>\n",
       "      <th>num_days</th>\n",
       "      <th>user_stats_uid</th>\n",
       "      <th>user_name</th>\n",
       "      <th>total_year</th>\n",
       "      <th>total_buildings</th>\n",
       "      <th>total_road_km</th>\n",
       "      <th>total_amenities</th>\n",
       "      <th>total_edits</th>\n",
       "      <th>total_active_days</th>\n",
       "    </tr>\n",
       "  </thead>\n",
       "  <tbody>\n",
       "    <tr>\n",
       "      <th>0</th>\n",
       "      <td>120013222200</td>\n",
       "      <td>2005</td>\n",
       "      <td>371</td>\n",
       "      <td>0</td>\n",
       "      <td>0.0</td>\n",
       "      <td>0</td>\n",
       "      <td>4</td>\n",
       "      <td>1</td>\n",
       "      <td>371</td>\n",
       "      <td>emj</td>\n",
       "      <td>2005</td>\n",
       "      <td>0</td>\n",
       "      <td>0.0</td>\n",
       "      <td>0</td>\n",
       "      <td>37</td>\n",
       "      <td>4</td>\n",
       "    </tr>\n",
       "    <tr>\n",
       "      <th>1</th>\n",
       "      <td>120031200110</td>\n",
       "      <td>2005</td>\n",
       "      <td>371</td>\n",
       "      <td>0</td>\n",
       "      <td>0.0</td>\n",
       "      <td>0</td>\n",
       "      <td>3</td>\n",
       "      <td>1</td>\n",
       "      <td>371</td>\n",
       "      <td>emj</td>\n",
       "      <td>2005</td>\n",
       "      <td>0</td>\n",
       "      <td>0.0</td>\n",
       "      <td>0</td>\n",
       "      <td>37</td>\n",
       "      <td>4</td>\n",
       "    </tr>\n",
       "  </tbody>\n",
       "</table>\n",
       "</div>"
      ],
      "text/plain": [
       "        quadkey  year  uid  buildings  road_km  amenities  edits  num_days  \\\n",
       "0  120013222200  2005  371          0      0.0          0      4         1   \n",
       "1  120031200110  2005  371          0      0.0          0      3         1   \n",
       "\n",
       "   user_stats_uid user_name  total_year  total_buildings  total_road_km  \\\n",
       "0             371       emj        2005                0            0.0   \n",
       "1             371       emj        2005                0            0.0   \n",
       "\n",
       "   total_amenities  total_edits  total_active_days  \n",
       "0                0           37                  4  \n",
       "1                0           37                  4  "
      ]
     },
     "metadata": {},
     "output_type": "display_data"
    }
   ],
   "source": [
    "study_tiles[study_tile_idx]['users'] = build_user_distributions(study_tiles[study_tile_idx]['user_list'])\n",
    "display.display(study_tiles[study_tile_idx]['users'][study_tiles[study_tile_idx]['user_list'][0]]['df'].head(2))"
   ]
  },
  {
   "cell_type": "markdown",
   "metadata": {
    "collapsed": true
   },
   "source": [
    "## 3. Get tile focus for each user"
   ]
  },
  {
   "cell_type": "code",
   "execution_count": 16,
   "metadata": {
    "collapsed": false
   },
   "outputs": [
    {
     "name": "stderr",
     "output_type": "stream",
     "text": [
      " 244/244"
     ]
    },
    {
     "data": {
      "text/html": [
       "<div>\n",
       "<table border=\"1\" class=\"dataframe\">\n",
       "  <thead>\n",
       "    <tr style=\"text-align: right;\">\n",
       "      <th></th>\n",
       "      <th>edits</th>\n",
       "      <th>amenities</th>\n",
       "      <th>buildings</th>\n",
       "      <th>num_days</th>\n",
       "      <th>road_km</th>\n",
       "      <th>percent_user_road_km</th>\n",
       "      <th>percent_user_buildings</th>\n",
       "      <th>percent_user_amenities</th>\n",
       "      <th>percent_user_edits</th>\n",
       "    </tr>\n",
       "    <tr>\n",
       "      <th>quadkey</th>\n",
       "      <th></th>\n",
       "      <th></th>\n",
       "      <th></th>\n",
       "      <th></th>\n",
       "      <th></th>\n",
       "      <th></th>\n",
       "      <th></th>\n",
       "      <th></th>\n",
       "      <th></th>\n",
       "    </tr>\n",
       "  </thead>\n",
       "  <tbody>\n",
       "    <tr>\n",
       "      <th>012310220111</th>\n",
       "      <td>1</td>\n",
       "      <td>0</td>\n",
       "      <td>0</td>\n",
       "      <td>1</td>\n",
       "      <td>0.0</td>\n",
       "      <td>0.0</td>\n",
       "      <td>0.0</td>\n",
       "      <td>0.0</td>\n",
       "      <td>0.00169</td>\n",
       "    </tr>\n",
       "    <tr>\n",
       "      <th>012310220113</th>\n",
       "      <td>1</td>\n",
       "      <td>0</td>\n",
       "      <td>0</td>\n",
       "      <td>1</td>\n",
       "      <td>0.0</td>\n",
       "      <td>0.0</td>\n",
       "      <td>0.0</td>\n",
       "      <td>0.0</td>\n",
       "      <td>0.00169</td>\n",
       "    </tr>\n",
       "  </tbody>\n",
       "</table>\n",
       "</div>"
      ],
      "text/plain": [
       "              edits  amenities  buildings  num_days  road_km  \\\n",
       "quadkey                                                        \n",
       "012310220111      1          0          0         1      0.0   \n",
       "012310220113      1          0          0         1      0.0   \n",
       "\n",
       "              percent_user_road_km  percent_user_buildings  \\\n",
       "quadkey                                                      \n",
       "012310220111                   0.0                     0.0   \n",
       "012310220113                   0.0                     0.0   \n",
       "\n",
       "              percent_user_amenities  percent_user_edits  \n",
       "quadkey                                                   \n",
       "012310220111                     0.0             0.00169  \n",
       "012310220113                     0.0             0.00169  "
      ]
     },
     "metadata": {},
     "output_type": "display_data"
    },
    {
     "data": {
      "text/html": [
       "<div>\n",
       "<table border=\"1\" class=\"dataframe\">\n",
       "  <thead>\n",
       "    <tr style=\"text-align: right;\">\n",
       "      <th></th>\n",
       "      <th>uid</th>\n",
       "      <th>user_name</th>\n",
       "      <th>year</th>\n",
       "      <th>total_buildings</th>\n",
       "      <th>total_road_km</th>\n",
       "      <th>total_amenities</th>\n",
       "      <th>total_edits</th>\n",
       "      <th>total_active_days</th>\n",
       "    </tr>\n",
       "  </thead>\n",
       "  <tbody>\n",
       "    <tr>\n",
       "      <th>0</th>\n",
       "      <td>371</td>\n",
       "      <td>emj</td>\n",
       "      <td>2005</td>\n",
       "      <td>0</td>\n",
       "      <td>0.00000</td>\n",
       "      <td>0</td>\n",
       "      <td>37</td>\n",
       "      <td>4</td>\n",
       "    </tr>\n",
       "    <tr>\n",
       "      <th>1</th>\n",
       "      <td>371</td>\n",
       "      <td>emj</td>\n",
       "      <td>2006</td>\n",
       "      <td>0</td>\n",
       "      <td>4.10659</td>\n",
       "      <td>1</td>\n",
       "      <td>2777</td>\n",
       "      <td>42</td>\n",
       "    </tr>\n",
       "  </tbody>\n",
       "</table>\n",
       "</div>"
      ],
      "text/plain": [
       "   uid user_name  year  total_buildings  total_road_km  total_amenities  \\\n",
       "0  371       emj  2005                0        0.00000                0   \n",
       "1  371       emj  2006                0        4.10659                1   \n",
       "\n",
       "   total_edits  total_active_days  \n",
       "0           37                  4  \n",
       "1         2777                 42  "
      ]
     },
     "metadata": {},
     "output_type": "display_data"
    }
   ],
   "source": [
    "process_dictionary_of_users(study_tiles[study_tile_idx]['users'])\n",
    "display.display(study_tiles[study_tile_idx]['users'][study_tiles[study_tile_idx]['user_list'][0]]['tiles'].head(2))\n",
    "display.display(study_tiles[study_tile_idx]['users'][study_tiles[study_tile_idx]['user_list'][0]]['annual'].head(2))"
   ]
  },
  {
   "cell_type": "markdown",
   "metadata": {},
   "source": [
    "## 4. Who is mapping what: Build Current Tile DF"
   ]
  },
  {
   "cell_type": "code",
   "execution_count": 17,
   "metadata": {
    "collapsed": false
   },
   "outputs": [
    {
     "data": {
      "text/html": [
       "<div>\n",
       "<table border=\"1\" class=\"dataframe\">\n",
       "  <thead>\n",
       "    <tr style=\"text-align: right;\">\n",
       "      <th></th>\n",
       "      <th>edits</th>\n",
       "      <th>amenities</th>\n",
       "      <th>buildings</th>\n",
       "      <th>num_days</th>\n",
       "      <th>road_km</th>\n",
       "      <th>percent_user_road_km</th>\n",
       "      <th>percent_user_buildings</th>\n",
       "      <th>percent_user_amenities</th>\n",
       "      <th>percent_user_edits</th>\n",
       "      <th>uid</th>\n",
       "      <th>total_editing_days_ever</th>\n",
       "      <th>total_buildings_ever</th>\n",
       "      <th>total_road_km_ever</th>\n",
       "      <th>total_amenities_ever</th>\n",
       "      <th>total_edits_ever</th>\n",
       "      <th>percent_tile_road_km</th>\n",
       "      <th>percent_tile_buildings</th>\n",
       "      <th>percent_tile_amenities</th>\n",
       "      <th>percent_tile_edits</th>\n",
       "    </tr>\n",
       "  </thead>\n",
       "  <tbody>\n",
       "    <tr>\n",
       "      <th>0</th>\n",
       "      <td>1</td>\n",
       "      <td>0</td>\n",
       "      <td>1</td>\n",
       "      <td>1</td>\n",
       "      <td>0.0</td>\n",
       "      <td>0.0</td>\n",
       "      <td>0.003016</td>\n",
       "      <td>0.0</td>\n",
       "      <td>0.002544</td>\n",
       "      <td>1443840</td>\n",
       "      <td>276</td>\n",
       "      <td>33155</td>\n",
       "      <td>2078.4218</td>\n",
       "      <td>471</td>\n",
       "      <td>39313</td>\n",
       "      <td>0.0</td>\n",
       "      <td>0.013051</td>\n",
       "      <td>0.0</td>\n",
       "      <td>0.008929</td>\n",
       "    </tr>\n",
       "    <tr>\n",
       "      <th>1</th>\n",
       "      <td>1</td>\n",
       "      <td>0</td>\n",
       "      <td>1</td>\n",
       "      <td>1</td>\n",
       "      <td>0.0</td>\n",
       "      <td>0.0</td>\n",
       "      <td>0.847458</td>\n",
       "      <td>NaN</td>\n",
       "      <td>0.813008</td>\n",
       "      <td>2874373</td>\n",
       "      <td>1</td>\n",
       "      <td>118</td>\n",
       "      <td>3.3165</td>\n",
       "      <td>0</td>\n",
       "      <td>123</td>\n",
       "      <td>0.0</td>\n",
       "      <td>0.013051</td>\n",
       "      <td>0.0</td>\n",
       "      <td>0.008929</td>\n",
       "    </tr>\n",
       "  </tbody>\n",
       "</table>\n",
       "</div>"
      ],
      "text/plain": [
       "   edits  amenities  buildings  num_days  road_km  percent_user_road_km  \\\n",
       "0      1          0          1         1      0.0                   0.0   \n",
       "1      1          0          1         1      0.0                   0.0   \n",
       "\n",
       "   percent_user_buildings  percent_user_amenities  percent_user_edits  \\\n",
       "0                0.003016                     0.0            0.002544   \n",
       "1                0.847458                     NaN            0.813008   \n",
       "\n",
       "       uid  total_editing_days_ever  total_buildings_ever  total_road_km_ever  \\\n",
       "0  1443840                      276                 33155           2078.4218   \n",
       "1  2874373                        1                   118              3.3165   \n",
       "\n",
       "   total_amenities_ever  total_edits_ever  percent_tile_road_km  \\\n",
       "0                   471             39313                   0.0   \n",
       "1                     0               123                   0.0   \n",
       "\n",
       "   percent_tile_buildings  percent_tile_amenities  percent_tile_edits  \n",
       "0                0.013051                     0.0            0.008929  \n",
       "1                0.013051                     0.0            0.008929  "
      ]
     },
     "execution_count": 17,
     "metadata": {},
     "output_type": "execute_result"
    }
   ],
   "source": [
    "current_tile_df = build_all_stats_for_tile(study_tiles[study_tile_idx])\n",
    "current_tile_df.head(2)"
   ]
  },
  {
   "cell_type": "markdown",
   "metadata": {},
   "source": [
    "### Processed Study tiles now have the following attributes: \n",
    "\n",
    "- **name**: Name of Region\n",
    "- **user_list**: List of UIDs of users who have edited on this tile\n",
    "- **users**: Dictionary, keyed by UID\n",
    "  - `uid`:\n",
    "    - **df**: Full dataframe of all edits on all tiles by this user\n",
    "    - **tiles**: DataFrame of unique tiles, summed over all years\n",
    "    - **annual**: DataFrame of Editing Aggregates over all tiles, per year"
   ]
  },
  {
   "cell_type": "markdown",
   "metadata": {},
   "source": [
    "# Begin Analysis"
   ]
  },
  {
   "cell_type": "code",
   "execution_count": 18,
   "metadata": {
    "collapsed": false
   },
   "outputs": [
    {
     "name": "stdout",
     "output_type": "stream",
     "text": [
      "Current Study Tile: Trisuli Bazar, Nepal\n",
      "\tUsers: 244\n",
      "Current_tile_df size: 244 (Should match the user count)\n"
     ]
    }
   ],
   "source": [
    "print(\"Current Study Tile: {0}\".format(study_tiles[study_tile_idx]['name']))\n",
    "print(\"\\tUsers: {0}\".format(len(study_tiles[study_tile_idx]['user_list'])))\n",
    "print(\"Current_tile_df size: {0} (Should match the user count)\".format(len(current_tile_df)))"
   ]
  },
  {
   "cell_type": "markdown",
   "metadata": {},
   "source": [
    "## Percentage of a User's edits (of all time) that occur on this tile: "
   ]
  },
  {
   "cell_type": "code",
   "execution_count": 19,
   "metadata": {
    "collapsed": false
   },
   "outputs": [
    {
     "data": {
      "image/png": "[encoded data removed]",
      "text/plain": [
       "<matplotlib.figure.Figure at 0x7f51a6d4aa58>"
      ]
     },
     "metadata": {},
     "output_type": "display_data"
    }
   ],
   "source": [
    "sns.set(font_scale=1.25)\n",
    "plt.style.use('seaborn-white')\n",
    "fig, axs = plt.subplots(nrows=1, ncols=2, figsize=(15,8), facecolor='w', edgecolor='k')\n",
    "\n",
    "current_tile_df.query('total_editing_days_ever>5').plot(ax=axs[0], kind='hist',y=['percent_user_edits'], legend=None, bins=np.arange(0,101,5))\n",
    "axs[0].set_title('Users Editing more than 5 days ever')\n",
    "\n",
    "current_tile_df.query('total_editing_days_ever<5').plot(ax=axs[1], kind='hist',y=['percent_user_edits'], legend=None, bins=np.arange(0,101,5))\n",
    "axs[1].set_title('Users Editing less than 5 days ever')\n",
    "\n",
    "for ax in axs:\n",
    "    ax.set_xlabel(\"Percent of User's Edits on Tile\")\n",
    "    ax.set_ylabel('Number of Users')"
   ]
  },
  {
   "cell_type": "markdown",
   "metadata": {},
   "source": [
    "## Who's Mapping Buildings and Roads?"
   ]
  },
  {
   "cell_type": "code",
   "execution_count": 20,
   "metadata": {
    "collapsed": false
   },
   "outputs": [
    {
     "data": {
      "image/png": "[encoded data removed]",
      "text/plain": [
       "<matplotlib.figure.Figure at 0x7f512f06cb00>"
      ]
     },
     "metadata": {},
     "output_type": "display_data"
    }
   ],
   "source": [
    "sns.set(font_scale=1.25)\n",
    "plt.style.use('seaborn-white')\n",
    "fig, axs = plt.subplots(nrows=1, ncols=2, figsize=(15,8), facecolor='w', edgecolor='k')\n",
    "\n",
    "b_view = current_tile_df.sort_values(by='total_buildings_ever')\n",
    "b_view['cumulative_percent'] = b_view.percent_tile_buildings.cumsum()\n",
    "\n",
    "b_view.plot(ax=axs[0],x='total_buildings_ever',y='cumulative_percent', logx=True,legend=None)\n",
    "\n",
    "axs[0].set_ylabel('Percent of buildings on tile (cumulative)')\n",
    "axs[0].set_xlabel('Number of Buildings a user has mapped (experience)')\n",
    "\n",
    "\n",
    "r_view = current_tile_df.sort_values(by='total_road_km_ever')\n",
    "r_view['cumulative_percent'] = r_view.percent_tile_road_km.cumsum()\n",
    "\n",
    "r_view.plot(ax=axs[1],x='total_road_km_ever',y='cumulative_percent', logx=True,legend=None)\n",
    "\n",
    "axs[1].set_ylabel('Percent of road km on tile (cumulative)')\n",
    "axs[1].set_xlabel('Kilometers of roads a user has mapped (experience)')\n",
    "\n",
    "for ax in axs:\n",
    "    ax.set_ylim(0,101)\n",
    "    ax.set_xlim(1)\n",
    "#     ax.set_xlabel(\"Percent of User's Edits on Tile\")\n",
    "#     ax.set_ylabel('Number of Users')"
   ]
  },
  {
   "cell_type": "markdown",
   "metadata": {},
   "source": [
    "<br>\n",
    "<hr>\n",
    "<br>"
   ]
  },
  {
   "cell_type": "markdown",
   "metadata": {},
   "source": [
    "<hr>\n",
    "# Run Tile-by-Tile Comparisons\n",
    "For each study tile, we have _comparable_ tiles, these are the tiles of most interest, because the difference in patterns between these tiles and our study tiles is what makes the analysis.\n",
    "\n",
    "## 1. Get a _comparable_ tile"
   ]
  },
  {
   "cell_type": "code",
   "execution_count": null,
   "metadata": {
    "collapsed": false
   },
   "outputs": [],
   "source": [
    "if 'compare_tiles' in study_tiles[study_tile_idx]:\n",
    "    print(\"Comparable Tiles for {0}: \".format(study_tiles[study_tile_idx]['name']))\n",
    "    for idx, compare in enumerate(study_tiles[study_tile_idx]['compare_tiles']):\n",
    "        print(\"\\t{0}, '{1}'\".format(idx, compare['quad']))"
   ]
  },
  {
   "cell_type": "code",
   "execution_count": null,
   "metadata": {
    "collapsed": true
   },
   "outputs": [],
   "source": [
    "#Which tile to compare? (from within the comparable study tiles)\n",
    "compare_tile_idx=0"
   ]
  },
  {
   "cell_type": "markdown",
   "metadata": {},
   "source": [
    "## 2. Get Users"
   ]
  },
  {
   "cell_type": "code",
   "execution_count": null,
   "metadata": {
    "collapsed": false
   },
   "outputs": [],
   "source": [
    "reset()\n",
    "study_tiles[study_tile_idx]['compare_tiles'][compare_tile_idx]['user_list'] = get_all_users_who_edited_tile(study_tiles[study_tile_idx]['compare_tiles'][compare_tile_idx])"
   ]
  },
  {
   "cell_type": "markdown",
   "metadata": {},
   "source": [
    "## 3. Build actual user distribution (may take a few minutes)\n",
    "If it fails, run the above cell again (probably twice)"
   ]
  },
  {
   "cell_type": "code",
   "execution_count": null,
   "metadata": {
    "collapsed": false,
    "scrolled": true
   },
   "outputs": [],
   "source": [
    "study_tiles[study_tile_idx]['compare_tiles'][compare_tile_idx]['users'] = build_user_distributions(study_tiles[study_tile_idx]['compare_tiles'][compare_tile_idx]['user_list'])"
   ]
  },
  {
   "cell_type": "markdown",
   "metadata": {},
   "source": [
    "## 4. Now process user focus for compare tiles"
   ]
  },
  {
   "cell_type": "code",
   "execution_count": null,
   "metadata": {
    "collapsed": false
   },
   "outputs": [],
   "source": [
    "process_dictionary_of_users(study_tiles[study_tile_idx]['compare_tiles'][compare_tile_idx]['users'])\n",
    "display.display(study_tiles[study_tile_idx]['compare_tiles'][compare_tile_idx]['users'][study_tiles[study_tile_idx]['compare_tiles'][compare_tile_idx]['user_list'][0]]['tiles'].head(2))\n",
    "display.display(study_tiles[study_tile_idx]['compare_tiles'][compare_tile_idx]['users'][study_tiles[study_tile_idx]['compare_tiles'][compare_tile_idx]['user_list'][0]]['annual'].head(2))"
   ]
  },
  {
   "cell_type": "markdown",
   "metadata": {},
   "source": [
    "## 5. Build Compare Tile Full Stats"
   ]
  },
  {
   "cell_type": "code",
   "execution_count": null,
   "metadata": {
    "collapsed": false
   },
   "outputs": [],
   "source": [
    "compare_tile_df = build_all_stats_for_tile(study_tiles[study_tile_idx]['compare_tiles'][compare_tile_idx])\n",
    "compare_tile_df.count().head(2)"
   ]
  },
  {
   "cell_type": "markdown",
   "metadata": {},
   "source": [
    "# Now compare the tiles\n",
    "\n",
    "First, basic stats: "
   ]
  },
  {
   "cell_type": "code",
   "execution_count": null,
   "metadata": {
    "collapsed": false
   },
   "outputs": [],
   "source": [
    "print(\"Users on Study Tile: {0}, {1}\".format(len(study_tiles[study_tile_idx]['user_list']), len(current_tile_df)))\n",
    "print(\"Users on Compare Tile: {0}, {1}\".format(len(study_tiles[study_tile_idx]['compare_tiles'][compare_tile_idx]['user_list']), len(compare_tile_df)))"
   ]
  },
  {
   "cell_type": "markdown",
   "metadata": {},
   "source": [
    "# Percentage of a User's Edits on Each Tile"
   ]
  },
  {
   "cell_type": "code",
   "execution_count": null,
   "metadata": {
    "collapsed": false
   },
   "outputs": [],
   "source": [
    "sns.set(font_scale=1.25)\n",
    "plt.style.use('seaborn-white')\n",
    "fig, axs = plt.subplots(nrows=1, ncols=2, figsize=(15,8), facecolor='w', edgecolor='k')\n",
    "\n",
    "current_tile_df.plot(ax=axs[0], kind='hist',y=['percent_user_edits'], legend=None, bins=np.arange(0,101,5))\n",
    "axs[0].set_title(study_tiles[study_tile_idx]['name'])\n",
    "\n",
    "compare_tile_df.plot(ax=axs[1], kind='hist',y=['percent_user_edits'], legend=None, bins=np.arange(0,101,5))\n",
    "axs[1].set_title(study_tiles[study_tile_idx]['compare_tiles'][idx]['quad'])\n",
    "\n",
    "for ax in axs:\n",
    "    ax.set_xlabel(\"Percent of User's Edits on Tile\")\n",
    "    ax.set_ylabel('Number of Users')\n",
    "plt.suptitle(\"Percentage of a User's Edits (total) Occuring on this tile\",fontsize=18)\n",
    "None"
   ]
  },
  {
   "cell_type": "markdown",
   "metadata": {},
   "source": [
    "# Compare Buildings & Roads Across Two _Similar_ Tiles"
   ]
  },
  {
   "cell_type": "code",
   "execution_count": null,
   "metadata": {
    "collapsed": false
   },
   "outputs": [],
   "source": [
    "sns.set(font_scale=1.25)\n",
    "plt.style.use('seaborn-white')\n",
    "fig, axs = plt.subplots(nrows=1, ncols=2, figsize=(15,8), facecolor='w', edgecolor='k')\n",
    "\n",
    "#Buildings\n",
    "b_axis = axs[0]\n",
    "b_view = current_tile_df.sort_values(by='total_buildings_ever')\n",
    "b_view['cumulative_percent'] = b_view.percent_tile_buildings.cumsum()\n",
    "b_view.plot(ax=b_axis,x='total_buildings_ever',y='cumulative_percent', logx=True,label=study_tiles[study_tile_idx]['name'])\n",
    "\n",
    "compare_b_view = compare_tile_df.sort_values(by='total_buildings_ever')\n",
    "compare_b_view['cumulative_percent'] = compare_b_view.percent_tile_buildings.cumsum()\n",
    "compare_b_view.plot(ax=b_axis,x='total_buildings_ever',y='cumulative_percent', logx=True,label=\"Similar Tile\")\n",
    "\n",
    "b_axis.set_ylabel('Percent of buildings on tile (cumulative)')\n",
    "b_axis.set_xlabel('Number of Buildings a user has mapped (experience)')\n",
    "\n",
    "#Roads\n",
    "r_axis = axs[1]\n",
    "r_view = current_tile_df.sort_values(by='total_road_km_ever')\n",
    "r_view['cumulative_percent'] = r_view.percent_tile_road_km.cumsum()\n",
    "r_view.plot(ax=r_axis,x='total_road_km_ever',y='cumulative_percent', logx=True,label=study_tiles[study_tile_idx]['name'])\n",
    "\n",
    "compare_r_view = compare_tile_df.sort_values(by='total_road_km_ever')\n",
    "compare_r_view['cumulative_percent'] = compare_r_view.percent_tile_road_km.cumsum()\n",
    "compare_r_view.plot(ax=r_axis,x='total_road_km_ever',y='cumulative_percent', logx=True,label=\"Similar Tile\")\n",
    "\n",
    "r_axis.set_ylabel('Percent of road km on tile (cumulative)')\n",
    "r_axis.set_xlabel('Kilometers of roads a user has mapped (experience)')\n",
    "\n",
    "for ax in [r_axis, b_axis]:\n",
    "    ax.set_ylim(0,101)\n",
    "    ax.set_xlim(1)"
   ]
  },
  {
   "cell_type": "code",
   "execution_count": null,
   "metadata": {
    "collapsed": true
   },
   "outputs": [],
   "source": []
  }
 ],
 "metadata": {
  "kernelspec": {
   "display_name": "IPython (Python 3)",
   "language": "python",
   "name": "python3"
  },
  "language_info": {
   "codemirror_mode": {
    "name": "ipython",
    "version": 3
   },
   "file_extension": ".py",
   "mimetype": "text/x-python",
   "name": "python",
   "nbconvert_exporter": "python",
   "pygments_lexer": "ipython3",
   "version": "3.4.3"
  }
 },
 "nbformat": 4,
 "nbformat_minor": 1
}
